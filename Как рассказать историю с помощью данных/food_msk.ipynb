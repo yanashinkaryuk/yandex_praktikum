{
 "cells": [
  {
   "cell_type": "markdown",
   "id": "f08deede",
   "metadata": {},
   "source": [
    "# Анализ рынка заведений общественного питания Москвы  \n",
    "**Описание проекта:**  \n",
    "\n",
    "Инвесторы из фонда «Shut Up and Take My Money» решили попробовать себя в новой области и открыть заведение общественного питания в Москве. Заказчики ещё не знают, что это будет за место: кафе, ресторан, пиццерия, паб или бар, — и какими будут расположение, меню и цены.  \n",
    "\n",
    "Для начала они просят вас — аналитика — подготовить исследование рынка Москвы, найти интересные особенности и презентовать полученные результаты, которые в будущем помогут в выборе подходящего инвесторам места.  \n",
    " \n",
    "Вам доступен датасет с заведениями общественного питания Москвы, составленный на основе данных сервисов Яндекс Карты и Яндекс Бизнес на лето 2022 года. Информация, размещённая в сервисе Яндекс Бизнес, могла быть добавлена пользователями или найдена в общедоступных источниках. Она носит исключительно справочный характер. \n",
    "\n",
    "**Описание данных:**  \n",
    "Данные с информацией о заведениях хранятся в файле *moscow_places.csv.*  \n",
    "\n",
    "**Цели исследования:**  \n",
    "- Подготовить исследование рынка заведений общественного питания Москвы  \n",
    "- Найти интересные особенности и презентовать полученные результаты, которые в будущем помогут в выборе подходящего инвесторам места  \n",
    "\n",
    "**Ход исследования:**  \n",
    "\n",
    "Проект будет состоять из пяти этапов:  \n",
    "1. Обзор данных  \n",
    "2. Предобработка данных \n",
    "3. Анализ данных  \n",
    "4. Общий вывод по исследуемым данным\n",
    "5. Детализация исследования: открытие кофейни"
   ]
  },
  {
   "cell_type": "markdown",
   "id": "a13553c7",
   "metadata": {},
   "source": [
    "## Обзор данных"
   ]
  },
  {
   "cell_type": "code",
   "execution_count": null,
   "id": "d4139307",
   "metadata": {},
   "outputs": [],
   "source": [
    "# импорт библиотек\n",
    "import pandas as pd\n",
    "import scipy.stats as stats\n",
    "import numpy as np\n",
    "import seaborn as sns\n",
    "import plotly.express as px\n",
    "from matplotlib import pyplot as plt\n",
    "import re"
   ]
  },
  {
   "cell_type": "code",
   "execution_count": null,
   "id": "ed427002",
   "metadata": {},
   "outputs": [],
   "source": [
    "# прочитаем csv-файл и сохраним данные в переменную\n",
    "try:\n",
    "    data = pd.read_csv('./moscow_places.csv')\n",
    "except:\n",
    "    data = pd.read_csv('/datasets/moscow_places.csv')"
   ]
  },
  {
   "cell_type": "code",
   "execution_count": null,
   "id": "70268d2f",
   "metadata": {},
   "outputs": [],
   "source": [
    "# выведем первые 5 строк датафрейма data\n",
    "data.head()"
   ]
  },
  {
   "cell_type": "code",
   "execution_count": null,
   "id": "95a36171",
   "metadata": {
    "scrolled": false
   },
   "outputs": [],
   "source": [
    "# Выведем основную информацию о датафрейм с помощью метода info():\n",
    "data.info()"
   ]
  },
  {
   "cell_type": "code",
   "execution_count": null,
   "id": "bda4704c",
   "metadata": {
    "scrolled": true
   },
   "outputs": [],
   "source": [
    "# посчитаем, сколько всего заведений представлено в данных:\n",
    "print('Количество заведений общественного питания: ', data['name'].count())"
   ]
  },
  {
   "cell_type": "code",
   "execution_count": null,
   "id": "f552c0ea",
   "metadata": {
    "scrolled": false
   },
   "outputs": [],
   "source": [
    "# посмотрим, сколько заведений представлено в каждой категории:\n",
    "data['category'].value_counts()"
   ]
  },
  {
   "cell_type": "markdown",
   "id": "9e918949",
   "metadata": {},
   "source": [
    "Исходные данные содержат следующую информацию:  \n",
    "\n",
    "*name* — название заведения    \n",
    "*address* — адрес заведения    \n",
    "*category* — категория заведения   \n",
    "*hours* — информация о днях и часах работы  \n",
    "*lat* — широта географической точки, в которой находится заведение  \n",
    "*lng* — долгота географической точки, в которой находится заведение    \n",
    "*rating* — рейтинг заведения по оценкам пользователей в Яндекс Картах (высшая оценка — 5.0)    \n",
    "*price* — категория цен в заведении, например «средние», «ниже среднего», «выше среднего»  \n",
    "*avg_bill* — строка, которая хранит среднюю стоимость заказа в виде диапазона, например:  \n",
    "- «Средний счёт: 1000–1500 ₽»  \n",
    "- «Цена чашки капучино: 130–220 ₽»  \n",
    "- «Цена бокала пива: 400–600 ₽» и так далее   \n",
    "\n",
    "*middle_avg_bill* — число с оценкой среднего чека, которое указано только для значений из столбца avg_bill, начинающихся с подстроки «Средний счёт»:  \n",
    "- Если в строке указан ценовой диапазон из двух значений, в столбец войдёт медиана этих двух значений  \n",
    "- Если в строке указано одно число — цена без диапазона, то в столбец войдёт это число  \n",
    "- Если значения нет или оно не начинается с подстроки «Средний счёт», то в столбец ничего не войдёт  \n",
    "\n",
    "*middle_coffee_cup* — число с оценкой одной чашки капучино, которое указано только для значений из столбца avg_bill, начинающихся с подстроки «Цена одной чашки капучино»:  \n",
    "- Если в строке указан ценовой диапазон из двух значений, в столбец войдёт медиана этих двух значений  \n",
    "- Если в строке указано одно число — цена без диапазона, то в столбец войдёт это число  \n",
    "- Если значения нет или оно не начинается с подстроки «Цена одной чашки капучино», то в столбец ничего не войдёт  \n",
    "\n",
    "*chain* — число, выраженное 0 или 1, которое показывает, является ли заведение сетевым (для маленьких сетей могут встречаться ошибки):  \n",
    "- 0 — заведение не является сетевым  \n",
    "- 1 — заведение является сетевым  \n",
    "\n",
    "*district* — административный район, в котором находится заведение, например Центральный административный округ  \n",
    "*seats* — количество посадочных мест  "
   ]
  },
  {
   "cell_type": "markdown",
   "id": "b4e11391",
   "metadata": {},
   "source": [
    "На первом этапе была выявлена следующие проблемы в исходных данных:  \n",
    "- отсутствие единого формата записи наименований заведений(разный регистр, использование символов, английских букв)  \n",
    "- большое количество пропусков в данных   \n",
    "\n",
    "В рамках предобработки постараемся по-возможности устранить эти проблемы, чтобы подготовить данные к дальнейшему исследованию."
   ]
  },
  {
   "cell_type": "markdown",
   "id": "59971980",
   "metadata": {},
   "source": [
    "## Предобработка данных <a id=\"preprocessing\"></a>"
   ]
  },
  {
   "cell_type": "markdown",
   "id": "935e2b71",
   "metadata": {},
   "source": [
    "### Работа с дубликатами\n",
    "####  Проверим данные на наличие явных дубликатов:"
   ]
  },
  {
   "cell_type": "code",
   "execution_count": null,
   "id": "76969805",
   "metadata": {
    "scrolled": true
   },
   "outputs": [],
   "source": [
    "print('Количество явных дубликатов:', data.duplicated().sum())"
   ]
  },
  {
   "cell_type": "markdown",
   "id": "a3434e73",
   "metadata": {},
   "source": [
    "Явных дубликатов в исходных данных не обнаружено."
   ]
  },
  {
   "cell_type": "markdown",
   "id": "1b0db4a8",
   "metadata": {},
   "source": [
    "#### Перейдем к поиску неявных дубликатов    "
   ]
  },
  {
   "cell_type": "markdown",
   "id": "a66aa460",
   "metadata": {},
   "source": [
    "##### Столбец name"
   ]
  },
  {
   "cell_type": "code",
   "execution_count": null,
   "id": "130bf26d",
   "metadata": {
    "scrolled": true
   },
   "outputs": [],
   "source": [
    "# сохраним уникальные наименования заведений в переменную names и выведем их на экран\n",
    "names = sorted(data['name'].unique())\n",
    "names"
   ]
  },
  {
   "cell_type": "markdown",
   "id": "da00bb30",
   "metadata": {},
   "source": [
    "Беглого вгляда на названия заведений достаточно, чтобы заметить, что некоторые наименования заведений записаны по-разному, например,  '9 bar coffe' и '9 bar coffee'. Такие случаи указывают скорее на наличие опечаток и ошибочную запись. Ошибочная запись наименований заведений может повлечь за собой неточности при опрелении того, является ли заведением сетевым или нет.   \n",
    "\n",
    "Попробуем устранить разности наименований в случаях, похожих на опечатки. Для этого:\n",
    "- приведем наименования к нижнему регистру     \n",
    "- исключим из наименований букву ё и специальные символы (все знаки, не являющиеся буквой или цифрой)"
   ]
  },
  {
   "cell_type": "code",
   "execution_count": null,
   "id": "404c52d8",
   "metadata": {},
   "outputs": [],
   "source": [
    "# сохраним копию датафрейма с исходными названиями \n",
    "data_old = data.copy()"
   ]
  },
  {
   "cell_type": "code",
   "execution_count": null,
   "id": "4812a376",
   "metadata": {},
   "outputs": [],
   "source": [
    "# приведем названия заведений к нижнему регистру и заменим букву ё на е\n",
    "data['name'] = data['name'].apply(lambda x: str.lower(x).replace('ё', 'е'))"
   ]
  },
  {
   "cell_type": "code",
   "execution_count": null,
   "id": "be33b66d",
   "metadata": {
    "scrolled": false
   },
   "outputs": [],
   "source": [
    "# сохраним уникальные названия заведений в переменную unique_names\n",
    "unique_names = \",\".join(data['name'].dropna().unique())\n",
    "unique_names[:550]"
   ]
  },
  {
   "cell_type": "code",
   "execution_count": null,
   "id": "2debf6ab",
   "metadata": {
    "scrolled": true
   },
   "outputs": [],
   "source": [
    "# создадим переменную symb и посчитаем как часто встречается каждый из символов\n",
    "symb = re.split('\\w+', unique_names, flags=re.IGNORECASE)\n",
    "pd.Series(symb).value_counts()"
   ]
  },
  {
   "cell_type": "markdown",
   "id": "91e5073e",
   "metadata": {},
   "source": [
    "Большинство символов не несут никакой смысловой назгрузки.  \n",
    "Предлагаю убрать большую часть символов, оставив только те, убрав которые наименование потеряет различительную способость."
   ]
  },
  {
   "cell_type": "code",
   "execution_count": null,
   "id": "a9ed1299",
   "metadata": {
    "scrolled": true
   },
   "outputs": [],
   "source": [
    "# напишем регулярное выражение, которое заменит специальные символы (кроме / №) на пустую строку\n",
    "# и применим его к столбцу с названиями заведений\n",
    "data = data[data['name'].apply(lambda x: re.sub(r'[^\\w/№]+', ' ', x) == x)]\n",
    "data.head()"
   ]
  },
  {
   "cell_type": "markdown",
   "id": "184888a6",
   "metadata": {},
   "source": [
    "Попробуем вручную исключить самые очевидные опечатки:"
   ]
  },
  {
   "cell_type": "code",
   "execution_count": null,
   "id": "03226634",
   "metadata": {},
   "outputs": [],
   "source": [
    "data['name'] = data['name'].replace({\n",
    "    '9 bar coffe': '9 bar coffee',\n",
    "    '9 bar coffeee': '9 bar coffee',\n",
    "    'cafe13': 'cafe 13',\n",
    "    'cofe fest': 'cofefest',\n",
    "    'drive cafe': 'drive café',\n",
    "    'main food': 'mainfood',\n",
    "    'meat лав': 'meatлав',\n",
    "    'shake up': 'shakeup',\n",
    "    'pho bo': 'phobo',\n",
    "    'барокат': 'баракат',\n",
    "    'донер24': 'донер 24',\n",
    "    'намангале': 'на мангале',\n",
    "    'кружкапаб': 'кружка паб',\n",
    "    'стардог': 'стардогс',\n",
    "    'ситипицца': 'сити пицца',\n",
    "    'сушисет': 'суши сет',\n",
    "    'сушистор': 'суши стор',\n",
    "    'чай хана халал': 'чайхана халал',\n",
    "    'чайхана24': 'чайхана 24',\n",
    "    'чайхона бишкек сити': 'чайхана бишкек сити',\n",
    "    'чайхона ош сити': 'чайхана ош сити',\n",
    "    'чайхана халал': 'чайхана халаль',\n",
    "    'чайхона халва': 'чайхана халва',\n",
    "    'чайхона №1': 'чайхона № 1',\n",
    "    'шаурма24': 'шаурма 24'}, regex=True)"
   ]
  },
  {
   "cell_type": "markdown",
   "id": "a9b4d710",
   "metadata": {},
   "source": [
    "##### Столбец category"
   ]
  },
  {
   "cell_type": "code",
   "execution_count": null,
   "id": "757ab3de",
   "metadata": {},
   "outputs": [],
   "source": [
    "# сгруппируем заведения по названию и посчитаем количество категорий для каждого из них\n",
    "cat = data.groupby(['name', 'chain']).agg(\n",
    "    {'category': lambda x: len(set(x))}).sort_values('category', ascending=False).reset_index()\n",
    "\n",
    "cat"
   ]
  },
  {
   "cell_type": "code",
   "execution_count": null,
   "id": "d67b1861",
   "metadata": {
    "scrolled": false
   },
   "outputs": [],
   "source": [
    "# исключим заведения, которые после группировки имеют одну категорию\n",
    "cat = cat[cat['category'] != 1]"
   ]
  },
  {
   "cell_type": "code",
   "execution_count": null,
   "id": "0056f31d",
   "metadata": {
    "scrolled": true
   },
   "outputs": [],
   "source": [
    "# рассмотрим некоторые примеры заведений\n",
    "# пример 1\n",
    "data[data['name'] == 'pho city']"
   ]
  },
  {
   "cell_type": "code",
   "execution_count": null,
   "id": "1cb3e1e6",
   "metadata": {},
   "outputs": [],
   "source": [
    "# пример 2\n",
    "data[data['name'] == 'кондитерская олега ильина']"
   ]
  },
  {
   "cell_type": "code",
   "execution_count": null,
   "id": "b56a79b5",
   "metadata": {},
   "outputs": [],
   "source": [
    "# пример 3\n",
    "data[data['name'] == 'натахтари'] "
   ]
  },
  {
   "cell_type": "markdown",
   "id": "f88bea49",
   "metadata": {},
   "source": [
    "Как мы видим в примерах, у многих заведений, являющихся одной сетью, разнятся категории.  \n",
    "Предлагаю привести сети с одним и тем же названием к наиболее всречаемой категории среди указанных для этой сети."
   ]
  },
  {
   "cell_type": "code",
   "execution_count": null,
   "id": "bf3726d0",
   "metadata": {},
   "outputs": [],
   "source": [
    "# используем класс counter() из модуля collections для подсчета частоты категорий \n",
    "from collections import Counter\n",
    "\n",
    "# сохраним все сетевые заведения в переменную chains\n",
    "chains = data[data['chain'] == 1]"
   ]
  },
  {
   "cell_type": "code",
   "execution_count": null,
   "id": "78a43ee5",
   "metadata": {},
   "outputs": [],
   "source": [
    "# сгруппируем заведения по названию и определим для каждого наиболее часто встречаемую категорию\n",
    "grouped = chains.groupby('name', as_index=False).agg({'category': lambda x: Counter(x).most_common()[0][0]})\n",
    "grouped.head()"
   ]
  },
  {
   "cell_type": "code",
   "execution_count": null,
   "id": "471fbc45",
   "metadata": {},
   "outputs": [],
   "source": [
    "# создадим словарь с названиями заведений и их категориями \n",
    "replacing_cat = dict(zip(grouped['name'], grouped['category']))\n",
    "\n",
    "# заменим категории в датафрейме в случае, если заведение встречается в словаре\n",
    "new_cat = data[data['name'].isin(replacing_cat)]['name'].map(replacing_cat).to_list()\n",
    "data.loc[data['name'].isin(replacing_cat), 'category'] = new_cat"
   ]
  },
  {
   "cell_type": "markdown",
   "id": "f11cc822",
   "metadata": {},
   "source": [
    "##### Проверим, есть ли в данных заведения с одинаковым названием, категорией, районом и адресом:"
   ]
  },
  {
   "cell_type": "code",
   "execution_count": null,
   "id": "a047959d",
   "metadata": {},
   "outputs": [],
   "source": [
    "# сохраним результат проверки в переменную bool_series\n",
    "bool_series = data.duplicated(subset=['name', 'category', 'district', 'address'])\n",
    " \n",
    "# отобразим данные\n",
    "data[bool_series]"
   ]
  },
  {
   "cell_type": "markdown",
   "id": "ff4381be",
   "metadata": {},
   "source": [
    "Выявлено 4 заведения с совпадающими названием, категорией, районом и адресом.  \n",
    "Рассмотим каждое из них:"
   ]
  },
  {
   "cell_type": "code",
   "execution_count": null,
   "id": "b61d5b59",
   "metadata": {},
   "outputs": [],
   "source": [
    "# заведение 1\n",
    "data[data['name'] == 'more poke']"
   ]
  },
  {
   "cell_type": "code",
   "execution_count": null,
   "id": "5c1b4f15",
   "metadata": {},
   "outputs": [],
   "source": [
    "# заведение 2\n",
    "data[data['name'] == 'раковарня клешни и хвосты']"
   ]
  },
  {
   "cell_type": "code",
   "execution_count": null,
   "id": "79d2d88f",
   "metadata": {},
   "outputs": [],
   "source": [
    "# заведение 3\n",
    "data[data['name'] == 'хлеб да выпечка']"
   ]
  },
  {
   "cell_type": "code",
   "execution_count": null,
   "id": "a63ca676",
   "metadata": {},
   "outputs": [],
   "source": [
    "# заведение 4\n",
    "data[data['name'] == 'cafe 13']"
   ]
  },
  {
   "cell_type": "markdown",
   "id": "bc238016",
   "metadata": {},
   "source": [
    "Дубликаты действительно есть. Удалим их при помощи метода *drop_duplicates():*"
   ]
  },
  {
   "cell_type": "code",
   "execution_count": null,
   "id": "50732d23",
   "metadata": {},
   "outputs": [],
   "source": [
    "data = data.drop_duplicates(subset=['name', 'category', 'district', 'address'])"
   ]
  },
  {
   "cell_type": "markdown",
   "id": "d7dfc7b2",
   "metadata": {},
   "source": [
    "Подведем итог и посчитаем, какое количество данных было почищено после предобработки столбцов *name* и *category*:"
   ]
  },
  {
   "cell_type": "code",
   "execution_count": null,
   "id": "877ee3a1",
   "metadata": {},
   "outputs": [],
   "source": [
    "print('Почищено уникальных наименований: {:.2%}'.format(\n",
    "    1 - (data['name'].nunique() / data_old['name'].nunique())))"
   ]
  },
  {
   "cell_type": "code",
   "execution_count": null,
   "id": "038d3920",
   "metadata": {
    "scrolled": false
   },
   "outputs": [],
   "source": [
    "print('Почищено категорий: {:.2%}'.format(\n",
    "    1 - (data['category'].count() / data_old['category'].count())))"
   ]
  },
  {
   "cell_type": "code",
   "execution_count": null,
   "id": "a6acc0a2",
   "metadata": {},
   "outputs": [],
   "source": [
    "print('Количество заведений после предобработки:', data['name'].count())"
   ]
  },
  {
   "cell_type": "markdown",
   "id": "c9e8f2f9",
   "metadata": {},
   "source": [
    "Работа с поиском неявных дубликатов завершена."
   ]
  },
  {
   "cell_type": "markdown",
   "id": "74df65ae",
   "metadata": {},
   "source": [
    "### Работа с аномалиями и выбросами  "
   ]
  },
  {
   "cell_type": "markdown",
   "id": "68b40074",
   "metadata": {},
   "source": [
    "Проверим распределение значений по среднему чеку и стоимости чашки кофе.   \n",
    "Построим их графики, исключив NaN-значения и нули:"
   ]
  },
  {
   "cell_type": "code",
   "execution_count": null,
   "id": "2bcf1b59",
   "metadata": {
    "scrolled": false
   },
   "outputs": [],
   "source": [
    "# средний чек\n",
    "sns.histplot(\n",
    "    data[(~data['middle_avg_bill'].isna()) & (data['middle_avg_bill'] != 0)], \n",
    "    x='middle_avg_bill', bins=30, log_scale=True).set(\n",
    "    title= f'Средний чек',\n",
    "    xlabel='Размер счета, руб.',\n",
    "    ylabel='Количество заведений')\n",
    "plt.show()"
   ]
  },
  {
   "cell_type": "markdown",
   "id": "f7e82fba",
   "metadata": {},
   "source": [
    "Средний чек в заведениях составляет около 1 000 рублей. При этом есть заведения с аномально большими чеками ( более 10 000 рублей). Посмотрим медианные значения и квартили столбца с помощью метода describe():"
   ]
  },
  {
   "cell_type": "code",
   "execution_count": null,
   "id": "aff6af78",
   "metadata": {
    "scrolled": false
   },
   "outputs": [],
   "source": [
    "# исключим NaN и нули\n",
    "bill = data[(~data['middle_avg_bill'].isna()) & (data['middle_avg_bill'] != 0)]\n",
    "\n",
    "bill['middle_avg_bill'].describe()"
   ]
  },
  {
   "cell_type": "markdown",
   "id": "d037c090",
   "metadata": {},
   "source": [
    "Большая часть значений лежит в диапазоне до 1250 рублей.   \n",
    "Для дальнейшего анализа предлагаю исключить аномально большие чеки и ограничить выборку заведениями с чеком **до 5 000 рублей.**   \n",
    "Значения выше максимального примем за аномальные и исключим из выборки, заменив их на NaN:"
   ]
  },
  {
   "cell_type": "code",
   "execution_count": null,
   "id": "3d407374",
   "metadata": {},
   "outputs": [],
   "source": [
    "# замена аномалий на NaN\n",
    "data.loc[data['middle_avg_bill'] > 5000, 'middle_avg_bill'] = np.nan "
   ]
  },
  {
   "cell_type": "markdown",
   "id": "0ae8038d",
   "metadata": {},
   "source": [
    "Посмотрим на распределение стоимости чашки кофе:"
   ]
  },
  {
   "cell_type": "code",
   "execution_count": null,
   "id": "a650921b",
   "metadata": {},
   "outputs": [],
   "source": [
    "# средняя стоимость чашки кофе\n",
    "\n",
    "sns.histplot(\n",
    "    data[(~data['middle_coffee_cup'].isna()) & (data['middle_coffee_cup'] != 0)], \n",
    "    x='middle_coffee_cup', bins=30, log_scale=True).set(\n",
    "    title= f'Средняя стоимость чашки кофе',\n",
    "    xlabel='Цена за чашку кофе',\n",
    "    ylabel='Количество заведений')\n",
    "plt.show()"
   ]
  },
  {
   "cell_type": "markdown",
   "id": "8ada34d8",
   "metadata": {},
   "source": [
    "Cтоимость чашки кофе в большей части заведений составляет 150 - 200 рублей. Аномально большие значения единичны, рассмотрим их поближе:"
   ]
  },
  {
   "cell_type": "code",
   "execution_count": null,
   "id": "1a8740d1",
   "metadata": {
    "scrolled": false
   },
   "outputs": [],
   "source": [
    "data[data['middle_coffee_cup'] > 1000]"
   ]
  },
  {
   "cell_type": "markdown",
   "id": "b96f5e5d",
   "metadata": {},
   "source": [
    "Скорее всего была допущена опечатка, как в диапазоне цен, так и в средней стоимости чашки кофе.  \n",
    "Заменим аналогично данное значение на NaN:"
   ]
  },
  {
   "cell_type": "code",
   "execution_count": null,
   "id": "10f8b6c4",
   "metadata": {},
   "outputs": [],
   "source": [
    "data.loc[data['middle_coffee_cup'] > 1000, 'middle_coffee_cup'] = np.nan"
   ]
  },
  {
   "cell_type": "code",
   "execution_count": null,
   "id": "4b401993",
   "metadata": {},
   "outputs": [],
   "source": [
    "# посмотрим медианные значения и квартили столбца с помощью метода describe()\n",
    "# исключим NaN и нули\n",
    "cup = data[(~data['middle_coffee_cup'].isna()) & (data['middle_coffee_cup'] != 0)]\n",
    "\n",
    "cup['middle_coffee_cup'].describe()"
   ]
  },
  {
   "cell_type": "markdown",
   "id": "39c96540",
   "metadata": {},
   "source": [
    "Аномалии обработаны, выводы сделанные из графика подтвердились. Средняя стоимость чашки кофе составляет 170 рублей."
   ]
  },
  {
   "cell_type": "markdown",
   "id": "23032dd2",
   "metadata": {},
   "source": [
    "### Работа с пропусками  "
   ]
  },
  {
   "cell_type": "code",
   "execution_count": null,
   "id": "cc63f2dd",
   "metadata": {},
   "outputs": [],
   "source": [
    "# проверим, есть ли пропущенные значения в датафрейме\n",
    "data.isna().sum()"
   ]
  },
  {
   "cell_type": "code",
   "execution_count": null,
   "id": "42f59b7e",
   "metadata": {
    "scrolled": false
   },
   "outputs": [],
   "source": [
    "# посмотрим на процент пропусков относительно всех данных\n",
    "pd.DataFrame(\n",
    "    round(data.isna().mean()*100).sort_values(ascending=False)).style.background_gradient(cmap='coolwarm')"
   ]
  },
  {
   "cell_type": "markdown",
   "id": "eee440f9",
   "metadata": {},
   "source": [
    "В данных очень большое количество пропусков, в некоторых столбцах достигает 95%.  \n",
    "Несмотря на это, заполнить пропуски качественно в данном случае не получится. Средний размер счета, категория цен, количество посадочных мест и часы работы в каждом заведении индивидуальны, поэтому любое заполнение может исказить дальнейшие результаты исследования. Предлагаю не трогать пропущенные значения и двигаться дальше."
   ]
  },
  {
   "cell_type": "markdown",
   "id": "b277059a",
   "metadata": {},
   "source": [
    "### Добавление данных "
   ]
  },
  {
   "cell_type": "markdown",
   "id": "335a3e25",
   "metadata": {},
   "source": [
    "#### Cохраним названия улиц в отдельный столбец street"
   ]
  },
  {
   "cell_type": "code",
   "execution_count": null,
   "id": "e468bd6e",
   "metadata": {
    "scrolled": false
   },
   "outputs": [],
   "source": [
    "data['street'] = data['address'].str.split(', ').str[1]\n",
    "data.head()"
   ]
  },
  {
   "cell_type": "code",
   "execution_count": null,
   "id": "888507e8",
   "metadata": {
    "scrolled": true
   },
   "outputs": [],
   "source": [
    "data['street'].unique()"
   ]
  },
  {
   "cell_type": "markdown",
   "id": "a414f634",
   "metadata": {},
   "source": [
    "#### Выделим столбец is_24/7 чтобы обозначить, работает ли заведение ежедневно и круглосуточно (24/7)"
   ]
  },
  {
   "cell_type": "code",
   "execution_count": null,
   "id": "4ca2dd96",
   "metadata": {},
   "outputs": [],
   "source": [
    "# укажем значение True — если заведение работает ежедневно и круглосуточно;\n",
    "# False — в противоположном случае\n",
    "\n",
    "data['is_24/7'] = data['hours'].str.contains('ежедневно') & data['hours'].str.contains('круглосуточно')\n",
    "data.head()"
   ]
  },
  {
   "cell_type": "markdown",
   "id": "31083b59",
   "metadata": {},
   "source": [
    "На этом предобработка данных завершена, переходим к этапу анализа данных."
   ]
  },
  {
   "cell_type": "markdown",
   "id": "3b1e2bff",
   "metadata": {},
   "source": [
    "## Анализ данных"
   ]
  },
  {
   "cell_type": "markdown",
   "id": "41d213d3",
   "metadata": {},
   "source": [
    "### Изучим, какие категории заведений представлены в данных:"
   ]
  },
  {
   "cell_type": "code",
   "execution_count": null,
   "id": "c7eaf49f",
   "metadata": {
    "scrolled": true
   },
   "outputs": [],
   "source": [
    "# сгруппируем заведения по категориям и посчитаем их количество в каждой из категорий\n",
    "group_by_cat = data.groupby('category').agg(\n",
    "    {'name': 'count'}).sort_values('name', ascending=False).reset_index()\n",
    "\n",
    "# зададим названия столбцам\n",
    "group_by_cat.columns = ['category', 'amount']\n",
    "# посчитаем долю заведений в каждой из категорий по отношению к их общему количеству\n",
    "group_by_cat['share_of_all'] = round(group_by_cat['amount'] / data['name'].count() * 100, 1)\n",
    "group_by_cat"
   ]
  },
  {
   "cell_type": "code",
   "execution_count": null,
   "id": "7af7a7d8",
   "metadata": {},
   "outputs": [],
   "source": [
    "# визуализируем распределение заведений по категориям\n",
    "import warnings\n",
    "warnings.simplefilter('ignore')\n",
    "\n",
    "sns.countplot(data['category']).set(title='Распределение заведений по категориям',\n",
    "                                    xlabel='Категория',\n",
    "                                    ylabel='Количество заведений')\n",
    "plt.xticks(rotation=45)\n",
    "plt.show()"
   ]
  },
  {
   "cell_type": "markdown",
   "id": "c59ad974",
   "metadata": {},
   "source": [
    "В данных представлены следующие категории заведений:  \n",
    "- кафе  \n",
    "- рестораны  \n",
    "- кофейни   \n",
    "- пиццерии  \n",
    "- бары и пабы  \n",
    "- булочные  \n",
    "- столовые  \n",
    "- заведения быстрого питания  \n",
    "\n",
    "Большую часть заведений занимают кафе (≈ 30%) и рестораны (≈ 25%), на третьем месте находятся кофейни (≈ 17%)."
   ]
  },
  {
   "cell_type": "markdown",
   "id": "12dd84cb",
   "metadata": {},
   "source": [
    "### Исследуем количество посадочных мест в заведениях по категориям: "
   ]
  },
  {
   "cell_type": "code",
   "execution_count": null,
   "id": "87f810b2",
   "metadata": {
    "scrolled": true
   },
   "outputs": [],
   "source": [
    "# сгруппируем заведения по категориям и посчитаем количество посадочных в каждой из категорий\n",
    "seats = data.groupby('category').agg(\n",
    "    {'seats': 'median'}).sort_values('seats', ascending=False).reset_index()\n",
    "seats"
   ]
  },
  {
   "cell_type": "code",
   "execution_count": null,
   "id": "5274a924",
   "metadata": {},
   "outputs": [],
   "source": [
    "# визуализируем количество посадочных мест в заведениях по категориям\n",
    "sns.barplot(data=seats, \n",
    "            x='category', \n",
    "            y='seats').set(title='Среднее количество посадочных мест по типам объектов',\n",
    "                           xlabel='Категория заведения',\n",
    "                           ylabel='Количество посадочных мест')\n",
    "plt.xticks(rotation=45)\n",
    "plt.tight_layout()"
   ]
  },
  {
   "cell_type": "markdown",
   "id": "c6e1cadc",
   "metadata": {},
   "source": [
    "Самыми просторными заведениями являются рестораны (в среднем 86 посадочных мест), далее следуют бары и пабы (85 мест), и замыкают тройку лидеров кофейни (80 мест)."
   ]
  },
  {
   "cell_type": "markdown",
   "id": "8f3d5d0e",
   "metadata": {},
   "source": [
    "### Рассмотрим соотношение сетевых и несетевых заведений и выясним, каких заведений больше:"
   ]
  },
  {
   "cell_type": "code",
   "execution_count": null,
   "id": "537d59aa",
   "metadata": {},
   "outputs": [],
   "source": [
    "data['chain'].value_counts()"
   ]
  },
  {
   "cell_type": "code",
   "execution_count": null,
   "id": "b981b9d4",
   "metadata": {},
   "outputs": [],
   "source": [
    "# напишем функцию для отображения значений в процентах\n",
    "def autopct_format(values):\n",
    "        def my_format(pct):\n",
    "            total = sum(values)\n",
    "            val = int(round(pct*total/100.0))\n",
    "            return '{:.1f}%\\n({v:d})'.format(pct, v=val)\n",
    "        return my_format\n",
    "\n",
    "# строим график\n",
    "s = data['chain'].value_counts()\n",
    "n = ['Не сетевые заведения', 'Сетевые заведения']\n",
    "plt.pie(s,labels = n, autopct=autopct_format(s))\n",
    "plt.show()"
   ]
  },
  {
   "cell_type": "markdown",
   "id": "47ed720c",
   "metadata": {},
   "source": [
    "Не сетевых заведений в Москве примерно в 1,5 раза больше, чем сетевых (4538 и 2877 заведений соответственно)."
   ]
  },
  {
   "cell_type": "markdown",
   "id": "695f9afd",
   "metadata": {},
   "source": [
    "### Проверим, какие категории заведений чаще являются сетевыми:"
   ]
  },
  {
   "cell_type": "code",
   "execution_count": null,
   "id": "ea847b67",
   "metadata": {},
   "outputs": [],
   "source": [
    "# заменим 1 и 0 для удобства на ответы \"да\" и \"нет\"\n",
    "data['chain'] = data['chain'].replace({1: 'да',\n",
    "                                       0: 'нет'}, regex=True)"
   ]
  },
  {
   "cell_type": "code",
   "execution_count": null,
   "id": "d8cbc366",
   "metadata": {},
   "outputs": [],
   "source": [
    "# сгруппируем данные по категории и признаку сети и посчитаем количество заведений\n",
    "group_by_chain = data.groupby(\n",
    "    ['category', 'chain'])['name'].count().sort_values(ascending=False).reset_index()\n",
    "group_by_chain.columns = ['category','chain','amount']\n",
    "group_by_chain"
   ]
  },
  {
   "cell_type": "code",
   "execution_count": null,
   "id": "78695823",
   "metadata": {},
   "outputs": [],
   "source": [
    "# объединим данные по общему количеству заведений в каждой категории с расчетами выше\n",
    "group_by_chain.rename(columns={'amount': 'amount_chain'}, inplace=True)\n",
    "total_amount = group_by_cat.merge(group_by_chain, on='category', how='left')\n",
    "\n",
    "# посчитаем % заведений от общего количества для каждой из групп\n",
    "total_amount['percent'] = round(total_amount['amount_chain'] / total_amount['amount'] * 100,1)\n",
    "total_amount"
   ]
  },
  {
   "cell_type": "code",
   "execution_count": null,
   "id": "0fffe2ee",
   "metadata": {
    "scrolled": false
   },
   "outputs": [],
   "source": [
    "# визуализируем распределение\n",
    "fig = px.bar(total_amount, \n",
    "             x='category', \n",
    "             y='amount_chain', \n",
    "             color='chain',\n",
    "             text='percent',\n",
    "             title='Количество сетевых и несетевых заведений в каждой из категорий')\n",
    "\n",
    "fig.update_layout(xaxis_title='Категория',\n",
    "                  yaxis_title='Количество заведений')\n",
    "\n",
    "fig.show('notebook')"
   ]
  },
  {
   "cell_type": "markdown",
   "id": "4dedcb6a",
   "metadata": {},
   "source": [
    "Самые большими категориями несетевых заведений являются бары и пабы (76.2% от всех заведений в категории), столовые (73.5%), рестораны (64.8%) и кафе (64%).   \n",
    "\n",
    "Больше всего сетей представлено среди кофеен (48.5% от всех заведений в категории) и пиццерий (47%). "
   ]
  },
  {
   "cell_type": "markdown",
   "id": "6910ddec",
   "metadata": {},
   "source": [
    "### Сгруппируем данные по названиям заведений и найдем топ-15 популярных сетей в Москве:  "
   ]
  },
  {
   "cell_type": "code",
   "execution_count": null,
   "id": "055d8d87",
   "metadata": {},
   "outputs": [],
   "source": [
    "top15 = data.query('chain == \"да\"').groupby(['name', 'category']).agg(\n",
    "    {'address': 'count'}).sort_values(by='address', ascending=False).reset_index().head(15)\n",
    "top15.columns = ['chain', 'category', 'amount']\n",
    "\n",
    "top15"
   ]
  },
  {
   "cell_type": "code",
   "execution_count": null,
   "id": "c1529c20",
   "metadata": {},
   "outputs": [],
   "source": [
    "# визуализируем топ15 сетей\n",
    "fig = px.bar(top15, \n",
    "             x='chain', \n",
    "             y='amount', \n",
    "             color='category',\n",
    "             title='Топ-15 популярных сетей в Москве')   \n",
    "\n",
    "fig.update_layout(xaxis_title='Название сети',\n",
    "                  yaxis_title='Количество заведений')\n",
    "             \n",
    "fig.show('notebook')"
   ]
  },
  {
   "cell_type": "markdown",
   "id": "7f98a558",
   "metadata": {},
   "source": [
    "Самой большой и популярной сетью общественного питания в Москве является Шоколадница (открыто 120 заведений).  \n",
    "В топ-15 популярных сетей представлено  6 кофеен, 4 кафе, 3 ресторана, одна пиццерия и одна булочная.   \n",
    "Таким образом, можем сделать вывод о том, что самой популярной категорией для сетевых заведений являются кофейни."
   ]
  },
  {
   "cell_type": "markdown",
   "id": "858b1fba",
   "metadata": {},
   "source": [
    "### Посчитаем, сколько заведений присутствует в каждом из административных районов Москвы:"
   ]
  },
  {
   "cell_type": "code",
   "execution_count": null,
   "id": "6630b2fb",
   "metadata": {},
   "outputs": [],
   "source": [
    "group_by_district = data.groupby('district').agg(\n",
    "    {'address': 'count'}).sort_values(by='address', ascending=False).reset_index()\n",
    "group_by_district.columns = ['district', 'amount_of_places']\n",
    "group_by_district"
   ]
  },
  {
   "cell_type": "markdown",
   "id": "edc16976",
   "metadata": {},
   "source": [
    "### Отобразим общее количество заведений и количество заведений каждой категории по районам:"
   ]
  },
  {
   "cell_type": "code",
   "execution_count": null,
   "id": "4ca4d0a9",
   "metadata": {},
   "outputs": [],
   "source": [
    "# сгруппируем данные по району и по категории\n",
    "district_category = data.groupby(\n",
    "    ['district','category'], as_index=False)['name'].count().sort_values(by='name', ascending=False)\n",
    "\n",
    "# объединим данные по общему количеству заведений в каждом районе с расчетами выше\n",
    "district_category.rename(columns={'name': 'amount_by_cat'}, inplace=True)\n",
    "total_amount = group_by_district.merge(district_category, on='district', how='left')\n",
    "\n",
    "# посчитаем % заведений от общего количества для каждой из групп\n",
    "total_amount['percent'] = round(total_amount['amount_by_cat'] / total_amount['amount_of_places'] * 100,1)\n",
    "total_amount.head()"
   ]
  },
  {
   "cell_type": "code",
   "execution_count": null,
   "id": "189c5899",
   "metadata": {},
   "outputs": [],
   "source": [
    "# построим распределение заведений по районам\n",
    "fig = px.bar(total_amount.sort_values(by='amount_of_places', ascending=True), \n",
    "             x='amount_by_cat',\n",
    "             y='district',               \n",
    "             color='category'\n",
    "            )\n",
    "fig.update_layout(title='Количество заведений каждой категории по районам',\n",
    "                   xaxis_title='Количество заведений',\n",
    "                   yaxis_title='Район')\n",
    "fig.show()"
   ]
  },
  {
   "cell_type": "markdown",
   "id": "fac17216",
   "metadata": {},
   "source": [
    "Многократно больше по отношению к остальным районам расположено заведений в Центральном административном округе.  \n",
    "По другим районам заведения распределены равномерно везде, кроме Северо-Западного административного округа. В этом районе отмечается самое небольшое количество заведений.   \n",
    "\n",
    "В разрезе категорий заведений отмечается схожая тенденция для всех районов: большая доля кафе, ресторанов и кофеен. В Центральном административном округе в отличие от других районов расположено также много баров и пабов (313 заведений)."
   ]
  },
  {
   "cell_type": "markdown",
   "id": "f2b29c09",
   "metadata": {},
   "source": [
    "### Посмотрим на распределение средних рейтингов по категориям заведений:"
   ]
  },
  {
   "cell_type": "code",
   "execution_count": null,
   "id": "5ebeab7c",
   "metadata": {
    "scrolled": true
   },
   "outputs": [],
   "source": [
    "mean_rating = data.groupby(\n",
    "    'category', as_index=False)['rating'].mean().sort_values(by='rating', ascending=False)\n",
    "\n",
    "mean_rating = round(mean_rating,2)\n",
    "mean_rating"
   ]
  },
  {
   "cell_type": "code",
   "execution_count": null,
   "id": "b2fea083",
   "metadata": {},
   "outputs": [],
   "source": [
    "# визуализируем распределение средних рейтингов\n",
    "fig = px.line(mean_rating, \n",
    "              x='category', \n",
    "              y='rating', \n",
    "              title='',\n",
    "              text=\"rating\")\n",
    "\n",
    "# зададим отображение значений рейтинга\n",
    "fig.update_traces(textposition=\"bottom left\")\n",
    "\n",
    "# зададим названия осям x и y\n",
    "fig.update_layout(title='Распределение средних рейтингов по категориям заведений',\n",
    "                  xaxis_title='Категория заведений',\n",
    "                  yaxis_title='Средний рейтинг')\n",
    "fig.show() "
   ]
  },
  {
   "cell_type": "markdown",
   "id": "299dfa20",
   "metadata": {},
   "source": [
    "Усреднённые рейтинги в разных типах заведений различаются незначительно.  \n",
    "Все категории имеют похожий рейтинг, от 4.04 до 4.39."
   ]
  },
  {
   "cell_type": "markdown",
   "id": "dd4094f7",
   "metadata": {},
   "source": [
    "### Построим фоновую картограмму (хороплет) со средним рейтингом заведений каждого района:"
   ]
  },
  {
   "cell_type": "code",
   "execution_count": null,
   "id": "b02fd327",
   "metadata": {},
   "outputs": [],
   "source": [
    "# сгруппируем заведения по районам и посчитаем средний рейтинг\n",
    "rating_df = data.groupby('district', as_index=False)['rating'].agg('mean')\n",
    "rating_df"
   ]
  },
  {
   "cell_type": "code",
   "execution_count": null,
   "id": "f29956d8",
   "metadata": {},
   "outputs": [],
   "source": [
    "# импортируем карту и хороплет\n",
    "from folium import Map, Choropleth"
   ]
  },
  {
   "cell_type": "code",
   "execution_count": null,
   "id": "05497c95",
   "metadata": {},
   "outputs": [],
   "source": [
    "# загружаем JSON-файл с границами округов Москвы\n",
    "\n",
    "import requests\n",
    "\n",
    "url = 'https://code.s3.yandex.net/data-analyst/admin_level_geomap.geojson'\n",
    "response = requests.get(url)\n",
    "geo_json = response.json()\n",
    "\n",
    "# задаем широту и долготу центра Москвы (moscow_lat - широта, moscow_lng - долгота)\n",
    "moscow_lat, moscow_lng = 55.751244, 37.618423"
   ]
  },
  {
   "cell_type": "code",
   "execution_count": null,
   "id": "c454d123",
   "metadata": {
    "scrolled": true
   },
   "outputs": [],
   "source": [
    "# создаём карту Москвы\n",
    "m = Map(location=[moscow_lat, moscow_lng], zoom_start=10)\n",
    "\n",
    "# создаём хороплет с помощью конструктора Choropleth и добавляем его на карту\n",
    "Choropleth(\n",
    "    geo_data=geo_json,\n",
    "    data=rating_df,\n",
    "    columns=['district', 'rating'],\n",
    "    key_on='feature.name',\n",
    "    fill_color='YlGn',\n",
    "    fill_opacity=0.5,\n",
    "    legend_name='Средний рейтинг заведений по районам',\n",
    ").add_to(m)\n",
    "\n",
    "# выводим карту\n",
    "m"
   ]
  },
  {
   "cell_type": "markdown",
   "id": "065d3856",
   "metadata": {},
   "source": [
    "### Отобразим все заведения датасета на карте  \n",
    "Для этого используем кластеры из библиотеки folium:"
   ]
  },
  {
   "cell_type": "code",
   "execution_count": null,
   "id": "b0aa6bb0",
   "metadata": {},
   "outputs": [],
   "source": [
    "# импортируем карту и маркер\n",
    "from folium import Marker\n",
    "# импортируем кластер\n",
    "from folium.plugins import MarkerCluster\n",
    "\n",
    "# создаём пустой кластер, добавляем его на карту\n",
    "marker_cluster = MarkerCluster().add_to(m)\n",
    "\n",
    "# пишем функцию, которая принимает строку датафрейма,\n",
    "# создаёт маркер в текущей точке и добавляет его в кластер marker_cluster\n",
    "def create_clusters(row):\n",
    "    Marker(\n",
    "        [row['lat'], row['lng']],\n",
    "        popup=f\"{row['name']} {row['rating']}\",\n",
    "    ).add_to(marker_cluster)\n",
    "\n",
    "# применяем функцию create_clusters() к каждой строке датафрейма\n",
    "data.apply(create_clusters, axis=1)\n",
    "\n",
    "# выводим карту\n",
    "m"
   ]
  },
  {
   "cell_type": "markdown",
   "id": "6bc95fd4",
   "metadata": {},
   "source": [
    "### Найдем топ-15 улиц по количеству заведений:\n",
    "\n",
    "Постройте график распределения количества заведений и их категорий по этим улицам. Попробуйте проиллюстрировать эту информацию одним графиком."
   ]
  },
  {
   "cell_type": "code",
   "execution_count": null,
   "id": "ff1439c7",
   "metadata": {},
   "outputs": [],
   "source": [
    "# сгруппируем данные по улице и посчитаем количество заведений\n",
    "group_by_street = data.groupby(\n",
    "    'street', as_index=False)['name'].count().sort_values(by='name', ascending=False).head(15)\n",
    "\n",
    "group_by_street.columns = ['street', 'amount_of_places']\n",
    "group_by_street"
   ]
  },
  {
   "cell_type": "code",
   "execution_count": null,
   "id": "6cc6cbbb",
   "metadata": {},
   "outputs": [],
   "source": [
    "# сгруппируем данные по улице и по категории\n",
    "street_category = data.groupby(\n",
    "    ['street','category'], as_index=False)['name'].count().sort_values(by='name', ascending=False)\n",
    "\n",
    "# объединим данные по общему количеству заведений в каждом районе с расчетами выше\n",
    "street_category.rename(columns={'name': 'amount_by_cat'}, inplace=True)\n",
    "total_amount = group_by_street.merge(street_category, on='street', how='left')\n",
    "\n",
    "# посчитаем % заведений от общего количества для каждой из групп\n",
    "total_amount['percent'] = round(total_amount['amount_by_cat'] / total_amount['amount_of_places'] * 100,1)\n",
    "total_amount"
   ]
  },
  {
   "cell_type": "code",
   "execution_count": null,
   "id": "128450a4",
   "metadata": {},
   "outputs": [],
   "source": [
    "# посмотрим на суммарное количество заведений в каждой категории на топ-15 улицах\n",
    "total_amount.groupby('category')['amount_by_cat'].sum().sort_values(ascending=False)"
   ]
  },
  {
   "cell_type": "code",
   "execution_count": null,
   "id": "b2396729",
   "metadata": {},
   "outputs": [],
   "source": [
    "# визуализируем распределение заведений по улицам и категориям\n",
    "fig = px.bar(total_amount.sort_values(by='amount_of_places', ascending=False), \n",
    "             x='amount_by_cat',\n",
    "             y='street',               \n",
    "             color='category'\n",
    "            )\n",
    "fig.update_layout(title='Количество заведений каждой категории на топ-15 улиц',\n",
    "                   xaxis_title='Количество заведений',\n",
    "                   yaxis_title='Улица')\n",
    "fig.show()"
   ]
  },
  {
   "cell_type": "markdown",
   "id": "2b4c453d",
   "metadata": {},
   "source": [
    "Больше всего заведений расположено на проспекте Мира (161 заведение), второй по популярности является Профсоюзная улица\t (106 заведений), на третьем месте находится Ленинский проспект (95 заведений).   \n",
    "\n",
    "Больше всего на топ-15 улицах Москвы представлено кафе (319 заведений), ресторанов (281 заведение) и 205 кофеен."
   ]
  },
  {
   "cell_type": "markdown",
   "id": "fac9ff96",
   "metadata": {},
   "source": [
    "### Найдем улицы, на которых находится только один объект общепита:"
   ]
  },
  {
   "cell_type": "code",
   "execution_count": null,
   "id": "5e15690d",
   "metadata": {},
   "outputs": [],
   "source": [
    "# сгруппируем данные по улицам и районам и посчитаем количество заведений\n",
    "one_object = data.groupby(['street','district'], as_index=False)['name'].count().sort_values(by='name')\n",
    "\n",
    "# оставим только улицы с одним объектом общественного питания\n",
    "one_object = one_object.query('name == 1')\n",
    "\n",
    "# отобразим количество улиц\n",
    "print('Количество улиц с одним объектом общественного питания:', one_object.shape[0]) "
   ]
  },
  {
   "cell_type": "code",
   "execution_count": null,
   "id": "15d743a2",
   "metadata": {},
   "outputs": [],
   "source": [
    "# посмотрим в каких районах Москвы больше всего улиц с одним заведением\n",
    "dist = one_object.groupby(\n",
    "    'district')['street'].count().sort_values(ascending=False).reset_index().head(10)\n",
    "\n",
    "dist"
   ]
  },
  {
   "cell_type": "code",
   "execution_count": null,
   "id": "38da65ea",
   "metadata": {},
   "outputs": [],
   "source": [
    "# визуализируем распределение\n",
    "sns.barplot(x='street', \n",
    "            y='district', \n",
    "            data=dist).set(title='Распределение по районам количества улиц с одним заведением',\n",
    "                           xlabel='Количество улиц',\n",
    "                           ylabel='Районы')\n",
    "            \n",
    "plt.show()"
   ]
  },
  {
   "cell_type": "markdown",
   "id": "9a012e9e",
   "metadata": {},
   "source": [
    "Заведений, которые находятся в единственном числе на улице, на которой расположены, всего 481, это около 5% от всего количества заведений в городе. Большая часть таких заведений расположена в Центральном административном округе."
   ]
  },
  {
   "cell_type": "markdown",
   "id": "f13f7f02",
   "metadata": {},
   "source": [
    "### Посчитаем медианные значения средних чеков заведений  в зависимости от района:"
   ]
  },
  {
   "cell_type": "code",
   "execution_count": null,
   "id": "53d5a897",
   "metadata": {
    "scrolled": true
   },
   "outputs": [],
   "source": [
    "# сгруппируем заведения по районам и посчитаем медианный чек\n",
    "bill_df = data.groupby('district', as_index=False)['middle_avg_bill'].agg('median')\n",
    "bill_df.sort_values('middle_avg_bill', ascending=False)"
   ]
  },
  {
   "cell_type": "markdown",
   "id": "ab15031b",
   "metadata": {},
   "source": [
    "### Построим фоновую картограмму (хороплет) с полученными значениями для каждого района  \n",
    "Медианный средний чек используем в качестве ценового индикатора района:"
   ]
  },
  {
   "cell_type": "code",
   "execution_count": null,
   "id": "5f632ba1",
   "metadata": {},
   "outputs": [],
   "source": [
    "# создаём карту Москвы\n",
    "m2 = Map(location=[moscow_lat, moscow_lng], zoom_start=10)\n",
    "\n",
    "# создадим хороплет с помощью конструктора Choropleth и добавляем его на карту\n",
    "Choropleth(\n",
    "    geo_data=geo_json,\n",
    "    data=bill_df,\n",
    "    columns=['district', 'middle_avg_bill'],\n",
    "    key_on='feature.name',\n",
    "    fill_color='PuBuGn',\n",
    "    fill_opacity=0.5,\n",
    "    legend_name='Медианный чек по районам',\n",
    ").add_to(m2)\n",
    "\n",
    "# создаём пустой кластер, добавляем его на карту\n",
    "marker_cluster = MarkerCluster().add_to(m2)\n",
    "\n",
    "# пишем функцию, которая принимает строку датафрейма,\n",
    "# создаёт маркер в текущей точке и добавляет его в кластер marker_cluster\n",
    "def create_clusters(row):\n",
    "    Marker(\n",
    "        [row['lat'], row['lng']],\n",
    "        popup=f\"{row['name']} {row['middle_avg_bill']}\",\n",
    "    ).add_to(marker_cluster)\n",
    "\n",
    "# применяем функцию create_clusters() к каждой строке датафрейма\n",
    "data.apply(create_clusters, axis=1)\n",
    "\n",
    "# выводим карту\n",
    "m2"
   ]
  },
  {
   "cell_type": "markdown",
   "id": "6ffaf3b6",
   "metadata": {},
   "source": [
    "Самые дорогие районы по среднему чеку Центральный административный округ и Западный административный округ, тут средний чек составляет 1000 рублей. Вероятнее всего это связано с тем, что в центре Москвы расположено много заведений с высоким средним чеком. На западе Москвы находится множество мест отдыха и культурного наследия, что привлекает жителей и гостей города, и как следствие на прямую влияет на то, какого ценового сегмента заведения тут будут располагаться.\n",
    "\n",
    "В районах, расположенных в правой части города (Северо-Восточный административный округ, Восточный административный округ, Юго-Восточный административный округ и Южный административный округ), средний чек заметно ниже: от 450 до 600 рублей. \n",
    "\n",
    "В условной левой части города (Юго-Западный административный округе, Западный административном округе, Северо-Западном административном округе и Северном административном округе, средний чек выше и находится в диапазоне от 600 до 1000 рублей."
   ]
  },
  {
   "cell_type": "markdown",
   "id": "39c2cf68",
   "metadata": {},
   "source": [
    "### Посмотрим на распределение круглосуточных заведений по категориям и районам:"
   ]
  },
  {
   "cell_type": "code",
   "execution_count": null,
   "id": "d9123764",
   "metadata": {},
   "outputs": [],
   "source": [
    "# сгруппируем данные по признаку круглосуточности\n",
    "around_the_clock = data.groupby(\n",
    "    'is_24/7', as_index=False)['name'].count().sort_values(by='name', ascending=False)\n",
    "around_the_clock.columns = ['is_24/7', 'amount_of_places']\n",
    "around_the_clock"
   ]
  },
  {
   "cell_type": "code",
   "execution_count": null,
   "id": "6045c171",
   "metadata": {
    "scrolled": false
   },
   "outputs": [],
   "source": [
    "# сгруппируем заведения по районам и признаку круглосуточности и посчитаем их количество\n",
    "opening_hours = data.groupby(\n",
    "    ['district', 'is_24/7'], as_index=False)['name'].agg(\n",
    "    'count').sort_values('name', ascending=False)\n",
    "\n",
    "# объединим данные по количеству заведений по районам с расчетами выше\n",
    "opening_hours.rename(columns={'name': '24_by_dist'}, inplace=True)\n",
    "total_amount = group_by_district.merge(opening_hours, on='district', how='left')\n",
    "\n",
    "# посчитаем % круглосуточных заведений от общего количества для каждого района\n",
    "total_amount['percent_24'] = round(total_amount['24_by_dist'] / total_amount['amount_of_places'] * 100,1)\n",
    "total_amount"
   ]
  },
  {
   "cell_type": "code",
   "execution_count": null,
   "id": "1680f310",
   "metadata": {
    "scrolled": false
   },
   "outputs": [],
   "source": [
    "# визуализируем распределение круглосуточных и не круглосуточных заведений по районам\n",
    "fig = px.bar(total_amount.sort_values(by='amount_of_places', ascending=True), \n",
    "             x='24_by_dist', \n",
    "             y='district', \n",
    "             color='is_24/7',\n",
    "            title='Распределение круглосуточных заведений по районам')\n",
    "\n",
    "fig.update_layout(xaxis_title='Количество заведений',\n",
    "                  yaxis_title='Район')\n",
    "\n",
    "fig.show('notebook')"
   ]
  },
  {
   "cell_type": "markdown",
   "id": "40e16cec",
   "metadata": {},
   "source": [
    "## Общий вывод по исследуемым данным\n",
    "\n",
    "В исходных данных было представлено 8406 заведений общественного питания. После обработки данных, заведений осталось 7415, и нас основе их анализа были выявлены следующие особенности рынка общественного питания Москвы:  \n",
    "\n",
    "- В городе большую часть заведений это кафе, рестораны и кофейни. Суммарно на эти три категории приходится 70.8% всех заведений общественного питания Москвы. Причиной такого распределения могут быть универсальный формат заведений, которые подходят под любой случай и могут быть адаптированы под любые предпочтения посетителей. Остальные категории заведений в значительно меньшей степени представлены в городе и стоит предположить, что это вызвано их узкой направленностью.     \n",
    "\n",
    "\n",
    "- По вместительности гостей лидирующие позиции у ресторанов (в среднем 86 посадочных мест), баров и пабов (85 мест) и кофеен (80 мест). Несмотря на то, что бары и пабы представленны в городе в меньшем количестве, они довольно объемны и готовы принять большое количество посетителей. Рестораны и кофейни рассчитаны на большой поток посетителей и не удивительно, что они располагают достаточно большой вместимостью. Самые скромные по посадочным местам булочные, среднее значение в этой категории около 50 мест.\n",
    "\n",
    "- Большинство общественных заведений в городе относятся к несетевым — 61.2%, в то время как сетевые заведения составляют 38.8%. Бары и пабы являются самой распространенной категорией частных заведений, на частные заведение приходится 76.2% от всех баров и пабов Москвы. Булочные являются самой распространенной категорией сетевых заведений, сетевые булочные составляют значительную долю в своей категории, они занимают 64.9% от общего числа всех булочных заведений.  \n",
    "\n",
    "- Среди топ-15 заведений в Москве примерно одна треть — кофейни. Это объясняется удобным форматом напитков и перекусов на вынос, быстрым обслуживанием, а также возможностью назначить деловую или дружескую встречу в неформальной обстановке.  \n",
    "\n",
    "- Среди всех районов Центральный округ является наиболее оживленным и востребованным у посетителей. Центр города всегда выделялся большой проходимостью за счет притока туристов, культурной и образовательной активности, а также исторического наследия. Это подтверждается количеством открытых заведений — 1986, что составляет около 30% от общего числа заведений в городе. Северо-Западный административный округ наименее привлекателен для заведений общественного питания, в нем расположено всего 364 заведения, что составляет около 5% от общего числа заведений в городе.  \n",
    "\n",
    "- Бары и пабы отмечены самым высоким рейтингом, средняя оценка 4.4, что является максимальным значением среди всех имеющихся категорий. Такие высокие оценки могут быть обусловлены более индивидуальным подходом к клиентам, приятной атмосферой и привлекательным интерьером. Заведения быстрого питания имеют наименьший рейтинг около 4 баллов. Это может быть объяснено тем, что такие заведения ориентированы в первую очередедь на быстрое недорогое обслуживание и большой поток посетилелей, а предоставление качественного обслуживания находится не на первом месте.  \n",
    "\n",
    "- Самое большое количество заведений на проспект Мира — 164 заведения и на Профсоюзной улице — 106 заведений. На остальных улицах, шоссе и проспектах заведений меньше 100. Распределение категорий заведений в топ-15 улиц соответствует общему распределению по городу: больше всего кафе, ресторанов и кофеен.  \n",
    "\n",
    "- Улиц, где есть только одно заведение, всего 481. Большая часть таких улиц расположена в Центральном административном округе.  \n",
    "\n",
    "- Самые дорогие районы по среднему чеку Центральный административный округ и Западный административный округ - 1000 рублей, самый маленький средний чек в Южном административном округе — 450 рублей."
   ]
  },
  {
   "cell_type": "markdown",
   "id": "02d15036",
   "metadata": {},
   "source": [
    "## Детализируем исследование: открытие кофейни"
   ]
  },
  {
   "cell_type": "markdown",
   "id": "a9d96689",
   "metadata": {},
   "source": [
    "Основателям фонда «Shut Up and Take My Money» не даёт покоя успех сериала «Друзья». Их мечта — открыть такую же крутую и доступную, как «Central Perk», кофейню в Москве. Будем считать, что заказчики не боятся конкуренции в этой сфере, ведь кофеен в больших городах уже достаточно. Попробуйте определить, осуществима ли мечта клиентов."
   ]
  },
  {
   "cell_type": "markdown",
   "id": "963a1daf",
   "metadata": {},
   "source": [
    "### Посчитаем, сколько всего кофеен в датасете:"
   ]
  },
  {
   "cell_type": "code",
   "execution_count": null,
   "id": "c4c16308",
   "metadata": {},
   "outputs": [],
   "source": [
    "# сохраним отдельно данные по кофейням\n",
    "coffee_shop = data[data['category'] == 'кофейня']\n",
    "\n",
    "print('Количество кофеен:', coffee_shop.shape[0])"
   ]
  },
  {
   "cell_type": "markdown",
   "id": "baa27908",
   "metadata": {},
   "source": [
    "### Определим, в каких районах кофеен больше всего и выявим особенности их расположения:"
   ]
  },
  {
   "cell_type": "code",
   "execution_count": null,
   "id": "6c66e049",
   "metadata": {},
   "outputs": [],
   "source": [
    "# посчитаем количество кофеен по районам \n",
    "coffee_by_dist = coffee_shop.groupby('district', as_index=False)['name'].agg(\n",
    "    'count').sort_values('name', ascending=False)\n",
    "coffee_by_dist.columns = ['district', 'amount_of_places']\n",
    "coffee_by_dist"
   ]
  },
  {
   "cell_type": "code",
   "execution_count": null,
   "id": "39d11407",
   "metadata": {},
   "outputs": [],
   "source": [
    "# визуализируем распределение кофеен по районам\n",
    "sns.barplot(data=coffee_by_dist, \n",
    "            x='amount_of_places', \n",
    "            y='district').set(title='Распределение кофеен по районам',\n",
    "                           xlabel='Количество заведений',\n",
    "                           ylabel='Район')\n",
    "plt.show()"
   ]
  },
  {
   "cell_type": "markdown",
   "id": "c68360f0",
   "metadata": {},
   "source": [
    "Больше всего кофеен расположено в Центральном административном округе (381 заведение).  \n",
    "В Северном, Северо-Восточном, Западном и Южном административных округах, количество кофеен находится в диапазоне от 117 до 165 шт.   \n",
    "Меньше всего кофеен представлено в Восточном, Юго-Восточном, Юго-Западном и Северо-Западном административных округах, от 58 до 93 заведений.  \n"
   ]
  },
  {
   "cell_type": "markdown",
   "id": "031a3001",
   "metadata": {},
   "source": [
    "### Проверим, есть ли среди них круглосуточные кофейни:"
   ]
  },
  {
   "cell_type": "code",
   "execution_count": null,
   "id": "220d8a82",
   "metadata": {},
   "outputs": [],
   "source": [
    "# посмотрим на распределение кофеен в зависимости от признака круглосуточности\n",
    "s = coffee_shop['is_24/7'].value_counts()\n",
    "n = ['Не круглосуточные кофейни', 'Круглосуточные кофейни']\n",
    "plt.pie(s,labels = n, autopct=autopct_format(s))\n",
    "plt.show()"
   ]
  },
  {
   "cell_type": "code",
   "execution_count": null,
   "id": "5945d600",
   "metadata": {},
   "outputs": [],
   "source": [
    "# сгруппируем кофейни по районам и признаку круглосуточности и посчитаем их количество\n",
    "coffee_df = coffee_shop.groupby(\n",
    "    ['district', 'is_24/7'], as_index=False)['name'].agg(\n",
    "    'count').sort_values('name', ascending=False)\n",
    "\n",
    "\n",
    "# визуализируем распределение круглосуточных и не круглосуточных кофеен\n",
    "fig = px.bar(coffee_df, \n",
    "             x='name', \n",
    "             y='district', \n",
    "             color='is_24/7',\n",
    "            title='Распределение круглосуточных кофеен по районам')\n",
    "\n",
    "fig.update_layout(xaxis_title='Количество заведений',\n",
    "                  yaxis_title='Район')\n",
    "\n",
    "fig.show('notebook')"
   ]
  },
  {
   "cell_type": "markdown",
   "id": "40b9b059",
   "metadata": {},
   "source": [
    "Круглосуточные кофейни присутствуют в каждом районе, но доля заведений, работающих 24/7, крайне маленькая.   \n",
    "Больше всего таких заведений отмечено в Центральном административном округе (23 круглосуточные кофейни), в остальных районах количество круглосуточных кофеен не превышает десяти. Меньше всего круглосуточных кофеен в Южном административном округе - тут обнаружена всего одна кофейня такого типа."
   ]
  },
  {
   "cell_type": "markdown",
   "id": "3322f762",
   "metadata": {},
   "source": [
    "### Проверим, какие у кофеен рейтинги и как они распределены по районам:"
   ]
  },
  {
   "cell_type": "code",
   "execution_count": null,
   "id": "e224c046",
   "metadata": {
    "scrolled": true
   },
   "outputs": [],
   "source": [
    "# посмотрим на распределение средних рейтингов кофеен по районам\n",
    "grouped_by_rating = coffee_shop.groupby(\n",
    "    'district', as_index=False)['rating'].mean().sort_values(by='rating', ascending=False)\n",
    "grouped_by_rating"
   ]
  },
  {
   "cell_type": "code",
   "execution_count": null,
   "id": "c5a14a67",
   "metadata": {
    "scrolled": false
   },
   "outputs": [],
   "source": [
    "# сгруппируем кофейни по районам и рейтингу\n",
    "coffee_df = coffee_shop.groupby(\n",
    "    ['district', 'rating'], as_index=False)['name'].agg(\n",
    "    'count').sort_values('name', ascending=False)\n",
    "\n",
    "# объединим данные по общему рейтингу кофеен с расчетами выше\n",
    "coffee_df.rename(columns={'name': 'amount_by_dist'}, inplace=True)\n",
    "total_amount = coffee_by_dist.merge(coffee_df, on='district', how='left')\n",
    "\n",
    "# визуализируем распределение рейтинга кофеен по районам\n",
    "fig = px.bar(total_amount.sort_values(by='amount_of_places', ascending=True), \n",
    "             x='amount_by_dist', \n",
    "             y='district', \n",
    "             color='rating',\n",
    "            title='Распределение рейтинга кофеен по районам')\n",
    "\n",
    "fig.update_layout(xaxis_title='Рейтинг',\n",
    "                  yaxis_title='Район')\n",
    "\n",
    "fig.show('notebook')"
   ]
  },
  {
   "cell_type": "markdown",
   "id": "aa288435",
   "metadata": {},
   "source": [
    "Разброс рейтингов кофеен по городу не очень велик, многие кофейни имеют рейтинг от 4 баллов и выше.   \n",
    "Большинство заведений с высоким рейтингом (от 4 баллов) расположены в Центральном и Северо-Западном административных округах. Кофейни с рейтингом ниже 4 баллов преимущественно располагаются в Юго-Восточном, Южном, Северо-Восточном и Западном административных округах. "
   ]
  },
  {
   "cell_type": "markdown",
   "id": "0e8a53e9",
   "metadata": {},
   "source": [
    "### Определим, на какую стоимость чашки капучино стоит ориентироваться при открытии и почему:"
   ]
  },
  {
   "cell_type": "markdown",
   "id": "cefac7ba",
   "metadata": {},
   "source": [
    "Определим медианное значение цен на чашку капучино по каждому округу Москвы:"
   ]
  },
  {
   "cell_type": "code",
   "execution_count": null,
   "id": "5abffbec",
   "metadata": {},
   "outputs": [],
   "source": [
    "price_coffeeshop = coffee_shop.groupby(\n",
    "    'district', as_index=False)['middle_coffee_cup'].median().sort_values(\n",
    "     by='middle_coffee_cup', ascending=False)\n",
    "\n",
    "price_coffeeshop"
   ]
  },
  {
   "cell_type": "code",
   "execution_count": null,
   "id": "c0767435",
   "metadata": {},
   "outputs": [],
   "source": [
    "# визуализируем распределение медианной стоимости чашки капучино по районам\n",
    "fig = px.bar(price_coffeeshop.sort_values(by='middle_coffee_cup', ascending=False), \n",
    "             x='middle_coffee_cup', \n",
    "             y='district',    \n",
    "             color='district',\n",
    "             text='middle_coffee_cup', \n",
    "             title='Медианная цена на чашку кофе')\n",
    "            \n",
    "fig.update_traces(texttemplate='%{text}', textposition='outside')\n",
    "fig.update_layout(yaxis_title='Округ',\n",
    "                  xaxis_title='Средняя цена',\n",
    "                  xaxis=dict(range=[120, 210]),\n",
    "                  showlegend=False, legend_title='Округ')\n",
    "fig.show() "
   ]
  },
  {
   "cell_type": "markdown",
   "id": "acab36c4",
   "metadata": {},
   "source": [
    "Имеет смысл смотреть на ценовую политику кофейни по медианному значению чашки капучино, как ключевого напитка, который есть в каждой кофейне. Распределение цен в кофейнях по районам остается практически таким же, как и при сравнении медианных цен по всем заведениям. Самыми дорогими округами являются Центральный и Западный административные округа — 185 рублей за чашку, недалеко от них расположился Юго-Западный административный округ - 182 рубля за чашку. Самое дешевое капучино в Восточном административном округе — 135 рублей."
   ]
  },
  {
   "cell_type": "markdown",
   "id": "7761e71a",
   "metadata": {},
   "source": [
    "## Рекомендации по открытию кофейни\n",
    "\n",
    "Центральный административный округ является наиболее популярным районом для открытия кофеен в Москве, с наибольшим количеством заведений — 381 кофейня и высоким рейтингом — 4.3 балла. Северный административный округ также представлен большим количеством кофеен — 165, что указывает с одной стороны на большой спрос со стороны покупателей, а с другой на высокую конкуренцию в этих районах. \n",
    "\n",
    "Северо-Западный административный округ также имеет высокий рейтинг кофеен — 4.3, при этом количество заведений здесь гораздо меньше - открыто всего 58 кофеен, что может послужить благоприятными условиями для открытия нового заведения. Небольшое количество кофеен в Северо-Западном административном округе может быть связано с малой плотностью населения и преобладанием водных ресурсов и лесных массивов. Однако, это может представлять потенциал для развития новых кофейных заведений с уникальными концепциями, которые органично будут встроены в атмосферу округа. \n",
    "\n",
    "Большинство кофеен (95%) работают только в дневное время, что говорит о большом потенциале для открытия для открытия круглосуточной кофейни, особенно в центре города.\n",
    "\n",
    "Цены на кофе варьируются в зависимости от округа. Центральный и Западный административные округа имеют самые высокие цены на капучино (185 рублей за чашку), в то время как Восточный административный округ имеет самые низкие цены (135 рублей за чашку). При выборе места для открытия кофейни, следует учитывать предпочтения и потребности целевой аудитории в соотношении цены и качества кофе."
   ]
  },
  {
   "cell_type": "markdown",
   "id": "624e972d",
   "metadata": {},
   "source": [
    "Презентация: <https://disk.yandex.ru/d/I5xdivQTuvEcHA>  "
   ]
  }
 ],
 "metadata": {
  "ExecuteTimeLog": [
   {
    "duration": 1305,
    "start_time": "2023-07-19T04:32:15.236Z"
   },
   {
    "duration": 175,
    "start_time": "2023-07-19T04:32:16.543Z"
   },
   {
    "duration": 16,
    "start_time": "2023-07-19T04:32:16.720Z"
   },
   {
    "duration": 27,
    "start_time": "2023-07-19T04:32:16.738Z"
   },
   {
    "duration": 4,
    "start_time": "2023-07-19T04:32:16.767Z"
   },
   {
    "duration": 14,
    "start_time": "2023-07-19T04:32:16.772Z"
   },
   {
    "duration": 23,
    "start_time": "2023-07-19T04:32:16.787Z"
   },
   {
    "duration": 15,
    "start_time": "2023-07-19T04:32:16.812Z"
   },
   {
    "duration": 9,
    "start_time": "2023-07-19T04:32:16.828Z"
   },
   {
    "duration": 15,
    "start_time": "2023-07-19T04:32:16.838Z"
   },
   {
    "duration": 16,
    "start_time": "2023-07-19T04:32:16.855Z"
   },
   {
    "duration": 24,
    "start_time": "2023-07-19T04:32:16.872Z"
   },
   {
    "duration": 64,
    "start_time": "2023-07-19T04:32:16.898Z"
   },
   {
    "duration": 92,
    "start_time": "2023-07-19T04:32:16.965Z"
   },
   {
    "duration": 0,
    "start_time": "2023-07-19T04:32:17.060Z"
   },
   {
    "duration": 0,
    "start_time": "2023-07-19T04:32:17.061Z"
   },
   {
    "duration": 0,
    "start_time": "2023-07-19T04:32:17.062Z"
   },
   {
    "duration": 0,
    "start_time": "2023-07-19T04:32:17.063Z"
   },
   {
    "duration": 0,
    "start_time": "2023-07-19T04:32:17.065Z"
   },
   {
    "duration": 0,
    "start_time": "2023-07-19T04:32:17.065Z"
   },
   {
    "duration": 0,
    "start_time": "2023-07-19T04:32:17.067Z"
   },
   {
    "duration": 0,
    "start_time": "2023-07-19T04:32:17.068Z"
   },
   {
    "duration": 0,
    "start_time": "2023-07-19T04:32:17.069Z"
   },
   {
    "duration": 0,
    "start_time": "2023-07-19T04:32:17.070Z"
   },
   {
    "duration": 0,
    "start_time": "2023-07-19T04:32:17.071Z"
   },
   {
    "duration": 0,
    "start_time": "2023-07-19T04:32:17.072Z"
   },
   {
    "duration": 0,
    "start_time": "2023-07-19T04:32:17.073Z"
   },
   {
    "duration": 0,
    "start_time": "2023-07-19T04:32:17.074Z"
   },
   {
    "duration": 0,
    "start_time": "2023-07-19T04:32:17.075Z"
   },
   {
    "duration": 0,
    "start_time": "2023-07-19T04:32:17.075Z"
   },
   {
    "duration": 0,
    "start_time": "2023-07-19T04:32:17.076Z"
   },
   {
    "duration": 0,
    "start_time": "2023-07-19T04:32:17.077Z"
   },
   {
    "duration": 0,
    "start_time": "2023-07-19T04:32:17.078Z"
   },
   {
    "duration": 0,
    "start_time": "2023-07-19T04:32:17.107Z"
   },
   {
    "duration": 0,
    "start_time": "2023-07-19T04:32:17.108Z"
   },
   {
    "duration": 0,
    "start_time": "2023-07-19T04:32:17.108Z"
   },
   {
    "duration": 0,
    "start_time": "2023-07-19T04:32:17.110Z"
   },
   {
    "duration": 0,
    "start_time": "2023-07-19T04:32:17.110Z"
   },
   {
    "duration": 0,
    "start_time": "2023-07-19T04:32:17.111Z"
   },
   {
    "duration": 0,
    "start_time": "2023-07-19T04:32:17.112Z"
   },
   {
    "duration": 0,
    "start_time": "2023-07-19T04:32:17.114Z"
   },
   {
    "duration": 0,
    "start_time": "2023-07-19T04:32:17.114Z"
   },
   {
    "duration": 0,
    "start_time": "2023-07-19T04:32:17.115Z"
   },
   {
    "duration": 0,
    "start_time": "2023-07-19T04:32:17.116Z"
   },
   {
    "duration": 0,
    "start_time": "2023-07-19T04:32:17.117Z"
   },
   {
    "duration": 0,
    "start_time": "2023-07-19T04:32:17.118Z"
   },
   {
    "duration": 0,
    "start_time": "2023-07-19T04:32:17.119Z"
   },
   {
    "duration": 0,
    "start_time": "2023-07-19T04:32:17.120Z"
   },
   {
    "duration": 0,
    "start_time": "2023-07-19T04:32:17.121Z"
   },
   {
    "duration": 0,
    "start_time": "2023-07-19T04:32:17.122Z"
   },
   {
    "duration": 0,
    "start_time": "2023-07-19T04:32:17.123Z"
   },
   {
    "duration": 0,
    "start_time": "2023-07-19T04:32:17.124Z"
   },
   {
    "duration": 0,
    "start_time": "2023-07-19T04:32:17.125Z"
   },
   {
    "duration": 0,
    "start_time": "2023-07-19T04:32:17.126Z"
   },
   {
    "duration": 0,
    "start_time": "2023-07-19T04:32:17.127Z"
   },
   {
    "duration": 0,
    "start_time": "2023-07-19T04:32:17.128Z"
   },
   {
    "duration": 0,
    "start_time": "2023-07-19T04:32:17.129Z"
   },
   {
    "duration": 0,
    "start_time": "2023-07-19T04:32:17.130Z"
   },
   {
    "duration": 0,
    "start_time": "2023-07-19T04:32:17.131Z"
   },
   {
    "duration": 0,
    "start_time": "2023-07-19T04:32:17.132Z"
   },
   {
    "duration": 0,
    "start_time": "2023-07-19T04:32:17.133Z"
   },
   {
    "duration": 0,
    "start_time": "2023-07-19T04:32:17.134Z"
   },
   {
    "duration": 0,
    "start_time": "2023-07-19T04:32:17.135Z"
   },
   {
    "duration": 0,
    "start_time": "2023-07-19T04:32:17.136Z"
   },
   {
    "duration": 0,
    "start_time": "2023-07-19T04:32:17.137Z"
   },
   {
    "duration": 0,
    "start_time": "2023-07-19T04:32:17.138Z"
   },
   {
    "duration": 0,
    "start_time": "2023-07-19T04:32:17.139Z"
   },
   {
    "duration": 0,
    "start_time": "2023-07-19T04:32:17.140Z"
   },
   {
    "duration": 0,
    "start_time": "2023-07-19T04:32:17.141Z"
   },
   {
    "duration": 0,
    "start_time": "2023-07-19T04:32:17.142Z"
   },
   {
    "duration": 0,
    "start_time": "2023-07-19T04:32:17.143Z"
   },
   {
    "duration": 0,
    "start_time": "2023-07-19T04:32:17.206Z"
   },
   {
    "duration": 0,
    "start_time": "2023-07-19T04:32:17.208Z"
   },
   {
    "duration": 0,
    "start_time": "2023-07-19T04:32:17.208Z"
   },
   {
    "duration": 0,
    "start_time": "2023-07-19T04:32:17.209Z"
   },
   {
    "duration": 0,
    "start_time": "2023-07-19T04:32:17.210Z"
   },
   {
    "duration": 0,
    "start_time": "2023-07-19T04:32:17.211Z"
   },
   {
    "duration": 0,
    "start_time": "2023-07-19T04:32:17.213Z"
   },
   {
    "duration": 0,
    "start_time": "2023-07-19T04:32:17.213Z"
   },
   {
    "duration": 0,
    "start_time": "2023-07-19T04:32:17.214Z"
   },
   {
    "duration": 0,
    "start_time": "2023-07-19T04:32:17.215Z"
   },
   {
    "duration": 0,
    "start_time": "2023-07-19T04:32:17.216Z"
   },
   {
    "duration": 0,
    "start_time": "2023-07-19T04:32:17.217Z"
   },
   {
    "duration": 0,
    "start_time": "2023-07-19T04:32:17.218Z"
   },
   {
    "duration": 0,
    "start_time": "2023-07-19T04:32:17.219Z"
   },
   {
    "duration": 0,
    "start_time": "2023-07-19T04:32:17.220Z"
   },
   {
    "duration": 0,
    "start_time": "2023-07-19T04:32:17.221Z"
   },
   {
    "duration": 0,
    "start_time": "2023-07-19T04:32:17.222Z"
   },
   {
    "duration": 0,
    "start_time": "2023-07-19T04:32:17.222Z"
   },
   {
    "duration": 0,
    "start_time": "2023-07-19T04:32:17.224Z"
   },
   {
    "duration": 0,
    "start_time": "2023-07-19T04:32:17.225Z"
   },
   {
    "duration": 0,
    "start_time": "2023-07-19T04:32:17.225Z"
   },
   {
    "duration": 0,
    "start_time": "2023-07-19T04:32:17.226Z"
   },
   {
    "duration": 0,
    "start_time": "2023-07-19T04:32:17.228Z"
   },
   {
    "duration": 1323,
    "start_time": "2023-07-19T08:21:27.939Z"
   },
   {
    "duration": 307,
    "start_time": "2023-07-19T08:21:29.264Z"
   },
   {
    "duration": 18,
    "start_time": "2023-07-19T08:21:29.572Z"
   },
   {
    "duration": 12,
    "start_time": "2023-07-19T08:21:29.592Z"
   },
   {
    "duration": 3,
    "start_time": "2023-07-19T08:21:29.605Z"
   },
   {
    "duration": 18,
    "start_time": "2023-07-19T08:21:29.609Z"
   },
   {
    "duration": 14,
    "start_time": "2023-07-19T08:21:29.628Z"
   },
   {
    "duration": 13,
    "start_time": "2023-07-19T08:21:29.644Z"
   },
   {
    "duration": 7,
    "start_time": "2023-07-19T08:21:29.658Z"
   },
   {
    "duration": 11,
    "start_time": "2023-07-19T08:21:29.667Z"
   },
   {
    "duration": 19,
    "start_time": "2023-07-19T08:21:29.679Z"
   },
   {
    "duration": 17,
    "start_time": "2023-07-19T08:21:29.699Z"
   },
   {
    "duration": 49,
    "start_time": "2023-07-19T08:21:29.718Z"
   },
   {
    "duration": 94,
    "start_time": "2023-07-19T08:21:29.769Z"
   },
   {
    "duration": 0,
    "start_time": "2023-07-19T08:21:29.866Z"
   },
   {
    "duration": 0,
    "start_time": "2023-07-19T08:21:29.867Z"
   },
   {
    "duration": 0,
    "start_time": "2023-07-19T08:21:29.868Z"
   },
   {
    "duration": 0,
    "start_time": "2023-07-19T08:21:29.869Z"
   },
   {
    "duration": 0,
    "start_time": "2023-07-19T08:21:29.869Z"
   },
   {
    "duration": 0,
    "start_time": "2023-07-19T08:21:29.870Z"
   },
   {
    "duration": 0,
    "start_time": "2023-07-19T08:21:29.871Z"
   },
   {
    "duration": 0,
    "start_time": "2023-07-19T08:21:29.872Z"
   },
   {
    "duration": 0,
    "start_time": "2023-07-19T08:21:29.873Z"
   },
   {
    "duration": 1,
    "start_time": "2023-07-19T08:21:29.874Z"
   },
   {
    "duration": 0,
    "start_time": "2023-07-19T08:21:29.876Z"
   },
   {
    "duration": 0,
    "start_time": "2023-07-19T08:21:29.877Z"
   },
   {
    "duration": 0,
    "start_time": "2023-07-19T08:21:29.878Z"
   },
   {
    "duration": 0,
    "start_time": "2023-07-19T08:21:29.880Z"
   },
   {
    "duration": 0,
    "start_time": "2023-07-19T08:21:29.907Z"
   },
   {
    "duration": 0,
    "start_time": "2023-07-19T08:21:29.908Z"
   },
   {
    "duration": 0,
    "start_time": "2023-07-19T08:21:29.909Z"
   },
   {
    "duration": 0,
    "start_time": "2023-07-19T08:21:29.911Z"
   },
   {
    "duration": 0,
    "start_time": "2023-07-19T08:21:29.913Z"
   },
   {
    "duration": 0,
    "start_time": "2023-07-19T08:21:29.914Z"
   },
   {
    "duration": 0,
    "start_time": "2023-07-19T08:21:29.915Z"
   },
   {
    "duration": 0,
    "start_time": "2023-07-19T08:21:29.916Z"
   },
   {
    "duration": 0,
    "start_time": "2023-07-19T08:21:29.917Z"
   },
   {
    "duration": 0,
    "start_time": "2023-07-19T08:21:29.922Z"
   },
   {
    "duration": 0,
    "start_time": "2023-07-19T08:21:29.923Z"
   },
   {
    "duration": 0,
    "start_time": "2023-07-19T08:21:29.924Z"
   },
   {
    "duration": 0,
    "start_time": "2023-07-19T08:21:29.925Z"
   },
   {
    "duration": 1,
    "start_time": "2023-07-19T08:21:29.925Z"
   },
   {
    "duration": 0,
    "start_time": "2023-07-19T08:21:29.926Z"
   },
   {
    "duration": 0,
    "start_time": "2023-07-19T08:21:29.928Z"
   },
   {
    "duration": 0,
    "start_time": "2023-07-19T08:21:29.929Z"
   },
   {
    "duration": 0,
    "start_time": "2023-07-19T08:21:29.930Z"
   },
   {
    "duration": 0,
    "start_time": "2023-07-19T08:21:29.930Z"
   },
   {
    "duration": 0,
    "start_time": "2023-07-19T08:21:29.931Z"
   },
   {
    "duration": 0,
    "start_time": "2023-07-19T08:21:29.932Z"
   },
   {
    "duration": 0,
    "start_time": "2023-07-19T08:21:29.933Z"
   },
   {
    "duration": 0,
    "start_time": "2023-07-19T08:21:29.934Z"
   },
   {
    "duration": 0,
    "start_time": "2023-07-19T08:21:29.935Z"
   },
   {
    "duration": 0,
    "start_time": "2023-07-19T08:21:29.936Z"
   },
   {
    "duration": 0,
    "start_time": "2023-07-19T08:21:29.937Z"
   },
   {
    "duration": 0,
    "start_time": "2023-07-19T08:21:29.938Z"
   },
   {
    "duration": 0,
    "start_time": "2023-07-19T08:21:29.940Z"
   },
   {
    "duration": 0,
    "start_time": "2023-07-19T08:21:29.941Z"
   },
   {
    "duration": 0,
    "start_time": "2023-07-19T08:21:29.942Z"
   },
   {
    "duration": 0,
    "start_time": "2023-07-19T08:21:29.943Z"
   },
   {
    "duration": 0,
    "start_time": "2023-07-19T08:21:29.944Z"
   },
   {
    "duration": 0,
    "start_time": "2023-07-19T08:21:29.945Z"
   },
   {
    "duration": 0,
    "start_time": "2023-07-19T08:21:29.946Z"
   },
   {
    "duration": 0,
    "start_time": "2023-07-19T08:21:29.947Z"
   },
   {
    "duration": 0,
    "start_time": "2023-07-19T08:21:29.948Z"
   },
   {
    "duration": 0,
    "start_time": "2023-07-19T08:21:30.007Z"
   },
   {
    "duration": 0,
    "start_time": "2023-07-19T08:21:30.008Z"
   },
   {
    "duration": 0,
    "start_time": "2023-07-19T08:21:30.009Z"
   },
   {
    "duration": 0,
    "start_time": "2023-07-19T08:21:30.010Z"
   },
   {
    "duration": 0,
    "start_time": "2023-07-19T08:21:30.011Z"
   },
   {
    "duration": 0,
    "start_time": "2023-07-19T08:21:30.012Z"
   },
   {
    "duration": 0,
    "start_time": "2023-07-19T08:21:30.013Z"
   },
   {
    "duration": 0,
    "start_time": "2023-07-19T08:21:30.014Z"
   },
   {
    "duration": 0,
    "start_time": "2023-07-19T08:21:30.015Z"
   },
   {
    "duration": 0,
    "start_time": "2023-07-19T08:21:30.016Z"
   },
   {
    "duration": 0,
    "start_time": "2023-07-19T08:21:30.017Z"
   },
   {
    "duration": 0,
    "start_time": "2023-07-19T08:21:30.018Z"
   },
   {
    "duration": 0,
    "start_time": "2023-07-19T08:21:30.019Z"
   },
   {
    "duration": 0,
    "start_time": "2023-07-19T08:21:30.020Z"
   },
   {
    "duration": 0,
    "start_time": "2023-07-19T08:21:30.021Z"
   },
   {
    "duration": 0,
    "start_time": "2023-07-19T08:21:30.022Z"
   },
   {
    "duration": 0,
    "start_time": "2023-07-19T08:21:30.023Z"
   },
   {
    "duration": 0,
    "start_time": "2023-07-19T08:21:30.024Z"
   },
   {
    "duration": 0,
    "start_time": "2023-07-19T08:21:30.025Z"
   },
   {
    "duration": 0,
    "start_time": "2023-07-19T08:21:30.026Z"
   },
   {
    "duration": 0,
    "start_time": "2023-07-19T08:21:30.027Z"
   },
   {
    "duration": 0,
    "start_time": "2023-07-19T08:21:30.028Z"
   },
   {
    "duration": 0,
    "start_time": "2023-07-19T08:21:30.029Z"
   },
   {
    "duration": 0,
    "start_time": "2023-07-19T08:21:30.031Z"
   },
   {
    "duration": 0,
    "start_time": "2023-07-19T08:21:30.031Z"
   },
   {
    "duration": 0,
    "start_time": "2023-07-19T08:21:30.032Z"
   },
   {
    "duration": 0,
    "start_time": "2023-07-19T08:21:30.034Z"
   },
   {
    "duration": 0,
    "start_time": "2023-07-19T08:21:30.034Z"
   },
   {
    "duration": 0,
    "start_time": "2023-07-19T08:21:30.035Z"
   },
   {
    "duration": 0,
    "start_time": "2023-07-19T08:21:30.036Z"
   },
   {
    "duration": 3712,
    "start_time": "2023-07-19T08:22:52.500Z"
   },
   {
    "duration": 1206,
    "start_time": "2023-07-19T08:23:16.691Z"
   },
   {
    "duration": 117,
    "start_time": "2023-07-19T08:23:17.899Z"
   },
   {
    "duration": 18,
    "start_time": "2023-07-19T08:23:18.017Z"
   },
   {
    "duration": 38,
    "start_time": "2023-07-19T08:23:18.037Z"
   },
   {
    "duration": 7,
    "start_time": "2023-07-19T08:23:18.077Z"
   },
   {
    "duration": 34,
    "start_time": "2023-07-19T08:23:18.085Z"
   },
   {
    "duration": 26,
    "start_time": "2023-07-19T08:23:18.121Z"
   },
   {
    "duration": 19,
    "start_time": "2023-07-19T08:23:18.149Z"
   },
   {
    "duration": 3,
    "start_time": "2023-07-19T08:23:18.169Z"
   },
   {
    "duration": 22,
    "start_time": "2023-07-19T08:23:18.174Z"
   },
   {
    "duration": 11,
    "start_time": "2023-07-19T08:23:18.197Z"
   },
   {
    "duration": 12,
    "start_time": "2023-07-19T08:23:18.209Z"
   },
   {
    "duration": 30,
    "start_time": "2023-07-19T08:23:18.222Z"
   },
   {
    "duration": 3219,
    "start_time": "2023-07-19T08:23:18.254Z"
   },
   {
    "duration": 106,
    "start_time": "2023-07-19T08:23:21.475Z"
   },
   {
    "duration": 0,
    "start_time": "2023-07-19T08:23:21.584Z"
   },
   {
    "duration": 0,
    "start_time": "2023-07-19T08:23:21.585Z"
   },
   {
    "duration": 0,
    "start_time": "2023-07-19T08:23:21.586Z"
   },
   {
    "duration": 0,
    "start_time": "2023-07-19T08:23:21.588Z"
   },
   {
    "duration": 0,
    "start_time": "2023-07-19T08:23:21.589Z"
   },
   {
    "duration": 0,
    "start_time": "2023-07-19T08:23:21.590Z"
   },
   {
    "duration": 0,
    "start_time": "2023-07-19T08:23:21.591Z"
   },
   {
    "duration": 0,
    "start_time": "2023-07-19T08:23:21.606Z"
   },
   {
    "duration": 0,
    "start_time": "2023-07-19T08:23:21.607Z"
   },
   {
    "duration": 0,
    "start_time": "2023-07-19T08:23:21.608Z"
   },
   {
    "duration": 0,
    "start_time": "2023-07-19T08:23:21.609Z"
   },
   {
    "duration": 0,
    "start_time": "2023-07-19T08:23:21.610Z"
   },
   {
    "duration": 0,
    "start_time": "2023-07-19T08:23:21.612Z"
   },
   {
    "duration": 0,
    "start_time": "2023-07-19T08:23:21.613Z"
   },
   {
    "duration": 0,
    "start_time": "2023-07-19T08:23:21.614Z"
   },
   {
    "duration": 0,
    "start_time": "2023-07-19T08:23:21.615Z"
   },
   {
    "duration": 0,
    "start_time": "2023-07-19T08:23:21.616Z"
   },
   {
    "duration": 0,
    "start_time": "2023-07-19T08:23:21.617Z"
   },
   {
    "duration": 0,
    "start_time": "2023-07-19T08:23:21.618Z"
   },
   {
    "duration": 0,
    "start_time": "2023-07-19T08:23:21.619Z"
   },
   {
    "duration": 0,
    "start_time": "2023-07-19T08:23:21.620Z"
   },
   {
    "duration": 0,
    "start_time": "2023-07-19T08:23:21.621Z"
   },
   {
    "duration": 0,
    "start_time": "2023-07-19T08:23:21.622Z"
   },
   {
    "duration": 0,
    "start_time": "2023-07-19T08:23:21.623Z"
   },
   {
    "duration": 0,
    "start_time": "2023-07-19T08:23:21.624Z"
   },
   {
    "duration": 0,
    "start_time": "2023-07-19T08:23:21.625Z"
   },
   {
    "duration": 0,
    "start_time": "2023-07-19T08:23:21.626Z"
   },
   {
    "duration": 0,
    "start_time": "2023-07-19T08:23:21.628Z"
   },
   {
    "duration": 0,
    "start_time": "2023-07-19T08:23:21.629Z"
   },
   {
    "duration": 0,
    "start_time": "2023-07-19T08:23:21.630Z"
   },
   {
    "duration": 0,
    "start_time": "2023-07-19T08:23:21.632Z"
   },
   {
    "duration": 0,
    "start_time": "2023-07-19T08:23:21.633Z"
   },
   {
    "duration": 0,
    "start_time": "2023-07-19T08:23:21.634Z"
   },
   {
    "duration": 0,
    "start_time": "2023-07-19T08:23:21.636Z"
   },
   {
    "duration": 1,
    "start_time": "2023-07-19T08:23:21.637Z"
   },
   {
    "duration": 0,
    "start_time": "2023-07-19T08:23:21.639Z"
   },
   {
    "duration": 0,
    "start_time": "2023-07-19T08:23:21.640Z"
   },
   {
    "duration": 0,
    "start_time": "2023-07-19T08:23:21.641Z"
   },
   {
    "duration": 1,
    "start_time": "2023-07-19T08:23:21.642Z"
   },
   {
    "duration": 0,
    "start_time": "2023-07-19T08:23:21.706Z"
   },
   {
    "duration": 0,
    "start_time": "2023-07-19T08:23:21.707Z"
   },
   {
    "duration": 0,
    "start_time": "2023-07-19T08:23:21.709Z"
   },
   {
    "duration": 0,
    "start_time": "2023-07-19T08:23:21.709Z"
   },
   {
    "duration": 0,
    "start_time": "2023-07-19T08:23:21.711Z"
   },
   {
    "duration": 0,
    "start_time": "2023-07-19T08:23:21.712Z"
   },
   {
    "duration": 0,
    "start_time": "2023-07-19T08:23:21.713Z"
   },
   {
    "duration": 0,
    "start_time": "2023-07-19T08:23:21.714Z"
   },
   {
    "duration": 0,
    "start_time": "2023-07-19T08:23:21.715Z"
   },
   {
    "duration": 0,
    "start_time": "2023-07-19T08:23:21.716Z"
   },
   {
    "duration": 0,
    "start_time": "2023-07-19T08:23:21.717Z"
   },
   {
    "duration": 0,
    "start_time": "2023-07-19T08:23:21.719Z"
   },
   {
    "duration": 0,
    "start_time": "2023-07-19T08:23:21.720Z"
   },
   {
    "duration": 0,
    "start_time": "2023-07-19T08:23:21.722Z"
   },
   {
    "duration": 0,
    "start_time": "2023-07-19T08:23:21.723Z"
   },
   {
    "duration": 0,
    "start_time": "2023-07-19T08:23:21.724Z"
   },
   {
    "duration": 0,
    "start_time": "2023-07-19T08:23:21.725Z"
   },
   {
    "duration": 0,
    "start_time": "2023-07-19T08:23:21.726Z"
   },
   {
    "duration": 0,
    "start_time": "2023-07-19T08:23:21.728Z"
   },
   {
    "duration": 0,
    "start_time": "2023-07-19T08:23:21.730Z"
   },
   {
    "duration": 0,
    "start_time": "2023-07-19T08:23:21.731Z"
   },
   {
    "duration": 0,
    "start_time": "2023-07-19T08:23:21.732Z"
   },
   {
    "duration": 0,
    "start_time": "2023-07-19T08:23:21.733Z"
   },
   {
    "duration": 0,
    "start_time": "2023-07-19T08:23:21.735Z"
   },
   {
    "duration": 0,
    "start_time": "2023-07-19T08:23:21.736Z"
   },
   {
    "duration": 0,
    "start_time": "2023-07-19T08:23:21.737Z"
   },
   {
    "duration": 0,
    "start_time": "2023-07-19T08:23:21.739Z"
   },
   {
    "duration": 0,
    "start_time": "2023-07-19T08:23:21.740Z"
   },
   {
    "duration": 0,
    "start_time": "2023-07-19T08:23:21.741Z"
   },
   {
    "duration": 0,
    "start_time": "2023-07-19T08:23:21.743Z"
   },
   {
    "duration": 0,
    "start_time": "2023-07-19T08:23:21.744Z"
   },
   {
    "duration": 0,
    "start_time": "2023-07-19T08:23:21.745Z"
   },
   {
    "duration": 0,
    "start_time": "2023-07-19T08:23:21.746Z"
   },
   {
    "duration": 0,
    "start_time": "2023-07-19T08:23:21.807Z"
   },
   {
    "duration": 0,
    "start_time": "2023-07-19T08:23:21.808Z"
   },
   {
    "duration": 0,
    "start_time": "2023-07-19T08:23:21.809Z"
   },
   {
    "duration": 0,
    "start_time": "2023-07-19T08:23:21.811Z"
   },
   {
    "duration": 0,
    "start_time": "2023-07-19T08:23:21.812Z"
   },
   {
    "duration": 0,
    "start_time": "2023-07-19T08:23:21.813Z"
   },
   {
    "duration": 0,
    "start_time": "2023-07-19T08:23:21.815Z"
   },
   {
    "duration": 0,
    "start_time": "2023-07-19T08:23:21.816Z"
   },
   {
    "duration": 9,
    "start_time": "2023-07-19T08:23:59.914Z"
   },
   {
    "duration": 5455,
    "start_time": "2023-07-19T08:25:54.554Z"
   },
   {
    "duration": 26,
    "start_time": "2023-07-19T08:26:06.294Z"
   },
   {
    "duration": 1156,
    "start_time": "2023-07-19T08:26:43.031Z"
   },
   {
    "duration": 131,
    "start_time": "2023-07-19T08:26:44.189Z"
   },
   {
    "duration": 16,
    "start_time": "2023-07-19T08:26:44.321Z"
   },
   {
    "duration": 12,
    "start_time": "2023-07-19T08:26:44.339Z"
   },
   {
    "duration": 5,
    "start_time": "2023-07-19T08:26:44.352Z"
   },
   {
    "duration": 7,
    "start_time": "2023-07-19T08:26:44.358Z"
   },
   {
    "duration": 18,
    "start_time": "2023-07-19T08:26:44.366Z"
   },
   {
    "duration": 29,
    "start_time": "2023-07-19T08:26:44.385Z"
   },
   {
    "duration": 3,
    "start_time": "2023-07-19T08:26:44.415Z"
   },
   {
    "duration": 11,
    "start_time": "2023-07-19T08:26:44.421Z"
   },
   {
    "duration": 11,
    "start_time": "2023-07-19T08:26:44.433Z"
   },
   {
    "duration": 14,
    "start_time": "2023-07-19T08:26:44.445Z"
   },
   {
    "duration": 28,
    "start_time": "2023-07-19T08:26:44.460Z"
   },
   {
    "duration": 141,
    "start_time": "2023-07-19T08:26:44.489Z"
   },
   {
    "duration": 0,
    "start_time": "2023-07-19T08:26:44.633Z"
   },
   {
    "duration": 0,
    "start_time": "2023-07-19T08:26:44.634Z"
   },
   {
    "duration": 0,
    "start_time": "2023-07-19T08:26:44.634Z"
   },
   {
    "duration": 0,
    "start_time": "2023-07-19T08:26:44.635Z"
   },
   {
    "duration": 0,
    "start_time": "2023-07-19T08:26:44.636Z"
   },
   {
    "duration": 0,
    "start_time": "2023-07-19T08:26:44.637Z"
   },
   {
    "duration": 0,
    "start_time": "2023-07-19T08:26:44.638Z"
   },
   {
    "duration": 0,
    "start_time": "2023-07-19T08:26:44.639Z"
   },
   {
    "duration": 1,
    "start_time": "2023-07-19T08:26:44.639Z"
   },
   {
    "duration": 0,
    "start_time": "2023-07-19T08:26:44.640Z"
   },
   {
    "duration": 0,
    "start_time": "2023-07-19T08:26:44.641Z"
   },
   {
    "duration": 0,
    "start_time": "2023-07-19T08:26:44.642Z"
   },
   {
    "duration": 0,
    "start_time": "2023-07-19T08:26:44.643Z"
   },
   {
    "duration": 0,
    "start_time": "2023-07-19T08:26:44.644Z"
   },
   {
    "duration": 0,
    "start_time": "2023-07-19T08:26:44.645Z"
   },
   {
    "duration": 0,
    "start_time": "2023-07-19T08:26:44.646Z"
   },
   {
    "duration": 0,
    "start_time": "2023-07-19T08:26:44.647Z"
   },
   {
    "duration": 0,
    "start_time": "2023-07-19T08:26:44.647Z"
   },
   {
    "duration": 0,
    "start_time": "2023-07-19T08:26:44.648Z"
   },
   {
    "duration": 0,
    "start_time": "2023-07-19T08:26:44.649Z"
   },
   {
    "duration": 0,
    "start_time": "2023-07-19T08:26:44.650Z"
   },
   {
    "duration": 0,
    "start_time": "2023-07-19T08:26:44.651Z"
   },
   {
    "duration": 0,
    "start_time": "2023-07-19T08:26:44.652Z"
   },
   {
    "duration": 0,
    "start_time": "2023-07-19T08:26:44.653Z"
   },
   {
    "duration": 0,
    "start_time": "2023-07-19T08:26:44.654Z"
   },
   {
    "duration": 0,
    "start_time": "2023-07-19T08:26:44.655Z"
   },
   {
    "duration": 0,
    "start_time": "2023-07-19T08:26:44.656Z"
   },
   {
    "duration": 0,
    "start_time": "2023-07-19T08:26:44.657Z"
   },
   {
    "duration": 0,
    "start_time": "2023-07-19T08:26:44.657Z"
   },
   {
    "duration": 0,
    "start_time": "2023-07-19T08:26:44.658Z"
   },
   {
    "duration": 0,
    "start_time": "2023-07-19T08:26:44.659Z"
   },
   {
    "duration": 0,
    "start_time": "2023-07-19T08:26:44.660Z"
   },
   {
    "duration": 0,
    "start_time": "2023-07-19T08:26:44.661Z"
   },
   {
    "duration": 0,
    "start_time": "2023-07-19T08:26:44.662Z"
   },
   {
    "duration": 0,
    "start_time": "2023-07-19T08:26:44.662Z"
   },
   {
    "duration": 0,
    "start_time": "2023-07-19T08:26:44.663Z"
   },
   {
    "duration": 0,
    "start_time": "2023-07-19T08:26:44.664Z"
   },
   {
    "duration": 0,
    "start_time": "2023-07-19T08:26:44.665Z"
   },
   {
    "duration": 0,
    "start_time": "2023-07-19T08:26:44.666Z"
   },
   {
    "duration": 0,
    "start_time": "2023-07-19T08:26:44.667Z"
   },
   {
    "duration": 1,
    "start_time": "2023-07-19T08:26:44.667Z"
   },
   {
    "duration": 0,
    "start_time": "2023-07-19T08:26:44.669Z"
   },
   {
    "duration": 0,
    "start_time": "2023-07-19T08:26:44.670Z"
   },
   {
    "duration": 0,
    "start_time": "2023-07-19T08:26:44.708Z"
   },
   {
    "duration": 0,
    "start_time": "2023-07-19T08:26:44.709Z"
   },
   {
    "duration": 0,
    "start_time": "2023-07-19T08:26:44.710Z"
   },
   {
    "duration": 0,
    "start_time": "2023-07-19T08:26:44.711Z"
   },
   {
    "duration": 0,
    "start_time": "2023-07-19T08:26:44.712Z"
   },
   {
    "duration": 0,
    "start_time": "2023-07-19T08:26:44.713Z"
   },
   {
    "duration": 0,
    "start_time": "2023-07-19T08:26:44.714Z"
   },
   {
    "duration": 0,
    "start_time": "2023-07-19T08:26:44.715Z"
   },
   {
    "duration": 0,
    "start_time": "2023-07-19T08:26:44.715Z"
   },
   {
    "duration": 0,
    "start_time": "2023-07-19T08:26:44.716Z"
   },
   {
    "duration": 0,
    "start_time": "2023-07-19T08:26:44.717Z"
   },
   {
    "duration": 0,
    "start_time": "2023-07-19T08:26:44.718Z"
   },
   {
    "duration": 0,
    "start_time": "2023-07-19T08:26:44.719Z"
   },
   {
    "duration": 0,
    "start_time": "2023-07-19T08:26:44.720Z"
   },
   {
    "duration": 0,
    "start_time": "2023-07-19T08:26:44.721Z"
   },
   {
    "duration": 0,
    "start_time": "2023-07-19T08:26:44.722Z"
   },
   {
    "duration": 0,
    "start_time": "2023-07-19T08:26:44.722Z"
   },
   {
    "duration": 0,
    "start_time": "2023-07-19T08:26:44.723Z"
   },
   {
    "duration": 0,
    "start_time": "2023-07-19T08:26:44.724Z"
   },
   {
    "duration": 0,
    "start_time": "2023-07-19T08:26:44.725Z"
   },
   {
    "duration": 0,
    "start_time": "2023-07-19T08:26:44.726Z"
   },
   {
    "duration": 0,
    "start_time": "2023-07-19T08:26:44.727Z"
   },
   {
    "duration": 0,
    "start_time": "2023-07-19T08:26:44.728Z"
   },
   {
    "duration": 0,
    "start_time": "2023-07-19T08:26:44.729Z"
   },
   {
    "duration": 0,
    "start_time": "2023-07-19T08:26:44.730Z"
   },
   {
    "duration": 0,
    "start_time": "2023-07-19T08:26:44.731Z"
   },
   {
    "duration": 0,
    "start_time": "2023-07-19T08:26:44.732Z"
   },
   {
    "duration": 0,
    "start_time": "2023-07-19T08:26:44.733Z"
   },
   {
    "duration": 0,
    "start_time": "2023-07-19T08:26:44.734Z"
   },
   {
    "duration": 0,
    "start_time": "2023-07-19T08:26:44.735Z"
   },
   {
    "duration": 0,
    "start_time": "2023-07-19T08:26:44.736Z"
   },
   {
    "duration": 0,
    "start_time": "2023-07-19T08:26:44.736Z"
   },
   {
    "duration": 0,
    "start_time": "2023-07-19T08:26:44.737Z"
   },
   {
    "duration": 0,
    "start_time": "2023-07-19T08:26:44.738Z"
   },
   {
    "duration": 0,
    "start_time": "2023-07-19T08:26:44.739Z"
   },
   {
    "duration": 0,
    "start_time": "2023-07-19T08:26:44.740Z"
   },
   {
    "duration": 0,
    "start_time": "2023-07-19T08:26:44.740Z"
   },
   {
    "duration": 1128,
    "start_time": "2023-07-19T15:11:24.243Z"
   },
   {
    "duration": 202,
    "start_time": "2023-07-19T15:11:25.372Z"
   },
   {
    "duration": 18,
    "start_time": "2023-07-19T15:11:25.575Z"
   },
   {
    "duration": 13,
    "start_time": "2023-07-19T15:11:25.595Z"
   },
   {
    "duration": 4,
    "start_time": "2023-07-19T15:11:25.610Z"
   },
   {
    "duration": 20,
    "start_time": "2023-07-19T15:11:25.615Z"
   },
   {
    "duration": 17,
    "start_time": "2023-07-19T15:11:25.636Z"
   },
   {
    "duration": 13,
    "start_time": "2023-07-19T15:11:25.654Z"
   },
   {
    "duration": 7,
    "start_time": "2023-07-19T15:11:25.668Z"
   },
   {
    "duration": 22,
    "start_time": "2023-07-19T15:11:25.677Z"
   },
   {
    "duration": 6,
    "start_time": "2023-07-19T15:11:25.700Z"
   },
   {
    "duration": 20,
    "start_time": "2023-07-19T15:11:25.707Z"
   },
   {
    "duration": 32,
    "start_time": "2023-07-19T15:11:25.729Z"
   },
   {
    "duration": 5659,
    "start_time": "2023-07-19T15:11:25.763Z"
   },
   {
    "duration": 33,
    "start_time": "2023-07-19T15:11:31.424Z"
   },
   {
    "duration": 29,
    "start_time": "2023-07-19T15:11:31.459Z"
   },
   {
    "duration": 8607,
    "start_time": "2023-07-19T15:11:31.489Z"
   },
   {
    "duration": 1741,
    "start_time": "2023-07-19T15:11:40.097Z"
   },
   {
    "duration": 368,
    "start_time": "2023-07-19T15:11:41.839Z"
   },
   {
    "duration": 3,
    "start_time": "2023-07-19T15:11:42.209Z"
   },
   {
    "duration": 8,
    "start_time": "2023-07-19T15:11:42.213Z"
   },
   {
    "duration": 8,
    "start_time": "2023-07-19T15:11:42.222Z"
   },
   {
    "duration": 8,
    "start_time": "2023-07-19T15:11:42.231Z"
   },
   {
    "duration": 20,
    "start_time": "2023-07-19T15:11:42.240Z"
   },
   {
    "duration": 5,
    "start_time": "2023-07-19T15:11:42.261Z"
   },
   {
    "duration": 7,
    "start_time": "2023-07-19T15:11:42.267Z"
   },
   {
    "duration": 5,
    "start_time": "2023-07-19T15:11:42.275Z"
   },
   {
    "duration": 151,
    "start_time": "2023-07-19T15:11:42.284Z"
   },
   {
    "duration": 74,
    "start_time": "2023-07-19T15:11:42.437Z"
   },
   {
    "duration": 6,
    "start_time": "2023-07-19T15:11:42.512Z"
   },
   {
    "duration": 29,
    "start_time": "2023-07-19T15:11:42.519Z"
   },
   {
    "duration": 18,
    "start_time": "2023-07-19T15:11:42.550Z"
   },
   {
    "duration": 17,
    "start_time": "2023-07-19T15:11:42.570Z"
   },
   {
    "duration": 22,
    "start_time": "2023-07-19T15:11:42.589Z"
   },
   {
    "duration": 56,
    "start_time": "2023-07-19T15:11:42.613Z"
   },
   {
    "duration": 8,
    "start_time": "2023-07-19T15:11:42.670Z"
   },
   {
    "duration": 42,
    "start_time": "2023-07-19T15:11:42.680Z"
   },
   {
    "duration": 16,
    "start_time": "2023-07-19T15:11:42.723Z"
   },
   {
    "duration": 14,
    "start_time": "2023-07-19T15:11:42.741Z"
   },
   {
    "duration": 12,
    "start_time": "2023-07-19T15:11:42.756Z"
   },
   {
    "duration": 15,
    "start_time": "2023-07-19T15:11:42.769Z"
   },
   {
    "duration": 20,
    "start_time": "2023-07-19T15:11:42.786Z"
   },
   {
    "duration": 6,
    "start_time": "2023-07-19T15:11:42.807Z"
   },
   {
    "duration": 16,
    "start_time": "2023-07-19T15:11:42.814Z"
   },
   {
    "duration": 14,
    "start_time": "2023-07-19T15:11:42.831Z"
   },
   {
    "duration": 579,
    "start_time": "2023-07-19T15:11:42.847Z"
   },
   {
    "duration": 9,
    "start_time": "2023-07-19T15:11:43.427Z"
   },
   {
    "duration": 14,
    "start_time": "2023-07-19T15:11:43.437Z"
   },
   {
    "duration": 285,
    "start_time": "2023-07-19T15:11:43.452Z"
   },
   {
    "duration": 13,
    "start_time": "2023-07-19T15:11:43.739Z"
   },
   {
    "duration": 10,
    "start_time": "2023-07-19T15:11:43.753Z"
   },
   {
    "duration": 11,
    "start_time": "2023-07-19T15:11:43.765Z"
   },
   {
    "duration": 7,
    "start_time": "2023-07-19T15:11:43.777Z"
   },
   {
    "duration": 60,
    "start_time": "2023-07-19T15:11:43.785Z"
   },
   {
    "duration": 25,
    "start_time": "2023-07-19T15:11:43.846Z"
   },
   {
    "duration": 36,
    "start_time": "2023-07-19T15:11:43.873Z"
   },
   {
    "duration": 12,
    "start_time": "2023-07-19T15:11:43.911Z"
   },
   {
    "duration": 142,
    "start_time": "2023-07-19T15:11:43.925Z"
   },
   {
    "duration": 10,
    "start_time": "2023-07-19T15:11:44.068Z"
   },
   {
    "duration": 296,
    "start_time": "2023-07-19T15:11:44.080Z"
   },
   {
    "duration": 5,
    "start_time": "2023-07-19T15:11:44.378Z"
   },
   {
    "duration": 76,
    "start_time": "2023-07-19T15:11:44.384Z"
   },
   {
    "duration": 5,
    "start_time": "2023-07-19T15:11:44.461Z"
   },
   {
    "duration": 15,
    "start_time": "2023-07-19T15:11:44.467Z"
   },
   {
    "duration": 26,
    "start_time": "2023-07-19T15:11:44.484Z"
   },
   {
    "duration": 561,
    "start_time": "2023-07-19T15:11:44.512Z"
   },
   {
    "duration": 17,
    "start_time": "2023-07-19T15:11:45.075Z"
   },
   {
    "duration": 123,
    "start_time": "2023-07-19T15:11:45.106Z"
   },
   {
    "duration": 10,
    "start_time": "2023-07-19T15:11:45.231Z"
   },
   {
    "duration": 164,
    "start_time": "2023-07-19T15:11:45.242Z"
   },
   {
    "duration": 10,
    "start_time": "2023-07-19T15:11:45.408Z"
   },
   {
    "duration": 108,
    "start_time": "2023-07-19T15:11:45.420Z"
   },
   {
    "duration": 9,
    "start_time": "2023-07-19T15:11:45.529Z"
   },
   {
    "duration": 157,
    "start_time": "2023-07-19T15:11:45.539Z"
   },
   {
    "duration": 287,
    "start_time": "2023-07-19T15:11:45.698Z"
   },
   {
    "duration": 70,
    "start_time": "2023-07-19T15:11:45.987Z"
   },
   {
    "duration": 8200,
    "start_time": "2023-07-19T15:11:46.059Z"
   },
   {
    "duration": 51,
    "start_time": "2023-07-19T15:11:54.262Z"
   },
   {
    "duration": 112,
    "start_time": "2023-07-19T15:11:54.315Z"
   },
   {
    "duration": 13,
    "start_time": "2023-07-19T15:11:54.428Z"
   },
   {
    "duration": 66,
    "start_time": "2023-07-19T15:11:54.442Z"
   },
   {
    "duration": 194,
    "start_time": "2023-07-19T15:11:54.513Z"
   },
   {
    "duration": 10,
    "start_time": "2023-07-19T15:11:54.709Z"
   },
   {
    "duration": 8054,
    "start_time": "2023-07-19T15:11:54.720Z"
   },
   {
    "duration": 38,
    "start_time": "2023-07-19T15:12:02.776Z"
   },
   {
    "duration": 135,
    "start_time": "2023-07-19T15:12:02.815Z"
   },
   {
    "duration": 57,
    "start_time": "2023-07-19T15:12:02.952Z"
   },
   {
    "duration": 53,
    "start_time": "2023-07-19T15:12:03.011Z"
   },
   {
    "duration": 191,
    "start_time": "2023-07-19T15:12:03.065Z"
   },
   {
    "duration": 78,
    "start_time": "2023-07-19T15:12:03.258Z"
   },
   {
    "duration": 92,
    "start_time": "2023-07-19T15:12:03.337Z"
   },
   {
    "duration": 9,
    "start_time": "2023-07-19T15:12:03.431Z"
   },
   {
    "duration": 181,
    "start_time": "2023-07-19T15:12:03.442Z"
   },
   {
    "duration": 11,
    "start_time": "2023-07-19T15:12:03.624Z"
   },
   {
    "duration": 175,
    "start_time": "2023-07-19T15:12:03.636Z"
   },
   {
    "duration": 1160,
    "start_time": "2023-07-19T17:27:11.146Z"
   },
   {
    "duration": 153,
    "start_time": "2023-07-19T17:27:12.308Z"
   },
   {
    "duration": 24,
    "start_time": "2023-07-19T17:27:12.463Z"
   },
   {
    "duration": 17,
    "start_time": "2023-07-19T17:27:12.489Z"
   },
   {
    "duration": 5,
    "start_time": "2023-07-19T17:27:12.508Z"
   },
   {
    "duration": 10,
    "start_time": "2023-07-19T17:27:12.515Z"
   },
   {
    "duration": 23,
    "start_time": "2023-07-19T17:27:12.527Z"
   },
   {
    "duration": 33,
    "start_time": "2023-07-19T17:27:12.552Z"
   },
   {
    "duration": 17,
    "start_time": "2023-07-19T17:27:12.587Z"
   },
   {
    "duration": 11,
    "start_time": "2023-07-19T17:27:12.607Z"
   },
   {
    "duration": 13,
    "start_time": "2023-07-19T17:27:12.620Z"
   },
   {
    "duration": 10,
    "start_time": "2023-07-19T17:27:12.635Z"
   },
   {
    "duration": 34,
    "start_time": "2023-07-19T17:27:12.647Z"
   },
   {
    "duration": 1835,
    "start_time": "2023-07-19T17:27:12.682Z"
   },
   {
    "duration": 111,
    "start_time": "2023-07-19T17:27:14.519Z"
   },
   {
    "duration": 7,
    "start_time": "2023-07-19T17:27:14.632Z"
   },
   {
    "duration": 1126,
    "start_time": "2023-07-19T17:28:02.563Z"
   },
   {
    "duration": 116,
    "start_time": "2023-07-19T17:28:03.691Z"
   },
   {
    "duration": 16,
    "start_time": "2023-07-19T17:28:03.809Z"
   },
   {
    "duration": 21,
    "start_time": "2023-07-19T17:28:03.827Z"
   },
   {
    "duration": 6,
    "start_time": "2023-07-19T17:28:03.849Z"
   },
   {
    "duration": 23,
    "start_time": "2023-07-19T17:28:03.856Z"
   },
   {
    "duration": 40,
    "start_time": "2023-07-19T17:28:03.880Z"
   },
   {
    "duration": 19,
    "start_time": "2023-07-19T17:28:03.922Z"
   },
   {
    "duration": 19,
    "start_time": "2023-07-19T17:28:03.943Z"
   },
   {
    "duration": 25,
    "start_time": "2023-07-19T17:28:03.963Z"
   },
   {
    "duration": 17,
    "start_time": "2023-07-19T17:28:03.990Z"
   },
   {
    "duration": 24,
    "start_time": "2023-07-19T17:28:04.009Z"
   },
   {
    "duration": 38,
    "start_time": "2023-07-19T17:28:04.034Z"
   },
   {
    "duration": 1767,
    "start_time": "2023-07-19T17:28:04.075Z"
   },
   {
    "duration": 118,
    "start_time": "2023-07-19T17:28:05.844Z"
   },
   {
    "duration": 7,
    "start_time": "2023-07-19T17:28:05.964Z"
   },
   {
    "duration": 1201,
    "start_time": "2023-07-19T17:28:55.914Z"
   },
   {
    "duration": 106,
    "start_time": "2023-07-19T17:28:57.117Z"
   },
   {
    "duration": 18,
    "start_time": "2023-07-19T17:28:57.224Z"
   },
   {
    "duration": 13,
    "start_time": "2023-07-19T17:28:57.244Z"
   },
   {
    "duration": 4,
    "start_time": "2023-07-19T17:28:57.824Z"
   },
   {
    "duration": 6,
    "start_time": "2023-07-19T17:28:58.040Z"
   },
   {
    "duration": 21,
    "start_time": "2023-07-19T17:28:59.128Z"
   },
   {
    "duration": 14,
    "start_time": "2023-07-19T17:29:00.317Z"
   },
   {
    "duration": 3,
    "start_time": "2023-07-19T17:29:00.856Z"
   },
   {
    "duration": 8,
    "start_time": "2023-07-19T17:29:01.034Z"
   },
   {
    "duration": 6,
    "start_time": "2023-07-19T17:29:01.325Z"
   },
   {
    "duration": 10,
    "start_time": "2023-07-19T17:29:01.507Z"
   },
   {
    "duration": 25,
    "start_time": "2023-07-19T17:29:02.804Z"
   },
   {
    "duration": 1819,
    "start_time": "2023-07-19T17:29:03.609Z"
   },
   {
    "duration": 298,
    "start_time": "2023-07-19T17:29:05.431Z"
   },
   {
    "duration": 8,
    "start_time": "2023-07-19T17:29:05.730Z"
   },
   {
    "duration": 1154,
    "start_time": "2023-07-19T22:46:25.924Z"
   },
   {
    "duration": 197,
    "start_time": "2023-07-19T22:46:27.079Z"
   },
   {
    "duration": 39,
    "start_time": "2023-07-19T22:46:27.278Z"
   },
   {
    "duration": 11,
    "start_time": "2023-07-19T22:46:27.318Z"
   },
   {
    "duration": 3,
    "start_time": "2023-07-19T22:46:27.331Z"
   },
   {
    "duration": 7,
    "start_time": "2023-07-19T22:46:27.335Z"
   },
   {
    "duration": 18,
    "start_time": "2023-07-19T22:46:27.343Z"
   },
   {
    "duration": 20,
    "start_time": "2023-07-19T22:46:27.362Z"
   },
   {
    "duration": 22,
    "start_time": "2023-07-19T22:46:27.384Z"
   },
   {
    "duration": 9,
    "start_time": "2023-07-19T22:46:27.408Z"
   },
   {
    "duration": 12,
    "start_time": "2023-07-19T22:46:27.418Z"
   },
   {
    "duration": 10,
    "start_time": "2023-07-19T22:46:27.431Z"
   },
   {
    "duration": 26,
    "start_time": "2023-07-19T22:46:27.442Z"
   },
   {
    "duration": 149,
    "start_time": "2023-07-19T22:46:27.470Z"
   },
   {
    "duration": 50,
    "start_time": "2023-07-19T22:46:27.621Z"
   },
   {
    "duration": 5,
    "start_time": "2023-07-19T22:46:27.672Z"
   },
   {
    "duration": 14,
    "start_time": "2023-07-19T22:46:27.678Z"
   },
   {
    "duration": 12,
    "start_time": "2023-07-19T22:46:27.706Z"
   },
   {
    "duration": 16,
    "start_time": "2023-07-19T22:46:27.720Z"
   },
   {
    "duration": 5,
    "start_time": "2023-07-19T22:46:27.737Z"
   },
   {
    "duration": 18,
    "start_time": "2023-07-19T22:46:27.743Z"
   },
   {
    "duration": 7,
    "start_time": "2023-07-19T22:46:27.763Z"
   },
   {
    "duration": 48,
    "start_time": "2023-07-19T22:46:27.772Z"
   },
   {
    "duration": 13,
    "start_time": "2023-07-19T22:46:27.821Z"
   },
   {
    "duration": 20,
    "start_time": "2023-07-19T22:46:27.835Z"
   },
   {
    "duration": 57,
    "start_time": "2023-07-19T22:46:27.857Z"
   },
   {
    "duration": 29,
    "start_time": "2023-07-19T22:46:27.915Z"
   },
   {
    "duration": 63,
    "start_time": "2023-07-19T22:46:27.946Z"
   },
   {
    "duration": 7,
    "start_time": "2023-07-19T22:46:28.010Z"
   },
   {
    "duration": 12,
    "start_time": "2023-07-19T22:46:28.019Z"
   },
   {
    "duration": 6,
    "start_time": "2023-07-19T22:46:28.032Z"
   },
   {
    "duration": 695,
    "start_time": "2023-07-19T22:46:28.040Z"
   },
   {
    "duration": 11,
    "start_time": "2023-07-19T22:46:28.736Z"
   },
   {
    "duration": 3,
    "start_time": "2023-07-19T22:46:28.748Z"
   },
   {
    "duration": 407,
    "start_time": "2023-07-19T22:46:28.753Z"
   },
   {
    "duration": 14,
    "start_time": "2023-07-19T22:46:29.162Z"
   },
   {
    "duration": 12,
    "start_time": "2023-07-19T22:46:29.178Z"
   },
   {
    "duration": 20,
    "start_time": "2023-07-19T22:46:29.191Z"
   },
   {
    "duration": 7,
    "start_time": "2023-07-19T22:46:29.213Z"
   },
   {
    "duration": 120,
    "start_time": "2023-07-19T22:46:29.222Z"
   },
   {
    "duration": 134,
    "start_time": "2023-07-19T22:46:29.347Z"
   },
   {
    "duration": 37,
    "start_time": "2023-07-19T22:46:29.483Z"
   },
   {
    "duration": 17,
    "start_time": "2023-07-19T22:46:29.521Z"
   },
   {
    "duration": 146,
    "start_time": "2023-07-19T22:46:29.539Z"
   },
   {
    "duration": 21,
    "start_time": "2023-07-19T22:46:29.687Z"
   },
   {
    "duration": 264,
    "start_time": "2023-07-19T22:46:29.709Z"
   },
   {
    "duration": 5,
    "start_time": "2023-07-19T22:46:29.975Z"
   },
   {
    "duration": 87,
    "start_time": "2023-07-19T22:46:29.982Z"
   },
   {
    "duration": 6,
    "start_time": "2023-07-19T22:46:30.071Z"
   },
   {
    "duration": 30,
    "start_time": "2023-07-19T22:46:30.079Z"
   },
   {
    "duration": 32,
    "start_time": "2023-07-19T22:46:30.111Z"
   },
   {
    "duration": 390,
    "start_time": "2023-07-19T22:46:30.145Z"
   },
   {
    "duration": 26,
    "start_time": "2023-07-19T22:46:30.537Z"
   },
   {
    "duration": 198,
    "start_time": "2023-07-19T22:46:30.565Z"
   },
   {
    "duration": 12,
    "start_time": "2023-07-19T22:46:30.766Z"
   },
   {
    "duration": 279,
    "start_time": "2023-07-19T22:46:30.780Z"
   },
   {
    "duration": 12,
    "start_time": "2023-07-19T22:46:31.061Z"
   },
   {
    "duration": 55,
    "start_time": "2023-07-19T22:46:31.106Z"
   },
   {
    "duration": 51,
    "start_time": "2023-07-19T22:46:31.163Z"
   },
   {
    "duration": 178,
    "start_time": "2023-07-19T22:46:31.216Z"
   },
   {
    "duration": 110,
    "start_time": "2023-07-19T22:46:31.396Z"
   },
   {
    "duration": 78,
    "start_time": "2023-07-19T22:46:31.508Z"
   },
   {
    "duration": 15932,
    "start_time": "2023-07-19T22:46:31.588Z"
   },
   {
    "duration": 16,
    "start_time": "2023-07-19T22:46:47.522Z"
   },
   {
    "duration": 113,
    "start_time": "2023-07-19T22:46:47.606Z"
   },
   {
    "duration": 11,
    "start_time": "2023-07-19T22:46:47.721Z"
   },
   {
    "duration": 9,
    "start_time": "2023-07-19T22:46:47.806Z"
   },
   {
    "duration": 491,
    "start_time": "2023-07-19T22:46:47.817Z"
   },
   {
    "duration": 11,
    "start_time": "2023-07-19T22:46:48.309Z"
   },
   {
    "duration": 1752,
    "start_time": "2023-07-20T15:26:01.389Z"
   },
   {
    "duration": 204,
    "start_time": "2023-07-20T15:26:03.144Z"
   },
   {
    "duration": 23,
    "start_time": "2023-07-20T15:26:03.350Z"
   },
   {
    "duration": 44,
    "start_time": "2023-07-20T15:26:03.375Z"
   },
   {
    "duration": 6,
    "start_time": "2023-07-20T15:26:03.427Z"
   },
   {
    "duration": 16,
    "start_time": "2023-07-20T15:26:03.434Z"
   },
   {
    "duration": 31,
    "start_time": "2023-07-20T15:26:03.452Z"
   },
   {
    "duration": 70,
    "start_time": "2023-07-20T15:26:03.485Z"
   },
   {
    "duration": 43,
    "start_time": "2023-07-20T15:26:03.557Z"
   },
   {
    "duration": 76,
    "start_time": "2023-07-20T15:26:03.603Z"
   },
   {
    "duration": 109,
    "start_time": "2023-07-20T15:26:03.682Z"
   },
   {
    "duration": 170,
    "start_time": "2023-07-20T15:26:03.794Z"
   },
   {
    "duration": 220,
    "start_time": "2023-07-20T15:26:03.967Z"
   },
   {
    "duration": 216,
    "start_time": "2023-07-20T15:26:04.193Z"
   },
   {
    "duration": 76,
    "start_time": "2023-07-20T15:26:04.412Z"
   },
   {
    "duration": 6,
    "start_time": "2023-07-20T15:26:04.491Z"
   },
   {
    "duration": 47,
    "start_time": "2023-07-20T15:26:04.507Z"
   },
   {
    "duration": 44,
    "start_time": "2023-07-20T15:26:04.556Z"
   },
   {
    "duration": 58,
    "start_time": "2023-07-20T15:26:04.602Z"
   },
   {
    "duration": 33,
    "start_time": "2023-07-20T15:26:04.661Z"
   },
   {
    "duration": 79,
    "start_time": "2023-07-20T15:26:04.697Z"
   },
   {
    "duration": 18,
    "start_time": "2023-07-20T15:26:04.779Z"
   },
   {
    "duration": 68,
    "start_time": "2023-07-20T15:26:04.799Z"
   },
   {
    "duration": 65,
    "start_time": "2023-07-20T15:26:04.870Z"
   },
   {
    "duration": 61,
    "start_time": "2023-07-20T15:26:04.937Z"
   },
   {
    "duration": 53,
    "start_time": "2023-07-20T15:26:05.000Z"
   },
   {
    "duration": 72,
    "start_time": "2023-07-20T15:26:05.056Z"
   },
   {
    "duration": 58,
    "start_time": "2023-07-20T15:26:05.131Z"
   },
   {
    "duration": 48,
    "start_time": "2023-07-20T15:26:05.191Z"
   },
   {
    "duration": 38,
    "start_time": "2023-07-20T15:26:05.241Z"
   },
   {
    "duration": 47,
    "start_time": "2023-07-20T15:26:05.282Z"
   },
   {
    "duration": 639,
    "start_time": "2023-07-20T15:26:05.332Z"
   },
   {
    "duration": 17,
    "start_time": "2023-07-20T15:26:05.974Z"
   },
   {
    "duration": 67,
    "start_time": "2023-07-20T15:26:06.009Z"
   },
   {
    "duration": 483,
    "start_time": "2023-07-20T15:26:06.078Z"
   },
   {
    "duration": 17,
    "start_time": "2023-07-20T15:26:06.563Z"
   },
   {
    "duration": 65,
    "start_time": "2023-07-20T15:26:06.582Z"
   },
   {
    "duration": 86,
    "start_time": "2023-07-20T15:26:06.649Z"
   },
   {
    "duration": 52,
    "start_time": "2023-07-20T15:26:06.738Z"
   },
   {
    "duration": 133,
    "start_time": "2023-07-20T15:26:06.793Z"
   },
   {
    "duration": 133,
    "start_time": "2023-07-20T15:26:06.931Z"
   },
   {
    "duration": 63,
    "start_time": "2023-07-20T15:26:07.067Z"
   },
   {
    "duration": 35,
    "start_time": "2023-07-20T15:26:07.132Z"
   },
   {
    "duration": 259,
    "start_time": "2023-07-20T15:26:07.169Z"
   },
   {
    "duration": 16,
    "start_time": "2023-07-20T15:26:07.430Z"
   },
   {
    "duration": 427,
    "start_time": "2023-07-20T15:26:07.448Z"
   },
   {
    "duration": 7,
    "start_time": "2023-07-20T15:26:07.877Z"
   },
   {
    "duration": 148,
    "start_time": "2023-07-20T15:26:07.887Z"
   },
   {
    "duration": 7,
    "start_time": "2023-07-20T15:26:08.038Z"
   },
   {
    "duration": 70,
    "start_time": "2023-07-20T15:26:08.047Z"
   },
   {
    "duration": 72,
    "start_time": "2023-07-20T15:26:08.119Z"
   },
   {
    "duration": 1380,
    "start_time": "2023-07-20T15:26:08.194Z"
   },
   {
    "duration": 48,
    "start_time": "2023-07-20T15:26:09.577Z"
   },
   {
    "duration": 227,
    "start_time": "2023-07-20T15:26:09.627Z"
   },
   {
    "duration": 18,
    "start_time": "2023-07-20T15:26:09.858Z"
   },
   {
    "duration": 366,
    "start_time": "2023-07-20T15:26:09.908Z"
   },
   {
    "duration": 56,
    "start_time": "2023-07-20T15:26:10.276Z"
   },
   {
    "duration": 158,
    "start_time": "2023-07-20T15:26:10.335Z"
   },
   {
    "duration": 17,
    "start_time": "2023-07-20T15:26:10.495Z"
   },
   {
    "duration": 244,
    "start_time": "2023-07-20T15:26:10.515Z"
   },
   {
    "duration": 105,
    "start_time": "2023-07-20T15:26:10.761Z"
   },
   {
    "duration": 120,
    "start_time": "2023-07-20T15:26:10.868Z"
   },
   {
    "duration": 10561,
    "start_time": "2023-07-20T15:26:10.990Z"
   },
   {
    "duration": 69,
    "start_time": "2023-07-20T15:26:21.554Z"
   },
   {
    "duration": 208,
    "start_time": "2023-07-20T15:26:21.625Z"
   },
   {
    "duration": 17,
    "start_time": "2023-07-20T15:26:21.835Z"
   },
   {
    "duration": 68,
    "start_time": "2023-07-20T15:26:21.854Z"
   },
   {
    "duration": 347,
    "start_time": "2023-07-20T15:26:21.927Z"
   },
   {
    "duration": 16,
    "start_time": "2023-07-20T15:26:22.275Z"
   },
   {
    "duration": 10283,
    "start_time": "2023-07-20T15:26:22.294Z"
   },
   {
    "duration": 50,
    "start_time": "2023-07-20T15:26:32.580Z"
   },
   {
    "duration": 276,
    "start_time": "2023-07-20T15:26:32.636Z"
   },
   {
    "duration": 10,
    "start_time": "2023-07-20T15:26:32.914Z"
   },
   {
    "duration": 41,
    "start_time": "2023-07-20T15:26:32.926Z"
   },
   {
    "duration": 374,
    "start_time": "2023-07-20T15:26:32.969Z"
   },
   {
    "duration": 142,
    "start_time": "2023-07-20T15:26:33.346Z"
   },
   {
    "duration": 147,
    "start_time": "2023-07-20T15:26:33.490Z"
   },
   {
    "duration": 17,
    "start_time": "2023-07-20T15:26:33.640Z"
   },
   {
    "duration": 222,
    "start_time": "2023-07-20T15:26:33.659Z"
   },
   {
    "duration": 39,
    "start_time": "2023-07-20T15:26:33.884Z"
   },
   {
    "duration": 231,
    "start_time": "2023-07-20T15:26:33.926Z"
   },
   {
    "duration": 6,
    "start_time": "2023-07-20T15:34:52.665Z"
   },
   {
    "duration": 7,
    "start_time": "2023-07-20T15:35:07.072Z"
   },
   {
    "duration": 1470,
    "start_time": "2023-07-20T15:35:17.934Z"
   },
   {
    "duration": 183,
    "start_time": "2023-07-20T15:35:19.407Z"
   },
   {
    "duration": 26,
    "start_time": "2023-07-20T15:35:19.592Z"
   },
   {
    "duration": 34,
    "start_time": "2023-07-20T15:35:19.621Z"
   },
   {
    "duration": 25,
    "start_time": "2023-07-20T15:35:19.657Z"
   },
   {
    "duration": 42,
    "start_time": "2023-07-20T15:35:19.684Z"
   },
   {
    "duration": 51,
    "start_time": "2023-07-20T15:35:19.727Z"
   },
   {
    "duration": 26,
    "start_time": "2023-07-20T15:35:19.780Z"
   },
   {
    "duration": 15,
    "start_time": "2023-07-20T15:35:19.807Z"
   },
   {
    "duration": 26,
    "start_time": "2023-07-20T15:35:19.825Z"
   },
   {
    "duration": 11,
    "start_time": "2023-07-20T15:35:19.853Z"
   },
   {
    "duration": 53,
    "start_time": "2023-07-20T15:35:19.866Z"
   },
   {
    "duration": 66,
    "start_time": "2023-07-20T15:35:19.925Z"
   },
   {
    "duration": 196,
    "start_time": "2023-07-20T15:35:19.993Z"
   },
   {
    "duration": 76,
    "start_time": "2023-07-20T15:35:20.191Z"
   },
   {
    "duration": 84,
    "start_time": "2023-07-20T15:35:20.269Z"
   },
   {
    "duration": 34,
    "start_time": "2023-07-20T15:35:20.355Z"
   },
   {
    "duration": 77,
    "start_time": "2023-07-20T15:35:20.391Z"
   },
   {
    "duration": 68,
    "start_time": "2023-07-20T15:35:20.470Z"
   },
   {
    "duration": 29,
    "start_time": "2023-07-20T15:35:20.541Z"
   },
   {
    "duration": 57,
    "start_time": "2023-07-20T15:35:20.571Z"
   },
   {
    "duration": 32,
    "start_time": "2023-07-20T15:35:20.630Z"
   },
   {
    "duration": 62,
    "start_time": "2023-07-20T15:35:20.664Z"
   },
   {
    "duration": 18,
    "start_time": "2023-07-20T15:35:20.728Z"
   },
   {
    "duration": 74,
    "start_time": "2023-07-20T15:35:20.749Z"
   },
   {
    "duration": 45,
    "start_time": "2023-07-20T15:35:20.825Z"
   },
   {
    "duration": 42,
    "start_time": "2023-07-20T15:35:20.871Z"
   },
   {
    "duration": 35,
    "start_time": "2023-07-20T15:35:20.919Z"
   },
   {
    "duration": 21,
    "start_time": "2023-07-20T15:35:20.956Z"
   },
   {
    "duration": 14,
    "start_time": "2023-07-20T15:35:20.979Z"
   },
   {
    "duration": 28,
    "start_time": "2023-07-20T15:35:20.995Z"
   },
   {
    "duration": 534,
    "start_time": "2023-07-20T15:35:21.025Z"
   },
   {
    "duration": 13,
    "start_time": "2023-07-20T15:35:21.561Z"
   },
   {
    "duration": 20,
    "start_time": "2023-07-20T15:35:21.576Z"
   },
   {
    "duration": 382,
    "start_time": "2023-07-20T15:35:21.598Z"
   },
   {
    "duration": 42,
    "start_time": "2023-07-20T15:35:21.982Z"
   },
   {
    "duration": 39,
    "start_time": "2023-07-20T15:35:22.029Z"
   },
   {
    "duration": 49,
    "start_time": "2023-07-20T15:35:22.070Z"
   },
   {
    "duration": 49,
    "start_time": "2023-07-20T15:35:22.121Z"
   },
   {
    "duration": 84,
    "start_time": "2023-07-20T15:35:22.172Z"
   },
   {
    "duration": 133,
    "start_time": "2023-07-20T15:35:22.258Z"
   },
   {
    "duration": 65,
    "start_time": "2023-07-20T15:35:22.393Z"
   },
   {
    "duration": 22,
    "start_time": "2023-07-20T15:35:22.460Z"
   },
   {
    "duration": 59,
    "start_time": "2023-07-20T15:35:22.484Z"
   },
   {
    "duration": 170,
    "start_time": "2023-07-20T15:35:22.544Z"
   },
   {
    "duration": 17,
    "start_time": "2023-07-20T15:35:22.716Z"
   },
   {
    "duration": 347,
    "start_time": "2023-07-20T15:35:22.735Z"
   },
   {
    "duration": 8,
    "start_time": "2023-07-20T15:35:23.084Z"
   },
   {
    "duration": 104,
    "start_time": "2023-07-20T15:35:23.110Z"
   },
   {
    "duration": 7,
    "start_time": "2023-07-20T15:35:23.223Z"
   },
   {
    "duration": 87,
    "start_time": "2023-07-20T15:35:23.232Z"
   },
   {
    "duration": 34,
    "start_time": "2023-07-20T15:35:23.323Z"
   },
   {
    "duration": 478,
    "start_time": "2023-07-20T15:35:23.359Z"
   },
   {
    "duration": 24,
    "start_time": "2023-07-20T15:35:23.839Z"
   },
   {
    "duration": 216,
    "start_time": "2023-07-20T15:35:23.865Z"
   },
   {
    "duration": 39,
    "start_time": "2023-07-20T15:35:24.085Z"
   },
   {
    "duration": 314,
    "start_time": "2023-07-20T15:35:24.126Z"
   },
   {
    "duration": 17,
    "start_time": "2023-07-20T15:35:24.442Z"
   },
   {
    "duration": 158,
    "start_time": "2023-07-20T15:35:24.461Z"
   },
   {
    "duration": 61,
    "start_time": "2023-07-20T15:35:24.623Z"
   },
   {
    "duration": 289,
    "start_time": "2023-07-20T15:35:24.687Z"
   },
   {
    "duration": 104,
    "start_time": "2023-07-20T15:35:24.978Z"
   },
   {
    "duration": 101,
    "start_time": "2023-07-20T15:35:25.084Z"
   },
   {
    "duration": 11332,
    "start_time": "2023-07-20T15:35:25.188Z"
   },
   {
    "duration": 26,
    "start_time": "2023-07-20T15:35:36.522Z"
   },
   {
    "duration": 190,
    "start_time": "2023-07-20T15:35:36.550Z"
   },
   {
    "duration": 17,
    "start_time": "2023-07-20T15:35:36.742Z"
   },
   {
    "duration": 25,
    "start_time": "2023-07-20T15:35:36.762Z"
   },
   {
    "duration": 249,
    "start_time": "2023-07-20T15:35:36.789Z"
   },
   {
    "duration": 15,
    "start_time": "2023-07-20T15:35:37.040Z"
   },
   {
    "duration": 10614,
    "start_time": "2023-07-20T15:35:37.056Z"
   },
   {
    "duration": 56,
    "start_time": "2023-07-20T15:35:47.673Z"
   },
   {
    "duration": 291,
    "start_time": "2023-07-20T15:35:47.735Z"
   },
   {
    "duration": 10,
    "start_time": "2023-07-20T15:35:48.033Z"
   },
   {
    "duration": 79,
    "start_time": "2023-07-20T15:35:48.048Z"
   },
   {
    "duration": 287,
    "start_time": "2023-07-20T15:35:48.130Z"
   },
   {
    "duration": 108,
    "start_time": "2023-07-20T15:35:48.419Z"
   },
   {
    "duration": 125,
    "start_time": "2023-07-20T15:35:48.532Z"
   },
   {
    "duration": 57,
    "start_time": "2023-07-20T15:35:48.659Z"
   },
   {
    "duration": 218,
    "start_time": "2023-07-20T15:35:48.718Z"
   },
   {
    "duration": 18,
    "start_time": "2023-07-20T15:35:48.938Z"
   },
   {
    "duration": 211,
    "start_time": "2023-07-20T15:35:48.962Z"
   },
   {
    "duration": 1394,
    "start_time": "2023-07-20T18:15:56.884Z"
   },
   {
    "duration": 289,
    "start_time": "2023-07-20T18:15:58.280Z"
   },
   {
    "duration": 19,
    "start_time": "2023-07-20T18:15:58.571Z"
   },
   {
    "duration": 23,
    "start_time": "2023-07-20T18:15:58.592Z"
   },
   {
    "duration": 15,
    "start_time": "2023-07-20T18:15:58.616Z"
   },
   {
    "duration": 9,
    "start_time": "2023-07-20T18:15:58.633Z"
   },
   {
    "duration": 28,
    "start_time": "2023-07-20T18:15:58.643Z"
   },
   {
    "duration": 17,
    "start_time": "2023-07-20T18:15:58.673Z"
   },
   {
    "duration": 14,
    "start_time": "2023-07-20T18:15:58.692Z"
   },
   {
    "duration": 9,
    "start_time": "2023-07-20T18:15:58.709Z"
   },
   {
    "duration": 19,
    "start_time": "2023-07-20T18:15:58.720Z"
   },
   {
    "duration": 15,
    "start_time": "2023-07-20T18:15:58.740Z"
   },
   {
    "duration": 47,
    "start_time": "2023-07-20T18:15:58.756Z"
   },
   {
    "duration": 149,
    "start_time": "2023-07-20T18:15:58.805Z"
   },
   {
    "duration": 70,
    "start_time": "2023-07-20T18:15:58.956Z"
   },
   {
    "duration": 5,
    "start_time": "2023-07-20T18:15:59.027Z"
   },
   {
    "duration": 17,
    "start_time": "2023-07-20T18:15:59.033Z"
   },
   {
    "duration": 29,
    "start_time": "2023-07-20T18:15:59.052Z"
   },
   {
    "duration": 29,
    "start_time": "2023-07-20T18:15:59.083Z"
   },
   {
    "duration": 14,
    "start_time": "2023-07-20T18:15:59.114Z"
   },
   {
    "duration": 19,
    "start_time": "2023-07-20T18:15:59.129Z"
   },
   {
    "duration": 10,
    "start_time": "2023-07-20T18:15:59.149Z"
   },
   {
    "duration": 26,
    "start_time": "2023-07-20T18:15:59.160Z"
   },
   {
    "duration": 25,
    "start_time": "2023-07-20T18:15:59.188Z"
   },
   {
    "duration": 18,
    "start_time": "2023-07-20T18:15:59.215Z"
   },
   {
    "duration": 25,
    "start_time": "2023-07-20T18:15:59.234Z"
   },
   {
    "duration": 19,
    "start_time": "2023-07-20T18:15:59.260Z"
   },
   {
    "duration": 21,
    "start_time": "2023-07-20T18:15:59.283Z"
   },
   {
    "duration": 61,
    "start_time": "2023-07-20T18:15:59.306Z"
   },
   {
    "duration": 41,
    "start_time": "2023-07-20T18:15:59.369Z"
   },
   {
    "duration": 13,
    "start_time": "2023-07-20T18:15:59.412Z"
   },
   {
    "duration": 483,
    "start_time": "2023-07-20T18:15:59.427Z"
   },
   {
    "duration": 10,
    "start_time": "2023-07-20T18:15:59.911Z"
   },
   {
    "duration": 4,
    "start_time": "2023-07-20T18:15:59.923Z"
   },
   {
    "duration": 300,
    "start_time": "2023-07-20T18:15:59.930Z"
   },
   {
    "duration": 13,
    "start_time": "2023-07-20T18:16:00.232Z"
   },
   {
    "duration": 54,
    "start_time": "2023-07-20T18:16:00.247Z"
   },
   {
    "duration": 29,
    "start_time": "2023-07-20T18:16:00.303Z"
   },
   {
    "duration": 51,
    "start_time": "2023-07-20T18:16:00.333Z"
   },
   {
    "duration": 74,
    "start_time": "2023-07-20T18:16:00.385Z"
   },
   {
    "duration": 91,
    "start_time": "2023-07-20T18:16:00.461Z"
   },
   {
    "duration": 72,
    "start_time": "2023-07-20T18:16:00.554Z"
   },
   {
    "duration": 50,
    "start_time": "2023-07-20T18:16:00.628Z"
   },
   {
    "duration": 180,
    "start_time": "2023-07-20T18:16:00.680Z"
   },
   {
    "duration": 15,
    "start_time": "2023-07-20T18:16:00.862Z"
   },
   {
    "duration": 395,
    "start_time": "2023-07-20T18:16:00.879Z"
   },
   {
    "duration": 4,
    "start_time": "2023-07-20T18:16:01.276Z"
   },
   {
    "duration": 114,
    "start_time": "2023-07-20T18:16:01.282Z"
   },
   {
    "duration": 5,
    "start_time": "2023-07-20T18:16:01.397Z"
   },
   {
    "duration": 101,
    "start_time": "2023-07-20T18:16:01.404Z"
   },
   {
    "duration": 63,
    "start_time": "2023-07-20T18:16:01.506Z"
   },
   {
    "duration": 409,
    "start_time": "2023-07-20T18:16:01.571Z"
   },
   {
    "duration": 19,
    "start_time": "2023-07-20T18:16:01.981Z"
   },
   {
    "duration": 139,
    "start_time": "2023-07-20T18:16:02.001Z"
   },
   {
    "duration": 12,
    "start_time": "2023-07-20T18:16:02.142Z"
   },
   {
    "duration": 285,
    "start_time": "2023-07-20T18:16:02.155Z"
   },
   {
    "duration": 14,
    "start_time": "2023-07-20T18:16:02.442Z"
   },
   {
    "duration": 116,
    "start_time": "2023-07-20T18:16:02.458Z"
   },
   {
    "duration": 42,
    "start_time": "2023-07-20T18:16:02.575Z"
   },
   {
    "duration": 181,
    "start_time": "2023-07-20T18:16:02.619Z"
   },
   {
    "duration": 93,
    "start_time": "2023-07-20T18:16:02.802Z"
   },
   {
    "duration": 73,
    "start_time": "2023-07-20T18:16:02.896Z"
   },
   {
    "duration": 7899,
    "start_time": "2023-07-20T18:16:02.971Z"
   },
   {
    "duration": 39,
    "start_time": "2023-07-20T18:16:10.873Z"
   },
   {
    "duration": 108,
    "start_time": "2023-07-20T18:16:10.913Z"
   },
   {
    "duration": 13,
    "start_time": "2023-07-20T18:16:11.022Z"
   },
   {
    "duration": 18,
    "start_time": "2023-07-20T18:16:11.037Z"
   },
   {
    "duration": 175,
    "start_time": "2023-07-20T18:16:11.106Z"
   },
   {
    "duration": 11,
    "start_time": "2023-07-20T18:16:11.283Z"
   },
   {
    "duration": 7679,
    "start_time": "2023-07-20T18:16:11.306Z"
   },
   {
    "duration": 24,
    "start_time": "2023-07-20T18:16:18.988Z"
   },
   {
    "duration": 208,
    "start_time": "2023-07-20T18:16:19.013Z"
   },
   {
    "duration": 6,
    "start_time": "2023-07-20T18:16:19.223Z"
   },
   {
    "duration": 35,
    "start_time": "2023-07-20T18:16:19.231Z"
   },
   {
    "duration": 254,
    "start_time": "2023-07-20T18:16:19.268Z"
   },
   {
    "duration": 86,
    "start_time": "2023-07-20T18:16:19.524Z"
   },
   {
    "duration": 82,
    "start_time": "2023-07-20T18:16:19.612Z"
   },
   {
    "duration": 10,
    "start_time": "2023-07-20T18:16:19.707Z"
   },
   {
    "duration": 143,
    "start_time": "2023-07-20T18:16:19.718Z"
   },
   {
    "duration": 52,
    "start_time": "2023-07-20T18:16:19.863Z"
   },
   {
    "duration": 130,
    "start_time": "2023-07-20T18:16:19.916Z"
   },
   {
    "duration": 35,
    "start_time": "2023-07-20T18:20:22.421Z"
   },
   {
    "duration": 30,
    "start_time": "2023-07-20T18:25:14.379Z"
   },
   {
    "duration": 76,
    "start_time": "2023-07-20T18:25:34.914Z"
   },
   {
    "duration": 33,
    "start_time": "2023-07-20T18:25:51.869Z"
   },
   {
    "duration": 47,
    "start_time": "2023-07-20T18:26:30.269Z"
   },
   {
    "duration": 27,
    "start_time": "2023-07-20T18:27:01.084Z"
   },
   {
    "duration": 40,
    "start_time": "2023-07-20T18:33:47.285Z"
   },
   {
    "duration": 27,
    "start_time": "2023-07-20T18:35:52.824Z"
   },
   {
    "duration": 6,
    "start_time": "2023-07-20T18:36:06.613Z"
   },
   {
    "duration": 25,
    "start_time": "2023-07-20T18:36:14.036Z"
   },
   {
    "duration": 6,
    "start_time": "2023-07-20T18:36:16.209Z"
   },
   {
    "duration": 40,
    "start_time": "2023-07-20T18:36:21.082Z"
   },
   {
    "duration": 9,
    "start_time": "2023-07-20T18:36:23.309Z"
   },
   {
    "duration": 1408,
    "start_time": "2023-07-20T18:37:59.341Z"
   },
   {
    "duration": 116,
    "start_time": "2023-07-20T18:38:00.751Z"
   },
   {
    "duration": 19,
    "start_time": "2023-07-20T18:38:00.869Z"
   },
   {
    "duration": 27,
    "start_time": "2023-07-20T18:38:00.891Z"
   },
   {
    "duration": 41,
    "start_time": "2023-07-20T18:38:00.920Z"
   },
   {
    "duration": 37,
    "start_time": "2023-07-20T18:38:00.964Z"
   },
   {
    "duration": 113,
    "start_time": "2023-07-20T18:38:01.003Z"
   },
   {
    "duration": 133,
    "start_time": "2023-07-20T18:38:01.118Z"
   },
   {
    "duration": 71,
    "start_time": "2023-07-20T18:38:01.253Z"
   },
   {
    "duration": 247,
    "start_time": "2023-07-20T18:38:01.327Z"
   },
   {
    "duration": 83,
    "start_time": "2023-07-20T18:38:01.576Z"
   },
   {
    "duration": 103,
    "start_time": "2023-07-20T18:38:01.660Z"
   },
   {
    "duration": 115,
    "start_time": "2023-07-20T18:38:01.765Z"
   },
   {
    "duration": 163,
    "start_time": "2023-07-20T18:38:01.881Z"
   },
   {
    "duration": 52,
    "start_time": "2023-07-20T18:38:02.046Z"
   },
   {
    "duration": 11,
    "start_time": "2023-07-20T18:38:02.099Z"
   },
   {
    "duration": 46,
    "start_time": "2023-07-20T18:38:02.111Z"
   },
   {
    "duration": 58,
    "start_time": "2023-07-20T18:38:02.158Z"
   },
   {
    "duration": 35,
    "start_time": "2023-07-20T18:38:02.218Z"
   },
   {
    "duration": 26,
    "start_time": "2023-07-20T18:38:02.255Z"
   },
   {
    "duration": 44,
    "start_time": "2023-07-20T18:38:02.283Z"
   },
   {
    "duration": 12,
    "start_time": "2023-07-20T18:38:02.329Z"
   },
   {
    "duration": 43,
    "start_time": "2023-07-20T18:38:02.343Z"
   },
   {
    "duration": 21,
    "start_time": "2023-07-20T18:38:02.388Z"
   },
   {
    "duration": 25,
    "start_time": "2023-07-20T18:38:02.412Z"
   },
   {
    "duration": 23,
    "start_time": "2023-07-20T18:38:02.439Z"
   },
   {
    "duration": 31,
    "start_time": "2023-07-20T18:38:02.464Z"
   },
   {
    "duration": 23,
    "start_time": "2023-07-20T18:38:02.509Z"
   },
   {
    "duration": 21,
    "start_time": "2023-07-20T18:38:02.535Z"
   },
   {
    "duration": 6,
    "start_time": "2023-07-20T18:38:02.558Z"
   },
   {
    "duration": 13,
    "start_time": "2023-07-20T18:38:02.566Z"
   },
   {
    "duration": 446,
    "start_time": "2023-07-20T18:38:02.581Z"
   },
   {
    "duration": 9,
    "start_time": "2023-07-20T18:38:03.029Z"
   },
   {
    "duration": 11,
    "start_time": "2023-07-20T18:38:03.040Z"
   },
   {
    "duration": 271,
    "start_time": "2023-07-20T18:38:03.053Z"
   },
   {
    "duration": 13,
    "start_time": "2023-07-20T18:38:03.326Z"
   },
   {
    "duration": 26,
    "start_time": "2023-07-20T18:38:03.340Z"
   },
   {
    "duration": 33,
    "start_time": "2023-07-20T18:38:03.367Z"
   },
   {
    "duration": 14,
    "start_time": "2023-07-20T18:38:03.402Z"
   },
   {
    "duration": 53,
    "start_time": "2023-07-20T18:38:03.417Z"
   },
   {
    "duration": 102,
    "start_time": "2023-07-20T18:38:03.472Z"
   },
   {
    "duration": 8,
    "start_time": "2023-07-20T18:38:03.575Z"
   },
   {
    "duration": 47,
    "start_time": "2023-07-20T18:38:03.585Z"
   },
   {
    "duration": 27,
    "start_time": "2023-07-20T18:38:03.634Z"
   },
   {
    "duration": 138,
    "start_time": "2023-07-20T18:38:03.662Z"
   },
   {
    "duration": 14,
    "start_time": "2023-07-20T18:38:03.802Z"
   },
   {
    "duration": 3,
    "start_time": "2023-07-20T18:59:40.138Z"
   },
   {
    "duration": 133,
    "start_time": "2023-07-20T18:59:40.142Z"
   },
   {
    "duration": 13,
    "start_time": "2023-07-20T18:59:40.277Z"
   },
   {
    "duration": 43,
    "start_time": "2023-07-20T18:59:40.292Z"
   },
   {
    "duration": 5,
    "start_time": "2023-07-20T18:59:40.337Z"
   },
   {
    "duration": 27,
    "start_time": "2023-07-20T18:59:40.344Z"
   },
   {
    "duration": 23,
    "start_time": "2023-07-20T18:59:40.373Z"
   },
   {
    "duration": 19,
    "start_time": "2023-07-20T18:59:40.397Z"
   },
   {
    "duration": 21,
    "start_time": "2023-07-20T18:59:40.417Z"
   },
   {
    "duration": 13,
    "start_time": "2023-07-20T18:59:40.440Z"
   },
   {
    "duration": 12,
    "start_time": "2023-07-20T18:59:40.456Z"
   },
   {
    "duration": 19,
    "start_time": "2023-07-20T18:59:40.470Z"
   },
   {
    "duration": 43,
    "start_time": "2023-07-20T18:59:40.490Z"
   },
   {
    "duration": 155,
    "start_time": "2023-07-20T18:59:40.534Z"
   },
   {
    "duration": 62,
    "start_time": "2023-07-20T18:59:40.691Z"
   },
   {
    "duration": 4,
    "start_time": "2023-07-20T18:59:40.755Z"
   },
   {
    "duration": 24,
    "start_time": "2023-07-20T18:59:40.761Z"
   },
   {
    "duration": 30,
    "start_time": "2023-07-20T18:59:40.787Z"
   },
   {
    "duration": 20,
    "start_time": "2023-07-20T18:59:40.818Z"
   },
   {
    "duration": 7,
    "start_time": "2023-07-20T18:59:40.840Z"
   },
   {
    "duration": 26,
    "start_time": "2023-07-20T18:59:40.849Z"
   },
   {
    "duration": 35,
    "start_time": "2023-07-20T18:59:40.877Z"
   },
   {
    "duration": 26,
    "start_time": "2023-07-20T18:59:40.914Z"
   },
   {
    "duration": 18,
    "start_time": "2023-07-20T18:59:40.942Z"
   },
   {
    "duration": 15,
    "start_time": "2023-07-20T18:59:40.962Z"
   },
   {
    "duration": 34,
    "start_time": "2023-07-20T18:59:40.979Z"
   },
   {
    "duration": 14,
    "start_time": "2023-07-20T18:59:41.015Z"
   },
   {
    "duration": 18,
    "start_time": "2023-07-20T18:59:41.031Z"
   },
   {
    "duration": 9,
    "start_time": "2023-07-20T18:59:41.055Z"
   },
   {
    "duration": 4,
    "start_time": "2023-07-20T18:59:41.066Z"
   },
   {
    "duration": 5,
    "start_time": "2023-07-20T18:59:41.072Z"
   },
   {
    "duration": 380,
    "start_time": "2023-07-20T18:59:41.078Z"
   },
   {
    "duration": 10,
    "start_time": "2023-07-20T18:59:41.459Z"
   },
   {
    "duration": 4,
    "start_time": "2023-07-20T18:59:41.471Z"
   },
   {
    "duration": 283,
    "start_time": "2023-07-20T18:59:41.476Z"
   },
   {
    "duration": 14,
    "start_time": "2023-07-20T18:59:41.761Z"
   },
   {
    "duration": 5,
    "start_time": "2023-07-20T18:59:41.777Z"
   },
   {
    "duration": 28,
    "start_time": "2023-07-20T18:59:41.785Z"
   },
   {
    "duration": 10,
    "start_time": "2023-07-20T18:59:41.815Z"
   },
   {
    "duration": 16,
    "start_time": "2023-07-20T18:59:41.827Z"
   },
   {
    "duration": 62,
    "start_time": "2023-07-20T18:59:41.845Z"
   },
   {
    "duration": 7,
    "start_time": "2023-07-20T18:59:41.909Z"
   },
   {
    "duration": 33,
    "start_time": "2023-07-20T18:59:41.918Z"
   },
   {
    "duration": 19,
    "start_time": "2023-07-20T18:59:41.953Z"
   },
   {
    "duration": 178,
    "start_time": "2023-07-20T18:59:41.974Z"
   },
   {
    "duration": 11,
    "start_time": "2023-07-20T18:59:42.153Z"
   },
   {
    "duration": 284,
    "start_time": "2023-07-20T18:59:42.166Z"
   },
   {
    "duration": 8,
    "start_time": "2023-07-20T18:59:42.452Z"
   },
   {
    "duration": 105,
    "start_time": "2023-07-20T18:59:42.463Z"
   },
   {
    "duration": 7,
    "start_time": "2023-07-20T18:59:42.570Z"
   },
   {
    "duration": 30,
    "start_time": "2023-07-20T18:59:42.580Z"
   },
   {
    "duration": 26,
    "start_time": "2023-07-20T18:59:42.612Z"
   },
   {
    "duration": 126,
    "start_time": "2023-07-20T18:59:42.642Z"
   },
   {
    "duration": 45,
    "start_time": "2023-07-20T18:59:42.770Z"
   },
   {
    "duration": 139,
    "start_time": "2023-07-20T18:59:42.816Z"
   },
   {
    "duration": 11,
    "start_time": "2023-07-20T18:59:42.957Z"
   },
   {
    "duration": 99,
    "start_time": "2023-07-20T18:59:42.969Z"
   },
   {
    "duration": 47,
    "start_time": "2023-07-20T18:59:43.069Z"
   },
   {
    "duration": 46,
    "start_time": "2023-07-20T18:59:43.118Z"
   },
   {
    "duration": 40,
    "start_time": "2023-07-20T18:59:43.166Z"
   },
   {
    "duration": 4,
    "start_time": "2023-07-20T18:59:43.208Z"
   },
   {
    "duration": 103,
    "start_time": "2023-07-20T18:59:43.213Z"
   },
   {
    "duration": 76,
    "start_time": "2023-07-20T18:59:43.318Z"
   },
   {
    "duration": 7892,
    "start_time": "2023-07-20T18:59:43.396Z"
   },
   {
    "duration": 31,
    "start_time": "2023-07-20T18:59:51.290Z"
   },
   {
    "duration": 107,
    "start_time": "2023-07-20T18:59:51.322Z"
   },
   {
    "duration": 76,
    "start_time": "2023-07-20T18:59:51.431Z"
   },
   {
    "duration": 13,
    "start_time": "2023-07-20T18:59:51.509Z"
   },
   {
    "duration": 262,
    "start_time": "2023-07-20T18:59:51.523Z"
   },
   {
    "duration": 20,
    "start_time": "2023-07-20T18:59:51.787Z"
   },
   {
    "duration": 8739,
    "start_time": "2023-07-20T18:59:51.809Z"
   },
   {
    "duration": 17,
    "start_time": "2023-07-20T19:00:00.551Z"
   },
   {
    "duration": 262,
    "start_time": "2023-07-20T19:00:00.570Z"
   },
   {
    "duration": 6,
    "start_time": "2023-07-20T19:00:00.834Z"
   },
   {
    "duration": 154,
    "start_time": "2023-07-20T19:00:00.841Z"
   },
   {
    "duration": 412,
    "start_time": "2023-07-20T19:00:00.997Z"
   },
   {
    "duration": 117,
    "start_time": "2023-07-20T19:00:01.411Z"
   },
   {
    "duration": 95,
    "start_time": "2023-07-20T19:00:01.530Z"
   },
   {
    "duration": 12,
    "start_time": "2023-07-20T19:00:01.627Z"
   },
   {
    "duration": 214,
    "start_time": "2023-07-20T19:00:01.641Z"
   },
   {
    "duration": 11,
    "start_time": "2023-07-20T19:00:01.857Z"
   },
   {
    "duration": 137,
    "start_time": "2023-07-20T19:00:01.870Z"
   },
   {
    "duration": 17,
    "start_time": "2023-07-20T19:01:26.239Z"
   },
   {
    "duration": 28,
    "start_time": "2023-07-20T19:02:50.041Z"
   },
   {
    "duration": 121,
    "start_time": "2023-07-20T19:03:31.569Z"
   },
   {
    "duration": 19,
    "start_time": "2023-07-20T19:05:33.989Z"
   },
   {
    "duration": 14,
    "start_time": "2023-07-20T19:09:14.300Z"
   },
   {
    "duration": 9,
    "start_time": "2023-07-20T19:10:50.860Z"
   },
   {
    "duration": 19,
    "start_time": "2023-07-20T19:10:58.196Z"
   },
   {
    "duration": 9,
    "start_time": "2023-07-20T19:11:09.408Z"
   },
   {
    "duration": 24,
    "start_time": "2023-07-20T19:13:07.682Z"
   },
   {
    "duration": 12,
    "start_time": "2023-07-20T19:15:16.677Z"
   },
   {
    "duration": 30,
    "start_time": "2023-07-20T19:15:20.203Z"
   },
   {
    "duration": 16,
    "start_time": "2023-07-20T19:15:40.242Z"
   },
   {
    "duration": 84,
    "start_time": "2023-07-20T19:15:51.472Z"
   },
   {
    "duration": 68,
    "start_time": "2023-07-20T19:15:57.982Z"
   },
   {
    "duration": 59,
    "start_time": "2023-07-20T19:16:50.364Z"
   },
   {
    "duration": 62,
    "start_time": "2023-07-20T19:17:08.881Z"
   },
   {
    "duration": 60,
    "start_time": "2023-07-20T19:18:01.649Z"
   },
   {
    "duration": 23,
    "start_time": "2023-07-20T19:18:20.115Z"
   },
   {
    "duration": 20,
    "start_time": "2023-07-20T19:18:27.734Z"
   },
   {
    "duration": 23,
    "start_time": "2023-07-20T19:19:26.026Z"
   },
   {
    "duration": 106,
    "start_time": "2023-07-20T19:19:31.121Z"
   },
   {
    "duration": 70,
    "start_time": "2023-07-20T19:19:55.677Z"
   },
   {
    "duration": 24,
    "start_time": "2023-07-20T19:20:02.044Z"
   },
   {
    "duration": 20,
    "start_time": "2023-07-20T19:20:08.002Z"
   },
   {
    "duration": 79,
    "start_time": "2023-07-20T19:24:12.619Z"
   },
   {
    "duration": 63,
    "start_time": "2023-07-20T19:24:29.192Z"
   },
   {
    "duration": 11,
    "start_time": "2023-07-20T19:26:01.001Z"
   },
   {
    "duration": 4,
    "start_time": "2023-07-20T19:32:36.902Z"
   },
   {
    "duration": 7,
    "start_time": "2023-07-20T19:32:39.994Z"
   },
   {
    "duration": 7,
    "start_time": "2023-07-20T19:32:51.742Z"
   },
   {
    "duration": 7,
    "start_time": "2023-07-20T19:37:05.071Z"
   },
   {
    "duration": 6,
    "start_time": "2023-07-20T19:37:11.072Z"
   },
   {
    "duration": 9,
    "start_time": "2023-07-20T19:42:52.187Z"
   },
   {
    "duration": 8,
    "start_time": "2023-07-20T20:06:22.534Z"
   },
   {
    "duration": 10,
    "start_time": "2023-07-20T20:06:34.451Z"
   },
   {
    "duration": 12,
    "start_time": "2023-07-20T20:11:56.079Z"
   },
   {
    "duration": 86,
    "start_time": "2023-07-20T20:12:24.568Z"
   },
   {
    "duration": 85,
    "start_time": "2023-07-20T20:12:37.541Z"
   },
   {
    "duration": 10,
    "start_time": "2023-07-20T20:13:51.067Z"
   },
   {
    "duration": 17,
    "start_time": "2023-07-20T20:16:40.056Z"
   },
   {
    "duration": 19,
    "start_time": "2023-07-20T20:16:58.125Z"
   },
   {
    "duration": 17,
    "start_time": "2023-07-20T20:17:26.313Z"
   },
   {
    "duration": 13,
    "start_time": "2023-07-20T20:17:31.508Z"
   },
   {
    "duration": 13,
    "start_time": "2023-07-20T20:17:46.573Z"
   },
   {
    "duration": 11,
    "start_time": "2023-07-20T20:19:57.764Z"
   },
   {
    "duration": 16,
    "start_time": "2023-07-20T20:21:07.258Z"
   },
   {
    "duration": 16,
    "start_time": "2023-07-20T20:21:35.466Z"
   },
   {
    "duration": 12,
    "start_time": "2023-07-20T20:22:52.324Z"
   },
   {
    "duration": 12,
    "start_time": "2023-07-20T20:23:25.380Z"
   },
   {
    "duration": 7,
    "start_time": "2023-07-20T20:24:45.947Z"
   },
   {
    "duration": 12,
    "start_time": "2023-07-20T20:24:50.400Z"
   },
   {
    "duration": 7,
    "start_time": "2023-07-20T20:25:52.185Z"
   },
   {
    "duration": 7,
    "start_time": "2023-07-20T20:27:59.581Z"
   },
   {
    "duration": 11,
    "start_time": "2023-07-20T20:28:19.412Z"
   },
   {
    "duration": 16,
    "start_time": "2023-07-20T20:32:11.458Z"
   },
   {
    "duration": 16,
    "start_time": "2023-07-20T20:33:00.124Z"
   },
   {
    "duration": 18,
    "start_time": "2023-07-20T20:33:40.816Z"
   },
   {
    "duration": 89,
    "start_time": "2023-07-20T20:34:51.181Z"
   },
   {
    "duration": 4,
    "start_time": "2023-07-20T20:36:34.809Z"
   },
   {
    "duration": 11,
    "start_time": "2023-07-20T20:40:08.706Z"
   },
   {
    "duration": 82,
    "start_time": "2023-07-20T20:50:10.053Z"
   },
   {
    "duration": 81,
    "start_time": "2023-07-20T20:50:20.257Z"
   },
   {
    "duration": 10,
    "start_time": "2023-07-20T20:51:32.040Z"
   },
   {
    "duration": 7,
    "start_time": "2023-07-20T20:53:16.140Z"
   },
   {
    "duration": 13,
    "start_time": "2023-07-20T20:53:48.680Z"
   },
   {
    "duration": 10,
    "start_time": "2023-07-20T20:55:40.324Z"
   },
   {
    "duration": 8,
    "start_time": "2023-07-20T20:56:00.612Z"
   },
   {
    "duration": 7,
    "start_time": "2023-07-20T20:56:57.161Z"
   },
   {
    "duration": 14,
    "start_time": "2023-07-20T20:57:32.296Z"
   },
   {
    "duration": 10,
    "start_time": "2023-07-20T20:58:06.850Z"
   },
   {
    "duration": 4,
    "start_time": "2023-07-20T20:58:42.847Z"
   },
   {
    "duration": 8,
    "start_time": "2023-07-20T20:58:45.870Z"
   },
   {
    "duration": 10,
    "start_time": "2023-07-20T20:59:55.938Z"
   },
   {
    "duration": 113,
    "start_time": "2023-07-20T21:02:12.356Z"
   },
   {
    "duration": 30,
    "start_time": "2023-07-20T21:02:42.718Z"
   },
   {
    "duration": 11,
    "start_time": "2023-07-20T21:02:58.910Z"
   },
   {
    "duration": 7,
    "start_time": "2023-07-20T21:03:11.669Z"
   },
   {
    "duration": 21,
    "start_time": "2023-07-20T21:03:36.918Z"
   },
   {
    "duration": 11,
    "start_time": "2023-07-20T21:03:48.274Z"
   },
   {
    "duration": 20,
    "start_time": "2023-07-20T21:03:59.931Z"
   },
   {
    "duration": 18,
    "start_time": "2023-07-20T21:04:08.535Z"
   },
   {
    "duration": 15,
    "start_time": "2023-07-20T21:04:49.625Z"
   },
   {
    "duration": 98,
    "start_time": "2023-07-20T21:05:10.508Z"
   },
   {
    "duration": 86,
    "start_time": "2023-07-20T21:05:24.443Z"
   },
   {
    "duration": 1194,
    "start_time": "2023-07-20T21:07:52.769Z"
   },
   {
    "duration": 111,
    "start_time": "2023-07-20T21:07:53.965Z"
   },
   {
    "duration": 17,
    "start_time": "2023-07-20T21:07:54.077Z"
   },
   {
    "duration": 13,
    "start_time": "2023-07-20T21:07:54.096Z"
   },
   {
    "duration": 4,
    "start_time": "2023-07-20T21:07:54.111Z"
   },
   {
    "duration": 8,
    "start_time": "2023-07-20T21:07:54.117Z"
   },
   {
    "duration": 21,
    "start_time": "2023-07-20T21:07:54.127Z"
   },
   {
    "duration": 17,
    "start_time": "2023-07-20T21:07:54.150Z"
   },
   {
    "duration": 4,
    "start_time": "2023-07-20T21:07:54.168Z"
   },
   {
    "duration": 34,
    "start_time": "2023-07-20T21:07:54.174Z"
   },
   {
    "duration": 9,
    "start_time": "2023-07-20T21:07:54.209Z"
   },
   {
    "duration": 10,
    "start_time": "2023-07-20T21:07:54.221Z"
   },
   {
    "duration": 29,
    "start_time": "2023-07-20T21:07:54.233Z"
   },
   {
    "duration": 161,
    "start_time": "2023-07-20T21:07:54.264Z"
   },
   {
    "duration": 51,
    "start_time": "2023-07-20T21:07:54.426Z"
   },
   {
    "duration": 4,
    "start_time": "2023-07-20T21:07:54.479Z"
   },
   {
    "duration": 28,
    "start_time": "2023-07-20T21:07:54.484Z"
   },
   {
    "duration": 15,
    "start_time": "2023-07-20T21:07:54.514Z"
   },
   {
    "duration": 15,
    "start_time": "2023-07-20T21:07:54.531Z"
   },
   {
    "duration": 5,
    "start_time": "2023-07-20T21:07:54.547Z"
   },
   {
    "duration": 19,
    "start_time": "2023-07-20T21:07:54.554Z"
   },
   {
    "duration": 37,
    "start_time": "2023-07-20T21:07:54.574Z"
   },
   {
    "duration": 19,
    "start_time": "2023-07-20T21:07:54.613Z"
   },
   {
    "duration": 14,
    "start_time": "2023-07-20T21:07:54.634Z"
   },
   {
    "duration": 22,
    "start_time": "2023-07-20T21:07:54.649Z"
   },
   {
    "duration": 34,
    "start_time": "2023-07-20T21:07:54.673Z"
   },
   {
    "duration": 14,
    "start_time": "2023-07-20T21:07:54.709Z"
   },
   {
    "duration": 24,
    "start_time": "2023-07-20T21:07:54.727Z"
   },
   {
    "duration": 8,
    "start_time": "2023-07-20T21:07:54.753Z"
   },
   {
    "duration": 5,
    "start_time": "2023-07-20T21:07:54.763Z"
   },
   {
    "duration": 12,
    "start_time": "2023-07-20T21:07:54.769Z"
   },
   {
    "duration": 411,
    "start_time": "2023-07-20T21:07:54.782Z"
   },
   {
    "duration": 15,
    "start_time": "2023-07-20T21:07:55.195Z"
   },
   {
    "duration": 4,
    "start_time": "2023-07-20T21:07:55.211Z"
   },
   {
    "duration": 275,
    "start_time": "2023-07-20T21:07:55.216Z"
   },
   {
    "duration": 14,
    "start_time": "2023-07-20T21:07:55.493Z"
   },
   {
    "duration": 6,
    "start_time": "2023-07-20T21:07:55.508Z"
   },
   {
    "duration": 8,
    "start_time": "2023-07-20T21:07:55.515Z"
   },
   {
    "duration": 6,
    "start_time": "2023-07-20T21:07:55.525Z"
   },
   {
    "duration": 81,
    "start_time": "2023-07-20T21:07:55.532Z"
   },
   {
    "duration": 105,
    "start_time": "2023-07-20T21:07:55.615Z"
   },
   {
    "duration": 5,
    "start_time": "2023-07-20T21:07:55.722Z"
   },
   {
    "duration": 27,
    "start_time": "2023-07-20T21:07:55.729Z"
   },
   {
    "duration": 12,
    "start_time": "2023-07-20T21:07:55.758Z"
   },
   {
    "duration": 152,
    "start_time": "2023-07-20T21:07:55.772Z"
   },
   {
    "duration": 10,
    "start_time": "2023-07-20T21:07:55.926Z"
   },
   {
    "duration": 226,
    "start_time": "2023-07-20T21:07:55.938Z"
   },
   {
    "duration": 7,
    "start_time": "2023-07-20T21:07:56.207Z"
   },
   {
    "duration": 65,
    "start_time": "2023-07-20T21:07:56.215Z"
   },
   {
    "duration": 28,
    "start_time": "2023-07-20T21:07:56.281Z"
   },
   {
    "duration": 15,
    "start_time": "2023-07-20T21:07:56.311Z"
   },
   {
    "duration": 14,
    "start_time": "2023-07-20T21:07:56.328Z"
   },
   {
    "duration": 391,
    "start_time": "2023-07-20T21:07:56.344Z"
   },
   {
    "duration": 20,
    "start_time": "2023-07-20T21:07:56.737Z"
   },
   {
    "duration": 155,
    "start_time": "2023-07-20T21:07:56.759Z"
   },
   {
    "duration": 16,
    "start_time": "2023-07-20T21:07:56.917Z"
   },
   {
    "duration": 73,
    "start_time": "2023-07-20T21:07:56.935Z"
   },
   {
    "duration": 229,
    "start_time": "2023-07-20T21:07:57.010Z"
   },
   {
    "duration": 17,
    "start_time": "2023-07-20T21:07:57.241Z"
   },
   {
    "duration": 150,
    "start_time": "2023-07-20T21:07:57.259Z"
   },
   {
    "duration": 10,
    "start_time": "2023-07-20T21:07:57.410Z"
   },
   {
    "duration": 177,
    "start_time": "2023-07-20T21:07:57.422Z"
   },
   {
    "duration": 143,
    "start_time": "2023-07-20T21:07:57.601Z"
   },
   {
    "duration": 73,
    "start_time": "2023-07-20T21:07:57.746Z"
   },
   {
    "duration": 8296,
    "start_time": "2023-07-20T21:07:57.820Z"
   },
   {
    "duration": 15,
    "start_time": "2023-07-20T21:08:06.118Z"
   },
   {
    "duration": 76,
    "start_time": "2023-07-20T21:08:06.134Z"
   },
   {
    "duration": 6,
    "start_time": "2023-07-20T21:08:06.212Z"
   },
   {
    "duration": 116,
    "start_time": "2023-07-20T21:08:06.220Z"
   },
   {
    "duration": 13,
    "start_time": "2023-07-20T21:08:06.338Z"
   },
   {
    "duration": 59,
    "start_time": "2023-07-20T21:08:06.353Z"
   },
   {
    "duration": 191,
    "start_time": "2023-07-20T21:08:06.413Z"
   },
   {
    "duration": 17,
    "start_time": "2023-07-20T21:08:06.606Z"
   },
   {
    "duration": 7930,
    "start_time": "2023-07-20T21:08:06.626Z"
   },
   {
    "duration": 14,
    "start_time": "2023-07-20T21:08:14.558Z"
   },
   {
    "duration": 56,
    "start_time": "2023-07-20T21:08:14.573Z"
   },
   {
    "duration": 209,
    "start_time": "2023-07-20T21:08:14.631Z"
   },
   {
    "duration": 5,
    "start_time": "2023-07-20T21:08:14.842Z"
   },
   {
    "duration": 11,
    "start_time": "2023-07-20T21:08:14.848Z"
   },
   {
    "duration": 227,
    "start_time": "2023-07-20T21:08:14.860Z"
   },
   {
    "duration": 0,
    "start_time": "2023-07-20T21:08:15.089Z"
   },
   {
    "duration": 0,
    "start_time": "2023-07-20T21:08:15.090Z"
   },
   {
    "duration": 0,
    "start_time": "2023-07-20T21:08:15.091Z"
   },
   {
    "duration": 0,
    "start_time": "2023-07-20T21:08:15.106Z"
   },
   {
    "duration": 0,
    "start_time": "2023-07-20T21:08:15.107Z"
   },
   {
    "duration": 0,
    "start_time": "2023-07-20T21:08:15.108Z"
   },
   {
    "duration": 15,
    "start_time": "2023-07-20T21:09:37.294Z"
   },
   {
    "duration": 170,
    "start_time": "2023-07-20T21:09:47.470Z"
   },
   {
    "duration": 1347,
    "start_time": "2023-07-21T11:07:57.163Z"
   },
   {
    "duration": 356,
    "start_time": "2023-07-21T11:07:58.512Z"
   },
   {
    "duration": 19,
    "start_time": "2023-07-21T11:07:58.870Z"
   },
   {
    "duration": 20,
    "start_time": "2023-07-21T11:07:58.891Z"
   },
   {
    "duration": 4,
    "start_time": "2023-07-21T11:07:58.914Z"
   },
   {
    "duration": 8,
    "start_time": "2023-07-21T11:07:58.919Z"
   },
   {
    "duration": 39,
    "start_time": "2023-07-21T11:07:58.929Z"
   },
   {
    "duration": 18,
    "start_time": "2023-07-21T11:07:58.969Z"
   },
   {
    "duration": 40,
    "start_time": "2023-07-21T11:07:58.989Z"
   },
   {
    "duration": 21,
    "start_time": "2023-07-21T11:07:59.031Z"
   },
   {
    "duration": 22,
    "start_time": "2023-07-21T11:07:59.054Z"
   },
   {
    "duration": 16,
    "start_time": "2023-07-21T11:07:59.079Z"
   },
   {
    "duration": 41,
    "start_time": "2023-07-21T11:07:59.097Z"
   },
   {
    "duration": 203,
    "start_time": "2023-07-21T11:07:59.143Z"
   },
   {
    "duration": 66,
    "start_time": "2023-07-21T11:07:59.348Z"
   },
   {
    "duration": 6,
    "start_time": "2023-07-21T11:07:59.417Z"
   },
   {
    "duration": 35,
    "start_time": "2023-07-21T11:07:59.425Z"
   },
   {
    "duration": 20,
    "start_time": "2023-07-21T11:07:59.462Z"
   },
   {
    "duration": 26,
    "start_time": "2023-07-21T11:07:59.484Z"
   },
   {
    "duration": 11,
    "start_time": "2023-07-21T11:07:59.512Z"
   },
   {
    "duration": 46,
    "start_time": "2023-07-21T11:07:59.524Z"
   },
   {
    "duration": 10,
    "start_time": "2023-07-21T11:07:59.572Z"
   },
   {
    "duration": 35,
    "start_time": "2023-07-21T11:07:59.584Z"
   },
   {
    "duration": 16,
    "start_time": "2023-07-21T11:07:59.621Z"
   },
   {
    "duration": 33,
    "start_time": "2023-07-21T11:07:59.639Z"
   },
   {
    "duration": 25,
    "start_time": "2023-07-21T11:07:59.674Z"
   },
   {
    "duration": 37,
    "start_time": "2023-07-21T11:07:59.700Z"
   },
   {
    "duration": 13,
    "start_time": "2023-07-21T11:07:59.739Z"
   },
   {
    "duration": 11,
    "start_time": "2023-07-21T11:07:59.754Z"
   },
   {
    "duration": 5,
    "start_time": "2023-07-21T11:07:59.767Z"
   },
   {
    "duration": 7,
    "start_time": "2023-07-21T11:07:59.775Z"
   },
   {
    "duration": 523,
    "start_time": "2023-07-21T11:07:59.784Z"
   },
   {
    "duration": 13,
    "start_time": "2023-07-21T11:08:00.309Z"
   },
   {
    "duration": 81,
    "start_time": "2023-07-21T11:08:00.324Z"
   },
   {
    "duration": 397,
    "start_time": "2023-07-21T11:08:00.407Z"
   },
   {
    "duration": 15,
    "start_time": "2023-07-21T11:08:00.806Z"
   },
   {
    "duration": 64,
    "start_time": "2023-07-21T11:08:00.822Z"
   },
   {
    "duration": 125,
    "start_time": "2023-07-21T11:08:00.888Z"
   },
   {
    "duration": 115,
    "start_time": "2023-07-21T11:08:01.015Z"
   },
   {
    "duration": 79,
    "start_time": "2023-07-21T11:08:01.132Z"
   },
   {
    "duration": 134,
    "start_time": "2023-07-21T11:08:01.215Z"
   },
   {
    "duration": 11,
    "start_time": "2023-07-21T11:08:01.351Z"
   },
   {
    "duration": 83,
    "start_time": "2023-07-21T11:08:01.363Z"
   },
   {
    "duration": 99,
    "start_time": "2023-07-21T11:08:01.448Z"
   },
   {
    "duration": 181,
    "start_time": "2023-07-21T11:08:01.549Z"
   },
   {
    "duration": 13,
    "start_time": "2023-07-21T11:08:01.732Z"
   },
   {
    "duration": 363,
    "start_time": "2023-07-21T11:08:01.760Z"
   },
   {
    "duration": 6,
    "start_time": "2023-07-21T11:08:02.125Z"
   },
   {
    "duration": 223,
    "start_time": "2023-07-21T11:08:02.132Z"
   },
   {
    "duration": 7,
    "start_time": "2023-07-21T11:08:02.358Z"
   },
   {
    "duration": 57,
    "start_time": "2023-07-21T11:08:02.367Z"
   },
   {
    "duration": 74,
    "start_time": "2023-07-21T11:08:02.426Z"
   },
   {
    "duration": 551,
    "start_time": "2023-07-21T11:08:02.502Z"
   },
   {
    "duration": 31,
    "start_time": "2023-07-21T11:08:03.055Z"
   },
   {
    "duration": 206,
    "start_time": "2023-07-21T11:08:03.089Z"
   },
   {
    "duration": 17,
    "start_time": "2023-07-21T11:08:03.298Z"
   },
   {
    "duration": 67,
    "start_time": "2023-07-21T11:08:03.317Z"
   },
   {
    "duration": 305,
    "start_time": "2023-07-21T11:08:03.386Z"
   },
   {
    "duration": 15,
    "start_time": "2023-07-21T11:08:03.693Z"
   },
   {
    "duration": 163,
    "start_time": "2023-07-21T11:08:03.709Z"
   },
   {
    "duration": 16,
    "start_time": "2023-07-21T11:08:03.875Z"
   },
   {
    "duration": 239,
    "start_time": "2023-07-21T11:08:03.894Z"
   },
   {
    "duration": 112,
    "start_time": "2023-07-21T11:08:04.135Z"
   },
   {
    "duration": 131,
    "start_time": "2023-07-21T11:08:04.249Z"
   },
   {
    "duration": 8954,
    "start_time": "2023-07-21T11:08:04.382Z"
   },
   {
    "duration": 34,
    "start_time": "2023-07-21T11:08:13.339Z"
   },
   {
    "duration": 96,
    "start_time": "2023-07-21T11:08:13.375Z"
   },
   {
    "duration": 7,
    "start_time": "2023-07-21T11:08:13.473Z"
   },
   {
    "duration": 186,
    "start_time": "2023-07-21T11:08:13.482Z"
   },
   {
    "duration": 26,
    "start_time": "2023-07-21T11:08:13.670Z"
   },
   {
    "duration": 17,
    "start_time": "2023-07-21T11:08:13.698Z"
   },
   {
    "duration": 245,
    "start_time": "2023-07-21T11:08:13.717Z"
   },
   {
    "duration": 18,
    "start_time": "2023-07-21T11:08:13.964Z"
   },
   {
    "duration": 8799,
    "start_time": "2023-07-21T11:08:13.984Z"
   },
   {
    "duration": 12,
    "start_time": "2023-07-21T11:08:22.785Z"
   },
   {
    "duration": 76,
    "start_time": "2023-07-21T11:08:22.798Z"
   },
   {
    "duration": 145,
    "start_time": "2023-07-21T11:08:22.876Z"
   },
   {
    "duration": 7,
    "start_time": "2023-07-21T11:08:23.058Z"
   },
   {
    "duration": 24,
    "start_time": "2023-07-21T11:08:23.067Z"
   },
   {
    "duration": 321,
    "start_time": "2023-07-21T11:08:23.093Z"
   },
   {
    "duration": 86,
    "start_time": "2023-07-21T11:08:23.416Z"
   },
   {
    "duration": 103,
    "start_time": "2023-07-21T11:08:23.504Z"
   },
   {
    "duration": 12,
    "start_time": "2023-07-21T11:08:23.609Z"
   },
   {
    "duration": 170,
    "start_time": "2023-07-21T11:08:23.623Z"
   },
   {
    "duration": 12,
    "start_time": "2023-07-21T11:08:23.794Z"
   },
   {
    "duration": 151,
    "start_time": "2023-07-21T11:08:23.808Z"
   }
  ],
  "kernelspec": {
   "display_name": "Python 3 (ipykernel)",
   "language": "python",
   "name": "python3"
  },
  "language_info": {
   "codemirror_mode": {
    "name": "ipython",
    "version": 3
   },
   "file_extension": ".py",
   "mimetype": "text/x-python",
   "name": "python",
   "nbconvert_exporter": "python",
   "pygments_lexer": "ipython3",
   "version": "3.9.16"
  },
  "toc": {
   "base_numbering": 1,
   "nav_menu": {},
   "number_sections": true,
   "sideBar": true,
   "skip_h1_title": true,
   "title_cell": "Table of Contents",
   "title_sidebar": "Contents",
   "toc_cell": false,
   "toc_position": {},
   "toc_section_display": true,
   "toc_window_display": false
  }
 },
 "nbformat": 4,
 "nbformat_minor": 5
}
