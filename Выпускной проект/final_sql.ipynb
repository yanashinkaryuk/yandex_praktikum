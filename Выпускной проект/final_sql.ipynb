{
 "cells": [
  {
   "cell_type": "markdown",
   "id": "028c81f5",
   "metadata": {},
   "source": [
    "# Анализ базы данных сервиса для чтения книг по подписке    \n",
    "\n",
    "Коронавирус застал мир врасплох, изменив привычный порядок вещей. В свободное время жители городов больше не выходят на улицу, не посещают кафе и торговые центры. Зато стало больше времени для книг. Это заметили стартаперы — и бросились создавать приложения для тех, кто любит читать.  \n",
    "\n",
    "Ваша компания решила быть на волне и купила крупный сервис для чтения книг по подписке.    \n",
    "Ваша первая задача как аналитика — проанализировать базу данных. В ней — информация о книгах, издательствах, авторах, а также пользовательские обзоры книг. Эти данные помогут сформулировать ценностное предложение для нового продукта.  \n",
    "\n",
    "\n",
    "**Задача исследования:**  \n",
    "Подготовить анализ базы данных, который в последствии поможет сформулировать ценностное предложение для нового продукта.\n",
    "    \n",
    "**Описание данных:**   \n",
    " \n",
    "Таблица **`books`:**  \n",
    "Содержит данные о книгах:   \n",
    "`book_id` — идентификатор книги    \n",
    "`author_id` — идентификатор автора    \n",
    "`title` — название книги  \n",
    "`num_pages` — количество страниц    \n",
    "`publication_date` — дата публикации книги    \n",
    "`publisher_id` — идентификатор издателя  \n",
    "\n",
    "Таблица **`authors`:**  \n",
    "Содержит данные об авторах:    \n",
    "`author_id` — идентификатор автора  \n",
    "`author` — имя автора   \n",
    "\n",
    "Таблица **`publishers`:**  \n",
    "Содержит данные об издательствах:  \n",
    "`publisher_id` — идентификатор издательства    \n",
    "`publisher` — название издательства  \n",
    "\n",
    "Таблица **`ratings`:**  \n",
    "Содержит данные о пользовательских оценках книг:  \n",
    "`rating_id` — идентификатор оценки  \n",
    "`book_id` — идентификатор книги  \n",
    "`username` — имя пользователя, оставившего оценку   \n",
    "`rating` — оценка книги  \n",
    "\n",
    "Таблица **`reviews`:**  \n",
    "Содержит данные о пользовательских обзорах:  \n",
    "`review_id` — идентификатор обзора  \n",
    "`book_id` — идентификатор книги  \n",
    "`username` — имя автора обзора  \n",
    "`text` — текст обзора  \n",
    "\n",
    "**Схема базы данных:**   \n",
    "\n",
    "<img src=\"https://pictures.s3.yandex.net/resources/scheme_1589269096.png\" height=\"5\"/></a> "
   ]
  },
  {
   "cell_type": "markdown",
   "id": "82af7754",
   "metadata": {},
   "source": [
    "Настроим подключение к базе данных:"
   ]
  },
  {
   "cell_type": "code",
   "execution_count": 1,
   "id": "9525c5a8",
   "metadata": {},
   "outputs": [],
   "source": [
    "# импортируем библиотеки\n",
    "import pandas as pd\n",
    "from sqlalchemy import text, create_engine"
   ]
  },
  {
   "cell_type": "code",
   "execution_count": 2,
   "id": "f972e7f3",
   "metadata": {
    "scrolled": true
   },
   "outputs": [],
   "source": [
    "# устанавливаем параметры\n",
    "db_config = {'user': 'praktikum_student', # имя пользователя\n",
    "'pwd': 'Sdf4$2;d-d30pp', # пароль\n",
    "'host': 'rc1b-wcoijxj3yxfsf3fs.mdb.yandexcloud.net',\n",
    "'port': 6432, # порт подключения\n",
    "'db': 'data-analyst-final-project-db'} # название базы данных\n",
    "connection_string = 'postgresql://{user}:{pwd}@{host}:{port}/{db}'.format(**db_config)\n",
    "# сохраняем коннектор\n",
    "engine = create_engine(connection_string, connect_args={'sslmode':'require'})"
   ]
  },
  {
   "cell_type": "markdown",
   "id": "b562f60d",
   "metadata": {},
   "source": [
    "## Обзор данных"
   ]
  },
  {
   "cell_type": "code",
   "execution_count": 3,
   "id": "e70b340b",
   "metadata": {},
   "outputs": [
    {
     "data": {
      "text/html": [
       "<div>\n",
       "<style scoped>\n",
       "    .dataframe tbody tr th:only-of-type {\n",
       "        vertical-align: middle;\n",
       "    }\n",
       "\n",
       "    .dataframe tbody tr th {\n",
       "        vertical-align: top;\n",
       "    }\n",
       "\n",
       "    .dataframe thead th {\n",
       "        text-align: right;\n",
       "    }\n",
       "</style>\n",
       "<table border=\"1\" class=\"dataframe\">\n",
       "  <thead>\n",
       "    <tr style=\"text-align: right;\">\n",
       "      <th></th>\n",
       "      <th>book_id</th>\n",
       "      <th>author_id</th>\n",
       "      <th>title</th>\n",
       "      <th>num_pages</th>\n",
       "      <th>publication_date</th>\n",
       "      <th>publisher_id</th>\n",
       "    </tr>\n",
       "  </thead>\n",
       "  <tbody>\n",
       "    <tr>\n",
       "      <th>0</th>\n",
       "      <td>1</td>\n",
       "      <td>546</td>\n",
       "      <td>'Salem's Lot</td>\n",
       "      <td>594</td>\n",
       "      <td>2005-11-01</td>\n",
       "      <td>93</td>\n",
       "    </tr>\n",
       "    <tr>\n",
       "      <th>1</th>\n",
       "      <td>2</td>\n",
       "      <td>465</td>\n",
       "      <td>1 000 Places to See Before You Die</td>\n",
       "      <td>992</td>\n",
       "      <td>2003-05-22</td>\n",
       "      <td>336</td>\n",
       "    </tr>\n",
       "    <tr>\n",
       "      <th>2</th>\n",
       "      <td>3</td>\n",
       "      <td>407</td>\n",
       "      <td>13 Little Blue Envelopes (Little Blue Envelope...</td>\n",
       "      <td>322</td>\n",
       "      <td>2010-12-21</td>\n",
       "      <td>135</td>\n",
       "    </tr>\n",
       "    <tr>\n",
       "      <th>3</th>\n",
       "      <td>4</td>\n",
       "      <td>82</td>\n",
       "      <td>1491: New Revelations of the Americas Before C...</td>\n",
       "      <td>541</td>\n",
       "      <td>2006-10-10</td>\n",
       "      <td>309</td>\n",
       "    </tr>\n",
       "    <tr>\n",
       "      <th>4</th>\n",
       "      <td>5</td>\n",
       "      <td>125</td>\n",
       "      <td>1776</td>\n",
       "      <td>386</td>\n",
       "      <td>2006-07-04</td>\n",
       "      <td>268</td>\n",
       "    </tr>\n",
       "  </tbody>\n",
       "</table>\n",
       "</div>"
      ],
      "text/plain": [
       "   book_id  author_id                                              title  \\\n",
       "0        1        546                                       'Salem's Lot   \n",
       "1        2        465                 1 000 Places to See Before You Die   \n",
       "2        3        407  13 Little Blue Envelopes (Little Blue Envelope...   \n",
       "3        4         82  1491: New Revelations of the Americas Before C...   \n",
       "4        5        125                                               1776   \n",
       "\n",
       "   num_pages publication_date  publisher_id  \n",
       "0        594       2005-11-01            93  \n",
       "1        992       2003-05-22           336  \n",
       "2        322       2010-12-21           135  \n",
       "3        541       2006-10-10           309  \n",
       "4        386       2006-07-04           268  "
      ]
     },
     "execution_count": 3,
     "metadata": {},
     "output_type": "execute_result"
    }
   ],
   "source": [
    "# выведем первые 5 строк таблицы books\n",
    "query = '''SELECT * FROM books LIMIT 5'''\n",
    "con=engine.connect()\n",
    "pd.io.sql.read_sql(sql=text(query), con = con)"
   ]
  },
  {
   "cell_type": "code",
   "execution_count": 4,
   "id": "226ed3ee",
   "metadata": {},
   "outputs": [
    {
     "data": {
      "text/html": [
       "<div>\n",
       "<style scoped>\n",
       "    .dataframe tbody tr th:only-of-type {\n",
       "        vertical-align: middle;\n",
       "    }\n",
       "\n",
       "    .dataframe tbody tr th {\n",
       "        vertical-align: top;\n",
       "    }\n",
       "\n",
       "    .dataframe thead th {\n",
       "        text-align: right;\n",
       "    }\n",
       "</style>\n",
       "<table border=\"1\" class=\"dataframe\">\n",
       "  <thead>\n",
       "    <tr style=\"text-align: right;\">\n",
       "      <th></th>\n",
       "      <th>author_id</th>\n",
       "      <th>author</th>\n",
       "    </tr>\n",
       "  </thead>\n",
       "  <tbody>\n",
       "    <tr>\n",
       "      <th>0</th>\n",
       "      <td>1</td>\n",
       "      <td>A.S. Byatt</td>\n",
       "    </tr>\n",
       "    <tr>\n",
       "      <th>1</th>\n",
       "      <td>2</td>\n",
       "      <td>Aesop/Laura Harris/Laura Gibbs</td>\n",
       "    </tr>\n",
       "    <tr>\n",
       "      <th>2</th>\n",
       "      <td>3</td>\n",
       "      <td>Agatha Christie</td>\n",
       "    </tr>\n",
       "    <tr>\n",
       "      <th>3</th>\n",
       "      <td>4</td>\n",
       "      <td>Alan Brennert</td>\n",
       "    </tr>\n",
       "    <tr>\n",
       "      <th>4</th>\n",
       "      <td>5</td>\n",
       "      <td>Alan Moore/David   Lloyd</td>\n",
       "    </tr>\n",
       "  </tbody>\n",
       "</table>\n",
       "</div>"
      ],
      "text/plain": [
       "   author_id                          author\n",
       "0          1                      A.S. Byatt\n",
       "1          2  Aesop/Laura Harris/Laura Gibbs\n",
       "2          3                 Agatha Christie\n",
       "3          4                   Alan Brennert\n",
       "4          5        Alan Moore/David   Lloyd"
      ]
     },
     "execution_count": 4,
     "metadata": {},
     "output_type": "execute_result"
    }
   ],
   "source": [
    "# выведем первые 5 строк таблицы authors\n",
    "query = '''SELECT * FROM authors LIMIT 5'''\n",
    "con=engine.connect()\n",
    "pd.io.sql.read_sql(sql=text(query), con = con)"
   ]
  },
  {
   "cell_type": "code",
   "execution_count": 5,
   "id": "37ad45ec",
   "metadata": {},
   "outputs": [
    {
     "data": {
      "text/html": [
       "<div>\n",
       "<style scoped>\n",
       "    .dataframe tbody tr th:only-of-type {\n",
       "        vertical-align: middle;\n",
       "    }\n",
       "\n",
       "    .dataframe tbody tr th {\n",
       "        vertical-align: top;\n",
       "    }\n",
       "\n",
       "    .dataframe thead th {\n",
       "        text-align: right;\n",
       "    }\n",
       "</style>\n",
       "<table border=\"1\" class=\"dataframe\">\n",
       "  <thead>\n",
       "    <tr style=\"text-align: right;\">\n",
       "      <th></th>\n",
       "      <th>publisher_id</th>\n",
       "      <th>publisher</th>\n",
       "    </tr>\n",
       "  </thead>\n",
       "  <tbody>\n",
       "    <tr>\n",
       "      <th>0</th>\n",
       "      <td>1</td>\n",
       "      <td>Ace</td>\n",
       "    </tr>\n",
       "    <tr>\n",
       "      <th>1</th>\n",
       "      <td>2</td>\n",
       "      <td>Ace Book</td>\n",
       "    </tr>\n",
       "    <tr>\n",
       "      <th>2</th>\n",
       "      <td>3</td>\n",
       "      <td>Ace Books</td>\n",
       "    </tr>\n",
       "    <tr>\n",
       "      <th>3</th>\n",
       "      <td>4</td>\n",
       "      <td>Ace Hardcover</td>\n",
       "    </tr>\n",
       "    <tr>\n",
       "      <th>4</th>\n",
       "      <td>5</td>\n",
       "      <td>Addison Wesley Publishing Company</td>\n",
       "    </tr>\n",
       "  </tbody>\n",
       "</table>\n",
       "</div>"
      ],
      "text/plain": [
       "   publisher_id                          publisher\n",
       "0             1                                Ace\n",
       "1             2                           Ace Book\n",
       "2             3                          Ace Books\n",
       "3             4                      Ace Hardcover\n",
       "4             5  Addison Wesley Publishing Company"
      ]
     },
     "execution_count": 5,
     "metadata": {},
     "output_type": "execute_result"
    }
   ],
   "source": [
    "# выведем первые 5 строк таблицы publishers\n",
    "query = '''SELECT * FROM publishers LIMIT 5'''\n",
    "con=engine.connect()\n",
    "pd.io.sql.read_sql(sql=text(query), con = con)"
   ]
  },
  {
   "cell_type": "code",
   "execution_count": 6,
   "id": "6724ddf1",
   "metadata": {
    "scrolled": true
   },
   "outputs": [
    {
     "data": {
      "text/html": [
       "<div>\n",
       "<style scoped>\n",
       "    .dataframe tbody tr th:only-of-type {\n",
       "        vertical-align: middle;\n",
       "    }\n",
       "\n",
       "    .dataframe tbody tr th {\n",
       "        vertical-align: top;\n",
       "    }\n",
       "\n",
       "    .dataframe thead th {\n",
       "        text-align: right;\n",
       "    }\n",
       "</style>\n",
       "<table border=\"1\" class=\"dataframe\">\n",
       "  <thead>\n",
       "    <tr style=\"text-align: right;\">\n",
       "      <th></th>\n",
       "      <th>rating_id</th>\n",
       "      <th>book_id</th>\n",
       "      <th>username</th>\n",
       "      <th>rating</th>\n",
       "    </tr>\n",
       "  </thead>\n",
       "  <tbody>\n",
       "    <tr>\n",
       "      <th>0</th>\n",
       "      <td>1</td>\n",
       "      <td>1</td>\n",
       "      <td>ryanfranco</td>\n",
       "      <td>4</td>\n",
       "    </tr>\n",
       "    <tr>\n",
       "      <th>1</th>\n",
       "      <td>2</td>\n",
       "      <td>1</td>\n",
       "      <td>grantpatricia</td>\n",
       "      <td>2</td>\n",
       "    </tr>\n",
       "    <tr>\n",
       "      <th>2</th>\n",
       "      <td>3</td>\n",
       "      <td>1</td>\n",
       "      <td>brandtandrea</td>\n",
       "      <td>5</td>\n",
       "    </tr>\n",
       "    <tr>\n",
       "      <th>3</th>\n",
       "      <td>4</td>\n",
       "      <td>2</td>\n",
       "      <td>lorichen</td>\n",
       "      <td>3</td>\n",
       "    </tr>\n",
       "    <tr>\n",
       "      <th>4</th>\n",
       "      <td>5</td>\n",
       "      <td>2</td>\n",
       "      <td>mariokeller</td>\n",
       "      <td>2</td>\n",
       "    </tr>\n",
       "  </tbody>\n",
       "</table>\n",
       "</div>"
      ],
      "text/plain": [
       "   rating_id  book_id       username  rating\n",
       "0          1        1     ryanfranco       4\n",
       "1          2        1  grantpatricia       2\n",
       "2          3        1   brandtandrea       5\n",
       "3          4        2       lorichen       3\n",
       "4          5        2    mariokeller       2"
      ]
     },
     "execution_count": 6,
     "metadata": {},
     "output_type": "execute_result"
    }
   ],
   "source": [
    "# выведем первые 5 строк таблицы ratings\n",
    "query = '''SELECT * FROM ratings LIMIT 5'''\n",
    "con=engine.connect()\n",
    "pd.io.sql.read_sql(sql=text(query), con = con)"
   ]
  },
  {
   "cell_type": "code",
   "execution_count": 7,
   "id": "7f0b4b26",
   "metadata": {},
   "outputs": [
    {
     "data": {
      "text/html": [
       "<div>\n",
       "<style scoped>\n",
       "    .dataframe tbody tr th:only-of-type {\n",
       "        vertical-align: middle;\n",
       "    }\n",
       "\n",
       "    .dataframe tbody tr th {\n",
       "        vertical-align: top;\n",
       "    }\n",
       "\n",
       "    .dataframe thead th {\n",
       "        text-align: right;\n",
       "    }\n",
       "</style>\n",
       "<table border=\"1\" class=\"dataframe\">\n",
       "  <thead>\n",
       "    <tr style=\"text-align: right;\">\n",
       "      <th></th>\n",
       "      <th>review_id</th>\n",
       "      <th>book_id</th>\n",
       "      <th>username</th>\n",
       "      <th>text</th>\n",
       "    </tr>\n",
       "  </thead>\n",
       "  <tbody>\n",
       "    <tr>\n",
       "      <th>0</th>\n",
       "      <td>1</td>\n",
       "      <td>1</td>\n",
       "      <td>brandtandrea</td>\n",
       "      <td>Mention society tell send professor analysis. ...</td>\n",
       "    </tr>\n",
       "    <tr>\n",
       "      <th>1</th>\n",
       "      <td>2</td>\n",
       "      <td>1</td>\n",
       "      <td>ryanfranco</td>\n",
       "      <td>Foot glass pretty audience hit themselves. Amo...</td>\n",
       "    </tr>\n",
       "    <tr>\n",
       "      <th>2</th>\n",
       "      <td>3</td>\n",
       "      <td>2</td>\n",
       "      <td>lorichen</td>\n",
       "      <td>Listen treat keep worry. Miss husband tax but ...</td>\n",
       "    </tr>\n",
       "    <tr>\n",
       "      <th>3</th>\n",
       "      <td>4</td>\n",
       "      <td>3</td>\n",
       "      <td>johnsonamanda</td>\n",
       "      <td>Finally month interesting blue could nature cu...</td>\n",
       "    </tr>\n",
       "    <tr>\n",
       "      <th>4</th>\n",
       "      <td>5</td>\n",
       "      <td>3</td>\n",
       "      <td>scotttamara</td>\n",
       "      <td>Nation purpose heavy give wait song will. List...</td>\n",
       "    </tr>\n",
       "  </tbody>\n",
       "</table>\n",
       "</div>"
      ],
      "text/plain": [
       "   review_id  book_id       username  \\\n",
       "0          1        1   brandtandrea   \n",
       "1          2        1     ryanfranco   \n",
       "2          3        2       lorichen   \n",
       "3          4        3  johnsonamanda   \n",
       "4          5        3    scotttamara   \n",
       "\n",
       "                                                text  \n",
       "0  Mention society tell send professor analysis. ...  \n",
       "1  Foot glass pretty audience hit themselves. Amo...  \n",
       "2  Listen treat keep worry. Miss husband tax but ...  \n",
       "3  Finally month interesting blue could nature cu...  \n",
       "4  Nation purpose heavy give wait song will. List...  "
      ]
     },
     "execution_count": 7,
     "metadata": {},
     "output_type": "execute_result"
    }
   ],
   "source": [
    "# выведем первые 5 строк таблицы reviews\n",
    "query = '''SELECT * FROM reviews LIMIT 5'''\n",
    "con=engine.connect()\n",
    "pd.io.sql.read_sql(sql=text(query), con = con)"
   ]
  },
  {
   "cell_type": "markdown",
   "id": "8170c8b2",
   "metadata": {},
   "source": [
    "## Исследовательский анализ данных"
   ]
  },
  {
   "cell_type": "markdown",
   "id": "e57c87b0",
   "metadata": {},
   "source": [
    "### Посчитаем, сколько книг вышло после 1 января 2000 года:"
   ]
  },
  {
   "cell_type": "code",
   "execution_count": 8,
   "id": "a4ea92cd",
   "metadata": {},
   "outputs": [
    {
     "data": {
      "text/html": [
       "<div>\n",
       "<style scoped>\n",
       "    .dataframe tbody tr th:only-of-type {\n",
       "        vertical-align: middle;\n",
       "    }\n",
       "\n",
       "    .dataframe tbody tr th {\n",
       "        vertical-align: top;\n",
       "    }\n",
       "\n",
       "    .dataframe thead th {\n",
       "        text-align: right;\n",
       "    }\n",
       "</style>\n",
       "<table border=\"1\" class=\"dataframe\">\n",
       "  <thead>\n",
       "    <tr style=\"text-align: right;\">\n",
       "      <th></th>\n",
       "      <th>books_amount</th>\n",
       "    </tr>\n",
       "  </thead>\n",
       "  <tbody>\n",
       "    <tr>\n",
       "      <th>0</th>\n",
       "      <td>819</td>\n",
       "    </tr>\n",
       "  </tbody>\n",
       "</table>\n",
       "</div>"
      ],
      "text/plain": [
       "   books_amount\n",
       "0           819"
      ]
     },
     "execution_count": 8,
     "metadata": {},
     "output_type": "execute_result"
    }
   ],
   "source": [
    "query = '''SELECT COUNT(book_id) AS books_amount \n",
    "           FROM books \n",
    "           WHERE publication_date::date > '2000-01-01' \n",
    "           '''\n",
    "con=engine.connect()\n",
    "pd.io.sql.read_sql(sql=text(query), con = con)"
   ]
  },
  {
   "cell_type": "markdown",
   "id": "7a818621",
   "metadata": {},
   "source": [
    "После 1 января 2000 года было выпущено 819 книг."
   ]
  },
  {
   "cell_type": "markdown",
   "id": "a3d300ee",
   "metadata": {},
   "source": [
    "### Посчитаем количество обзоров и среднюю оценку для каждой книги:"
   ]
  },
  {
   "cell_type": "code",
   "execution_count": 9,
   "id": "175731fa",
   "metadata": {},
   "outputs": [
    {
     "data": {
      "text/html": [
       "<div>\n",
       "<style scoped>\n",
       "    .dataframe tbody tr th:only-of-type {\n",
       "        vertical-align: middle;\n",
       "    }\n",
       "\n",
       "    .dataframe tbody tr th {\n",
       "        vertical-align: top;\n",
       "    }\n",
       "\n",
       "    .dataframe thead th {\n",
       "        text-align: right;\n",
       "    }\n",
       "</style>\n",
       "<table border=\"1\" class=\"dataframe\">\n",
       "  <thead>\n",
       "    <tr style=\"text-align: right;\">\n",
       "      <th></th>\n",
       "      <th>title</th>\n",
       "      <th>book_id</th>\n",
       "      <th>review_amount</th>\n",
       "      <th>avg_rating</th>\n",
       "    </tr>\n",
       "  </thead>\n",
       "  <tbody>\n",
       "    <tr>\n",
       "      <th>0</th>\n",
       "      <td>Twilight (Twilight  #1)</td>\n",
       "      <td>948</td>\n",
       "      <td>7</td>\n",
       "      <td>3.662500</td>\n",
       "    </tr>\n",
       "    <tr>\n",
       "      <th>1</th>\n",
       "      <td>Harry Potter and the Prisoner of Azkaban (Harr...</td>\n",
       "      <td>302</td>\n",
       "      <td>6</td>\n",
       "      <td>4.414634</td>\n",
       "    </tr>\n",
       "    <tr>\n",
       "      <th>2</th>\n",
       "      <td>Harry Potter and the Chamber of Secrets (Harry...</td>\n",
       "      <td>299</td>\n",
       "      <td>6</td>\n",
       "      <td>4.287500</td>\n",
       "    </tr>\n",
       "    <tr>\n",
       "      <th>3</th>\n",
       "      <td>The Book Thief</td>\n",
       "      <td>656</td>\n",
       "      <td>6</td>\n",
       "      <td>4.264151</td>\n",
       "    </tr>\n",
       "    <tr>\n",
       "      <th>4</th>\n",
       "      <td>The Glass Castle</td>\n",
       "      <td>734</td>\n",
       "      <td>6</td>\n",
       "      <td>4.206897</td>\n",
       "    </tr>\n",
       "    <tr>\n",
       "      <th>...</th>\n",
       "      <td>...</td>\n",
       "      <td>...</td>\n",
       "      <td>...</td>\n",
       "      <td>...</td>\n",
       "    </tr>\n",
       "    <tr>\n",
       "      <th>995</th>\n",
       "      <td>Disney's Beauty and the Beast (A Little Golden...</td>\n",
       "      <td>191</td>\n",
       "      <td>0</td>\n",
       "      <td>4.000000</td>\n",
       "    </tr>\n",
       "    <tr>\n",
       "      <th>996</th>\n",
       "      <td>Leonardo's Notebooks</td>\n",
       "      <td>387</td>\n",
       "      <td>0</td>\n",
       "      <td>4.000000</td>\n",
       "    </tr>\n",
       "    <tr>\n",
       "      <th>997</th>\n",
       "      <td>Essential Tales and Poems</td>\n",
       "      <td>221</td>\n",
       "      <td>0</td>\n",
       "      <td>4.000000</td>\n",
       "    </tr>\n",
       "    <tr>\n",
       "      <th>998</th>\n",
       "      <td>Anne Rice's The Vampire Lestat: A Graphic Novel</td>\n",
       "      <td>83</td>\n",
       "      <td>0</td>\n",
       "      <td>3.666667</td>\n",
       "    </tr>\n",
       "    <tr>\n",
       "      <th>999</th>\n",
       "      <td>The Natural Way to Draw</td>\n",
       "      <td>808</td>\n",
       "      <td>0</td>\n",
       "      <td>3.000000</td>\n",
       "    </tr>\n",
       "  </tbody>\n",
       "</table>\n",
       "<p>1000 rows × 4 columns</p>\n",
       "</div>"
      ],
      "text/plain": [
       "                                                 title  book_id  \\\n",
       "0                              Twilight (Twilight  #1)      948   \n",
       "1    Harry Potter and the Prisoner of Azkaban (Harr...      302   \n",
       "2    Harry Potter and the Chamber of Secrets (Harry...      299   \n",
       "3                                       The Book Thief      656   \n",
       "4                                     The Glass Castle      734   \n",
       "..                                                 ...      ...   \n",
       "995  Disney's Beauty and the Beast (A Little Golden...      191   \n",
       "996                               Leonardo's Notebooks      387   \n",
       "997                          Essential Tales and Poems      221   \n",
       "998    Anne Rice's The Vampire Lestat: A Graphic Novel       83   \n",
       "999                            The Natural Way to Draw      808   \n",
       "\n",
       "     review_amount  avg_rating  \n",
       "0                7    3.662500  \n",
       "1                6    4.414634  \n",
       "2                6    4.287500  \n",
       "3                6    4.264151  \n",
       "4                6    4.206897  \n",
       "..             ...         ...  \n",
       "995              0    4.000000  \n",
       "996              0    4.000000  \n",
       "997              0    4.000000  \n",
       "998              0    3.666667  \n",
       "999              0    3.000000  \n",
       "\n",
       "[1000 rows x 4 columns]"
      ]
     },
     "execution_count": 9,
     "metadata": {},
     "output_type": "execute_result"
    }
   ],
   "source": [
    "query = '''SELECT b.title, \n",
    "                  b.book_id, \n",
    "                  COUNT(DISTINCT rev.review_id) AS review_amount, \n",
    "                  AVG(r.rating) AS avg_rating\n",
    "           FROM books b\n",
    "           LEFT JOIN reviews rev ON b.book_id = rev.book_id\n",
    "           LEFT JOIN ratings r ON b.book_id = r.book_id\n",
    "           GROUP BY b.book_id\n",
    "           ORDER BY review_amount DESC, avg_rating DESC\n",
    "           '''\n",
    "con=engine.connect()\n",
    "pd.io.sql.read_sql(sql=text(query), con = con)"
   ]
  },
  {
   "cell_type": "markdown",
   "id": "707ef201",
   "metadata": {},
   "source": [
    "Больше всего обзоров пользователи написали на книгу Сумерки - всего 7 ревью.   \n",
    "При этом, средний пользовательский рейтинг данной книги весьма невысок - 3.66 баллов из 5.   \n",
    "\n",
    "На втором и третьем месте по количеству ревью - представители серии книг о Гарри Поттере - книга \"Гарри Поттер и Узник Азкабана\", а также книга \"Гарри Поттер и Тайная комната\" с количеством по 6 ревью у каждой. Рейтинг книг о Гарри Поттере выше, чем у книги \"Сумерки\", он составляет в среднем 4.3 - 4.4%."
   ]
  },
  {
   "cell_type": "markdown",
   "id": "9d8a546f",
   "metadata": {},
   "source": [
    "### Определим издательство, которое выпустило наибольшее число книг толще 50 страниц:"
   ]
  },
  {
   "cell_type": "code",
   "execution_count": 10,
   "id": "367de151",
   "metadata": {},
   "outputs": [
    {
     "data": {
      "text/html": [
       "<div>\n",
       "<style scoped>\n",
       "    .dataframe tbody tr th:only-of-type {\n",
       "        vertical-align: middle;\n",
       "    }\n",
       "\n",
       "    .dataframe tbody tr th {\n",
       "        vertical-align: top;\n",
       "    }\n",
       "\n",
       "    .dataframe thead th {\n",
       "        text-align: right;\n",
       "    }\n",
       "</style>\n",
       "<table border=\"1\" class=\"dataframe\">\n",
       "  <thead>\n",
       "    <tr style=\"text-align: right;\">\n",
       "      <th></th>\n",
       "      <th>publisher</th>\n",
       "      <th>publisher_id</th>\n",
       "      <th>books_amount</th>\n",
       "    </tr>\n",
       "  </thead>\n",
       "  <tbody>\n",
       "    <tr>\n",
       "      <th>0</th>\n",
       "      <td>Penguin Books</td>\n",
       "      <td>212</td>\n",
       "      <td>42</td>\n",
       "    </tr>\n",
       "  </tbody>\n",
       "</table>\n",
       "</div>"
      ],
      "text/plain": [
       "       publisher  publisher_id  books_amount\n",
       "0  Penguin Books           212            42"
      ]
     },
     "execution_count": 10,
     "metadata": {},
     "output_type": "execute_result"
    }
   ],
   "source": [
    "query = ''' WITH a AS (SELECT p.publisher_id, COUNT(DISTINCT b.book_id) as books_amount \n",
    "                       FROM publishers p\n",
    "                       LEFT JOIN books b ON b.publisher_id = p.publisher_id\n",
    "                       WHERE b.num_pages > 50\n",
    "                       GROUP BY p.publisher_id\n",
    "                       ORDER BY books_amount DESC\n",
    "                       LIMIT 1)\n",
    "            \n",
    "            SELECT p.publisher, \n",
    "                   p.publisher_id, \n",
    "                   a.books_amount \n",
    "            FROM publishers p\n",
    "            INNER JOIN a ON a.publisher_id = p.publisher_id\n",
    "           '''\n",
    "            \n",
    "con=engine.connect()\n",
    "pd.io.sql.read_sql(sql=text(query), con = con)"
   ]
  },
  {
   "cell_type": "markdown",
   "id": "4d5e9fbb",
   "metadata": {},
   "source": [
    "Наибольшее количество книг толще 50 страниц выпустило издательство Penguin Books (42 книги)."
   ]
  },
  {
   "cell_type": "markdown",
   "id": "09cb983a",
   "metadata": {},
   "source": [
    "### Определим автора с самой высокой средней оценкой книг, учитывая только книги с 50 и более оценками:"
   ]
  },
  {
   "cell_type": "code",
   "execution_count": 11,
   "id": "56ad5d5f",
   "metadata": {},
   "outputs": [
    {
     "data": {
      "text/html": [
       "<div>\n",
       "<style scoped>\n",
       "    .dataframe tbody tr th:only-of-type {\n",
       "        vertical-align: middle;\n",
       "    }\n",
       "\n",
       "    .dataframe tbody tr th {\n",
       "        vertical-align: top;\n",
       "    }\n",
       "\n",
       "    .dataframe thead th {\n",
       "        text-align: right;\n",
       "    }\n",
       "</style>\n",
       "<table border=\"1\" class=\"dataframe\">\n",
       "  <thead>\n",
       "    <tr style=\"text-align: right;\">\n",
       "      <th></th>\n",
       "      <th>author</th>\n",
       "      <th>avg</th>\n",
       "    </tr>\n",
       "  </thead>\n",
       "  <tbody>\n",
       "    <tr>\n",
       "      <th>0</th>\n",
       "      <td>J.K. Rowling/Mary GrandPré</td>\n",
       "      <td>4.283844</td>\n",
       "    </tr>\n",
       "  </tbody>\n",
       "</table>\n",
       "</div>"
      ],
      "text/plain": [
       "                       author       avg\n",
       "0  J.K. Rowling/Mary GrandPré  4.283844"
      ]
     },
     "execution_count": 11,
     "metadata": {},
     "output_type": "execute_result"
    }
   ],
   "source": [
    "query = ''' WITH a AS (SELECT a.author, \n",
    "                              b.book_id,\n",
    "                              COUNT(r.rating_id),\n",
    "                              AVG(r.rating) AS avg_rating\n",
    "                       FROM ratings r \n",
    "                       INNER JOIN books b ON b.book_id = r.book_id\n",
    "                       INNER JOIN authors a ON a.author_id = b.author_id\n",
    "                       GROUP BY a.author, b.book_id\n",
    "                       HAVING COUNT(r.rating_id) >=50\n",
    "                       ORDER BY avg_rating DESC)\n",
    "\n",
    "                                                       \n",
    "            SELECT author,\n",
    "                   AVG(avg_rating)\n",
    "            FROM a\n",
    "            GROUP BY author\n",
    "            ORDER BY AVG(avg_rating) DESC\n",
    "            LIMIT 1\n",
    "        '''\n",
    "            \n",
    "con=engine.connect()\n",
    "pd.io.sql.read_sql(sql=text(query), con = con)"
   ]
  },
  {
   "cell_type": "markdown",
   "id": "8299b1b9",
   "metadata": {},
   "source": [
    "Самую высокую среднюю оценку книг из авторов, которые пользователи оценили более 50 раз, имеет писательница Джоан Роулинг, автор всемирно известной серии романов о Гарри Поттере. Средняя оценка её книг - 4.28 баллов."
   ]
  },
  {
   "cell_type": "markdown",
   "id": "fefff2e1",
   "metadata": {},
   "source": [
    "### Посчитаем среднее количество обзоров от пользователей, которые поставили больше 48 оценок:"
   ]
  },
  {
   "cell_type": "code",
   "execution_count": 12,
   "id": "8b00c00f",
   "metadata": {},
   "outputs": [
    {
     "data": {
      "text/html": [
       "<div>\n",
       "<style scoped>\n",
       "    .dataframe tbody tr th:only-of-type {\n",
       "        vertical-align: middle;\n",
       "    }\n",
       "\n",
       "    .dataframe tbody tr th {\n",
       "        vertical-align: top;\n",
       "    }\n",
       "\n",
       "    .dataframe thead th {\n",
       "        text-align: right;\n",
       "    }\n",
       "</style>\n",
       "<table border=\"1\" class=\"dataframe\">\n",
       "  <thead>\n",
       "    <tr style=\"text-align: right;\">\n",
       "      <th></th>\n",
       "      <th>avg_review_amount</th>\n",
       "    </tr>\n",
       "  </thead>\n",
       "  <tbody>\n",
       "    <tr>\n",
       "      <th>0</th>\n",
       "      <td>24.0</td>\n",
       "    </tr>\n",
       "  </tbody>\n",
       "</table>\n",
       "</div>"
      ],
      "text/plain": [
       "   avg_review_amount\n",
       "0               24.0"
      ]
     },
     "execution_count": 12,
     "metadata": {},
     "output_type": "execute_result"
    }
   ],
   "source": [
    "query = ''' WITH a AS (SELECT rev.username, \n",
    "                       COUNT(DISTINCT rev.review_id) \n",
    "                       FROM reviews rev\n",
    "                       WHERE rev.username IN (SELECT r.username \n",
    "                                              FROM ratings r\n",
    "                                              GROUP BY r.username\n",
    "                                              HAVING COUNT(DISTINCT r.rating_id) > 48)\n",
    "                                          \n",
    "                        GROUP BY rev.username)\n",
    "            \n",
    "            SELECT AVG(count) AS avg_review_amount\n",
    "            FROM a\n",
    "        '''\n",
    "\n",
    "con=engine.connect()\n",
    "pd.io.sql.read_sql(sql=text(query), con = con)"
   ]
  },
  {
   "cell_type": "markdown",
   "id": "5e48aa77",
   "metadata": {},
   "source": [
    "Среднее количество обзоров от пользователей, поставивших более 48 оценок - 24."
   ]
  },
  {
   "cell_type": "markdown",
   "id": "d1d62448",
   "metadata": {},
   "source": [
    "## Выводы"
   ]
  },
  {
   "cell_type": "markdown",
   "id": "ee5f9d84",
   "metadata": {},
   "source": [
    "Исследование информации о книгах, издательствах, авторах, а также пользовательских обзоров книг были показало  следующие результаты:   \n",
    "- После 1 января 2000 года было выпущено 819 книг  \n",
    "- Больше всего обзоров пользователи написали на книгу Сумерки - 7 ревью  \n",
    "- Наибольшее количество книг толще 50 страниц выпустило издательство Penguin Books (42 книги)  \n",
    "- Самую высокую среднюю оценку из авторов, которых пользователи оценили более 50 раз, имеет писательница Джоан Роулинг, автор всемирно известной серии романов о Гарри Поттере. Средняя оценка её книг - 4.28 баллов  \n",
    "- Среднее количество обзоров от пользователей, поставивших более 48 оценок - 24 обзора   "
   ]
  },
  {
   "cell_type": "markdown",
   "id": "4567839e",
   "metadata": {},
   "source": [
    "## Рекомендации"
   ]
  },
  {
   "cell_type": "markdown",
   "id": "2611b6dd",
   "metadata": {},
   "source": [
    "- Обратить внимание на крупное издательство Penguin Books, с которым можно заключить контракт на размещение книг в сервисе  \n",
    "- Сделать акцент на предпочитаемые пользователями книги в жанрах фэнтези, роман, приключения  \n",
    "- Увеличить количество книг для аудитории дети от 12 лет и подростки  \n",
    "- Ввести бонусную/скидочную систему для пользователей, которые проявляют активность и пишут обзоры на книги  "
   ]
  }
 ],
 "metadata": {
  "ExecuteTimeLog": [
   {
    "duration": 513,
    "start_time": "2023-08-13T12:18:34.094Z"
   },
   {
    "duration": 12463,
    "start_time": "2023-08-13T12:18:34.609Z"
   },
   {
    "duration": 50,
    "start_time": "2023-08-13T12:18:47.074Z"
   },
   {
    "duration": 47,
    "start_time": "2023-08-13T12:18:47.126Z"
   },
   {
    "duration": 12,
    "start_time": "2023-08-13T12:18:47.176Z"
   },
   {
    "duration": 14,
    "start_time": "2023-08-13T12:18:47.190Z"
   },
   {
    "duration": 15,
    "start_time": "2023-08-13T12:18:47.206Z"
   },
   {
    "duration": 14,
    "start_time": "2023-08-13T12:18:47.223Z"
   },
   {
    "duration": 43,
    "start_time": "2023-08-13T12:18:47.239Z"
   },
   {
    "duration": 14,
    "start_time": "2023-08-13T12:18:47.284Z"
   },
   {
    "duration": 17,
    "start_time": "2023-08-13T12:18:47.300Z"
   },
   {
    "duration": 21,
    "start_time": "2023-08-13T12:18:47.319Z"
   },
   {
    "duration": 18,
    "start_time": "2023-08-13T12:19:54.972Z"
   },
   {
    "duration": 17,
    "start_time": "2023-08-13T12:19:57.097Z"
   },
   {
    "duration": 533,
    "start_time": "2023-08-13T16:55:55.121Z"
   },
   {
    "duration": 9266,
    "start_time": "2023-08-13T16:55:55.656Z"
   },
   {
    "duration": 245,
    "start_time": "2023-08-13T16:56:04.923Z"
   },
   {
    "duration": 142,
    "start_time": "2023-08-13T16:56:05.170Z"
   },
   {
    "duration": 52,
    "start_time": "2023-08-13T16:56:05.314Z"
   },
   {
    "duration": 61,
    "start_time": "2023-08-13T16:56:05.367Z"
   },
   {
    "duration": 54,
    "start_time": "2023-08-13T16:56:05.429Z"
   },
   {
    "duration": 57,
    "start_time": "2023-08-13T16:56:05.484Z"
   },
   {
    "duration": 96,
    "start_time": "2023-08-13T16:56:05.543Z"
   },
   {
    "duration": 54,
    "start_time": "2023-08-13T16:56:05.640Z"
   },
   {
    "duration": 58,
    "start_time": "2023-08-13T16:56:05.702Z"
   },
   {
    "duration": 65,
    "start_time": "2023-08-13T16:56:05.762Z"
   },
   {
    "duration": 501,
    "start_time": "2023-08-13T18:07:22.035Z"
   },
   {
    "duration": 8626,
    "start_time": "2023-08-13T18:07:22.538Z"
   },
   {
    "duration": 230,
    "start_time": "2023-08-13T18:07:31.166Z"
   },
   {
    "duration": 121,
    "start_time": "2023-08-13T18:07:31.398Z"
   },
   {
    "duration": 52,
    "start_time": "2023-08-13T18:07:31.521Z"
   },
   {
    "duration": 53,
    "start_time": "2023-08-13T18:07:31.574Z"
   },
   {
    "duration": 53,
    "start_time": "2023-08-13T18:07:31.629Z"
   },
   {
    "duration": 52,
    "start_time": "2023-08-13T18:07:31.683Z"
   },
   {
    "duration": 96,
    "start_time": "2023-08-13T18:07:31.737Z"
   },
   {
    "duration": 59,
    "start_time": "2023-08-13T18:07:31.835Z"
   },
   {
    "duration": 65,
    "start_time": "2023-08-13T18:07:31.895Z"
   },
   {
    "duration": 58,
    "start_time": "2023-08-13T18:07:31.962Z"
   },
   {
    "duration": 57,
    "start_time": "2023-08-13T18:08:07.049Z"
   },
   {
    "duration": 57,
    "start_time": "2023-08-13T18:08:08.914Z"
   }
  ],
  "kernelspec": {
   "display_name": "Python 3 (ipykernel)",
   "language": "python",
   "name": "python3"
  },
  "language_info": {
   "codemirror_mode": {
    "name": "ipython",
    "version": 3
   },
   "file_extension": ".py",
   "mimetype": "text/x-python",
   "name": "python",
   "nbconvert_exporter": "python",
   "pygments_lexer": "ipython3",
   "version": "3.9.16"
  },
  "toc": {
   "base_numbering": 1,
   "nav_menu": {},
   "number_sections": true,
   "sideBar": true,
   "skip_h1_title": true,
   "title_cell": "Table of Contents",
   "title_sidebar": "Contents",
   "toc_cell": false,
   "toc_position": {},
   "toc_section_display": true,
   "toc_window_display": false
  }
 },
 "nbformat": 4,
 "nbformat_minor": 5
}
