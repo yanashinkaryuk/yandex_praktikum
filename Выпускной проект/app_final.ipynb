{
 "cells": [
  {
   "cell_type": "markdown",
   "id": "68f4052c",
   "metadata": {},
   "source": [
    "<div class=\"alert alert-info\" style=\"border-radius: 15px; box-shadow: 4px 4px 4px; border: 1px solid \" >\n",
    "    \n",
    "<b> Ссылки на дашборд и презентацию: </b>   \n",
    "- Дашборд: https://public.tableau.com/app/profile/yana.shinkaryuk/viz/_16915720611960/sheet2?publish=yes    \n",
    "- Презентация: https://drive.google.com/file/d/18uKahZUlsFi5iol0vRfyWvkOq4m9c2id/view?usp=sharing    \n",
    "    \n",
    "</div>"
   ]
  },
  {
   "cell_type": "markdown",
   "id": "f08deede",
   "metadata": {},
   "source": [
    "# Анализ поведения пользователей в мобильном приложении   \n",
    "**Описание проекта:**  \n",
    "\n",
    "Вы находитесь на позиции джуниор-аналитика в составе продуктовой команды сервиса «Ненужные вещи». В нем пользователи продают свои ненужные вещи, размещая их на доске объявлений. Заказчик - продакт менеджер, который занимается вовлечением пользователей в приложение. На основе нашего исследования заказчик будет принимать решение о сегментации пользователей на группы, которая позволит в последствии более эффективно влиять на их вовлечение.   \n",
    "\n",
    "**Описание данных:**  \n",
    "Датасет содержит данные о событиях (месячная выгрузка логов новых пользователей), совершенных в мобильном приложении \"Ненужные вещи\", после 7 октября 2019 года.  \n",
    "\n",
    "Колонки в *mobile_sources.csv:*  \n",
    "- userId — идентификатор пользователя  \n",
    "- source — источник, с которого пользователь установил приложение  \n",
    "\n",
    "Колонки в *mobile_dataset.csv:*  \n",
    "- event.time — время совершения действия  \n",
    "- user.id — идентификатор пользователя  \n",
    "- event.name — действие пользователя  \n",
    "\n",
    "Виды действий:  \n",
    "- advert_open — открыл карточки объявления  \n",
    "- photos_show — просмотрел фотографий в объявлении  \n",
    "- tips_show — увидел рекомендованные объявления  \n",
    "- tips_click — кликнул по рекомендованному объявлению  \n",
    "- contacts_show и show_contacts — посмотрел номер телефона  \n",
    "- contacts_call — позвонил по номеру из объявления  \n",
    "- map — открыл карту объявлений   \n",
    "- search_1 — search_7 — разные действия, связанные с поиском по сайту  \n",
    "- favorites_add — добавил объявление в избранное  \n",
    "\n",
    "\n",
    "**Цели исследования:**  \n",
    "- Управление вовлеченностью клиентов (адаптация приложения по целевой и смежной аудитории) на основе данных о поведении пользователей  \n",
    "- Выделение на основе поведения пользователей гипотезы о том, как можно было бы улучшить приложение с точки зрения пользовательского опыта  \n",
    "\n",
    "\n",
    "**Ход исследования:**  \n",
    "\n",
    "Проект будет состоять из пяти этапов:  \n",
    "1. Обзор данных:  \n",
    "- получение общей информации об исходных данных\n",
    "- формирование первого представления о полученных данных  \n",
    "- выявление проблем в данных, которые необходимо исправить на этапе предобработки  \n",
    "\n",
    "2. Предобработка данных:  \n",
    "- исправление нарушений в стиле заголовков столбцов (при необходимости) \n",
    "- проверка данных на наличие дубликатов и их удаление (при необходимости)\n",
    "- проверка данных на наличие пропущенных значений и их заполнение (при необходимости)  \n",
    "- проверка соответствия указанных типов данных и их изменение (при необходимости) \n",
    "\n",
    "3. Исследовательский анализ данных:    \n",
    "\n",
    "3.1 Анализ связи между целевым событием (просмотр контактов) и другими действиями пользователей:  \n",
    "- выделение пользовательских сессий  \n",
    "- выявление в разрезе сессий сценариев поведения пользователей, которые приводят к просмотру контактов  \n",
    "- построение воронок по основным сценариям поведения в разрезе уникальных пользователей  \n",
    "- сравнение время между событиями map -> contacts_show (открытие карты + просмотр контактов) и search -> contacts_show (поиск + просмотр контактов) в рамках одной сессии  \n",
    "\n",
    "\n",
    "3.2 Выявление наиболее частых действий пользователей, которые просматривают контакты:  \n",
    "- рассчет относительной частоты событий в разрезе групп пользователей с действием contacts_show и без него (тех, кто смотрит контакты и тех, кто не смотрит контакты)\n",
    "\n",
    "\n",
    "4. Проверка гипотез:  \n",
    "- проверка гипотезы о равенстве конверсий в просмотры контактов у двух групп пользователей: совершивших действие tips_show и совершивших действие tips_click (тех, кто увидел рекомендованные объявления и тех, кто кликнул по рекомендованному объявлению)  \n",
    "- проверка гипотезы о равенстве длительности сессий у двух групп пользователей: совершивших целевое действие contacts_show и тех, кто не совершал целевое действие  \n",
    "\n",
    "5. Выводы и рекомендации по результатам исследования"
   ]
  },
  {
   "cell_type": "markdown",
   "id": "cfb7c0c6",
   "metadata": {},
   "source": [
    "## Обзор данных"
   ]
  },
  {
   "cell_type": "code",
   "execution_count": null,
   "id": "28eec6e8",
   "metadata": {},
   "outputs": [],
   "source": [
    "# импорт библиотек\n",
    "import pandas as pd\n",
    "import scipy.stats as stats\n",
    "import numpy as np\n",
    "import seaborn as sns\n",
    "import plotly.express as px\n",
    "from matplotlib import pyplot as plt\n",
    "from plotly import graph_objects as go\n",
    "import io\n",
    "import requests\n",
    "from datetime import datetime\n",
    "\n",
    "from tqdm import tqdm"
   ]
  },
  {
   "cell_type": "code",
   "execution_count": null,
   "id": "55a20ac9",
   "metadata": {},
   "outputs": [],
   "source": [
    "# прочитаем csv-файлы и сохраним данные в переменные\n",
    "try:\n",
    "    events = pd.read_csv('./mobile_dataset.csv')\n",
    "    sources = pd.read_csv('./mobile_sourсes.csv')\n",
    "except:\n",
    "    events = pd.read_csv('https://code.s3.yandex.net/datasets/mobile_dataset.csv')\n",
    "    sources = pd.read_csv('https://code.s3.yandex.net/datasets/mobile_sources.csv')"
   ]
  },
  {
   "cell_type": "code",
   "execution_count": null,
   "id": "3dc008d8",
   "metadata": {},
   "outputs": [],
   "source": [
    "# выведем первые 5 строк датафрейма events\n",
    "events.head()"
   ]
  },
  {
   "cell_type": "code",
   "execution_count": null,
   "id": "b5859e97",
   "metadata": {
    "scrolled": true
   },
   "outputs": [],
   "source": [
    "# выведем основную информацию о датафрейме events с помощью метода info():\n",
    "events.info()"
   ]
  },
  {
   "cell_type": "markdown",
   "id": "0b7c21e1",
   "metadata": {},
   "source": [
    "Датафрейм *events* содержит информацию о действиях пользователей в виде: дата и время - действие - id.  \n",
    "Пропущенных значений не обнаружено, на этапе предобработки следует привести названия столбцов к единому стилю и исправить формат в столбце с датой и временем на соответствующий."
   ]
  },
  {
   "cell_type": "code",
   "execution_count": null,
   "id": "20e7cf74",
   "metadata": {},
   "outputs": [],
   "source": [
    "# выведем первые 5 строк датафрейма sources\n",
    "sources.head()"
   ]
  },
  {
   "cell_type": "code",
   "execution_count": null,
   "id": "4cf98782",
   "metadata": {
    "scrolled": true
   },
   "outputs": [],
   "source": [
    "# выведем основную информацию о датафрейме sources с помощью метода info():\n",
    "sources.info()"
   ]
  },
  {
   "cell_type": "markdown",
   "id": "18fe49cd",
   "metadata": {},
   "source": [
    "Датафрейм *sources* содержит информацию об источниках привлечения пользователей в виде: id - источник.    \n",
    "Пропущенных значений также не обнаружено, на этапе предобработки следует исправить название столбца userId."
   ]
  },
  {
   "cell_type": "markdown",
   "id": "c2fffd26",
   "metadata": {},
   "source": [
    "## Предобработка данных  "
   ]
  },
  {
   "cell_type": "markdown",
   "id": "be7e586b",
   "metadata": {},
   "source": [
    "### Работа со стилем заголовков"
   ]
  },
  {
   "cell_type": "code",
   "execution_count": null,
   "id": "b3c36bf6",
   "metadata": {},
   "outputs": [],
   "source": [
    "# приведем названия столбцов датафрейма events к единому стилю\n",
    "events.rename(\n",
    "    {'event.time': 'event_time', 'event.name': 'event_name', 'user.id': 'user_id'}, inplace=True, axis=1)\n",
    "\n",
    "events.columns"
   ]
  },
  {
   "cell_type": "code",
   "execution_count": null,
   "id": "05ac1ab7",
   "metadata": {},
   "outputs": [],
   "source": [
    "# приведем название столбца userId в датафрейме к единому стилю\n",
    "sources.rename({'userId':'user_id'}, inplace=True, axis=1)\n",
    "\n",
    "sources.columns"
   ]
  },
  {
   "cell_type": "markdown",
   "id": "5bdc7b39",
   "metadata": {},
   "source": [
    "### Работа с типами данных "
   ]
  },
  {
   "cell_type": "code",
   "execution_count": null,
   "id": "f47d4fb0",
   "metadata": {},
   "outputs": [],
   "source": [
    "# посчитаем и сохраним время каждого события в секундах\n",
    "events['timestamp'] = events['event_time'].apply(\n",
    "    (lambda x: int(datetime.strptime(x, '%Y-%m-%d %H:%M:%S.%f').timestamp())))"
   ]
  },
  {
   "cell_type": "code",
   "execution_count": null,
   "id": "ad27f699",
   "metadata": {},
   "outputs": [],
   "source": [
    "# изменим тип данных в столбце с датой и округлим время до 1 секунды\n",
    "events['event_time'] = pd.to_datetime(events['event_time']).dt.round('1S')\n",
    "\n",
    "events.dtypes"
   ]
  },
  {
   "cell_type": "markdown",
   "id": "0a67ca7b",
   "metadata": {},
   "source": [
    "### Добавление данных "
   ]
  },
  {
   "cell_type": "markdown",
   "id": "566a65c8",
   "metadata": {},
   "source": [
    "Выделим из столбца с полной датой и временем отдельно дату и сохраним в отдельный столбец event_date:"
   ]
  },
  {
   "cell_type": "code",
   "execution_count": null,
   "id": "08793ea4",
   "metadata": {},
   "outputs": [],
   "source": [
    "# дата\n",
    "events['event_date'] = events['event_time'].dt.date"
   ]
  },
  {
   "cell_type": "markdown",
   "id": "c5b1dea5",
   "metadata": {},
   "source": [
    "Данные в остальных столбцах не требуют изменений, поэтому переходим к следующему разделу предобработки."
   ]
  },
  {
   "cell_type": "markdown",
   "id": "d9ea8361",
   "metadata": {},
   "source": [
    "### Работа с дубликатами"
   ]
  },
  {
   "cell_type": "markdown",
   "id": "7c4d09ed",
   "metadata": {},
   "source": [
    "#### Проверим данные на наличие явных дубликатов:"
   ]
  },
  {
   "cell_type": "code",
   "execution_count": null,
   "id": "661c0369",
   "metadata": {
    "scrolled": true
   },
   "outputs": [],
   "source": [
    "print('Количество явных дубликатов в датафрейме events:', events.duplicated().sum())"
   ]
  },
  {
   "cell_type": "code",
   "execution_count": null,
   "id": "d5c00bff",
   "metadata": {},
   "outputs": [],
   "source": [
    "print('Количество явных дубликатов в датафрейме sourсes:', sources.duplicated().sum())"
   ]
  },
  {
   "cell_type": "markdown",
   "id": "c2f2051e",
   "metadata": {},
   "source": [
    "Явных дубликатов в исходных данных не обнаружено."
   ]
  },
  {
   "cell_type": "markdown",
   "id": "d3f9f390",
   "metadata": {},
   "source": [
    "#### Перейдем к поиску неявных дубликатов:"
   ]
  },
  {
   "cell_type": "code",
   "execution_count": null,
   "id": "010a487e",
   "metadata": {},
   "outputs": [],
   "source": [
    "# проверим, какие источники представлены в датафрейме sourсes\n",
    "sources['source'].value_counts()"
   ]
  },
  {
   "cell_type": "markdown",
   "id": "c2dbc38f",
   "metadata": {},
   "source": [
    "В данных представлено всего 3 источника привлечения пользователей - yandex, google и объединенный для всех остальных источников - other. Неявных дубликатов среди источников не обнаружено."
   ]
  },
  {
   "cell_type": "code",
   "execution_count": null,
   "id": "4158e2f3",
   "metadata": {},
   "outputs": [],
   "source": [
    "# проверим, какие действия представлены в датафрейме events\n",
    "events['event_name'].value_counts()"
   ]
  },
  {
   "cell_type": "markdown",
   "id": "776ea3b3",
   "metadata": {},
   "source": [
    "Обнаружены несколько схожих пар действий:\n",
    "- contacts_show и show_contacts — просмотр номера телефона  \n",
    "- search_1 - search_7 - поиск в приложении    \n",
    "\n",
    "Предлагаю объединить эти схожие пары действий для удобства дальнейшего анализа:"
   ]
  },
  {
   "cell_type": "code",
   "execution_count": null,
   "id": "6f483b7b",
   "metadata": {},
   "outputs": [],
   "source": [
    "# изменим действие show_contacts на contacts_show\n",
    "events['event_name'].replace('show_contacts', 'contacts_show', inplace=True)\n",
    "\n",
    "# изменим действия search_1 - search_7 на search\n",
    "events['event_name'] = events['event_name'].str.replace('search_+\\d', 'search', regex=True)\n",
    "                              \n",
    "                            \n",
    "# проверим изменения\n",
    "events['event_name'].value_counts()"
   ]
  },
  {
   "cell_type": "markdown",
   "id": "988e3315",
   "metadata": {},
   "source": [
    "### Объединение датафреймов"
   ]
  },
  {
   "cell_type": "markdown",
   "id": "8ec0e047",
   "metadata": {},
   "source": [
    "Оба датафрейма содержат информацию о пользователях (user_id). Проверим их на пересечение:  "
   ]
  },
  {
   "cell_type": "code",
   "execution_count": null,
   "id": "6918267e",
   "metadata": {
    "scrolled": true
   },
   "outputs": [],
   "source": [
    "# сохраним уникальных пользователей из датафрейма events\n",
    "users_1 = events['user_id'].unique()\n",
    "\n",
    "print('Количество уникальных пользователей, датафрейм events:',len(users_1))"
   ]
  },
  {
   "cell_type": "code",
   "execution_count": null,
   "id": "8b56774e",
   "metadata": {
    "scrolled": true
   },
   "outputs": [],
   "source": [
    "# сохраним уникальных пользователей из датафрейма sourсes\n",
    "users_2 = sources['user_id'].unique()\n",
    "print('Количество уникальных пользователей, датафрейм sourсes:',len(users_2))"
   ]
  },
  {
   "cell_type": "markdown",
   "id": "be14bb36",
   "metadata": {},
   "source": [
    "Количество уникальных пользователей совпадает. Проверим на пересечение элементы множеств users_1 и users_2:"
   ]
  },
  {
   "cell_type": "code",
   "execution_count": null,
   "id": "e1a92dbb",
   "metadata": {},
   "outputs": [],
   "source": [
    "print(f'Количество совпадающих пользователей в датафреймах: {len(set(users_1) & set(users_2))}')"
   ]
  },
  {
   "cell_type": "markdown",
   "id": "68c449ce",
   "metadata": {},
   "source": [
    "ID пользователей полностью идентичны. Объединим датафреймы events и sourсes по столбцу user_id:"
   ]
  },
  {
   "cell_type": "code",
   "execution_count": null,
   "id": "153f1904",
   "metadata": {
    "scrolled": true
   },
   "outputs": [],
   "source": [
    "data = events.merge(sources, on='user_id', how='left')\n",
    "data.head()"
   ]
  },
  {
   "cell_type": "markdown",
   "id": "97c1e5d4",
   "metadata": {},
   "source": [
    "## Исследовательский анализ данных"
   ]
  },
  {
   "cell_type": "markdown",
   "id": "9a4a16b2",
   "metadata": {},
   "source": [
    "### Посчитаем, сколько колько всего действий и уникальных пользователей представлено в логах:"
   ]
  },
  {
   "cell_type": "code",
   "execution_count": null,
   "id": "6b3addff",
   "metadata": {
    "scrolled": true
   },
   "outputs": [],
   "source": [
    "# подсчет количества событий:\n",
    "print('Количество действий:', len(data))\n",
    "\n",
    "# подсчет количества уникальных пользователей:\n",
    "print('Всего уникальных пользователей в логах:', data['user_id'].nunique())"
   ]
  },
  {
   "cell_type": "markdown",
   "id": "8445ab90",
   "metadata": {},
   "source": [
    "Проверим, данными за какой период мы располагаем.  \n",
    "Найдем максимальную и минимальную дату исследования, а также визуализируем распределение данных во времени:"
   ]
  },
  {
   "cell_type": "code",
   "execution_count": null,
   "id": "53ddac81",
   "metadata": {},
   "outputs": [],
   "source": [
    "# определим период, за который представлены события в логах пользователей\n",
    "print('Начало исследования:', data['event_date'].min())\n",
    "print('Конец исследования:', data['event_date'].max())\n",
    "print('Период исследования:', data['event_date'].max() - data['event_date'].min())"
   ]
  },
  {
   "cell_type": "code",
   "execution_count": null,
   "id": "25071daf",
   "metadata": {},
   "outputs": [],
   "source": [
    "# визуализируем распределение данных во времени\n",
    "sns.histplot(data['event_time'], bins = 50).set(\n",
    "                                    title='Распределение действий пользователей по дням',\n",
    "                                    xlabel='Дата',                                   \n",
    "                                    ylabel='Количество пользователей')\n",
    "plt.xticks(rotation=45)\n",
    "plt.tight_layout()"
   ]
  },
  {
   "cell_type": "markdown",
   "id": "a40c27b6",
   "metadata": {},
   "source": [
    "Логи пользователей представлены за 27 дней. Данные имеются за весь период, распределены равномерно, поэтому в дальнейшем исследовании будет использован весь период целиком."
   ]
  },
  {
   "cell_type": "markdown",
   "id": "3e3223cc",
   "metadata": {},
   "source": [
    "### Посчитаем количество пользователей в разрезе источников привлечения:"
   ]
  },
  {
   "cell_type": "code",
   "execution_count": null,
   "id": "84268fb1",
   "metadata": {
    "scrolled": true
   },
   "outputs": [],
   "source": [
    "# посчитаем количество пользователей в зависимости от источника привлечения\n",
    "users_by_source = pd.DataFrame(\n",
    "    data.groupby('source')['user_id'].nunique().sort_values(ascending=False).reset_index())\n",
    "\n",
    "# переименуем столбцы\n",
    "users_by_source.columns = ['source', 'users_amount']\n",
    "# посчитаем долю каждой из групп пользователей от их общего количества\n",
    "users_by_source['share_of_users'] = round(users_by_source['users_amount'] / data['user_id'].nunique() * 100, 1)\n",
    "\n",
    "users_by_source.style.background_gradient(cmap='RdYlGn', subset='share_of_users')"
   ]
  },
  {
   "cell_type": "code",
   "execution_count": null,
   "id": "d65b5e55",
   "metadata": {
    "scrolled": false
   },
   "outputs": [],
   "source": [
    "# сгруппируем пользователей по источнику привлечения и дате\n",
    "event_by_source = data.groupby(['source', 'event_date']).agg({'user_id': 'nunique'}).reset_index()\n",
    "\n",
    "# визуализируем распределение пользователей по источникам\n",
    "fig = px.bar(event_by_source.sort_values(by='user_id', ascending=False), \n",
    "             x='event_date', \n",
    "             y='user_id', \n",
    "             color='source',\n",
    "             title='Распределение пользователей по источникам')   \n",
    "\n",
    "fig.update_layout(xaxis_title='Дата',\n",
    "                  yaxis_title='Количество пользователей')\n",
    "             \n",
    "fig.show('notebook')"
   ]
  },
  {
   "cell_type": "markdown",
   "id": "2b79116c",
   "metadata": {},
   "source": [
    "Самым популярным каналом привлечения пользователей является Яндекс - привлечено 45% от общего числа уникальных пользователей, второе место занимает группа других источников (other, 28.7% пользователей). Меньше всего привлечено пользователей через поисковую систему google - всего 26.3%. Следует обратить внимание на данный канал привлечения, так как google является одной из популярных поисковых систем, и может существенно увеличить приток новых пользователей в приложение."
   ]
  },
  {
   "cell_type": "markdown",
   "id": "58189ec0",
   "metadata": {},
   "source": [
    "### Посчитаем, сколько пользователей совершали каждое из действий:"
   ]
  },
  {
   "cell_type": "code",
   "execution_count": null,
   "id": "5301346f",
   "metadata": {
    "scrolled": true
   },
   "outputs": [],
   "source": [
    "# сгруппируем данные по типу действий и посчитаем количество пользователей для каждого действия\n",
    "users_amount = data.groupby('event_name').agg(\n",
    "           {'user_id': 'nunique'}).sort_values(\n",
    "                                                by='user_id', \n",
    "                                                ascending=False).reset_index()\n",
    "# переименуем столбцы\n",
    "users_amount.columns = ['event_name', 'users_amount']\n",
    "# посчитаем долю пользователей, совершивших каждое из действий, от общего количества пользователей\n",
    "users_amount['share_of_users'] = round(users_amount['users_amount'] / data['user_id'].nunique() * 100, 1)\n",
    "\n",
    "users_amount.style.background_gradient(cmap='RdYlGn', subset='share_of_users')"
   ]
  },
  {
   "cell_type": "markdown",
   "id": "8776efdf",
   "metadata": {},
   "source": [
    "Самое частое действие в приложении - показ рекомендованных объявлений, их увидели 65.2% пользователей.   \n",
    "На втором месте находится поиск - им воспользовались 38.8% пользователей. Около 34% пользователей просматривают карту и 25.5% фотографии товаров. Целевое действие - просмотр контактов, совершают всего около 23% пользователей, что говорит о довольно низкой конверсии в приложении.  \n",
    "\n",
    "Реже всего пользователи звонят через приложение (5% пользователей), кликают по рекомендованным объявлениям (7.5% пользователей) и добавляют товары в избранное (8.2% пользователей).  \n",
    "\n",
    "Показ рекомендованных объявлений (действие tips_show) является единственным действием, которое не инициируется пользователем, а происходит автоматически, то есть не отражает какие-либо поведенческие особенности самого пользователя."
   ]
  },
  {
   "cell_type": "markdown",
   "id": "e0a32a15",
   "metadata": {},
   "source": [
    "### Посчитаем, сколько приходится событий на каждого пользователя:"
   ]
  },
  {
   "cell_type": "code",
   "execution_count": null,
   "id": "6983eeb9",
   "metadata": {},
   "outputs": [],
   "source": [
    "# сгруппируем данные по user_id пользователей и посчитаем количество событий\n",
    "ev_per_user = data.groupby(['user_id'], as_index=False)\\\n",
    "    .agg({'event_time':'count'})\\\n",
    "    .rename(columns={'event_time':'event_count'})\\\n",
    "    .sort_values(by='event_count', ascending=False)\n",
    "ev_per_user"
   ]
  },
  {
   "cell_type": "code",
   "execution_count": null,
   "id": "d2bfb1b9",
   "metadata": {},
   "outputs": [],
   "source": [
    "# построим распределение количества событий на пользователя\n",
    "sns.histplot(ev_per_user['event_count'], bins = 50).set(\n",
    "                                    title='Распределение количества событий на пользователя',\n",
    "                                    xlabel='Количество событий на одного пользователя',                                   \n",
    "                                    ylabel='Количество пользователей')\n",
    "plt.xticks(rotation=90)\n",
    "plt.tight_layout()"
   ]
  },
  {
   "cell_type": "markdown",
   "id": "f0e3967a",
   "metadata": {},
   "source": [
    "Как мы видим, большая часть значений находится в диапазоне до 100 событий на одного пользователя.   \n",
    "Увеличим масштаб графика:"
   ]
  },
  {
   "cell_type": "code",
   "execution_count": null,
   "id": "bf183a4f",
   "metadata": {},
   "outputs": [],
   "source": [
    "sns.histplot(ev_per_user['event_count'], bins=100).set(\n",
    "    title='Распределение количества событий на пользователя',\n",
    "    xlabel='Количество событий на одного пользователя',                                   \n",
    "    ylabel='Количество пользователей',\n",
    "    xlim = [0, 100])\n",
    "\n",
    "plt.show()"
   ]
  },
  {
   "cell_type": "code",
   "execution_count": null,
   "id": "52c0da16",
   "metadata": {},
   "outputs": [],
   "source": [
    "# посмотрим на характерные значения сведений о количестве событий на пользователя\n",
    "ev_per_user.describe()"
   ]
  },
  {
   "cell_type": "markdown",
   "id": "e8d258e3",
   "metadata": {},
   "source": [
    "Минимальное количество событий на пользователя - одно, максимальное - 478. \n",
    "Видно, что в распределении присутствуют аномально большие значения, так как среднее количество событий на пользователя - 17, а медианное - 9."
   ]
  },
  {
   "cell_type": "code",
   "execution_count": null,
   "id": "2768259b",
   "metadata": {},
   "outputs": [],
   "source": [
    "# построим график боксплот, чтобы посмотреть на распределение без аномалий\n",
    "import warnings\n",
    "warnings.simplefilter('ignore')\n",
    "\n",
    "sns.boxplot(ev_per_user['event_count'], showfliers=False).set(\n",
    "    title='Распределение количества событий на одного пользователя',\n",
    "    xlabel='Количество событий на одного пользователя',\n",
    "    ylabel='Количество пользователей')\n",
    "\n",
    "plt.show()"
   ]
  },
  {
   "cell_type": "markdown",
   "id": "af923436",
   "metadata": {},
   "source": [
    "В основном, на каждого пользователя приходится от 5 до 17 событий.   "
   ]
  },
  {
   "cell_type": "code",
   "execution_count": null,
   "id": "fbbf45c2",
   "metadata": {},
   "outputs": [],
   "source": [
    "# посчитаем выборочные процентили по количеству событий на пользователя (95-й и 99-й):  \n",
    "np.percentile(ev_per_user['event_count'], [95, 99])"
   ]
  },
  {
   "cell_type": "markdown",
   "id": "9db90a38",
   "metadata": {},
   "source": [
    "Не более 5% пользователей совершали больше 59 действий в приложении и не более 1% более 132 действий.  \n",
    "Примем количество событий больше 59 - за аномальное и исключим из дальнейшего анализа:"
   ]
  },
  {
   "cell_type": "code",
   "execution_count": null,
   "id": "f5612423",
   "metadata": {},
   "outputs": [],
   "source": [
    "ev_per_user_filtered = ev_per_user.query('event_count <= 59')\n",
    "ev_per_user_filtered.head()"
   ]
  },
  {
   "cell_type": "code",
   "execution_count": null,
   "id": "8ff82f74",
   "metadata": {},
   "outputs": [],
   "source": [
    "# посмотрим на характерные значения сведений о количестве событий на пользователя по очищенным данным\n",
    "ev_per_user_filtered.describe()"
   ]
  },
  {
   "cell_type": "markdown",
   "id": "34853d30",
   "metadata": {},
   "source": [
    "По очищенным данным, среднее количество событий на пользователя теперь 12, медианное - 8."
   ]
  },
  {
   "cell_type": "code",
   "execution_count": null,
   "id": "6adfe46e",
   "metadata": {},
   "outputs": [],
   "source": [
    "# посчитаем количество потерянных событий после фильтрации\n",
    "print('Потеря событий: {:.1%}'.format(\n",
    "    1 - (len(ev_per_user_filtered) / len(ev_per_user))))"
   ]
  },
  {
   "cell_type": "markdown",
   "id": "1cf2aa40",
   "metadata": {},
   "source": [
    "Доля потерянных событий составляет 4.9%, следовательно влияние фильтрации событий на дальнейший анализ будет минимально, либо совсем отсутствовать. Применим фильтрацию к исходным данным:"
   ]
  },
  {
   "cell_type": "code",
   "execution_count": null,
   "id": "1f1af41b",
   "metadata": {},
   "outputs": [],
   "source": [
    "data = data.loc[data['user_id'].isin(ev_per_user_filtered['user_id'])]"
   ]
  },
  {
   "cell_type": "markdown",
   "id": "fe3fb6b2",
   "metadata": {},
   "source": [
    "### Определим время бездействия пользователей"
   ]
  },
  {
   "cell_type": "code",
   "execution_count": null,
   "id": "81768213",
   "metadata": {},
   "outputs": [],
   "source": [
    "# остортируем события по id пользователей + дате и времени \n",
    "data.sort_values(['user_id', 'event_time'], inplace=True)\n",
    "\n",
    "# сгруппируем события по id пользователей\n",
    "t_diff = data.groupby('user_id', as_index=False).agg({'timestamp':list})\n",
    "\n",
    "# посчитаем разницу между соседними событиями и сохраним ее в столбец diffs\n",
    "t_diff['diffs'] = t_diff['timestamp'].apply(lambda x: [x[i] - x[i - 1] for i in range(1, len(x))])\n",
    "\n",
    "# исключим сессии с одним событием\n",
    "t_diff = t_diff[t_diff['timestamp'].apply(lambda x: len(x) > 1)]\n",
    "\n",
    "t_diff.head()"
   ]
  },
  {
   "cell_type": "code",
   "execution_count": null,
   "id": "3e2be302",
   "metadata": {},
   "outputs": [],
   "source": [
    "# сохраним в переменную all_diffs посчитанное время между событиями\n",
    "all_diffs = t_diff['diffs'].explode()\n",
    "\n",
    "# посмотрим на характерные значения времени между событиями\n",
    "print('Среднее время между событиями:', round(all_diffs.mean() / 60, 2), 'минут')\n",
    "print('Медианное время между событиями:', round(all_diffs.median() / 60, 2), 'минут')"
   ]
  },
  {
   "cell_type": "markdown",
   "id": "c9add6c6",
   "metadata": {},
   "source": [
    "Посчитаем процентили, чтобы выявить нехарактерные значения для времени между соседними событиями:"
   ]
  },
  {
   "cell_type": "code",
   "execution_count": null,
   "id": "52d3e910",
   "metadata": {},
   "outputs": [],
   "source": [
    "np.percentile(all_diffs, [90, 95, 99]) / 60"
   ]
  },
  {
   "cell_type": "markdown",
   "id": "34839dc4",
   "metadata": {},
   "source": [
    "Нехарактерными значениями времени между событиями являются:   \n",
    "17.78 минут, 903.9 минуты (около 15 часов), 8697.44 минут ( ≈ 144 часов или около 6 суток)."
   ]
  },
  {
   "cell_type": "markdown",
   "id": "a4ebcdba",
   "metadata": {},
   "source": [
    "Для дальнейшего исследования, выберем значение 90 процентиля (17.78 минут) за значение **тайм-аута** - такого интервала времени бездействия пользователя, после которого считается, что пользовательская сессия закончилась.   \n",
    "Для удобства расчетов, округлим значение до **18 минут:**"
   ]
  },
  {
   "cell_type": "markdown",
   "id": "db38c2c3",
   "metadata": {},
   "source": [
    "### Выделим сессии пользователей по принципу тайм-аута\n",
    "\n",
    "Cоздадим отдельный столбец session_id с номерами уникальных сессий пользователей:"
   ]
  },
  {
   "cell_type": "code",
   "execution_count": null,
   "id": "df1edd9b",
   "metadata": {},
   "outputs": [],
   "source": [
    "# осотрируем данные по значениям user_id и дате со временем события\n",
    "data = data.sort_values(['user_id', 'event_time'])\n",
    "\n",
    "# для каждого пользователя определим разницу во времени между сессиями более 11 минут\n",
    "g = (data.groupby('user_id')['event_time'].diff() > pd.Timedelta('18Min')).cumsum()\n",
    "\n",
    "# создаем счетчик cессий\n",
    "data['session_id'] = data.groupby(['user_id', g], sort=False).ngroup() + 1\n",
    "\n",
    "# проверим результат\n",
    "data.head()"
   ]
  },
  {
   "cell_type": "markdown",
   "id": "f07d819b",
   "metadata": {},
   "source": [
    "### Поиск сценариев"
   ]
  },
  {
   "cell_type": "markdown",
   "id": "ed15decf",
   "metadata": {},
   "source": [
    "Для выявления сценариев поведения пользователей воспользуемся диаграммой Санкея. Данная диаграмма позволит визуалилировать сценарии поведения пользователей в приложении, и определить самые популярные из них. Толщина потока на диаграме будет отображать популярность того или иного сценария. Подготовим данные для построения диаграммы:"
   ]
  },
  {
   "cell_type": "code",
   "execution_count": null,
   "id": "aec7df25",
   "metadata": {},
   "outputs": [],
   "source": [
    "# удалим повторяющиеся события в рамках сессий\n",
    "table = data.drop_duplicates(subset=['session_id', 'event_name'], keep='last')"
   ]
  },
  {
   "cell_type": "markdown",
   "id": "456ebcf1",
   "metadata": {},
   "source": [
    "Так как действие tips_show - показ рекомендованных объявлений, генерируется автоматически самим сервисом, то есть пользователи его не инициируют самостоятельно, предлагаю его исключить перед построением диаграммы:"
   ]
  },
  {
   "cell_type": "code",
   "execution_count": null,
   "id": "428ef466",
   "metadata": {},
   "outputs": [],
   "source": [
    "# исключим действие tips_show\n",
    "table = table.query('event_name != \"tips_show\"')"
   ]
  },
  {
   "cell_type": "code",
   "execution_count": null,
   "id": "e2c6f932",
   "metadata": {},
   "outputs": [],
   "source": [
    "# переименуем действия пользователей на русский язык для наглядности:\n",
    "table['event_name'] = table['event_name'].replace(\n",
    "    {'advert_open': 'открытие карточки',\n",
    "     'photos_show': 'просмотр фотографий',\n",
    "     'tips_click': 'клик по рекомендации',\n",
    "     'contacts_show': 'просмотр контактов',\n",
    "     'contacts_call': 'звонок',\n",
    "     'map': 'открытие карты',\n",
    "     'search': 'поиск',\n",
    "     'favorites_add': 'добавление в избранное'}, regex=True)"
   ]
  },
  {
   "cell_type": "markdown",
   "id": "35a42098",
   "metadata": {},
   "source": [
    "Напишем функцию, которая выполнит следующие преобразования исходной таблицы:\n",
    "- события каждого пользователя отсортирует по времени;\n",
    "- создаст пары событий source - target;\n",
    "- добавит шаг между этими событиями для построения диаграммы;\n",
    "- удалит столбец event_name, так как в дальнейших преобразованиях он использоваться не будет:"
   ]
  },
  {
   "cell_type": "code",
   "execution_count": null,
   "id": "aa1a3e29",
   "metadata": {},
   "outputs": [],
   "source": [
    "def add_features(df):\n",
    "    \n",
    "    \"\"\"Функция генерации новых столбцов для исходной таблицы\n",
    "\n",
    "    Args:\n",
    "        df (pd.DataFrame): исходная таблица.\n",
    "    Returns:\n",
    "        pd.DataFrame: таблица с новыми признаками.\n",
    "    \"\"\"\n",
    "    \n",
    "    # сортируем по id сессии и времени\n",
    "    sorted_df = df.sort_values(by=['session_id', 'event_time']).copy()\n",
    "    # добавляем шаги событий\n",
    "    sorted_df['step'] = sorted_df.groupby('session_id').cumcount() + 1\n",
    "    \n",
    "    # добавляем узлы-источники и целевые узлы\n",
    "    # узлы-источники - это сами события\n",
    "    sorted_df['source'] = sorted_df['event_name']\n",
    "    # добавляем целевые узлы\n",
    "    sorted_df['target'] = sorted_df.groupby('session_id')['source'].shift(-1)\n",
    "    \n",
    "    # возврат таблицы без имени событий\n",
    "    return sorted_df.drop(['event_name'], axis=1)\n",
    "  \n",
    "# преобразуем таблицу\n",
    "table = add_features(table)\n",
    "table.head()"
   ]
  },
  {
   "cell_type": "markdown",
   "id": "b3648069",
   "metadata": {},
   "source": [
    "Выберем количество шагов для нашей будущей диаграммы. Чем больше шагов, тем больше графических объектов в итоге будет отображено. Для этого посмотрим на распределение уникальных событий (переходов) в разрезе сессий:"
   ]
  },
  {
   "cell_type": "code",
   "execution_count": null,
   "id": "0ab3fb6e",
   "metadata": {},
   "outputs": [],
   "source": [
    "# сгруппируем данные по id сессии и номеру шага\n",
    "steps = table.groupby(['session_id', 'step'], as_index=False).agg({'source':list,'target':list})\n",
    "steps.head()"
   ]
  },
  {
   "cell_type": "code",
   "execution_count": null,
   "id": "f05c3cf7",
   "metadata": {},
   "outputs": [],
   "source": [
    "# посмотрим на распределение количества шагов\n",
    "steps['step'].value_counts()"
   ]
  },
  {
   "cell_type": "markdown",
   "id": "30467d55",
   "metadata": {},
   "source": [
    "Чаще всего шагов в разрезе сессий пользователей представлено от 1 до 4. Ограничим диаграмму 4 шагами.  \n",
    "Удалим все пары source-target, шаг которых превышает 4 и сохраним полученную таблицу в отдельную переменную:"
   ]
  },
  {
   "cell_type": "code",
   "execution_count": null,
   "id": "db7b64eb",
   "metadata": {},
   "outputs": [],
   "source": [
    "df_comp = table[table['step'] <= 4].copy().reset_index(drop=True)"
   ]
  },
  {
   "cell_type": "markdown",
   "id": "3a28ef94",
   "metadata": {},
   "source": [
    "Важным следующим шагом в подготовке данных для построения диаграммы является создание индексов для source. На каждом следующем шаге target становится source, и чтобы диаграмма коррректно генерировалась нужна правильная индексация source на каждом шаге.  \n",
    "\n",
    "Создадим словарь, в котором ключи - это шаги, а значения - словари со списком названий source и соответствующих им индексов. На следующем шаге индексы source будут продолжать нумерацию, а не начинать с 0, при том, что имена событий могут повторяться. Затем для каждого шага объединим имена и индексы в еще один вложенный словарь. Все вложенные списки и словари потребуются в дальнейшем для генерации меток, подписей и размера каналов между source и target.  "
   ]
  },
  {
   "cell_type": "code",
   "execution_count": null,
   "id": "cfd248c1",
   "metadata": {},
   "outputs": [],
   "source": [
    "def get_source_index(df):\n",
    "    \n",
    "    \"\"\"Функция генерации индексов source\n",
    "\n",
    "    Args:\n",
    "        df (pd.DataFrame): исходная таблица с признаками step, source, target.\n",
    "    Returns:\n",
    "        dict: словарь с индексами, именами и соответсвиями индексов именам source.\n",
    "    \"\"\"\n",
    "    \n",
    "    res_dict = {}\n",
    "    \n",
    "    count = 0\n",
    "    # получаем индексы источников\n",
    "    for no, step in enumerate(df['step'].unique().tolist()):\n",
    "        # получаем уникальные наименования для шага\n",
    "        res_dict[no+1] = {}\n",
    "        res_dict[no+1]['sources'] = df[df['step'] == step]['source'].unique().tolist()\n",
    "        res_dict[no+1]['sources_index'] = []\n",
    "        for i in range(len(res_dict[no+1]['sources'])):\n",
    "            res_dict[no+1]['sources_index'].append(count)\n",
    "            count += 1\n",
    "            \n",
    "    # соединим списки\n",
    "    for key in res_dict:\n",
    "        res_dict[key]['sources_dict'] = {}\n",
    "        for name, no in zip(res_dict[key]['sources'], res_dict[key]['sources_index']):\n",
    "            res_dict[key]['sources_dict'][name] = no\n",
    "    return res_dict\n",
    "  \n",
    "\n",
    "# создаем словарь\n",
    "source_indexes = get_source_index(df_comp)"
   ]
  },
  {
   "cell_type": "markdown",
   "id": "3cc05104",
   "metadata": {},
   "source": [
    "Для более наглядного представления можно разукрасить каждый source-target в разные цвета.  \n",
    "Цвет зададим заранее подготовленной палитрой. Для этого создадим еще один словарь, в котором будут храниться соответствия source:color"
   ]
  },
  {
   "cell_type": "code",
   "execution_count": null,
   "id": "c3da5cb3",
   "metadata": {},
   "outputs": [],
   "source": [
    "# функция для задания цветов парам source-target\n",
    "def colors_for_sources(mode):\n",
    "    \n",
    "    \"\"\"Генерация цветов rgba\n",
    "\n",
    "    Args:\n",
    "        mode (str): сгенерировать случайные цвета, если 'random', а если 'custom' - \n",
    "                    использовать заранее подготовленные\n",
    "    Returns:\n",
    "        dict: словарь с цветами, соответствующими каждому индексу\n",
    "    \"\"\"\n",
    "    # словарь, в который сложим цвета в соответствии с индексом\n",
    "    colors_dict = {}\n",
    "    \n",
    "    if mode == 'random':\n",
    "        # генерим случайные цвета\n",
    "        for label in df_comp['source'].unique():\n",
    "            r, g, b = np.random.randint(255, size=3)            \n",
    "            colors_dict[label] = f'rgba({r}, {g}, {b}, 1)'\n",
    "            \n",
    "    elif mode == 'custom':\n",
    "        # присваиваем ранее подготовленные цвета\n",
    "        colors = requests.get('https://raw.githubusercontent.com/rusantsovsv/senkey_tutorial/main/json/colors_senkey.json').json()\n",
    "        for no, label in enumerate(df_comp['source'].unique()):\n",
    "            colors_dict[label] = colors['custom_colors'][no]\n",
    "            \n",
    "    return colors_dict  "
   ]
  },
  {
   "cell_type": "code",
   "execution_count": null,
   "id": "da6bafff",
   "metadata": {
    "scrolled": true
   },
   "outputs": [],
   "source": [
    "# генерируем цвета из своего списка\n",
    "colors_dict = colors_for_sources(mode='custom')\n",
    "colors_dict"
   ]
  },
  {
   "cell_type": "markdown",
   "id": "dadd22b6",
   "metadata": {},
   "source": [
    "Диаграмму будем отрисовывать с помощью Plotly. Для корректной (и более полной) отрисовки нужны следующие данные:  \n",
    "- sources - список с индексами source  \n",
    "- targets - список с индексами target  \n",
    "- values - количество уникальных пользователей, совершивших переход между узлами source-target (\"объем\" потока между узлами)  \n",
    "- labels - названия узлов  \n",
    "- colors_labels - цвет узлов  \n",
    "- link_color - цвет потоков между узлами  \n",
    "- link_text - дополнительная информация.  \n",
    "\n",
    "Следующие 2 функции помогут создать словарь с этими данными: "
   ]
  },
  {
   "cell_type": "code",
   "execution_count": null,
   "id": "8f35b4de",
   "metadata": {},
   "outputs": [],
   "source": [
    "# расчет количества уникальных пользователей в процентах\n",
    "def percent_users(sources, targets, values):\n",
    "    \n",
    "    \"\"\"\n",
    "    Расчет уникальных id в процентах (для вывода в hover text каждого узла)\n",
    "    \n",
    "    Args:\n",
    "        sources (list): список с индексами source.\n",
    "        targets (list): список с индексами target.\n",
    "        values (list): список с \"объемами\" потоков.\n",
    "        \n",
    "    Returns:\n",
    "        list: список с \"объемами\" потоков в процентах\n",
    "    \"\"\"\n",
    "    \n",
    "    # объединим источники и метки и найдем пары\n",
    "    zip_lists = list(zip(sources, targets, values))\n",
    "    \n",
    "    new_list = []\n",
    "    \n",
    "    # подготовим список словарь с общим объемом трафика в узлах\n",
    "    unique_dict = {}\n",
    "    \n",
    "    # проходим по каждому узлу\n",
    "    for source, target, value in zip_lists:\n",
    "        if source not in unique_dict:\n",
    "            # находим все источники и считаем общий трафик\n",
    "            unique_dict[source] = 0\n",
    "            for sr, tg, vl in zip_lists:\n",
    "                if sr == source:\n",
    "                    unique_dict[source] += vl\n",
    "                    \n",
    "    # считаем проценты\n",
    "    for source, target, value in zip_lists:\n",
    "        new_list.append(round(100 * value / unique_dict[source], 1))\n",
    "    \n",
    "    return new_list"
   ]
  },
  {
   "cell_type": "code",
   "execution_count": null,
   "id": "f429f542",
   "metadata": {},
   "outputs": [],
   "source": [
    "# создание словаря с данными для отрисовки диаграммы\n",
    "def lists_for_plot(source_indexes=source_indexes, colors=colors_dict, frac=10):\n",
    "    \n",
    "    \"\"\"\n",
    "    Создаем необходимые для отрисовки диаграммы переменные списков и возвращаем\n",
    "    их в виде словаря\n",
    "    \n",
    "    Args:\n",
    "        source_indexes (dict): словарь с именами и индексами source.\n",
    "        colors (dict): словарь с цветами source.\n",
    "        frac (int): ограничение на минимальный \"объем\" между узлами.\n",
    "        \n",
    "    Returns:\n",
    "        dict: словарь со списками, необходимыми для диаграммы.\n",
    "    \"\"\"\n",
    "    \n",
    "    sources = []\n",
    "    targets = []\n",
    "    values = []\n",
    "    labels = []\n",
    "    link_color = []\n",
    "    link_text = []\n",
    "\n",
    "    # проходим по каждому шагу\n",
    "    for step in tqdm(sorted(df_comp['step'].unique()), desc='Шаг'):\n",
    "        if step + 1 not in source_indexes:\n",
    "            continue\n",
    "\n",
    "        # получаем индекс источника\n",
    "        temp_dict_source = source_indexes[step]['sources_dict']\n",
    "\n",
    "        # получаем индексы цели\n",
    "        temp_dict_target = source_indexes[step+1]['sources_dict']\n",
    "\n",
    "        # проходим по каждой возможной паре, считаем количество таких пар\n",
    "        for source, index_source in tqdm(temp_dict_source.items()):\n",
    "            for target, index_target in temp_dict_target.items():\n",
    "                # делаем срез данных и считаем количество id            \n",
    "                temp_df = df_comp[(df_comp['step'] == step)&(df_comp['source'] == source)&(df_comp['target'] == target)]\n",
    "                value = len(temp_df)\n",
    "                # проверяем минимальный объем потока и добавляем нужные данные\n",
    "                if value > frac:\n",
    "                    sources.append(index_source)\n",
    "                    targets.append(index_target)\n",
    "                    values.append(value)\n",
    "                    # делаем поток прозрачным для лучшего отображения\n",
    "                    link_color.append(colors[source].replace(', 1)', ', 0.2)'))\n",
    "                    \n",
    "    labels = []\n",
    "    colors_labels = []\n",
    "    for key in source_indexes:\n",
    "        for name in source_indexes[key]['sources']:\n",
    "            labels.append(name)\n",
    "            colors_labels.append(colors[name])\n",
    "            \n",
    "    # посчитаем проценты всех потоков\n",
    "    perc_values = percent_users(sources, targets, values)\n",
    "    \n",
    "    # добавим значения процентов для howertext\n",
    "    link_text = []\n",
    "    for perc in perc_values:\n",
    "        link_text.append(f\"{perc}%\")\n",
    "    \n",
    "    # возвратим словарь с вложенными списками\n",
    "    return {'sources': sources, \n",
    "            'targets': targets, \n",
    "            'values': values, \n",
    "            'labels': labels, \n",
    "            'colors_labels': colors_labels, \n",
    "            'link_color': link_color, \n",
    "            'link_text': link_text}"
   ]
  },
  {
   "cell_type": "code",
   "execution_count": null,
   "id": "9a93e392",
   "metadata": {},
   "outputs": [],
   "source": [
    "# создаем словарь\n",
    "data_for_plot = lists_for_plot()"
   ]
  },
  {
   "cell_type": "markdown",
   "id": "a9f7c2ca",
   "metadata": {},
   "source": [
    "Приступим к созданию объекта диаграммы.   \n",
    "Напишем функцию, которая построит диаграмму Санкея, используя подготовленные данные:"
   ]
  },
  {
   "cell_type": "code",
   "execution_count": null,
   "id": "86960e6f",
   "metadata": {},
   "outputs": [],
   "source": [
    "def plot_senkey_diagram(data_dict=data_for_plot):    \n",
    "    \n",
    "    \"\"\"\n",
    "    Функция для генерации объекта диаграммы Сенкей \n",
    "    \n",
    "    Args:\n",
    "        data_dict (dict): словарь со списками данных для построения.\n",
    "        \n",
    "    Returns:\n",
    "        plotly.graph_objs._figure.Figure: объект изображения.\n",
    "    \"\"\"\n",
    "    \n",
    "    fig = go.Figure(data=[go.Sankey(\n",
    "        domain = dict(\n",
    "          x =  [0,1],\n",
    "          y =  [0,1]\n",
    "        ),\n",
    "        orientation = \"h\",\n",
    "        valueformat = \".0f\",\n",
    "        node = dict(\n",
    "          pad = 50,\n",
    "          thickness = 15,\n",
    "          line = dict(color = \"black\", width = 0.1),\n",
    "          label = data_dict['labels'],\n",
    "          color = data_dict['colors_labels']\n",
    "        ),\n",
    "        link = dict(\n",
    "          source = data_dict['sources'],\n",
    "          target = data_dict['targets'],\n",
    "          value = data_dict['values'],\n",
    "          label = data_dict['link_text'],\n",
    "          color = data_dict['link_color']\n",
    "      ))])\n",
    "    fig.update_layout(title_text=\"Диаграмма Санкея, визуализация сценариев поведения пользователей\", font_size=10, width=1000, height=600)\n",
    "    \n",
    "    # возвращаем объект диаграммы\n",
    "    return fig"
   ]
  },
  {
   "cell_type": "code",
   "execution_count": null,
   "id": "0bea006e",
   "metadata": {
    "scrolled": false
   },
   "outputs": [],
   "source": [
    "# сохраняем диаграмму в переменную\n",
    "senkey_diagram = plot_senkey_diagram()\n",
    "\n",
    "# отобразим полученную диаграмму\n",
    "senkey_diagram.show()"
   ]
  },
  {
   "cell_type": "markdown",
   "id": "1c25a797",
   "metadata": {},
   "source": [
    "Исходя из анализа действий пользователей в разрезе сессий, можно сделать следующие выводы:  \n",
    "\n",
    "К просмотру контактов переходят:  \n",
    "- 45% пользователей, кликнувших по рекомендованному объявлению  \n",
    "- 39% пользователей, которые просматривали фотографии в объявлении \n",
    "- 18.4% пользователей, которые открывали карту  \n",
    "- 17.8% пользователей, которые добавили объявление в избранное  \n",
    "- 17.3% пользователей, которые открывали карточку объявления   \n",
    "- 15.3% пользователей, которые воспользовались поиском  \n",
    "\n",
    "Самыми популярными сценариями поведения пользователей, приводящими к целевому действию (просмотр контактов), являются:  \n",
    "\n",
    "- **Поиск -> просмотр фотографий -> просмотр контактов**     \n",
    "48.1% пользователей, которые воспользовались поиском, переходят к просмотру фотографий объявления, и 60.7% пользователей, просмотревших фотографии, затем просматривают контакты владельца объявления   \n",
    "- **Открытие карты -> открытие карточки объявления -> просмотр контактов**    \n",
    "48.6% пользователей, которые открыли карту, просматривают карточку объявления, и 34.7% пользователей, открывших карточку объявления, переходят к просмотру контактов владельца объявления  \n",
    "- **Просмотр фотографий -> просмотр контактов -> звонок**   \n",
    "39% пользователей, которые просматривали фотографии в объявлении, переходят к просмотру контактов владельца объявления, и 73.4% пользователей, просмотревших контакты, совершают звонок через приложение"
   ]
  },
  {
   "cell_type": "markdown",
   "id": "afaf3b30",
   "metadata": {},
   "source": [
    "### Построим воронки по основным сценариям поведения в разрезе уникальных пользователей"
   ]
  },
  {
   "cell_type": "markdown",
   "id": "e7f21798",
   "metadata": {},
   "source": [
    "#### Сценарий 1:  поиск -> просмотр фотографий -> просмотр контактов:"
   ]
  },
  {
   "cell_type": "code",
   "execution_count": null,
   "id": "1e53e09d",
   "metadata": {
    "scrolled": true
   },
   "outputs": [],
   "source": [
    "# сгруппируем данные по id пользователей, оставив их уникальные действия в системе\n",
    "grouped_by_id = data.groupby('user_id').agg({'event_name': 'unique'}).reset_index()\n",
    "grouped_by_id.head()"
   ]
  },
  {
   "cell_type": "code",
   "execution_count": null,
   "id": "345ebbca",
   "metadata": {},
   "outputs": [],
   "source": [
    "# отберем пользователей, совершивших поиск\n",
    "users_step_1 = grouped_by_id[grouped_by_id['event_name'].apply(lambda x: 'search' in x)]\n",
    "# отберем пользователей, просмотревших фотографии, среди тех, кто совершал поиск\n",
    "users_step_2 = users_step_1[users_step_1['event_name'].apply(lambda x: 'photos_show' in x)]\n",
    "# отберем пользователей, просмотревших контакты, среди тех, кто совершал поиск и просматривал фотографии\n",
    "users_step_3 = users_step_2[users_step_2['event_name'].apply(lambda x: 'contacts_show' in x)]"
   ]
  },
  {
   "cell_type": "code",
   "execution_count": null,
   "id": "5293d112",
   "metadata": {},
   "outputs": [],
   "source": [
    "# сохраним в переменную scen_1 количество пользователей на каждом этапе сценария\n",
    "scen_1 = pd.DataFrame(\n",
    "            data = {'event_name': ['search', 'photos_show', 'contacts_show'],\\\n",
    "                    'users_amount': [users_step_1['user_id'].nunique(), \n",
    "                                     users_step_2['user_id'].nunique(),\n",
    "                                     users_step_3['user_id'].nunique()]})\n",
    "scen_1"
   ]
  },
  {
   "cell_type": "code",
   "execution_count": null,
   "id": "5e56c11d",
   "metadata": {
    "scrolled": true
   },
   "outputs": [],
   "source": [
    "# считаем конверсию для первого шага\n",
    "first_step_conversion = scen_1[:1]['users_amount'].values / data['user_id'].nunique() * 100\n",
    "\n",
    "# считаем конверсию для 2 и 3 шагов\n",
    "scen_1['conversion_by_step'] = [*first_step_conversion] + ((scen_1[1:]['users_amount'].values \n",
    "                                / scen_1[: len(scen_1) - 1]['users_amount'].values)*100).tolist()\n",
    "# отобразим результат\n",
    "scen_1.style.background_gradient(cmap='RdYlGn', subset='conversion_by_step')"
   ]
  },
  {
   "cell_type": "code",
   "execution_count": null,
   "id": "aac1da6c",
   "metadata": {},
   "outputs": [],
   "source": [
    "# построим воронку для первого сценария\n",
    "fig = go.Figure(go.Funnel(y = scen_1['event_name'],\n",
    "                          x = scen_1['users_amount'],\n",
    "                          opacity = 0.6,\n",
    "                          textposition = 'inside',\n",
    "                          textinfo = 'value + percent previous'))\n",
    "fig.update_layout(title_text='Воронка событий, сценарий: поиск -> просмотр фотографий -> просмотр контактов')\n",
    "fig.show()"
   ]
  },
  {
   "cell_type": "markdown",
   "id": "3541b4c4",
   "metadata": {},
   "source": [
    "Конверсия из шага в шаг в первом сценарии поведения пользователей имеет довольно низкие показатели:  \n",
    "- Около 39% пользователей, воспользовавшихся поиском, переходят к просмотру фотографий  \n",
    "- Около 29% пользователей, воспользовавшихся поиском и просмотревших фотографии, просматривают контакты владельца объявления "
   ]
  },
  {
   "cell_type": "markdown",
   "id": "78a3cd99",
   "metadata": {},
   "source": [
    "#### Сценарий 2: открытие карты -> открытие карточки объявления -> просмотр контактов:"
   ]
  },
  {
   "cell_type": "code",
   "execution_count": null,
   "id": "7d7ee904",
   "metadata": {},
   "outputs": [],
   "source": [
    "# отберем пользователей, открывших карту\n",
    "users_step_1 = grouped_by_id[grouped_by_id['event_name'].apply(lambda x: 'map' in x)]\n",
    "# отберем пользователей, открывших карточку объявления, среди тех, кто открывал карту\n",
    "users_step_2 = users_step_1[users_step_1['event_name'].apply(lambda x: 'advert_open' in x)]\n",
    "# отберем пользователей, просмотревших контакты, среди тех, кто открывал карту и карточку объявления\n",
    "users_step_3 = users_step_2[users_step_2['event_name'].apply(lambda x: 'contacts_show' in x)]"
   ]
  },
  {
   "cell_type": "code",
   "execution_count": null,
   "id": "408b9c79",
   "metadata": {},
   "outputs": [],
   "source": [
    "# сохраним в переменную scen_2 количество пользователей на каждом этапе сценария\n",
    "scen_2 = pd.DataFrame(\n",
    "            data = {'event_name': ['map', 'advert_open', 'contacts_show'],\\\n",
    "                    'users_amount': [users_step_1['user_id'].nunique(), \n",
    "                                     users_step_2['user_id'].nunique(),\n",
    "                                     users_step_3['user_id'].nunique()]})\n",
    "scen_2"
   ]
  },
  {
   "cell_type": "code",
   "execution_count": null,
   "id": "ea73b8d6",
   "metadata": {},
   "outputs": [],
   "source": [
    "# считаем конверсию для первого шага\n",
    "first_step_conversion = scen_2[:1]['users_amount'].values / data['user_id'].nunique() * 100\n",
    "\n",
    "# считаем конверсию для 2 и 3 шагов\n",
    "scen_2['conversion_by_step'] = [*first_step_conversion] + ((scen_2[1:]['users_amount'].values \n",
    "                                / scen_2[: len(scen_2) - 1]['users_amount'].values)*100).tolist()\n",
    "# отобразим результат\n",
    "scen_2.style.background_gradient(cmap='RdYlGn', subset='conversion_by_step')"
   ]
  },
  {
   "cell_type": "code",
   "execution_count": null,
   "id": "195bdea2",
   "metadata": {
    "scrolled": false
   },
   "outputs": [],
   "source": [
    "# построим воронку для второго сценария\n",
    "fig = go.Figure(go.Funnel(y = scen_2['event_name'],\n",
    "                          x = scen_2['users_amount'],\n",
    "                          opacity = 0.6,\n",
    "                          textposition = 'inside',\n",
    "                          textinfo = 'value + percent previous'))\n",
    "fig.update_layout(\n",
    "    title_text='Воронка событий, сценарий: открытие карты -> открытие карточки объявления -> просмотр контактов')\n",
    "fig.show()"
   ]
  },
  {
   "cell_type": "markdown",
   "id": "842ef77f",
   "metadata": {},
   "source": [
    "Показатели конверсии во втором сценарии поведения пользователей в среднем ниже:  \n",
    "- Около 34% пользователей, открывших карту, открывают карточку объявления    \n",
    "- Всего 13% пользователей, открывших карту и карточку объявления, просматривают контакты владельца объявления "
   ]
  },
  {
   "cell_type": "markdown",
   "id": "f0bcb3a3",
   "metadata": {},
   "source": [
    "#### Сценарий 3: просмотр фотографий -> просмотр контактов -> звонок:"
   ]
  },
  {
   "cell_type": "code",
   "execution_count": null,
   "id": "86bfd89b",
   "metadata": {},
   "outputs": [],
   "source": [
    "# отберем пользователей, открывших карту\n",
    "users_step_1 = grouped_by_id[grouped_by_id['event_name'].apply(lambda x: 'photos_show' in x)]\n",
    "# отберем пользователей, открывших карточку объявления, среди тех, кто открывал карту\n",
    "users_step_2 = users_step_1[users_step_1['event_name'].apply(lambda x: 'contacts_show' in x)]\n",
    "# отберем пользователей, просмотревших контакты, среди тех, кто открывал карту и карточку объявления\n",
    "users_step_3 = users_step_2[users_step_2['event_name'].apply(lambda x: 'contacts_call' in x)]"
   ]
  },
  {
   "cell_type": "code",
   "execution_count": null,
   "id": "7b54256a",
   "metadata": {},
   "outputs": [],
   "source": [
    "# сохраним в переменную scen_3 количество пользователей на каждом этапе сценария\n",
    "scen_3 = pd.DataFrame(\n",
    "            data = {'event_name': ['photos_show', 'contacts_show', 'contacts_call'],\\\n",
    "                    'users_amount': [users_step_1['user_id'].nunique(), \n",
    "                                     users_step_2['user_id'].nunique(),\n",
    "                                     users_step_3['user_id'].nunique()]})\n",
    "scen_3"
   ]
  },
  {
   "cell_type": "code",
   "execution_count": null,
   "id": "64d73041",
   "metadata": {},
   "outputs": [],
   "source": [
    "# считаем конверсию для первого шага\n",
    "first_step_conversion = scen_3[:1]['users_amount'].values / data['user_id'].nunique() * 100\n",
    "\n",
    "# считаем конверсию для 2 и 3 шагов\n",
    "scen_3['conversion_by_step'] = [*first_step_conversion] + ((scen_3[1:]['users_amount'].values \n",
    "                                / scen_3[: len(scen_3) - 1]['users_amount'].values)*100).tolist()\n",
    "# отобразим результат\n",
    "scen_3.style.background_gradient(cmap='RdYlGn', subset='conversion_by_step')"
   ]
  },
  {
   "cell_type": "code",
   "execution_count": null,
   "id": "82216a1b",
   "metadata": {},
   "outputs": [],
   "source": [
    "# построим воронку для третьего сценария\n",
    "fig = go.Figure(go.Funnel(y = scen_3['event_name'],\n",
    "                          x = scen_3['users_amount'],\n",
    "                          opacity = 0.6,\n",
    "                          textposition = 'inside',\n",
    "                          textinfo = 'value + percent previous'))\n",
    "fig.update_layout(\n",
    "    title_text='Воронка событий, сценарий: просмотр фотографий -> просмотр контактов -> звонок')\n",
    "fig.show()"
   ]
  },
  {
   "cell_type": "markdown",
   "id": "4b3cd368",
   "metadata": {},
   "source": [
    "Показатели конверсии третьего сценария поведения пользователей являются средними:\n",
    "- Около 30% пользователей, просмотревших фотографии, просматривают контакты владельца объявления\n",
    "- Около 46% пользователей, просмотревших фотографии и контакты владельца объявления, совершают звонок через приложение  "
   ]
  },
  {
   "cell_type": "markdown",
   "id": "ffd11672",
   "metadata": {},
   "source": [
    "### Проверим, как различается время между событиями map -> contacts_show и search -> contacts_show в рамках сессий"
   ]
  },
  {
   "cell_type": "markdown",
   "id": "024f3c4b",
   "metadata": {},
   "source": [
    "Для этого:  \n",
    "* найдем сессии, в которых встречаются события map и show_contacts  \n",
    "* рассчитаем время от map до show_contacts  \n",
    "* выведем среднее и медиану данного показателя  \n",
    "\n",
    "И такие же действия проделаем для пары search -> contacts_show."
   ]
  },
  {
   "cell_type": "markdown",
   "id": "0e9af1f3",
   "metadata": {},
   "source": [
    "#### Пара map -> contacts_show:"
   ]
  },
  {
   "cell_type": "code",
   "execution_count": null,
   "id": "f406ae8e",
   "metadata": {},
   "outputs": [],
   "source": [
    "# сгруппируем данные по сессиям\n",
    "gr_by_sessions = data.groupby('session_id')\\\n",
    "               .agg({'event_name':'unique'})\\\n",
    "               .reset_index()\n",
    "gr_by_sessions.head()"
   ]
  },
  {
   "cell_type": "code",
   "execution_count": null,
   "id": "4f865f5d",
   "metadata": {},
   "outputs": [],
   "source": [
    "# найдем сессии, в которых встречаются действия map и show_contacts\n",
    "map_contacts = gr_by_sessions[gr_by_sessions['event_name'].apply(lambda x: 'map' in x and 'contacts_show' in x)]\n",
    "map_contacts.head()"
   ]
  },
  {
   "cell_type": "code",
   "execution_count": null,
   "id": "61b74318",
   "metadata": {
    "scrolled": true
   },
   "outputs": [],
   "source": [
    "# сохраним id этих сессий в отдельный список\n",
    "s_id = map_contacts['session_id'].unique().tolist()\n",
    "s_id[:5]"
   ]
  },
  {
   "cell_type": "code",
   "execution_count": null,
   "id": "95832b9f",
   "metadata": {},
   "outputs": [],
   "source": [
    "# оставим только необходимые данные(номер сессии, действие и время действия) \n",
    "slice = data[['session_id', 'event_name', 'event_time']]\n",
    "\n",
    "# оставим только такие id сессий, в которых встречаются действия map и show_contacts\n",
    "slice = slice[slice['session_id'].isin(s_id)]\n",
    "\n",
    "# удалим дубликаты действий в полученном срезе\n",
    "slice = slice.drop_duplicates(subset=['session_id', 'event_name'])\n",
    "slice.head()"
   ]
  },
  {
   "cell_type": "code",
   "execution_count": null,
   "id": "9aaef0ee",
   "metadata": {
    "scrolled": true
   },
   "outputs": [],
   "source": [
    "# оставим только действия map и contacts_show, чтобы рассчитать время между ними\n",
    "slice = slice[(slice['event_name'] == 'contacts_show') | (slice['event_name'] == 'map')]\n",
    "slice.head()"
   ]
  },
  {
   "cell_type": "code",
   "execution_count": null,
   "id": "35bf82fb",
   "metadata": {},
   "outputs": [],
   "source": [
    "# исключим сессии, в которых действие contacts_show раньше map\n",
    "s = slice.groupby('session_id', as_index=False).agg({'event_name':list})\n",
    "s = s[s['event_name'].apply(lambda x: x[1] == 'contacts_show')]"
   ]
  },
  {
   "cell_type": "code",
   "execution_count": null,
   "id": "097323fb",
   "metadata": {},
   "outputs": [],
   "source": [
    "# сохраним id оставшихся сессий в отдельный список\n",
    "s_id = s['session_id'].unique().tolist()\n",
    "\n",
    "# отфильтруем срез по оставшимся id сессий\n",
    "slice = slice[slice['session_id'].isin(s_id)]\n",
    "slice.head()"
   ]
  },
  {
   "cell_type": "code",
   "execution_count": null,
   "id": "c7681921",
   "metadata": {},
   "outputs": [],
   "source": [
    "# рассчитаем время между действиями map и contacts_show\n",
    "slice['time_diff'] = slice.groupby('session_id')['event_time'].diff().abs()\n",
    "slice.head()"
   ]
  },
  {
   "cell_type": "code",
   "execution_count": null,
   "id": "01cdf071",
   "metadata": {},
   "outputs": [],
   "source": [
    "# посмотрим на характерные значения стоблца со временем между событиями\n",
    "slice['time_diff'].describe()"
   ]
  },
  {
   "cell_type": "markdown",
   "id": "e2f2b326",
   "metadata": {},
   "source": [
    "Среднее время в рамках сессий между событиями map и contacts_show составляет 8 минут 39 секунд, медианное время - 4 минуты 56 секунд."
   ]
  },
  {
   "cell_type": "markdown",
   "id": "97c8fea4",
   "metadata": {},
   "source": [
    "#### Пара search -> contacts_show:"
   ]
  },
  {
   "cell_type": "code",
   "execution_count": null,
   "id": "e4d1ea07",
   "metadata": {},
   "outputs": [],
   "source": [
    "# найдем сессии, в которых встречаются действия search и contacts_show\n",
    "search_contacts = gr_by_sessions[gr_by_sessions['event_name'].apply(lambda x: 'search' in x and 'contacts_show' in x)]\n",
    "search_contacts.head()"
   ]
  },
  {
   "cell_type": "code",
   "execution_count": null,
   "id": "bd5ab2fb",
   "metadata": {},
   "outputs": [],
   "source": [
    "# сохраним id этих сессий в отдельный список\n",
    "s_id2 = search_contacts['session_id'].unique().tolist()"
   ]
  },
  {
   "cell_type": "code",
   "execution_count": null,
   "id": "166ede2f",
   "metadata": {
    "scrolled": true
   },
   "outputs": [],
   "source": [
    "# оставим только необходимые данные(номер сессии, действие и время действия) \n",
    "slice = data[['session_id', 'event_name', 'event_time']]\n",
    "\n",
    "# оставим только такие id сессий, в которых встречаются действия search и show_contacts\n",
    "slice = slice[slice['session_id'].isin(s_id2)]\n",
    "\n",
    "# удалим дубликаты действий в полученном срезе\n",
    "slice = slice.drop_duplicates(subset=['session_id', 'event_name'])\n",
    "\n",
    "# оставим только действия search и contacts_show, чтобы рассчитать время между ними\n",
    "slice = slice[(slice['event_name'] == 'search') | (slice['event_name'] == 'contacts_show')]\n",
    "\n",
    "# исключим сессии, в которых действие contacts_show раньше search\n",
    "s = slice.groupby('session_id', as_index=False).agg({'event_name':list})\n",
    "s = s[s['event_name'].apply(lambda x: x[1] == 'contacts_show')]\n",
    "\n",
    "# сохраним id оставшихся сессий в отдельный список\n",
    "s_id2 = s['session_id'].unique().tolist()\n",
    "\n",
    "# отфильтруем срез по оставшимся id сессий\n",
    "slice = slice[slice['session_id'].isin(s_id2)]\n",
    "\n",
    "# рассчитаем время между действиями search и contacts_show\n",
    "slice['time_diff'] = slice.groupby('session_id')['event_time'].diff().abs()\n",
    "slice.head()"
   ]
  },
  {
   "cell_type": "code",
   "execution_count": null,
   "id": "36e47610",
   "metadata": {
    "scrolled": false
   },
   "outputs": [],
   "source": [
    "# посмотрим на характерные значения столбца со временем между событиями\n",
    "slice['time_diff'].describe()"
   ]
  },
  {
   "cell_type": "markdown",
   "id": "030bfbf7",
   "metadata": {},
   "source": [
    "Среднее время в рамках сессий между событиями search и contacts_show составляет 5 минут 43 секунды, медианное время - 3 минуты 42 секунды.  "
   ]
  },
  {
   "cell_type": "markdown",
   "id": "fb318861",
   "metadata": {},
   "source": [
    "При сравнении показателей времени стоит опираться на медианные значения, чтобы исключить влияние выбросов и аномальных значений.  \n",
    "- Медианное время между событиями map -> contacts_show: 4 минуты 56 секунд  \n",
    "- Медианное время между событиями search -> contacts_show: 3 минуты 42 секунды  \n",
    "\n",
    "Сравнивания медианное время данных пар действий, можно сделать вывод о том, что цепочка событий search -> contacts_show проходит быстрее на 1 минуту 14 секунд."
   ]
  },
  {
   "cell_type": "markdown",
   "id": "09cb8b43",
   "metadata": {},
   "source": [
    "### Оценим, какие действия чаще совершают пользователи, которые просматривают контакты"
   ]
  },
  {
   "cell_type": "markdown",
   "id": "af60a46f",
   "metadata": {},
   "source": [
    "Для того, чтобы выявить наиболее частые действия среди пользователей, которые просматривают контакты, сделаем следующее:\n",
    "- разделим пользователей на 2 группы : просматривающих контакты и не просматривающих контакты  \n",
    "- посчитаем для каждой из групп количество действий пользователей \n",
    "- проанализируем и сравним показатели в каждой из групп"
   ]
  },
  {
   "cell_type": "markdown",
   "id": "1fcc0357",
   "metadata": {},
   "source": [
    "#### Группа пользователей, просматривающих контакты:"
   ]
  },
  {
   "cell_type": "code",
   "execution_count": null,
   "id": "2c5730e1",
   "metadata": {},
   "outputs": [],
   "source": [
    "# отберем id пользователей, которые совершали действие contacts_show\n",
    "contact_users = data[data['event_name'] == 'contacts_show']['user_id'].unique().tolist()"
   ]
  },
  {
   "cell_type": "code",
   "execution_count": null,
   "id": "5a79226e",
   "metadata": {
    "scrolled": false
   },
   "outputs": [],
   "source": [
    "# отберем данные только по пользователям, совершившим действие contacts_show и посчитаем количество их действий\n",
    "act_contact_users = data.query('user_id in @contact_users')\\\n",
    "                        .groupby('event_name', as_index=False)\\\n",
    "                        ['user_id'].count()\\\n",
    "                        .sort_values('user_id', ascending=False)\\\n",
    "                        .rename(columns={'user_id': 'amount'}) \n",
    "\n",
    "# сохраним общее количество действий среди пользователей c contacts_show\n",
    "all_act = data.query('user_id in @contact_users')['event_name'].count()\n",
    "\n",
    "act_contact_users['share_of_all_actions'] = round(act_contact_users['amount'] / all_act * 100, 1)\n",
    "\n",
    "act_contact_users.style.background_gradient(cmap='RdYlGn', subset='share_of_all_actions')"
   ]
  },
  {
   "cell_type": "markdown",
   "id": "ec1bff18",
   "metadata": {},
   "source": [
    "Самыми частым действием среди пользователей, просматривающих контакты, является просмотр рекомендованных объявлений (занимает 41.6% от всех действий). На втором месте идет само целевое действие - просмотр контактов (18.6% от всех действий), далее следует просмотр фотографий (16% от всех действий).  \n",
    "\n",
    "Реже всего в данной группе пользователи кликают по рекомендованным объявлениям (1.3% от всех действий), добавляют объявления в избранное (2.1% от всех действий) и звонят через приложение (2.9% от всех действий)."
   ]
  },
  {
   "cell_type": "markdown",
   "id": "3afa2825",
   "metadata": {},
   "source": [
    "#### Группа пользователей, не просматривающих контакты:"
   ]
  },
  {
   "cell_type": "code",
   "execution_count": null,
   "id": "28979cfd",
   "metadata": {},
   "outputs": [],
   "source": [
    "# отберем данные по пользователям без действия contacts_show и посчитаем количество их действий\n",
    "act_not_contact_users = data.query('user_id not in @contact_users')\\\n",
    "                        .groupby('event_name', as_index=False)\\\n",
    "                        ['user_id'].count()\\\n",
    "                        .sort_values('user_id', ascending=False)\\\n",
    "                        .rename(columns={'user_id': 'amount'}) \n",
    "\n",
    "# сохраним общее количество действий среди пользователей c contacts_show\n",
    "all_act = data.query('user_id not in @contact_users')['event_name'].count()\n",
    "\n",
    "act_not_contact_users['share_of_all_actions'] = round(act_not_contact_users['amount'] / all_act * 100, 1)\n",
    "\n",
    "act_not_contact_users.style.background_gradient(cmap='RdYlGn', subset='share_of_all_actions')"
   ]
  },
  {
   "cell_type": "markdown",
   "id": "a3339c83",
   "metadata": {},
   "source": [
    "Самыми частым действием среди пользователей, не просматривающих контакты, также является просмотр рекомендованных объявлений (занимает 58% от всех действий). На втором месте идет просмотр фотографий (13.9% от всех действий), на третьем - поиск в системе (10.7% от всех действий).  \n",
    "\n",
    "Реже всего в данной группе пользователи добавляют объявления в избранное (1.8% от всех действий) и кликают по рекомендованным объявлениям (1.1% от всех действий)."
   ]
  },
  {
   "cell_type": "markdown",
   "id": "a834aebb",
   "metadata": {},
   "source": [
    "Анализируя обе группы, можно сделать вывод, что пользователи, просматривающие контакты:  \n",
    "- на 16.4% реже видят рекомендованные объявления  \n",
    "- на 4.2% реже открывают карточки объявлений \n",
    "- на 2.3% реже просматривают карту  \n",
    "- на 1.2% реже пользуются поиском \n",
    "\n",
    "- на 4.7% чаще просматривают фотографии  \n",
    "- на 0.3% чаще добавляют объявления в избранное  \n",
    "- на 0.2% чаще кликают по рекомендованным объявлениям  \n",
    "- звонят через приложение, в отличие от группы, которая не просматривает контакты "
   ]
  },
  {
   "cell_type": "markdown",
   "id": "1cbc7054",
   "metadata": {},
   "source": [
    "## Проверка гипотез"
   ]
  },
  {
   "cell_type": "markdown",
   "id": "32e8705a",
   "metadata": {},
   "source": [
    "### Гипотеза 1  \n",
    "**H0**: Конверсия в просмотры контактов у пользователей, совершивших действие tips_show (увидел рекомендованное объявление) и у пользователей, совершивших действие tips_click (кликнул по рекомендованному объявлению), равна  \n",
    "\n",
    "**H1**: Конверсия в просмотры контактов у пользователей, совершивших действие tips_show (увидел рекомендованное объявление)  и у пользователей, совершивших действие tips_click (кликнул по рекомендованному объявлению), не равна "
   ]
  },
  {
   "cell_type": "markdown",
   "id": "73e69730",
   "metadata": {},
   "source": [
    "Подготовим данные для проверки:  \n",
    "- пользователей, совершивших действие tips_show (без tips_click), определим как группу А  \n",
    "- пользователей, совершивших действие tips_click и tips_click, определим как группу В"
   ]
  },
  {
   "cell_type": "code",
   "execution_count": null,
   "id": "04ab105e",
   "metadata": {},
   "outputs": [],
   "source": [
    "# отберем id пользователей, совершивших действие tips_show\n",
    "tips_show_users = data[data['event_name'] == 'tips_show']['user_id'].unique().tolist()\n",
    "\n",
    "# отберем id пользователей, совершивших действие tips_click\n",
    "tips_click_users = data[data['event_name'] == 'tips_click']['user_id'].unique().tolist()"
   ]
  },
  {
   "cell_type": "code",
   "execution_count": null,
   "id": "ca64c28d",
   "metadata": {},
   "outputs": [],
   "source": [
    "# сохраним данные по группе А (tips_show без tips_click)\n",
    "a = data.query('user_id in @tips_show_users and user_id not in @tips_click_users')\n",
    "# сохраним данные по группе В (tips_show + tips_click)\n",
    "b = data.query('user_id in @tips_click_users and user_id in @tips_show_users')"
   ]
  },
  {
   "cell_type": "markdown",
   "id": "a9c4970f",
   "metadata": {},
   "source": [
    "Для проверки гипотезы о равенстве пропорций двух генеральных совокупностей проведем z-тест:"
   ]
  },
  {
   "cell_type": "code",
   "execution_count": null,
   "id": "6c86f2cb",
   "metadata": {},
   "outputs": [],
   "source": [
    "# критический уровень статистической значимости\n",
    "alpha = .05\n",
    " \n",
    "# число пользователей в группе 1 и группе 2:\n",
    "n_users = np.array([a['user_id'].nunique(), \n",
    "                    b['user_id'].nunique()])\n",
    "\n",
    "# число пользователей, совершивших событие в группе 1 и группе 2\n",
    "success = np.array([a[a['event_name'] == 'contacts_show']['user_id'].nunique(), \n",
    "                    b[b['event_name'] == 'contacts_show']['user_id'].nunique()])\n",
    "\n",
    "print(success, n_users)\n",
    "\n",
    "# пропорции успехов в группах:\n",
    "p1 = success[0]/n_users[0]\n",
    "p2 = success[1]/n_users[1]\n",
    "    \n",
    "# пропорция успехов в комбинированном датасете:\n",
    "p_combined = (success[0] + success[1]) / (n_users[0] + n_users[1])\n",
    "\n",
    "# разница пропорций в датасетах\n",
    "difference = p1 - p2 \n",
    "\n",
    "# считаем статистику в ст.отклонениях стандартного нормального распределения\n",
    "z_value = difference /  np.sqrt(p_combined * (1 - p_combined) * (1/n_users[0] + 1/n_users[1]))\n",
    "\n",
    "# задаем стандартное нормальное распределение (среднее 0, ст.отклонение 1)\n",
    "distr = stats.norm(0, 1)  \n",
    "\n",
    "p_value = (1 - distr.cdf(abs(z_value))) * 2   #тест двусторонний, удваиваем результат\n",
    "    \n",
    "print('Событие: contacts_show')\n",
    "print('p-значение: ', p_value)\n",
    "\n",
    "if p_value < alpha:\n",
    "    print('Отвергаем нулевую гипотезу: между долями есть разница')\n",
    "else:\n",
    "    print('Не получилось отвергнуть нулевую гипотезу, нет оснований считать доли разными')"
   ]
  },
  {
   "cell_type": "markdown",
   "id": "a7f0f7ad",
   "metadata": {},
   "source": [
    "A/B тестирование двух групп пользователей выявило достаточную разницу в конверсиях, чтобы говорить о статистически значимом различии между группами. Это означает, нулевая гипотеза о равенстве конверсии в просмотры контактов у пользователей, совершивших действие tips_show и у пользователей, совершивших действие tips_click, отвергнута. "
   ]
  },
  {
   "cell_type": "markdown",
   "id": "cbeb7d9a",
   "metadata": {},
   "source": [
    "### Гипотеза 2   \n",
    "**H0**: Длительности сессий пользователей, совершивших целевое действие contacts_show и тех, кто его не совершал, равны  \n",
    "**H1**: Длительности сессий у пользователей, совершивших целевое действие contacts_show и тех, кто его не совершал, не равны  "
   ]
  },
  {
   "cell_type": "markdown",
   "id": "26088d1a",
   "metadata": {},
   "source": [
    "Посчитаем длительность сессий пользователей и сохраним значения в переменной *user_sessions:*"
   ]
  },
  {
   "cell_type": "code",
   "execution_count": null,
   "id": "65a3edc5",
   "metadata": {},
   "outputs": [],
   "source": [
    "# сгруппируем данные по id пользователя и id сессии и отобразим время совершения каждого действия\n",
    "user_sessions = data.groupby(['user_id', 'session_id'], as_index=False).agg({'timestamp':list})\n",
    "user_sessions.head()"
   ]
  },
  {
   "cell_type": "code",
   "execution_count": null,
   "id": "73bd16fd",
   "metadata": {},
   "outputs": [],
   "source": [
    "# вычтем из времени последнего действия в разрезе сессии время первого действия и запишем в столбец time_spent\n",
    "user_sessions['time_spent'] = user_sessions['timestamp'].apply(lambda x: x[-1] - x[0])\n",
    "user_sessions.head()"
   ]
  },
  {
   "cell_type": "markdown",
   "id": "85829c7e",
   "metadata": {},
   "source": [
    "Ранее мы уже сохраняли id пользователей, совершивших действие contacts_show, в переменную contact_users.  \n",
    "Разделим с помощью нее пользователей на 2 группы:  \n",
    "- пользователей, совершивших действие contacts_show, определим как группу А  \n",
    "- пользователей, не совершавших действие contacts_show, определим как группу В"
   ]
  },
  {
   "cell_type": "code",
   "execution_count": null,
   "id": "62b772b6",
   "metadata": {},
   "outputs": [],
   "source": [
    "a = user_sessions.query('user_id in @contact_users')\n",
    "b = user_sessions.query('user_id not in @contact_users')"
   ]
  },
  {
   "cell_type": "code",
   "execution_count": null,
   "id": "98a3f0c9",
   "metadata": {},
   "outputs": [],
   "source": [
    "# сохраним время сессий группы А, сгруппировав данные по id пользователей\n",
    "time_users_a = a.groupby('user_id', as_index=False).agg({'time_spent': pd.Series.nunique})\n",
    "# сохраним время сессий группы В, сгруппировав данные по id пользователей\n",
    "time_users_b = b.groupby('user_id', as_index=False).agg({'time_spent': pd.Series.nunique})"
   ]
  },
  {
   "cell_type": "markdown",
   "id": "b7445852",
   "metadata": {},
   "source": [
    "Проверим тестируемые данные на нормальность распределения с помощью критерия Шапиро-Уилка *stats.shapiro().*   \n",
    "\n",
    "Сформулируем гипотезы для проверки распределения:  \n",
    "**H0**: данные о длительности сессиий имеют нормальное распределение   \n",
    "**H1**: данные о длительности сессиий распределены не нормально   "
   ]
  },
  {
   "cell_type": "code",
   "execution_count": null,
   "id": "679468fa",
   "metadata": {},
   "outputs": [],
   "source": [
    "# критический уровень статистической значимости\n",
    "alpha = 0.05  \n",
    "\n",
    "# проверка распределения в группе А\n",
    "results = stats.shapiro(time_users_a['time_spent'])\n",
    "\n",
    "print('p-значение: ', results[1]) # второе значение в массиве результатов (с индексом 1) - p-value\n",
    "\n",
    "if results[1] < alpha:\n",
    "    print('Отвергаем нулевую гипотезу: распределение не нормально')\n",
    "else:\n",
    "    print('Не получилось отвергнуть нулевую гипотезу, всё нормально')"
   ]
  },
  {
   "cell_type": "code",
   "execution_count": null,
   "id": "1c94b984",
   "metadata": {},
   "outputs": [],
   "source": [
    "# проверка распределения в группе В\n",
    "results = stats.shapiro(time_users_b['time_spent'])\n",
    "\n",
    "print('p-значение: ', results[1])\n",
    "\n",
    "if results[1] < alpha:\n",
    "    print('Отвергаем нулевую гипотезу: распределение не нормально')\n",
    "else:\n",
    "    print('Не получилось отвергнуть нулевую гипотезу, всё нормально')"
   ]
  },
  {
   "cell_type": "markdown",
   "id": "e768eabc",
   "metadata": {},
   "source": [
    "По результатам тестов распределение не является нормальным ни в одной из тестируемых групп.\n",
    "Это означает, что в данных есть большие (по сравнению с нормальным распределением) выбросы. В таком случае, для дальнейшего расчёта статистической значимости прибегнем к непараметрическому тесту Уилкоксона-Манна-Уитни."
   ]
  },
  {
   "cell_type": "code",
   "execution_count": null,
   "id": "8a3cdc8f",
   "metadata": {
    "scrolled": true
   },
   "outputs": [],
   "source": [
    "# рассчитаем p-value c помощью теста Уилкоксона-Манна-Уитни\n",
    "print('P-value: ', stats.mannwhitneyu(time_users_a['time_spent'], \n",
    "                   time_users_b['time_spent'], \n",
    "                   alternative='two-sided')[1])\n",
    "\n",
    "# рассчитаем различия в длительности сессий между группам\n",
    "print('Относительные различия в длительности сессий между группами: ''{0:.3f}'.format(\n",
    "    time_users_a['time_spent'].mean()\n",
    "    /time_users_b['time_spent'].mean()-1))"
   ]
  },
  {
   "cell_type": "markdown",
   "id": "32c2944d",
   "metadata": {},
   "source": [
    "P-value значительно больше 0.05. Несмотря на большой показатель различия между группами (46.5%), причин отвергать нулевую гипотезу и считать, что в длительности сессий пользователей, совершивших целевое действие contacts_show и пользователей, которые его не совершали, есть различия, нет."
   ]
  },
  {
   "cell_type": "markdown",
   "id": "af13aa90",
   "metadata": {},
   "source": [
    "## Выводы и рекомендации по результатам исследования"
   ]
  },
  {
   "cell_type": "markdown",
   "id": "adff2058",
   "metadata": {},
   "source": [
    "**Общие выводы по исследованию:**  \n",
    "- Период исследования, за который проводился анализ, составляет 27 дней  \n",
    "- За это время приложенияем воспользовались 4239 человек  \n",
    "- Больше всего пользователей приходит через Яндекс (привлечено 45% от общего числа уникальных пользователей), а меньше всего через Google - 26.3% пользователей  \n",
    "- Самым частым действием в приложении, инициированным пользователем, является поиск - им воспользовались 38.8% пользователей  \n",
    "- Целевое действие - просмотр контактов, совершают около 23% пользователей  \n",
    "- Популярными сценариями поведения пользователей, приводящими к целевому действию (просмотр контактов), являются следующие последовательности:   \n",
    "1. Поиск -> просмотр фотографий -> просмотр контактов   \n",
    "2. Открытие карты -> открытие карточки объявления -> просмотр контактов   \n",
    "3. Просмотр фотографий -> просмотр контактов -> звонок  \n",
    "- Самым частым действием, инициированным пользователем, среди пользователей, просматривающих контакты, является просмотр фотографий (16% от всех действий) \n",
    "- Реже всего пользователи, просматривающие контакты, кликают по рекомендованным объявлениям (1.3% от всех действий), добавляют объявления в избранное (2.1% от всех действий) и звонят через приложение (2.9% от всех действий)   \n",
    "- Цепочка действий поиск -> просмотр контактов проходит в среднем быстрее на 1 минуту 14 секунд по сравнению с цепочкой действий открытие карты -> просмотр контактов  \n",
    "\n",
    "\n",
    "\n",
    "В процессе исследования проверены две пары статистических гипотез:\n",
    "\n",
    "- Гипотеза о равенстве конверсий в просмотры контактов у пользователей, совершивших действие tips_show и у пользователей, совершивших действие tips_click, отвергнута. Следовательно, можно сделать вывод, что между долями в конверсии у пользователей, увидевших рекомендованные объявления, и пользователей, кликнувших по рекомендованному объявлению, есть статистически значимая разница.  \n",
    "\n",
    "- Гипотеза о равенстве длительности сессий пользователей, совершивших целевое действие contacts_show и тех, кто его не совершал, подтверждена. Следовательно, статистически значимой разницы в длительности сессий между пользователями, которые просматривали контакты и теми, кто этого не делал, нет.  \n",
    "\n",
    "\n",
    "**Рекомендации для привлечения и увеличения вовлеченности пользователей:**       \n",
    "\n",
    "- Обратить внимание на канал привлечения Google, так как он является одной из популярных поисковых систем, и может существенно увеличить приток новых пользователей в приложение  \n",
    "- Усовершенствовать процесс звонков через приложение. Сейчас этим инструментом пользуется всего 5% пользователей, что может свидетельствовать о том, что пользователям неудобно использовать  \n",
    "- Улучшить алгоритмы подбора рекомендованных объявлений. Cейчас всего 7.5% пользователей кликают по рекомендованным объявлением, что может говорить о том, что алгоритмы приложения предлагают пользователям нерелевантые объявления  \n",
    "- Произвести сегментацию пользователей на группы, в зависимости от их сценариев поведения - это позволит более точечно влиять их вовлечение и улучшать показатели конверсии    "
   ]
  }
 ],
 "metadata": {
  "ExecuteTimeLog": [
   {
    "duration": 1354,
    "start_time": "2023-08-05T05:19:10.675Z"
   },
   {
    "duration": 698,
    "start_time": "2023-08-05T05:19:12.031Z"
   },
   {
    "duration": 14,
    "start_time": "2023-08-05T05:19:12.731Z"
   },
   {
    "duration": 31,
    "start_time": "2023-08-05T05:19:12.747Z"
   },
   {
    "duration": 6,
    "start_time": "2023-08-05T05:19:12.780Z"
   },
   {
    "duration": 45,
    "start_time": "2023-08-05T05:19:12.788Z"
   },
   {
    "duration": 5,
    "start_time": "2023-08-05T05:19:12.835Z"
   },
   {
    "duration": 10,
    "start_time": "2023-08-05T05:19:12.842Z"
   },
   {
    "duration": 38,
    "start_time": "2023-08-05T05:19:12.853Z"
   },
   {
    "duration": 33,
    "start_time": "2023-08-05T05:19:12.896Z"
   },
   {
    "duration": 8,
    "start_time": "2023-08-05T05:19:12.931Z"
   },
   {
    "duration": 12,
    "start_time": "2023-08-05T05:19:12.940Z"
   },
   {
    "duration": 14,
    "start_time": "2023-08-05T05:19:12.953Z"
   },
   {
    "duration": 474,
    "start_time": "2023-08-05T05:19:12.968Z"
   },
   {
    "duration": 9,
    "start_time": "2023-08-05T05:19:13.443Z"
   },
   {
    "duration": 6,
    "start_time": "2023-08-05T05:19:13.453Z"
   },
   {
    "duration": 830,
    "start_time": "2023-08-05T05:19:13.461Z"
   },
   {
    "duration": 38,
    "start_time": "2023-08-05T05:19:14.293Z"
   },
   {
    "duration": 39,
    "start_time": "2023-08-05T05:19:14.335Z"
   },
   {
    "duration": 22,
    "start_time": "2023-08-05T05:19:14.376Z"
   },
   {
    "duration": 34,
    "start_time": "2023-08-05T05:19:14.409Z"
   },
   {
    "duration": 23,
    "start_time": "2023-08-05T05:19:14.445Z"
   },
   {
    "duration": 759,
    "start_time": "2023-08-05T05:19:14.470Z"
   },
   {
    "duration": 93,
    "start_time": "2023-08-05T05:19:15.230Z"
   },
   {
    "duration": 997,
    "start_time": "2023-08-05T05:19:15.326Z"
   },
   {
    "duration": 88,
    "start_time": "2023-08-05T05:19:16.325Z"
   },
   {
    "duration": 85,
    "start_time": "2023-08-05T05:19:16.419Z"
   },
   {
    "duration": 401,
    "start_time": "2023-08-05T05:19:16.520Z"
   },
   {
    "duration": 320,
    "start_time": "2023-08-05T05:19:16.925Z"
   },
   {
    "duration": 12,
    "start_time": "2023-08-05T05:19:17.247Z"
   },
   {
    "duration": 150,
    "start_time": "2023-08-05T05:19:17.261Z"
   },
   {
    "duration": 12,
    "start_time": "2023-08-05T05:19:17.413Z"
   },
   {
    "duration": 16,
    "start_time": "2023-08-05T05:19:17.427Z"
   },
   {
    "duration": 11,
    "start_time": "2023-08-05T05:19:17.444Z"
   },
   {
    "duration": 19,
    "start_time": "2023-08-05T05:19:17.457Z"
   },
   {
    "duration": 49,
    "start_time": "2023-08-05T05:19:17.477Z"
   },
   {
    "duration": 30,
    "start_time": "2023-08-05T05:19:17.528Z"
   },
   {
    "duration": 14,
    "start_time": "2023-08-05T05:19:17.560Z"
   },
   {
    "duration": 38,
    "start_time": "2023-08-05T05:19:17.576Z"
   },
   {
    "duration": 25,
    "start_time": "2023-08-05T05:19:17.616Z"
   },
   {
    "duration": 110,
    "start_time": "2023-08-05T05:19:17.642Z"
   },
   {
    "duration": 913,
    "start_time": "2023-08-05T05:19:17.754Z"
   },
   {
    "duration": 11,
    "start_time": "2023-08-05T05:19:18.669Z"
   },
   {
    "duration": 21,
    "start_time": "2023-08-05T05:19:18.681Z"
   },
   {
    "duration": 120,
    "start_time": "2023-08-05T05:19:18.703Z"
   },
   {
    "duration": 33,
    "start_time": "2023-08-05T05:19:18.824Z"
   },
   {
    "duration": 6,
    "start_time": "2023-08-05T05:19:18.858Z"
   },
   {
    "duration": 13,
    "start_time": "2023-08-05T05:19:18.866Z"
   },
   {
    "duration": 20,
    "start_time": "2023-08-05T05:19:18.901Z"
   },
   {
    "duration": 328,
    "start_time": "2023-08-05T05:19:18.926Z"
   },
   {
    "duration": 5,
    "start_time": "2023-08-05T05:19:19.256Z"
   },
   {
    "duration": 14,
    "start_time": "2023-08-05T05:19:19.263Z"
   },
   {
    "duration": 572,
    "start_time": "2023-08-05T05:19:19.279Z"
   },
   {
    "duration": 5,
    "start_time": "2023-08-05T05:19:19.853Z"
   },
   {
    "duration": 113,
    "start_time": "2023-08-05T05:19:19.860Z"
   },
   {
    "duration": 404,
    "start_time": "2023-08-05T05:19:19.975Z"
   },
   {
    "duration": 54,
    "start_time": "2023-08-05T05:19:20.382Z"
   },
   {
    "duration": 21,
    "start_time": "2023-08-05T05:19:20.438Z"
   },
   {
    "duration": 69,
    "start_time": "2023-08-05T05:19:20.461Z"
   },
   {
    "duration": 28,
    "start_time": "2023-08-05T05:19:20.532Z"
   },
   {
    "duration": 52,
    "start_time": "2023-08-05T05:19:20.561Z"
   },
   {
    "duration": 25,
    "start_time": "2023-08-05T05:19:20.621Z"
   },
   {
    "duration": 44,
    "start_time": "2023-08-05T05:19:20.648Z"
   },
   {
    "duration": 48,
    "start_time": "2023-08-05T05:19:20.697Z"
   },
   {
    "duration": 32,
    "start_time": "2023-08-05T05:19:20.747Z"
   },
   {
    "duration": 10,
    "start_time": "2023-08-05T05:19:20.781Z"
   },
   {
    "duration": 73,
    "start_time": "2023-08-05T05:19:20.792Z"
   },
   {
    "duration": 17,
    "start_time": "2023-08-05T05:19:20.867Z"
   },
   {
    "duration": 697,
    "start_time": "2023-08-05T05:19:20.886Z"
   },
   {
    "duration": 79,
    "start_time": "2023-08-05T05:19:21.584Z"
   },
   {
    "duration": 22,
    "start_time": "2023-08-05T05:19:21.665Z"
   },
   {
    "duration": 102,
    "start_time": "2023-08-05T05:19:21.689Z"
   },
   {
    "duration": 54,
    "start_time": "2023-08-05T05:19:21.792Z"
   },
   {
    "duration": 118,
    "start_time": "2023-08-05T05:19:21.848Z"
   },
   {
    "duration": 8,
    "start_time": "2023-08-05T05:19:21.968Z"
   },
   {
    "duration": 80,
    "start_time": "2023-08-05T05:19:21.978Z"
   },
   {
    "duration": 3,
    "start_time": "2023-08-05T05:19:22.060Z"
   },
   {
    "duration": 91,
    "start_time": "2023-08-05T05:19:22.064Z"
   },
   {
    "duration": 9,
    "start_time": "2023-08-05T05:19:22.157Z"
   },
   {
    "duration": 25,
    "start_time": "2023-08-05T05:19:22.167Z"
   },
   {
    "duration": 58,
    "start_time": "2023-08-05T05:19:22.193Z"
   },
   {
    "duration": 34,
    "start_time": "2023-08-05T05:19:22.256Z"
   },
   {
    "duration": 38,
    "start_time": "2023-08-05T05:19:22.292Z"
   },
   {
    "duration": 25,
    "start_time": "2023-08-05T05:19:22.333Z"
   },
   {
    "duration": 18,
    "start_time": "2023-08-05T05:19:22.359Z"
   },
   {
    "duration": 11,
    "start_time": "2023-08-05T05:19:22.379Z"
   },
   {
    "duration": 653,
    "start_time": "2023-08-05T05:19:22.391Z"
   },
   {
    "duration": 5,
    "start_time": "2023-08-05T05:19:23.046Z"
   },
   {
    "duration": 5,
    "start_time": "2023-08-05T05:19:23.053Z"
   },
   {
    "duration": 11,
    "start_time": "2023-08-05T05:19:23.060Z"
   },
   {
    "duration": 174,
    "start_time": "2023-08-05T05:23:55.681Z"
   },
   {
    "duration": 18,
    "start_time": "2023-08-05T05:23:57.991Z"
   },
   {
    "duration": 6,
    "start_time": "2023-08-05T05:24:42.920Z"
   },
   {
    "duration": 4243,
    "start_time": "2023-08-05T05:24:52.661Z"
   },
   {
    "duration": 775,
    "start_time": "2023-08-05T05:25:04.766Z"
   },
   {
    "duration": 7,
    "start_time": "2023-08-05T05:25:12.645Z"
   },
   {
    "duration": 4142,
    "start_time": "2023-08-05T05:25:25.473Z"
   },
   {
    "duration": 5629,
    "start_time": "2023-08-05T05:25:35.223Z"
   },
   {
    "duration": 816,
    "start_time": "2023-08-05T05:25:59.123Z"
   },
   {
    "duration": 7,
    "start_time": "2023-08-05T05:26:02.829Z"
   },
   {
    "duration": 95,
    "start_time": "2023-08-05T05:27:19.466Z"
   },
   {
    "duration": 4,
    "start_time": "2023-08-05T05:27:28.671Z"
   },
   {
    "duration": 935,
    "start_time": "2023-08-05T05:33:07.442Z"
   },
   {
    "duration": 874,
    "start_time": "2023-08-05T05:33:10.243Z"
   },
   {
    "duration": 1580,
    "start_time": "2023-08-05T05:33:19.874Z"
   },
   {
    "duration": 706,
    "start_time": "2023-08-05T05:33:21.456Z"
   },
   {
    "duration": 12,
    "start_time": "2023-08-05T05:33:22.164Z"
   },
   {
    "duration": 53,
    "start_time": "2023-08-05T05:33:22.177Z"
   },
   {
    "duration": 10,
    "start_time": "2023-08-05T05:33:22.232Z"
   },
   {
    "duration": 11,
    "start_time": "2023-08-05T05:33:22.245Z"
   },
   {
    "duration": 8,
    "start_time": "2023-08-05T05:33:22.258Z"
   },
   {
    "duration": 9,
    "start_time": "2023-08-05T05:33:22.268Z"
   },
   {
    "duration": 59,
    "start_time": "2023-08-05T05:33:22.280Z"
   },
   {
    "duration": 30,
    "start_time": "2023-08-05T05:33:22.348Z"
   },
   {
    "duration": 7,
    "start_time": "2023-08-05T05:33:22.380Z"
   },
   {
    "duration": 11,
    "start_time": "2023-08-05T05:33:22.405Z"
   },
   {
    "duration": 27,
    "start_time": "2023-08-05T05:33:22.418Z"
   },
   {
    "duration": 577,
    "start_time": "2023-08-05T05:33:22.447Z"
   },
   {
    "duration": 17,
    "start_time": "2023-08-05T05:33:23.027Z"
   },
   {
    "duration": 29,
    "start_time": "2023-08-05T05:33:23.047Z"
   },
   {
    "duration": 922,
    "start_time": "2023-08-05T05:33:23.078Z"
   },
   {
    "duration": 6,
    "start_time": "2023-08-05T05:33:24.002Z"
   },
   {
    "duration": 51,
    "start_time": "2023-08-05T05:33:24.009Z"
   },
   {
    "duration": 26,
    "start_time": "2023-08-05T05:33:24.062Z"
   },
   {
    "duration": 61,
    "start_time": "2023-08-05T05:33:24.091Z"
   },
   {
    "duration": 23,
    "start_time": "2023-08-05T05:33:24.154Z"
   },
   {
    "duration": 42,
    "start_time": "2023-08-05T05:33:24.179Z"
   },
   {
    "duration": 794,
    "start_time": "2023-08-05T05:33:24.222Z"
   },
   {
    "duration": 101,
    "start_time": "2023-08-05T05:33:25.018Z"
   },
   {
    "duration": 1048,
    "start_time": "2023-08-05T05:33:25.120Z"
   },
   {
    "duration": 58,
    "start_time": "2023-08-05T05:33:26.170Z"
   },
   {
    "duration": 94,
    "start_time": "2023-08-05T05:33:26.234Z"
   },
   {
    "duration": 392,
    "start_time": "2023-08-05T05:33:26.332Z"
   },
   {
    "duration": 331,
    "start_time": "2023-08-05T05:33:26.726Z"
   },
   {
    "duration": 14,
    "start_time": "2023-08-05T05:33:27.059Z"
   },
   {
    "duration": 153,
    "start_time": "2023-08-05T05:33:27.075Z"
   },
   {
    "duration": 12,
    "start_time": "2023-08-05T05:33:27.230Z"
   },
   {
    "duration": 14,
    "start_time": "2023-08-05T05:33:27.244Z"
   },
   {
    "duration": 7,
    "start_time": "2023-08-05T05:33:27.260Z"
   },
   {
    "duration": 41,
    "start_time": "2023-08-05T05:33:27.268Z"
   },
   {
    "duration": 42,
    "start_time": "2023-08-05T05:33:27.311Z"
   },
   {
    "duration": 30,
    "start_time": "2023-08-05T05:33:27.355Z"
   },
   {
    "duration": 25,
    "start_time": "2023-08-05T05:33:27.396Z"
   },
   {
    "duration": 64,
    "start_time": "2023-08-05T05:33:27.423Z"
   },
   {
    "duration": 21,
    "start_time": "2023-08-05T05:33:27.490Z"
   },
   {
    "duration": 159,
    "start_time": "2023-08-05T05:33:27.515Z"
   },
   {
    "duration": 945,
    "start_time": "2023-08-05T05:33:27.676Z"
   },
   {
    "duration": 12,
    "start_time": "2023-08-05T05:33:28.623Z"
   },
   {
    "duration": 7,
    "start_time": "2023-08-05T05:33:28.636Z"
   },
   {
    "duration": 108,
    "start_time": "2023-08-05T05:33:28.645Z"
   },
   {
    "duration": 25,
    "start_time": "2023-08-05T05:33:28.755Z"
   },
   {
    "duration": 17,
    "start_time": "2023-08-05T05:33:28.781Z"
   },
   {
    "duration": 44,
    "start_time": "2023-08-05T05:33:28.799Z"
   },
   {
    "duration": 28,
    "start_time": "2023-08-05T05:33:28.845Z"
   },
   {
    "duration": 355,
    "start_time": "2023-08-05T05:33:28.875Z"
   },
   {
    "duration": 6,
    "start_time": "2023-08-05T05:33:29.232Z"
   },
   {
    "duration": 21,
    "start_time": "2023-08-05T05:33:29.240Z"
   },
   {
    "duration": 553,
    "start_time": "2023-08-05T05:33:29.262Z"
   },
   {
    "duration": 13,
    "start_time": "2023-08-05T05:33:29.820Z"
   },
   {
    "duration": 99,
    "start_time": "2023-08-05T05:33:29.835Z"
   },
   {
    "duration": 346,
    "start_time": "2023-08-05T05:33:29.936Z"
   },
   {
    "duration": 52,
    "start_time": "2023-08-05T05:33:30.284Z"
   },
   {
    "duration": 40,
    "start_time": "2023-08-05T05:33:30.337Z"
   },
   {
    "duration": 34,
    "start_time": "2023-08-05T05:33:30.378Z"
   },
   {
    "duration": 57,
    "start_time": "2023-08-05T05:33:30.417Z"
   },
   {
    "duration": 111,
    "start_time": "2023-08-05T05:33:30.475Z"
   },
   {
    "duration": 64,
    "start_time": "2023-08-05T05:33:30.587Z"
   },
   {
    "duration": 55,
    "start_time": "2023-08-05T05:33:30.652Z"
   },
   {
    "duration": 179,
    "start_time": "2023-08-05T05:33:30.709Z"
   },
   {
    "duration": 141,
    "start_time": "2023-08-05T05:33:30.890Z"
   },
   {
    "duration": 39,
    "start_time": "2023-08-05T05:33:31.033Z"
   },
   {
    "duration": 79,
    "start_time": "2023-08-05T05:33:31.073Z"
   },
   {
    "duration": 80,
    "start_time": "2023-08-05T05:33:31.154Z"
   },
   {
    "duration": 617,
    "start_time": "2023-08-05T05:33:31.235Z"
   },
   {
    "duration": 80,
    "start_time": "2023-08-05T05:33:31.854Z"
   },
   {
    "duration": 30,
    "start_time": "2023-08-05T05:33:31.937Z"
   },
   {
    "duration": 83,
    "start_time": "2023-08-05T05:33:31.969Z"
   },
   {
    "duration": 78,
    "start_time": "2023-08-05T05:33:32.054Z"
   },
   {
    "duration": 93,
    "start_time": "2023-08-05T05:33:32.134Z"
   },
   {
    "duration": 37,
    "start_time": "2023-08-05T05:33:32.229Z"
   },
   {
    "duration": 100,
    "start_time": "2023-08-05T05:33:32.268Z"
   },
   {
    "duration": 5,
    "start_time": "2023-08-05T05:33:32.370Z"
   },
   {
    "duration": 202,
    "start_time": "2023-08-05T05:33:32.377Z"
   },
   {
    "duration": 11,
    "start_time": "2023-08-05T05:33:32.581Z"
   },
   {
    "duration": 58,
    "start_time": "2023-08-05T05:33:32.597Z"
   },
   {
    "duration": 42,
    "start_time": "2023-08-05T05:33:32.663Z"
   },
   {
    "duration": 40,
    "start_time": "2023-08-05T05:33:32.712Z"
   },
   {
    "duration": 17,
    "start_time": "2023-08-05T05:33:32.754Z"
   },
   {
    "duration": 19,
    "start_time": "2023-08-05T05:33:32.773Z"
   },
   {
    "duration": 52,
    "start_time": "2023-08-05T05:33:32.796Z"
   },
   {
    "duration": 10,
    "start_time": "2023-08-05T05:33:32.850Z"
   },
   {
    "duration": 591,
    "start_time": "2023-08-05T05:33:32.861Z"
   },
   {
    "duration": 5,
    "start_time": "2023-08-05T05:33:33.453Z"
   },
   {
    "duration": 7,
    "start_time": "2023-08-05T05:33:33.460Z"
   },
   {
    "duration": 10,
    "start_time": "2023-08-05T05:33:33.468Z"
   },
   {
    "duration": 66,
    "start_time": "2023-08-05T05:38:01.873Z"
   },
   {
    "duration": 17,
    "start_time": "2023-08-05T05:38:05.492Z"
   },
   {
    "duration": 67,
    "start_time": "2023-08-05T05:38:10.524Z"
   },
   {
    "duration": 9,
    "start_time": "2023-08-05T05:38:13.145Z"
   },
   {
    "duration": 707,
    "start_time": "2023-08-05T05:38:46.314Z"
   },
   {
    "duration": 61,
    "start_time": "2023-08-05T05:38:47.850Z"
   },
   {
    "duration": 5,
    "start_time": "2023-08-05T05:38:48.225Z"
   },
   {
    "duration": 19,
    "start_time": "2023-08-05T05:38:48.490Z"
   },
   {
    "duration": 18,
    "start_time": "2023-08-05T05:38:48.687Z"
   },
   {
    "duration": 69,
    "start_time": "2023-08-05T05:38:48.880Z"
   },
   {
    "duration": 9,
    "start_time": "2023-08-05T05:38:49.512Z"
   },
   {
    "duration": 63,
    "start_time": "2023-08-05T05:38:52.584Z"
   },
   {
    "duration": 3,
    "start_time": "2023-08-05T05:38:52.764Z"
   },
   {
    "duration": 61,
    "start_time": "2023-08-05T05:38:53.011Z"
   },
   {
    "duration": 8,
    "start_time": "2023-08-05T05:38:53.222Z"
   },
   {
    "duration": 2081,
    "start_time": "2023-08-05T05:40:27.684Z"
   },
   {
    "duration": 27,
    "start_time": "2023-08-05T05:40:34.565Z"
   },
   {
    "duration": 29,
    "start_time": "2023-08-05T05:40:35.186Z"
   },
   {
    "duration": 31,
    "start_time": "2023-08-05T05:40:36.286Z"
   },
   {
    "duration": 20,
    "start_time": "2023-08-05T05:42:27.469Z"
   },
   {
    "duration": 1992,
    "start_time": "2023-08-08T11:06:20.280Z"
   },
   {
    "duration": 898,
    "start_time": "2023-08-08T11:06:22.274Z"
   },
   {
    "duration": 11,
    "start_time": "2023-08-08T11:06:23.174Z"
   },
   {
    "duration": 21,
    "start_time": "2023-08-08T11:06:23.187Z"
   },
   {
    "duration": 18,
    "start_time": "2023-08-08T11:06:23.210Z"
   },
   {
    "duration": 35,
    "start_time": "2023-08-08T11:06:23.230Z"
   },
   {
    "duration": 10,
    "start_time": "2023-08-08T11:06:23.267Z"
   },
   {
    "duration": 38,
    "start_time": "2023-08-08T11:06:23.279Z"
   },
   {
    "duration": 682,
    "start_time": "2023-08-08T11:06:23.319Z"
   },
   {
    "duration": 25,
    "start_time": "2023-08-08T11:06:24.004Z"
   },
   {
    "duration": 25,
    "start_time": "2023-08-08T11:06:24.030Z"
   },
   {
    "duration": 48,
    "start_time": "2023-08-08T11:06:24.056Z"
   },
   {
    "duration": 6,
    "start_time": "2023-08-08T11:06:24.105Z"
   },
   {
    "duration": 8,
    "start_time": "2023-08-08T11:06:24.112Z"
   },
   {
    "duration": 16,
    "start_time": "2023-08-08T11:06:24.122Z"
   },
   {
    "duration": 68,
    "start_time": "2023-08-08T11:06:24.139Z"
   },
   {
    "duration": 9,
    "start_time": "2023-08-08T11:06:24.209Z"
   },
   {
    "duration": 10,
    "start_time": "2023-08-08T11:06:24.220Z"
   },
   {
    "duration": 693,
    "start_time": "2023-08-08T11:06:24.231Z"
   },
   {
    "duration": 5,
    "start_time": "2023-08-08T11:06:24.925Z"
   },
   {
    "duration": 30,
    "start_time": "2023-08-08T11:06:24.931Z"
   },
   {
    "duration": 16,
    "start_time": "2023-08-08T11:06:24.963Z"
   },
   {
    "duration": 12,
    "start_time": "2023-08-08T11:06:24.995Z"
   },
   {
    "duration": 27,
    "start_time": "2023-08-08T11:06:25.008Z"
   },
   {
    "duration": 708,
    "start_time": "2023-08-08T11:06:25.036Z"
   },
   {
    "duration": 87,
    "start_time": "2023-08-08T11:06:25.746Z"
   },
   {
    "duration": 940,
    "start_time": "2023-08-08T11:06:25.835Z"
   },
   {
    "duration": 115,
    "start_time": "2023-08-08T11:06:26.781Z"
   },
   {
    "duration": 22,
    "start_time": "2023-08-08T11:06:26.898Z"
   },
   {
    "duration": 356,
    "start_time": "2023-08-08T11:06:26.922Z"
   },
   {
    "duration": 280,
    "start_time": "2023-08-08T11:06:27.280Z"
   },
   {
    "duration": 12,
    "start_time": "2023-08-08T11:06:27.561Z"
   },
   {
    "duration": 133,
    "start_time": "2023-08-08T11:06:27.575Z"
   },
   {
    "duration": 6,
    "start_time": "2023-08-08T11:06:27.709Z"
   },
   {
    "duration": 22,
    "start_time": "2023-08-08T11:06:27.716Z"
   },
   {
    "duration": 15,
    "start_time": "2023-08-08T11:06:27.739Z"
   },
   {
    "duration": 3,
    "start_time": "2023-08-08T11:06:27.756Z"
   },
   {
    "duration": 34,
    "start_time": "2023-08-08T11:06:27.761Z"
   },
   {
    "duration": 142,
    "start_time": "2023-08-08T11:06:27.796Z"
   },
   {
    "duration": 17,
    "start_time": "2023-08-08T11:06:27.940Z"
   },
   {
    "duration": 41,
    "start_time": "2023-08-08T11:06:27.959Z"
   },
   {
    "duration": 788,
    "start_time": "2023-08-08T11:06:28.001Z"
   },
   {
    "duration": 12,
    "start_time": "2023-08-08T11:06:28.795Z"
   },
   {
    "duration": 19,
    "start_time": "2023-08-08T11:06:28.808Z"
   },
   {
    "duration": 90,
    "start_time": "2023-08-08T11:06:28.829Z"
   },
   {
    "duration": 23,
    "start_time": "2023-08-08T11:06:28.921Z"
   },
   {
    "duration": 385,
    "start_time": "2023-08-08T11:06:28.946Z"
   },
   {
    "duration": 5,
    "start_time": "2023-08-08T11:06:29.332Z"
   },
   {
    "duration": 43,
    "start_time": "2023-08-08T11:06:29.339Z"
   },
   {
    "duration": 32,
    "start_time": "2023-08-08T11:06:29.384Z"
   },
   {
    "duration": 17,
    "start_time": "2023-08-08T11:06:29.418Z"
   },
   {
    "duration": 456,
    "start_time": "2023-08-08T11:06:29.437Z"
   },
   {
    "duration": 5,
    "start_time": "2023-08-08T11:06:29.894Z"
   },
   {
    "duration": 14,
    "start_time": "2023-08-08T11:06:29.901Z"
   },
   {
    "duration": 451,
    "start_time": "2023-08-08T11:06:29.916Z"
   },
   {
    "duration": 6,
    "start_time": "2023-08-08T11:06:30.368Z"
   },
   {
    "duration": 106,
    "start_time": "2023-08-08T11:06:30.395Z"
   },
   {
    "duration": 292,
    "start_time": "2023-08-08T11:06:30.503Z"
   },
   {
    "duration": 34,
    "start_time": "2023-08-08T11:06:30.796Z"
   },
   {
    "duration": 44,
    "start_time": "2023-08-08T11:06:30.831Z"
   },
   {
    "duration": 66,
    "start_time": "2023-08-08T11:06:30.876Z"
   },
   {
    "duration": 32,
    "start_time": "2023-08-08T11:06:30.944Z"
   },
   {
    "duration": 137,
    "start_time": "2023-08-08T11:06:30.977Z"
   },
   {
    "duration": 47,
    "start_time": "2023-08-08T11:06:31.116Z"
   },
   {
    "duration": 49,
    "start_time": "2023-08-08T11:06:31.165Z"
   },
   {
    "duration": 53,
    "start_time": "2023-08-08T11:06:31.215Z"
   },
   {
    "duration": 61,
    "start_time": "2023-08-08T11:06:31.269Z"
   },
   {
    "duration": 28,
    "start_time": "2023-08-08T11:06:31.332Z"
   },
   {
    "duration": 67,
    "start_time": "2023-08-08T11:06:31.363Z"
   },
   {
    "duration": 30,
    "start_time": "2023-08-08T11:06:31.432Z"
   },
   {
    "duration": 500,
    "start_time": "2023-08-08T11:06:31.463Z"
   },
   {
    "duration": 52,
    "start_time": "2023-08-08T11:06:31.965Z"
   },
   {
    "duration": 80,
    "start_time": "2023-08-08T11:06:32.018Z"
   },
   {
    "duration": 42,
    "start_time": "2023-08-08T11:06:32.100Z"
   },
   {
    "duration": 14,
    "start_time": "2023-08-08T11:06:32.144Z"
   },
   {
    "duration": 18,
    "start_time": "2023-08-08T11:06:32.160Z"
   },
   {
    "duration": 15,
    "start_time": "2023-08-08T11:06:32.180Z"
   },
   {
    "duration": 42,
    "start_time": "2023-08-08T11:06:32.196Z"
   },
   {
    "duration": 9,
    "start_time": "2023-08-08T11:06:32.239Z"
   },
   {
    "duration": 82,
    "start_time": "2023-08-08T11:06:32.250Z"
   },
   {
    "duration": 3,
    "start_time": "2023-08-08T11:06:32.334Z"
   },
   {
    "duration": 81,
    "start_time": "2023-08-08T11:06:32.343Z"
   },
   {
    "duration": 8,
    "start_time": "2023-08-08T11:06:32.426Z"
   },
   {
    "duration": 55,
    "start_time": "2023-08-08T11:06:32.436Z"
   },
   {
    "duration": 57,
    "start_time": "2023-08-08T11:06:32.493Z"
   },
   {
    "duration": 33,
    "start_time": "2023-08-08T11:06:32.552Z"
   },
   {
    "duration": 63,
    "start_time": "2023-08-08T11:06:32.587Z"
   },
   {
    "duration": 46,
    "start_time": "2023-08-08T11:06:32.652Z"
   },
   {
    "duration": 27,
    "start_time": "2023-08-08T11:06:32.700Z"
   },
   {
    "duration": 284,
    "start_time": "2023-08-08T11:06:32.728Z"
   },
   {
    "duration": 14,
    "start_time": "2023-08-08T11:06:33.014Z"
   },
   {
    "duration": 23,
    "start_time": "2023-08-08T11:06:33.030Z"
   },
   {
    "duration": 445,
    "start_time": "2023-08-08T11:06:33.055Z"
   },
   {
    "duration": 5,
    "start_time": "2023-08-08T11:06:33.502Z"
   },
   {
    "duration": 6,
    "start_time": "2023-08-08T11:06:33.508Z"
   },
   {
    "duration": 38,
    "start_time": "2023-08-08T11:06:33.515Z"
   },
   {
    "duration": 1859,
    "start_time": "2023-08-08T11:12:27.769Z"
   },
   {
    "duration": 1424,
    "start_time": "2023-08-08T11:12:37.282Z"
   },
   {
    "duration": 581,
    "start_time": "2023-08-08T11:12:38.707Z"
   },
   {
    "duration": 11,
    "start_time": "2023-08-08T11:12:39.290Z"
   },
   {
    "duration": 19,
    "start_time": "2023-08-08T11:12:39.303Z"
   },
   {
    "duration": 6,
    "start_time": "2023-08-08T11:12:39.323Z"
   },
   {
    "duration": 11,
    "start_time": "2023-08-08T11:12:39.331Z"
   },
   {
    "duration": 8,
    "start_time": "2023-08-08T11:12:39.343Z"
   },
   {
    "duration": 9,
    "start_time": "2023-08-08T11:12:39.353Z"
   },
   {
    "duration": 670,
    "start_time": "2023-08-08T11:12:39.363Z"
   },
   {
    "duration": 24,
    "start_time": "2023-08-08T11:12:40.035Z"
   },
   {
    "duration": 36,
    "start_time": "2023-08-08T11:12:40.060Z"
   },
   {
    "duration": 67,
    "start_time": "2023-08-08T11:12:40.097Z"
   },
   {
    "duration": 7,
    "start_time": "2023-08-08T11:12:40.167Z"
   },
   {
    "duration": 15,
    "start_time": "2023-08-08T11:12:40.175Z"
   },
   {
    "duration": 14,
    "start_time": "2023-08-08T11:12:40.192Z"
   },
   {
    "duration": 52,
    "start_time": "2023-08-08T11:12:40.208Z"
   },
   {
    "duration": 9,
    "start_time": "2023-08-08T11:12:40.262Z"
   },
   {
    "duration": 8,
    "start_time": "2023-08-08T11:12:40.272Z"
   },
   {
    "duration": 661,
    "start_time": "2023-08-08T11:12:40.282Z"
   },
   {
    "duration": 5,
    "start_time": "2023-08-08T11:12:40.945Z"
   },
   {
    "duration": 32,
    "start_time": "2023-08-08T11:12:40.951Z"
   },
   {
    "duration": 14,
    "start_time": "2023-08-08T11:12:40.995Z"
   },
   {
    "duration": 17,
    "start_time": "2023-08-08T11:12:41.011Z"
   },
   {
    "duration": 22,
    "start_time": "2023-08-08T11:12:41.029Z"
   },
   {
    "duration": 695,
    "start_time": "2023-08-08T11:12:41.052Z"
   },
   {
    "duration": 80,
    "start_time": "2023-08-08T11:12:41.749Z"
   },
   {
    "duration": 787,
    "start_time": "2023-08-08T11:12:41.831Z"
   },
   {
    "duration": 75,
    "start_time": "2023-08-08T11:12:42.623Z"
   },
   {
    "duration": 23,
    "start_time": "2023-08-08T11:12:42.700Z"
   },
   {
    "duration": 353,
    "start_time": "2023-08-08T11:12:42.725Z"
   },
   {
    "duration": 285,
    "start_time": "2023-08-08T11:12:43.080Z"
   },
   {
    "duration": 13,
    "start_time": "2023-08-08T11:12:43.367Z"
   },
   {
    "duration": 129,
    "start_time": "2023-08-08T11:12:43.381Z"
   },
   {
    "duration": 5,
    "start_time": "2023-08-08T11:12:43.512Z"
   },
   {
    "duration": 11,
    "start_time": "2023-08-08T11:12:43.519Z"
   },
   {
    "duration": 12,
    "start_time": "2023-08-08T11:12:43.531Z"
   },
   {
    "duration": 4,
    "start_time": "2023-08-08T11:12:43.544Z"
   },
   {
    "duration": 19,
    "start_time": "2023-08-08T11:12:43.549Z"
   },
   {
    "duration": 175,
    "start_time": "2023-08-08T11:12:43.570Z"
   },
   {
    "duration": 16,
    "start_time": "2023-08-08T11:12:43.746Z"
   },
   {
    "duration": 42,
    "start_time": "2023-08-08T11:12:43.764Z"
   },
   {
    "duration": 789,
    "start_time": "2023-08-08T11:12:43.808Z"
   },
   {
    "duration": 9,
    "start_time": "2023-08-08T11:12:44.599Z"
   },
   {
    "duration": 9,
    "start_time": "2023-08-08T11:12:44.610Z"
   },
   {
    "duration": 80,
    "start_time": "2023-08-08T11:12:44.621Z"
   },
   {
    "duration": 26,
    "start_time": "2023-08-08T11:12:44.702Z"
   },
   {
    "duration": 404,
    "start_time": "2023-08-08T11:12:44.729Z"
   },
   {
    "duration": 5,
    "start_time": "2023-08-08T11:12:45.135Z"
   },
   {
    "duration": 13,
    "start_time": "2023-08-08T11:12:45.142Z"
   },
   {
    "duration": 13,
    "start_time": "2023-08-08T11:12:45.157Z"
   },
   {
    "duration": 4,
    "start_time": "2023-08-08T11:12:45.171Z"
   },
   {
    "duration": 277,
    "start_time": "2023-08-08T11:12:45.194Z"
   },
   {
    "duration": 4,
    "start_time": "2023-08-08T11:12:45.473Z"
   },
   {
    "duration": 15,
    "start_time": "2023-08-08T11:12:45.479Z"
   },
   {
    "duration": 444,
    "start_time": "2023-08-08T11:12:45.495Z"
   },
   {
    "duration": 5,
    "start_time": "2023-08-08T11:12:45.941Z"
   },
   {
    "duration": 102,
    "start_time": "2023-08-08T11:12:45.948Z"
   },
   {
    "duration": 395,
    "start_time": "2023-08-08T11:12:46.052Z"
   },
   {
    "duration": 46,
    "start_time": "2023-08-08T11:12:46.449Z"
   },
   {
    "duration": 17,
    "start_time": "2023-08-08T11:12:46.497Z"
   },
   {
    "duration": 22,
    "start_time": "2023-08-08T11:12:46.516Z"
   },
   {
    "duration": 23,
    "start_time": "2023-08-08T11:12:46.540Z"
   },
   {
    "duration": 40,
    "start_time": "2023-08-08T11:12:46.565Z"
   },
   {
    "duration": 9,
    "start_time": "2023-08-08T11:12:46.607Z"
   },
   {
    "duration": 25,
    "start_time": "2023-08-08T11:12:46.618Z"
   },
   {
    "duration": 11,
    "start_time": "2023-08-08T11:12:46.644Z"
   },
   {
    "duration": 48,
    "start_time": "2023-08-08T11:12:46.657Z"
   },
   {
    "duration": 9,
    "start_time": "2023-08-08T11:12:46.707Z"
   },
   {
    "duration": 28,
    "start_time": "2023-08-08T11:12:46.718Z"
   },
   {
    "duration": 11,
    "start_time": "2023-08-08T11:12:46.748Z"
   },
   {
    "duration": 564,
    "start_time": "2023-08-08T11:12:46.760Z"
   },
   {
    "duration": 53,
    "start_time": "2023-08-08T11:12:47.325Z"
   },
   {
    "duration": 16,
    "start_time": "2023-08-08T11:12:47.381Z"
   },
   {
    "duration": 21,
    "start_time": "2023-08-08T11:12:47.400Z"
   },
   {
    "duration": 9,
    "start_time": "2023-08-08T11:12:47.423Z"
   },
   {
    "duration": 27,
    "start_time": "2023-08-08T11:12:47.434Z"
   },
   {
    "duration": 23,
    "start_time": "2023-08-08T11:12:47.462Z"
   },
   {
    "duration": 40,
    "start_time": "2023-08-08T11:12:47.487Z"
   },
   {
    "duration": 8,
    "start_time": "2023-08-08T11:12:47.529Z"
   },
   {
    "duration": 73,
    "start_time": "2023-08-08T11:12:47.539Z"
   },
   {
    "duration": 3,
    "start_time": "2023-08-08T11:12:47.613Z"
   },
   {
    "duration": 86,
    "start_time": "2023-08-08T11:12:47.622Z"
   },
   {
    "duration": 8,
    "start_time": "2023-08-08T11:12:47.709Z"
   },
   {
    "duration": 17,
    "start_time": "2023-08-08T11:12:47.718Z"
   },
   {
    "duration": 28,
    "start_time": "2023-08-08T11:12:47.737Z"
   },
   {
    "duration": 53,
    "start_time": "2023-08-08T11:12:47.767Z"
   },
   {
    "duration": 15,
    "start_time": "2023-08-08T11:12:47.822Z"
   },
   {
    "duration": 17,
    "start_time": "2023-08-08T11:12:47.839Z"
   },
   {
    "duration": 42,
    "start_time": "2023-08-08T11:12:47.858Z"
   },
   {
    "duration": 81,
    "start_time": "2023-08-08T11:12:47.902Z"
   },
   {
    "duration": 0,
    "start_time": "2023-08-08T11:12:47.985Z"
   },
   {
    "duration": 0,
    "start_time": "2023-08-08T11:12:47.986Z"
   },
   {
    "duration": 0,
    "start_time": "2023-08-08T11:12:47.987Z"
   },
   {
    "duration": 0,
    "start_time": "2023-08-08T11:12:47.988Z"
   },
   {
    "duration": 0,
    "start_time": "2023-08-08T11:12:47.989Z"
   },
   {
    "duration": 0,
    "start_time": "2023-08-08T11:12:47.990Z"
   },
   {
    "duration": 0,
    "start_time": "2023-08-08T11:12:47.991Z"
   },
   {
    "duration": 1365,
    "start_time": "2023-08-08T11:13:18.168Z"
   },
   {
    "duration": 606,
    "start_time": "2023-08-08T11:13:19.535Z"
   },
   {
    "duration": 10,
    "start_time": "2023-08-08T11:13:20.143Z"
   },
   {
    "duration": 20,
    "start_time": "2023-08-08T11:13:20.155Z"
   },
   {
    "duration": 7,
    "start_time": "2023-08-08T11:13:20.177Z"
   },
   {
    "duration": 12,
    "start_time": "2023-08-08T11:13:20.185Z"
   },
   {
    "duration": 8,
    "start_time": "2023-08-08T11:13:20.199Z"
   },
   {
    "duration": 7,
    "start_time": "2023-08-08T11:13:20.209Z"
   },
   {
    "duration": 699,
    "start_time": "2023-08-08T11:13:20.217Z"
   },
   {
    "duration": 24,
    "start_time": "2023-08-08T11:13:20.918Z"
   },
   {
    "duration": 31,
    "start_time": "2023-08-08T11:13:20.944Z"
   },
   {
    "duration": 46,
    "start_time": "2023-08-08T11:13:20.977Z"
   },
   {
    "duration": 6,
    "start_time": "2023-08-08T11:13:21.025Z"
   },
   {
    "duration": 7,
    "start_time": "2023-08-08T11:13:21.034Z"
   },
   {
    "duration": 17,
    "start_time": "2023-08-08T11:13:21.043Z"
   },
   {
    "duration": 65,
    "start_time": "2023-08-08T11:13:21.061Z"
   },
   {
    "duration": 9,
    "start_time": "2023-08-08T11:13:21.128Z"
   },
   {
    "duration": 23,
    "start_time": "2023-08-08T11:13:21.139Z"
   },
   {
    "duration": 730,
    "start_time": "2023-08-08T11:13:21.164Z"
   },
   {
    "duration": 6,
    "start_time": "2023-08-08T11:13:21.895Z"
   },
   {
    "duration": 28,
    "start_time": "2023-08-08T11:13:21.902Z"
   },
   {
    "duration": 15,
    "start_time": "2023-08-08T11:13:21.932Z"
   },
   {
    "duration": 14,
    "start_time": "2023-08-08T11:13:21.949Z"
   },
   {
    "duration": 47,
    "start_time": "2023-08-08T11:13:21.965Z"
   },
   {
    "duration": 696,
    "start_time": "2023-08-08T11:13:22.014Z"
   },
   {
    "duration": 85,
    "start_time": "2023-08-08T11:13:22.711Z"
   },
   {
    "duration": 857,
    "start_time": "2023-08-08T11:13:22.797Z"
   },
   {
    "duration": 50,
    "start_time": "2023-08-08T11:13:23.656Z"
   },
   {
    "duration": 25,
    "start_time": "2023-08-08T11:13:23.708Z"
   },
   {
    "duration": 411,
    "start_time": "2023-08-08T11:13:23.735Z"
   },
   {
    "duration": 278,
    "start_time": "2023-08-08T11:13:24.148Z"
   },
   {
    "duration": 12,
    "start_time": "2023-08-08T11:13:24.428Z"
   },
   {
    "duration": 144,
    "start_time": "2023-08-08T11:13:24.442Z"
   },
   {
    "duration": 10,
    "start_time": "2023-08-08T11:13:24.588Z"
   },
   {
    "duration": 15,
    "start_time": "2023-08-08T11:13:24.600Z"
   },
   {
    "duration": 13,
    "start_time": "2023-08-08T11:13:24.617Z"
   },
   {
    "duration": 4,
    "start_time": "2023-08-08T11:13:24.632Z"
   },
   {
    "duration": 25,
    "start_time": "2023-08-08T11:13:24.638Z"
   },
   {
    "duration": 170,
    "start_time": "2023-08-08T11:13:24.665Z"
   },
   {
    "duration": 17,
    "start_time": "2023-08-08T11:13:24.836Z"
   },
   {
    "duration": 39,
    "start_time": "2023-08-08T11:13:24.857Z"
   },
   {
    "duration": 821,
    "start_time": "2023-08-08T11:13:24.898Z"
   },
   {
    "duration": 10,
    "start_time": "2023-08-08T11:13:25.721Z"
   },
   {
    "duration": 6,
    "start_time": "2023-08-08T11:13:25.733Z"
   },
   {
    "duration": 93,
    "start_time": "2023-08-08T11:13:25.740Z"
   },
   {
    "duration": 25,
    "start_time": "2023-08-08T11:13:25.835Z"
   },
   {
    "duration": 367,
    "start_time": "2023-08-08T11:13:25.862Z"
   },
   {
    "duration": 5,
    "start_time": "2023-08-08T11:13:26.230Z"
   },
   {
    "duration": 14,
    "start_time": "2023-08-08T11:13:26.236Z"
   },
   {
    "duration": 12,
    "start_time": "2023-08-08T11:13:26.252Z"
   },
   {
    "duration": 4,
    "start_time": "2023-08-08T11:13:26.266Z"
   },
   {
    "duration": 120,
    "start_time": "2023-08-08T11:13:26.271Z"
   },
   {
    "duration": 6,
    "start_time": "2023-08-08T11:13:26.392Z"
   },
   {
    "duration": 16,
    "start_time": "2023-08-08T11:13:26.400Z"
   },
   {
    "duration": 498,
    "start_time": "2023-08-08T11:13:26.417Z"
   },
   {
    "duration": 4,
    "start_time": "2023-08-08T11:13:26.916Z"
   },
   {
    "duration": 97,
    "start_time": "2023-08-08T11:13:26.922Z"
   },
   {
    "duration": 300,
    "start_time": "2023-08-08T11:13:27.020Z"
   },
   {
    "duration": 30,
    "start_time": "2023-08-08T11:13:27.322Z"
   },
   {
    "duration": 9,
    "start_time": "2023-08-08T11:13:27.354Z"
   },
   {
    "duration": 37,
    "start_time": "2023-08-08T11:13:27.364Z"
   },
   {
    "duration": 12,
    "start_time": "2023-08-08T11:13:27.403Z"
   },
   {
    "duration": 30,
    "start_time": "2023-08-08T11:13:27.416Z"
   },
   {
    "duration": 13,
    "start_time": "2023-08-08T11:13:27.448Z"
   },
   {
    "duration": 53,
    "start_time": "2023-08-08T11:13:27.463Z"
   },
   {
    "duration": 10,
    "start_time": "2023-08-08T11:13:27.518Z"
   },
   {
    "duration": 38,
    "start_time": "2023-08-08T11:13:27.530Z"
   },
   {
    "duration": 28,
    "start_time": "2023-08-08T11:13:27.570Z"
   },
   {
    "duration": 20,
    "start_time": "2023-08-08T11:13:27.600Z"
   },
   {
    "duration": 12,
    "start_time": "2023-08-08T11:13:27.622Z"
   },
   {
    "duration": 467,
    "start_time": "2023-08-08T11:13:27.636Z"
   },
   {
    "duration": 45,
    "start_time": "2023-08-08T11:13:28.105Z"
   },
   {
    "duration": 4,
    "start_time": "2023-08-08T11:13:28.151Z"
   },
   {
    "duration": 15,
    "start_time": "2023-08-08T11:13:28.157Z"
   },
   {
    "duration": 26,
    "start_time": "2023-08-08T11:13:28.174Z"
   },
   {
    "duration": 13,
    "start_time": "2023-08-08T11:13:28.201Z"
   },
   {
    "duration": 8,
    "start_time": "2023-08-08T11:13:28.216Z"
   },
   {
    "duration": 34,
    "start_time": "2023-08-08T11:13:28.226Z"
   },
   {
    "duration": 7,
    "start_time": "2023-08-08T11:13:28.262Z"
   },
   {
    "duration": 47,
    "start_time": "2023-08-08T11:13:28.298Z"
   },
   {
    "duration": 3,
    "start_time": "2023-08-08T11:13:28.346Z"
   },
   {
    "duration": 72,
    "start_time": "2023-08-08T11:13:28.350Z"
   },
   {
    "duration": 7,
    "start_time": "2023-08-08T11:13:28.424Z"
   },
   {
    "duration": 11,
    "start_time": "2023-08-08T11:13:28.432Z"
   },
   {
    "duration": 41,
    "start_time": "2023-08-08T11:13:28.444Z"
   },
   {
    "duration": 32,
    "start_time": "2023-08-08T11:13:28.487Z"
   },
   {
    "duration": 13,
    "start_time": "2023-08-08T11:13:28.520Z"
   },
   {
    "duration": 15,
    "start_time": "2023-08-08T11:13:28.535Z"
   },
   {
    "duration": 17,
    "start_time": "2023-08-08T11:13:28.552Z"
   },
   {
    "duration": 223,
    "start_time": "2023-08-08T11:13:28.571Z"
   },
   {
    "duration": 15,
    "start_time": "2023-08-08T11:13:28.796Z"
   },
   {
    "duration": 23,
    "start_time": "2023-08-08T11:13:28.814Z"
   },
   {
    "duration": 487,
    "start_time": "2023-08-08T11:13:28.838Z"
   },
   {
    "duration": 4,
    "start_time": "2023-08-08T11:13:29.327Z"
   },
   {
    "duration": 23,
    "start_time": "2023-08-08T11:13:29.333Z"
   },
   {
    "duration": 38,
    "start_time": "2023-08-08T11:13:29.358Z"
   }
  ],
  "kernelspec": {
   "display_name": "Python 3 (ipykernel)",
   "language": "python",
   "name": "python3"
  },
  "language_info": {
   "codemirror_mode": {
    "name": "ipython",
    "version": 3
   },
   "file_extension": ".py",
   "mimetype": "text/x-python",
   "name": "python",
   "nbconvert_exporter": "python",
   "pygments_lexer": "ipython3",
   "version": "3.9.16"
  },
  "toc": {
   "base_numbering": 1,
   "nav_menu": {},
   "number_sections": true,
   "sideBar": true,
   "skip_h1_title": true,
   "title_cell": "Table of Contents",
   "title_sidebar": "Contents",
   "toc_cell": false,
   "toc_position": {},
   "toc_section_display": true,
   "toc_window_display": false
  }
 },
 "nbformat": 4,
 "nbformat_minor": 5
}
