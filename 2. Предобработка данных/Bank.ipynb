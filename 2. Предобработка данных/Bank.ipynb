{
 "cells": [
  {
   "cell_type": "markdown",
   "id": "f69df1b6",
   "metadata": {},
   "source": [
    "# Исследование надежности заемщиков"
   ]
  },
  {
   "cell_type": "markdown",
   "id": "b7b040e8",
   "metadata": {},
   "source": [
    "**Описание проекта:**  \n",
    "Наш заказчик — кредитный отдел банка. Нужно разобраться, влияет ли семейное положение, уровень дохода и количество детей клиента на факт погашения кредита в срок. Входные данные от банка — статистика о платёжеспособности клиентов.  \n",
    "\n",
    "Результаты исследования будут учтены при построении модели кредитного скоринга — специальной системы, которая оценивает способность потенциального заёмщика вернуть кредит банку.  \n",
    "\n",
    "**Цели исследования:**  \n",
    "- оценить, влияют ли семейное положение, уровень дохода и количество детей клиента на факт погашения кредита в срок\n",
    "- предоставить данные для построения модели кредитного скоринга \n",
    "\n",
    "**Ход исследования:**  \n",
    "\n",
    "Статистика о платёжеспособности клиентов хранится в файле: '/datasets/real_estate_data.csv'.  \n",
    "О качестве данных ничего неизвестно, поэтому понадобится предварительный обзор данных.   \n",
    "После обзора я проверю данные на аномалии, пропуски, дубликаты, правильность исходных типов и постраюсь устранить все проблемы, которые могут помешать в процессе исследования, либо привести к искажению конечного результата. Далее я добавлю необходимые категории, которые помогут в построении модели кредитного скоринга и приступлю к исследованию надёжности клиентов. \n",
    "\n",
    "Таким образом, исследование будет состоять из четырёх этапов:\n",
    "- Обзор данных\n",
    "- Предобработка данных\n",
    "- Исследовательский анализ данных\n",
    "- Подведение итогов исследования"
   ]
  },
  {
   "cell_type": "markdown",
   "id": "746231a4",
   "metadata": {},
   "source": [
    "## Обзор с данных"
   ]
  },
  {
   "cell_type": "markdown",
   "id": "21bdd3e8",
   "metadata": {},
   "source": [
    "**1.1 Откроем файл с данными и сохраним его в переменную data:**"
   ]
  },
  {
   "cell_type": "code",
   "execution_count": 1,
   "id": "be55447a",
   "metadata": {},
   "outputs": [],
   "source": [
    "# импорт библиотек:\n",
    "import pandas as pd\n",
    "\n",
    "# прочитаем csv-файл и сохраним данные в переменную data:\n",
    "data = pd.read_csv('C:\\\\Users\\\\Refresh\\\\Projects\\\\Bank\\\\data.csv')"
   ]
  },
  {
   "cell_type": "markdown",
   "id": "295aac4c",
   "metadata": {},
   "source": [
    "**1.2 Выведем первые 5 строк датафрейма data на экран:**"
   ]
  },
  {
   "cell_type": "code",
   "execution_count": 2,
   "id": "41de2999",
   "metadata": {},
   "outputs": [
    {
     "data": {
      "text/html": [
       "<div>\n",
       "<style scoped>\n",
       "    .dataframe tbody tr th:only-of-type {\n",
       "        vertical-align: middle;\n",
       "    }\n",
       "\n",
       "    .dataframe tbody tr th {\n",
       "        vertical-align: top;\n",
       "    }\n",
       "\n",
       "    .dataframe thead th {\n",
       "        text-align: right;\n",
       "    }\n",
       "</style>\n",
       "<table border=\"1\" class=\"dataframe\">\n",
       "  <thead>\n",
       "    <tr style=\"text-align: right;\">\n",
       "      <th></th>\n",
       "      <th>children</th>\n",
       "      <th>days_employed</th>\n",
       "      <th>dob_years</th>\n",
       "      <th>education</th>\n",
       "      <th>education_id</th>\n",
       "      <th>family_status</th>\n",
       "      <th>family_status_id</th>\n",
       "      <th>gender</th>\n",
       "      <th>income_type</th>\n",
       "      <th>debt</th>\n",
       "      <th>total_income</th>\n",
       "      <th>purpose</th>\n",
       "    </tr>\n",
       "  </thead>\n",
       "  <tbody>\n",
       "    <tr>\n",
       "      <th>0</th>\n",
       "      <td>1</td>\n",
       "      <td>-8437.673028</td>\n",
       "      <td>42</td>\n",
       "      <td>высшее</td>\n",
       "      <td>0</td>\n",
       "      <td>женат / замужем</td>\n",
       "      <td>0</td>\n",
       "      <td>F</td>\n",
       "      <td>сотрудник</td>\n",
       "      <td>0</td>\n",
       "      <td>253875.639453</td>\n",
       "      <td>покупка жилья</td>\n",
       "    </tr>\n",
       "    <tr>\n",
       "      <th>1</th>\n",
       "      <td>1</td>\n",
       "      <td>-4024.803754</td>\n",
       "      <td>36</td>\n",
       "      <td>среднее</td>\n",
       "      <td>1</td>\n",
       "      <td>женат / замужем</td>\n",
       "      <td>0</td>\n",
       "      <td>F</td>\n",
       "      <td>сотрудник</td>\n",
       "      <td>0</td>\n",
       "      <td>112080.014102</td>\n",
       "      <td>приобретение автомобиля</td>\n",
       "    </tr>\n",
       "    <tr>\n",
       "      <th>2</th>\n",
       "      <td>0</td>\n",
       "      <td>-5623.422610</td>\n",
       "      <td>33</td>\n",
       "      <td>Среднее</td>\n",
       "      <td>1</td>\n",
       "      <td>женат / замужем</td>\n",
       "      <td>0</td>\n",
       "      <td>M</td>\n",
       "      <td>сотрудник</td>\n",
       "      <td>0</td>\n",
       "      <td>145885.952297</td>\n",
       "      <td>покупка жилья</td>\n",
       "    </tr>\n",
       "    <tr>\n",
       "      <th>3</th>\n",
       "      <td>3</td>\n",
       "      <td>-4124.747207</td>\n",
       "      <td>32</td>\n",
       "      <td>среднее</td>\n",
       "      <td>1</td>\n",
       "      <td>женат / замужем</td>\n",
       "      <td>0</td>\n",
       "      <td>M</td>\n",
       "      <td>сотрудник</td>\n",
       "      <td>0</td>\n",
       "      <td>267628.550329</td>\n",
       "      <td>дополнительное образование</td>\n",
       "    </tr>\n",
       "    <tr>\n",
       "      <th>4</th>\n",
       "      <td>0</td>\n",
       "      <td>340266.072047</td>\n",
       "      <td>53</td>\n",
       "      <td>среднее</td>\n",
       "      <td>1</td>\n",
       "      <td>гражданский брак</td>\n",
       "      <td>1</td>\n",
       "      <td>F</td>\n",
       "      <td>пенсионер</td>\n",
       "      <td>0</td>\n",
       "      <td>158616.077870</td>\n",
       "      <td>сыграть свадьбу</td>\n",
       "    </tr>\n",
       "  </tbody>\n",
       "</table>\n",
       "</div>"
      ],
      "text/plain": [
       "   children  days_employed  dob_years education  education_id  \\\n",
       "0         1   -8437.673028         42    высшее             0   \n",
       "1         1   -4024.803754         36   среднее             1   \n",
       "2         0   -5623.422610         33   Среднее             1   \n",
       "3         3   -4124.747207         32   среднее             1   \n",
       "4         0  340266.072047         53   среднее             1   \n",
       "\n",
       "      family_status  family_status_id gender income_type  debt   total_income  \\\n",
       "0   женат / замужем                 0      F   сотрудник     0  253875.639453   \n",
       "1   женат / замужем                 0      F   сотрудник     0  112080.014102   \n",
       "2   женат / замужем                 0      M   сотрудник     0  145885.952297   \n",
       "3   женат / замужем                 0      M   сотрудник     0  267628.550329   \n",
       "4  гражданский брак                 1      F   пенсионер     0  158616.077870   \n",
       "\n",
       "                      purpose  \n",
       "0               покупка жилья  \n",
       "1     приобретение автомобиля  \n",
       "2               покупка жилья  \n",
       "3  дополнительное образование  \n",
       "4             сыграть свадьбу  "
      ]
     },
     "execution_count": 2,
     "metadata": {},
     "output_type": "execute_result"
    }
   ],
   "source": [
    "data.head()"
   ]
  },
  {
   "cell_type": "markdown",
   "id": "6a8c02a0",
   "metadata": {},
   "source": [
    "**1.3 Выведем основную информацию о датафрейме с помощью метода info**():"
   ]
  },
  {
   "cell_type": "code",
   "execution_count": 3,
   "id": "0e14b3cd",
   "metadata": {
    "scrolled": true
   },
   "outputs": [
    {
     "name": "stdout",
     "output_type": "stream",
     "text": [
      "<class 'pandas.core.frame.DataFrame'>\n",
      "RangeIndex: 21525 entries, 0 to 21524\n",
      "Data columns (total 12 columns):\n",
      " #   Column            Non-Null Count  Dtype  \n",
      "---  ------            --------------  -----  \n",
      " 0   children          21525 non-null  int64  \n",
      " 1   days_employed     19351 non-null  float64\n",
      " 2   dob_years         21525 non-null  int64  \n",
      " 3   education         21525 non-null  object \n",
      " 4   education_id      21525 non-null  int64  \n",
      " 5   family_status     21525 non-null  object \n",
      " 6   family_status_id  21525 non-null  int64  \n",
      " 7   gender            21525 non-null  object \n",
      " 8   income_type       21525 non-null  object \n",
      " 9   debt              21525 non-null  int64  \n",
      " 10  total_income      19351 non-null  float64\n",
      " 11  purpose           21525 non-null  object \n",
      "dtypes: float64(2), int64(5), object(5)\n",
      "memory usage: 2.0+ MB\n"
     ]
    }
   ],
   "source": [
    "data.info()"
   ]
  },
  {
   "cell_type": "markdown",
   "id": "a5343ad3",
   "metadata": {},
   "source": [
    "**Вывод:** Датафрейм data состоит из 21525 строк и 12 столбцов. В нем содержится следующая информация о заёмщиках:  \n",
    "- *children* — количество детей в семье  \n",
    "- *days_employed* — общий трудовой стаж в днях  \n",
    "- *dob_years* — возраст клиента в годах  \n",
    "- *education* — уровень образования клиента  \n",
    "- *education_id* — идентификатор уровня образования  \n",
    "- *family_status* — семейное положение  \n",
    "- *family_status_id* — идентификатор семейного положения  \n",
    "- *gender* — пол клиента  \n",
    "- *income_type* — тип занятости  \n",
    "- *debt* — имел ли задолженность по возврату кредитов  \n",
    "- *total_income* — ежемесячный доход  \n",
    "- *purpose* — цель получения кредита  \n",
    "\n",
    "На первом этапе обнаружены следующие проблемы в исходных данных:\n",
    "- аномалии в стоблце *days_employed*   \n",
    "- пропущенные значения в столбцах *days_employed* и *total_income*     \n",
    "\n",
    "Устраним пошагово эти и другие возможные проблемы, чтобы подготовить данные для исследования."
   ]
  },
  {
   "cell_type": "markdown",
   "id": "5191cd2c",
   "metadata": {},
   "source": [
    "## Предобработка данных"
   ]
  },
  {
   "cell_type": "markdown",
   "id": "8cc2771e",
   "metadata": {},
   "source": [
    "### Обработка аномальных значений"
   ]
  },
  {
   "cell_type": "markdown",
   "id": "46e98386",
   "metadata": {},
   "source": [
    "#### Проверим уникальные значения столбца *days_employed:*"
   ]
  },
  {
   "cell_type": "code",
   "execution_count": 4,
   "id": "b127f52a",
   "metadata": {},
   "outputs": [
    {
     "data": {
      "text/plain": [
       "array([-8437.67302776, -4024.80375385, -5623.42261023, ...,\n",
       "       -2113.3468877 , -3112.4817052 , -1984.50758853])"
      ]
     },
     "execution_count": 4,
     "metadata": {},
     "output_type": "execute_result"
    }
   ],
   "source": [
    "data['days_employed'].unique()"
   ]
  },
  {
   "cell_type": "markdown",
   "id": "ae3d6044",
   "metadata": {},
   "source": [
    "В данных могут встречаться артефакты (аномалии) — значения, которые не отражают действительность и появились по какой-то ошибке.  \n",
    "Таким артефактом будет отрицательное количество дней трудового стажа в столбце *days_employed*.  \n",
    "\n",
    "#### Заменим все отрицательные значения в столбце положительными с помощью метода abs():"
   ]
  },
  {
   "cell_type": "code",
   "execution_count": 5,
   "id": "7727c2d8",
   "metadata": {},
   "outputs": [],
   "source": [
    "data['days_employed'] = data['days_employed'].abs()"
   ]
  },
  {
   "cell_type": "markdown",
   "id": "ab9abd69",
   "metadata": {},
   "source": [
    "#### Выведем медианное значение трудового стажа *days_employed* в днях для каждого типа занятости:"
   ]
  },
  {
   "cell_type": "code",
   "execution_count": 6,
   "id": "05341d99",
   "metadata": {
    "scrolled": true
   },
   "outputs": [
    {
     "data": {
      "text/plain": [
       "income_type\n",
       "безработный        366413.652744\n",
       "в декрете            3296.759962\n",
       "госслужащий          2689.368353\n",
       "компаньон            1547.382223\n",
       "пенсионер          365213.306266\n",
       "предприниматель       520.848083\n",
       "сотрудник            1574.202821\n",
       "студент               578.751554\n",
       "Name: days_employed, dtype: float64"
      ]
     },
     "execution_count": 6,
     "metadata": {},
     "output_type": "execute_result"
    }
   ],
   "source": [
    "data.groupby('income_type')['days_employed'].agg('median')"
   ]
  },
  {
   "cell_type": "markdown",
   "id": "487d7732",
   "metadata": {},
   "source": [
    "У двух типов (безработные и пенсионеры) обнаружены аномально большие значения.  \n",
    "Исправить такие значения сложно, поэтому оставим их как есть."
   ]
  },
  {
   "cell_type": "markdown",
   "id": "eb6a6a46",
   "metadata": {},
   "source": [
    "#### Выведем перечень уникальных значений столбца *children:*"
   ]
  },
  {
   "cell_type": "code",
   "execution_count": 7,
   "id": "5916bb83",
   "metadata": {},
   "outputs": [
    {
     "data": {
      "text/plain": [
       "array([ 1,  0,  3,  2, -1,  4, 20,  5], dtype=int64)"
      ]
     },
     "execution_count": 7,
     "metadata": {},
     "output_type": "execute_result"
    }
   ],
   "source": [
    "data['children'].unique()"
   ]
  },
  {
   "cell_type": "markdown",
   "id": "d0126360",
   "metadata": {},
   "source": [
    "В столбце *children* есть два аномальных значения. **Удалим** строки, в которых встречаются эти аномалии:"
   ]
  },
  {
   "cell_type": "code",
   "execution_count": 8,
   "id": "4df9da18",
   "metadata": {},
   "outputs": [],
   "source": [
    "data = data[(data['children'] != -1) & (data['children'] != 20)]"
   ]
  },
  {
   "cell_type": "markdown",
   "id": "e48c3ce5",
   "metadata": {},
   "source": [
    "Выведем снова перечень уникальных значений столбца *children*, чтобы убедиться, что артефакты удалены:"
   ]
  },
  {
   "cell_type": "code",
   "execution_count": 9,
   "id": "e496f7d9",
   "metadata": {},
   "outputs": [
    {
     "data": {
      "text/plain": [
       "array([1, 0, 3, 2, 4, 5], dtype=int64)"
      ]
     },
     "execution_count": 9,
     "metadata": {},
     "output_type": "execute_result"
    }
   ],
   "source": [
    "data['children'].unique()"
   ]
  },
  {
   "cell_type": "markdown",
   "id": "c8941f9e",
   "metadata": {},
   "source": [
    "### Удаление пропусков"
   ]
  },
  {
   "cell_type": "markdown",
   "id": "c5730208",
   "metadata": {},
   "source": [
    "#### Выведем количество пропущенных значений для каждого столбца:"
   ]
  },
  {
   "cell_type": "code",
   "execution_count": 10,
   "id": "756ae28f",
   "metadata": {
    "scrolled": true
   },
   "outputs": [
    {
     "data": {
      "text/plain": [
       "children               0\n",
       "days_employed       2162\n",
       "dob_years              0\n",
       "education              0\n",
       "education_id           0\n",
       "family_status          0\n",
       "family_status_id       0\n",
       "gender                 0\n",
       "income_type            0\n",
       "debt                   0\n",
       "total_income        2162\n",
       "purpose                0\n",
       "dtype: int64"
      ]
     },
     "execution_count": 10,
     "metadata": {},
     "output_type": "execute_result"
    }
   ],
   "source": [
    "data.isna().sum()"
   ]
  },
  {
   "cell_type": "markdown",
   "id": "6ff8a83b",
   "metadata": {},
   "source": [
    "Пропущенные значения обнаружены в двух столбцах: *days_employed* и *total_income*.  \n",
    "\n",
    "Начнём работу со столбца **total_income**.  \n",
    "На сумму дохода сильнее всего влияет тип занятости, поэтому заполнить пропуски в этом столбце нужно медианным значением по каждому типу занятости из столбца *income_type*:"
   ]
  },
  {
   "cell_type": "code",
   "execution_count": 11,
   "id": "e9602652",
   "metadata": {},
   "outputs": [],
   "source": [
    "for t in data['income_type'].unique():\n",
    "    data.loc[(data['income_type'] == t) & (data['total_income'].isna()), 'total_income'] = \\\n",
    "    data.loc[(data['income_type'] == t), 'total_income'].median()"
   ]
  },
  {
   "cell_type": "markdown",
   "id": "2470e857",
   "metadata": {},
   "source": [
    "Убедимся, что все пропуски в столбце *income_type* заполнены:"
   ]
  },
  {
   "cell_type": "code",
   "execution_count": 12,
   "id": "697b119e",
   "metadata": {},
   "outputs": [
    {
     "data": {
      "text/plain": [
       "children               0\n",
       "days_employed       2162\n",
       "dob_years              0\n",
       "education              0\n",
       "education_id           0\n",
       "family_status          0\n",
       "family_status_id       0\n",
       "gender                 0\n",
       "income_type            0\n",
       "debt                   0\n",
       "total_income           0\n",
       "purpose                0\n",
       "dtype: int64"
      ]
     },
     "execution_count": 12,
     "metadata": {},
     "output_type": "execute_result"
    }
   ],
   "source": [
    "data.isna().sum()"
   ]
  },
  {
   "cell_type": "markdown",
   "id": "77dd4e0d",
   "metadata": {},
   "source": [
    "Обработаем пропуски в столбце **days_employed**.  \n",
    "Заполним их медианными значениями по каждому типу занятости из столбца *income_type:*"
   ]
  },
  {
   "cell_type": "code",
   "execution_count": 13,
   "id": "7a0523bb",
   "metadata": {},
   "outputs": [],
   "source": [
    "for t in data['income_type'].unique():\n",
    "    data.loc[(data['income_type'] == t) & (data['days_employed'].isna()), 'days_employed'] = \\\n",
    "    data.loc[(data['income_type'] == t), 'days_employed'].median()"
   ]
  },
  {
   "cell_type": "markdown",
   "id": "953075c9",
   "metadata": {},
   "source": [
    "Убедимся, что все пропуски в столбце *days_employed* заполнены:"
   ]
  },
  {
   "cell_type": "code",
   "execution_count": 14,
   "id": "e72a5ea7",
   "metadata": {},
   "outputs": [
    {
     "data": {
      "text/plain": [
       "children            0\n",
       "days_employed       0\n",
       "dob_years           0\n",
       "education           0\n",
       "education_id        0\n",
       "family_status       0\n",
       "family_status_id    0\n",
       "gender              0\n",
       "income_type         0\n",
       "debt                0\n",
       "total_income        0\n",
       "purpose             0\n",
       "dtype: int64"
      ]
     },
     "execution_count": 14,
     "metadata": {},
     "output_type": "execute_result"
    }
   ],
   "source": [
    "data.isna().sum()"
   ]
  },
  {
   "cell_type": "markdown",
   "id": "e2afaa15",
   "metadata": {},
   "source": [
    "**Выводы:** В исходных данных присутствовали пропуски в двух столбцах:  \n",
    "— days_employed  \n",
    "— total_income  \n",
    "\n",
    "Возможные причины пропусков:\n",
    "- Заёмщик не указал о себе какие-либо сведения\n",
    "- Система сбора информации при обработке заявки на кредит дала сбой\n",
    "- Человеческий фактор: пропуски могли не заметить люди, принимающие заявку\n",
    "- Иногда пропуски оставляют умышленно, рассчитывая на автозаполнение спецсимволами  \n",
    "\n",
    "Заполнить пропуски медианным значением — лучшее решение в данной ситуации.  \n",
    "В количественных переменных данные часто неоднородны, и некоторые значения могут сильно выделяться среди большинства. Медиана помогает избежать некорретных подсчетов для определения типичных значений выборки, так как ровно половина значений больше неё, а другая половина значений — меньше. \n"
   ]
  },
  {
   "cell_type": "markdown",
   "id": "a63bec9b",
   "metadata": {},
   "source": [
    "### Изменение типов данных"
   ]
  },
  {
   "cell_type": "markdown",
   "id": "8b2ff539",
   "metadata": {},
   "source": [
    "Заменим вещественный тип данных в столбце *total_income* на целочисленный с помощью метода **astype():**"
   ]
  },
  {
   "cell_type": "code",
   "execution_count": 15,
   "id": "affaf7a0",
   "metadata": {},
   "outputs": [],
   "source": [
    "data['total_income'] = data['total_income'].astype(int)"
   ]
  },
  {
   "cell_type": "markdown",
   "id": "c33f61fc",
   "metadata": {},
   "source": [
    "### Обработка дубликатов"
   ]
  },
  {
   "cell_type": "markdown",
   "id": "6d6546c0",
   "metadata": {},
   "source": [
    "#### Выведем количество строк-дубликатов в данных.  \n",
    "Если такие строки присутствуют, удалим их с помощью метода **drop_duplicates():**"
   ]
  },
  {
   "cell_type": "code",
   "execution_count": 16,
   "id": "032e29d3",
   "metadata": {
    "scrolled": true
   },
   "outputs": [
    {
     "data": {
      "text/plain": [
       "54"
      ]
     },
     "execution_count": 16,
     "metadata": {},
     "output_type": "execute_result"
    }
   ],
   "source": [
    "# подсчет количества явных дубликатов:\n",
    "data.duplicated().sum()"
   ]
  },
  {
   "cell_type": "code",
   "execution_count": 17,
   "id": "c179f041",
   "metadata": {},
   "outputs": [],
   "source": [
    "# удаление явных дубликатов:\n",
    "data = data.drop_duplicates()"
   ]
  },
  {
   "cell_type": "markdown",
   "id": "1b143d79",
   "metadata": {},
   "source": [
    "#### Обработаем неявные дубликаты в столбце *education*. \n",
    "В этом столбце есть одни и те же значения, но записанные по-разному: с использованием заглавных и строчных букв.   \n",
    "Приведем их к нижнему регистру:"
   ]
  },
  {
   "cell_type": "code",
   "execution_count": 18,
   "id": "a713f010",
   "metadata": {},
   "outputs": [],
   "source": [
    "data['education'] = data['education'].str.lower()"
   ]
  },
  {
   "cell_type": "markdown",
   "id": "34705b4f",
   "metadata": {},
   "source": [
    "### Категоризация данных"
   ]
  },
  {
   "cell_type": "markdown",
   "id": "8fa46f88",
   "metadata": {},
   "source": [
    "#### Разделим заёмщиков по категориям в зависимости от их ежемесячного дохода.  \n",
    "Создадим новый столбец *total_income_category* и сохраним в него категорию на основании следующих диапазонов:   \n",
    "- 0–30000 рублей — **E**\n",
    "- 30001–50000 рублей — **D**\n",
    "- 50001–200000 рублей — **C**\n",
    "- 200001–1000000 рублей — **B**\n",
    "- 1000001 рублей и выше — **A**"
   ]
  },
  {
   "cell_type": "code",
   "execution_count": 19,
   "id": "82f930fa",
   "metadata": {},
   "outputs": [],
   "source": [
    "# напишем функцию, которая присвоит категории заёмщикам:\n",
    "def categorize_income(income):\n",
    "    try:\n",
    "        if 0 <= income <= 30000:\n",
    "            return 'E'\n",
    "        elif 30001 <= income <= 50000:\n",
    "            return 'D'\n",
    "        elif 50001 <= income <= 200000:\n",
    "            return 'C'\n",
    "        elif 200001 <= income <= 1000000:\n",
    "            return 'B'\n",
    "        elif income >= 1000001:\n",
    "            return 'A'\n",
    "    except:\n",
    "        pass"
   ]
  },
  {
   "cell_type": "code",
   "execution_count": 20,
   "id": "c6d15b72",
   "metadata": {},
   "outputs": [],
   "source": [
    "# применим функцию к столбцу total_income и запишем категории в столбец total_income_category:\n",
    "data['total_income_category'] = data['total_income'].apply(categorize_income)"
   ]
  },
  {
   "cell_type": "markdown",
   "id": "991e2f98",
   "metadata": {},
   "source": [
    "#### Выведем перечень уникальных целей кредита из столбца *purpose:*"
   ]
  },
  {
   "cell_type": "code",
   "execution_count": 21,
   "id": "112dbe40",
   "metadata": {},
   "outputs": [
    {
     "data": {
      "text/plain": [
       "array(['покупка жилья', 'приобретение автомобиля',\n",
       "       'дополнительное образование', 'сыграть свадьбу',\n",
       "       'операции с жильем', 'образование', 'на проведение свадьбы',\n",
       "       'покупка жилья для семьи', 'покупка недвижимости',\n",
       "       'покупка коммерческой недвижимости', 'покупка жилой недвижимости',\n",
       "       'строительство собственной недвижимости', 'недвижимость',\n",
       "       'строительство недвижимости', 'на покупку подержанного автомобиля',\n",
       "       'на покупку своего автомобиля',\n",
       "       'операции с коммерческой недвижимостью',\n",
       "       'строительство жилой недвижимости', 'жилье',\n",
       "       'операции со своей недвижимостью', 'автомобили',\n",
       "       'заняться образованием', 'сделка с подержанным автомобилем',\n",
       "       'получение образования', 'автомобиль', 'свадьба',\n",
       "       'получение дополнительного образования', 'покупка своего жилья',\n",
       "       'операции с недвижимостью', 'получение высшего образования',\n",
       "       'свой автомобиль', 'сделка с автомобилем',\n",
       "       'профильное образование', 'высшее образование',\n",
       "       'покупка жилья для сдачи', 'на покупку автомобиля', 'ремонт жилью',\n",
       "       'заняться высшим образованием'], dtype=object)"
      ]
     },
     "execution_count": 21,
     "metadata": {},
     "output_type": "execute_result"
    }
   ],
   "source": [
    "data['purpose'].unique()"
   ]
  },
  {
   "cell_type": "markdown",
   "id": "98597aad",
   "metadata": {},
   "source": [
    "#### Разделим цели кредита на 4 основные категории:\n",
    "- операции с автомобилем  \n",
    "- операции с недвижимостью  \n",
    "- проведение свадьбы  \n",
    "- получение образования   \n",
    "\n",
    "Далее запишем категорию в новый столбец *purpose_category*:"
   ]
  },
  {
   "cell_type": "code",
   "execution_count": 22,
   "id": "3b97fc68",
   "metadata": {},
   "outputs": [],
   "source": [
    "# напишем функцию, которая разделит цели кредита по категориям:\n",
    "def categorize_purpose(row):\n",
    "    try:\n",
    "        if 'автом' in row:\n",
    "            return 'операции с автомобилем'\n",
    "        elif 'жил' in row or 'недвиж' in row:\n",
    "            return 'операции с недвижимостью'\n",
    "        elif 'свад' in row:\n",
    "            return 'проведение свадьбы'\n",
    "        elif 'образов' in row:\n",
    "            return 'получение образования'\n",
    "    except:\n",
    "        return 'нет категории'"
   ]
  },
  {
   "cell_type": "code",
   "execution_count": 23,
   "id": "cccc9074",
   "metadata": {},
   "outputs": [],
   "source": [
    "# применим функцию к столбцу purpose и запишем категории в столбец purpose_category:\n",
    "data['purpose_category'] = data['purpose'].apply(categorize_purpose)"
   ]
  },
  {
   "cell_type": "markdown",
   "id": "ac43b390",
   "metadata": {},
   "source": [
    "## Исследовательский анализ данных"
   ]
  },
  {
   "cell_type": "markdown",
   "id": "66a6bafd",
   "metadata": {},
   "source": [
    "Ответим на ряд вопросов, позволяющих оценить надежность заёмщиков:\n",
    "\n",
    "### 3.1 Есть ли зависимость между количеством детей и возвратом кредита в срок?"
   ]
  },
  {
   "cell_type": "markdown",
   "id": "7ad84661",
   "metadata": {},
   "source": [
    "#### **3.1.1** Сделаем группировку данных должников по количеству детей в семье:"
   ]
  },
  {
   "cell_type": "code",
   "execution_count": 24,
   "id": "166360fa",
   "metadata": {},
   "outputs": [
    {
     "data": {
      "text/plain": [
       "children\n",
       "0    1063\n",
       "1     444\n",
       "2     194\n",
       "3      27\n",
       "4       4\n",
       "5       0\n",
       "Name: debt, dtype: int64"
      ]
     },
     "execution_count": 24,
     "metadata": {},
     "output_type": "execute_result"
    }
   ],
   "source": [
    "children_factor = data.groupby('children')['debt'].sum()\n",
    "children_factor"
   ]
  },
  {
   "cell_type": "markdown",
   "id": "17d46277",
   "metadata": {},
   "source": [
    "**Вывод:** Предположительно, больше всего просрочек по кредиту у группы людей без детей. Но эти цифры не показательные, так как мы не знаем, какую долю от общего количества людей в группе занимают люди с просрочкой.  \n",
    "\n",
    "#### **3.1.2** Посчитаем общее количество людей в каждой группе:"
   ]
  },
  {
   "cell_type": "code",
   "execution_count": 25,
   "id": "d350e08a",
   "metadata": {},
   "outputs": [
    {
     "data": {
      "text/plain": [
       "children\n",
       "0    14107\n",
       "1     4809\n",
       "2     2052\n",
       "3      330\n",
       "4       41\n",
       "5        9\n",
       "Name: debt, dtype: int64"
      ]
     },
     "execution_count": 25,
     "metadata": {},
     "output_type": "execute_result"
    }
   ],
   "source": [
    "total_people = data.groupby('children')['debt'].count()\n",
    "total_people"
   ]
  },
  {
   "cell_type": "markdown",
   "id": "3f75aeea",
   "metadata": {
    "deletable": false,
    "id": "2eb9088e"
   },
   "source": [
    "**Вывод:** Группа без детей является самой многочисленной, поэтому и людей с просрочкой по кредиту в ней больше.  \n",
    "В группах с 3, 4 и 5 детьми очень мало человек по сравнению с другими. Есть смысл объединить их в одну общую группу - **\"3 и более детей\"**.  \n",
    "\n",
    "#### **3.1.3** Объединим людей с количеством детей 3, 4 и 5 в общую группу - \"3 и более детей\":"
   ]
  },
  {
   "cell_type": "code",
   "execution_count": 26,
   "id": "e8e1fbcf",
   "metadata": {},
   "outputs": [
    {
     "data": {
      "text/plain": [
       "children\n",
       "0     14107\n",
       "1      4809\n",
       "2      2052\n",
       "3+      380\n",
       "Name: debt, dtype: int64"
      ]
     },
     "execution_count": 26,
     "metadata": {},
     "output_type": "execute_result"
    }
   ],
   "source": [
    "total_people['3+'] = total_people[3] + total_people[4] + total_people[5]\n",
    "total_people.drop(index=[3,4,5], inplace=True)\n",
    "total_people"
   ]
  },
  {
   "cell_type": "markdown",
   "id": "decdc38b",
   "metadata": {},
   "source": [
    "#### **3.1.4** Посчитаем количество людей с просрочкой по кредиту в новой группе \"3 и более детей\":"
   ]
  },
  {
   "cell_type": "code",
   "execution_count": 27,
   "id": "02299599",
   "metadata": {},
   "outputs": [
    {
     "data": {
      "text/plain": [
       "children\n",
       "0     1063\n",
       "1      444\n",
       "2      194\n",
       "3+      31\n",
       "Name: debt, dtype: int64"
      ]
     },
     "execution_count": 27,
     "metadata": {},
     "output_type": "execute_result"
    }
   ],
   "source": [
    "children_factor['3+'] = children_factor[3] + children_factor[4] + children_factor[5]\n",
    "children_factor.drop(index=[3,4,5], inplace=True)\n",
    "children_factor"
   ]
  },
  {
   "cell_type": "markdown",
   "id": "ee1096a8",
   "metadata": {},
   "source": [
    "#### **3.1.5** Посчитаем долю должников от общего количества людей в группе для каждой из групп:"
   ]
  },
  {
   "cell_type": "code",
   "execution_count": 28,
   "id": "a4dcc8ba",
   "metadata": {},
   "outputs": [
    {
     "data": {
      "text/plain": [
       "children\n",
       "0     7.5\n",
       "1     9.2\n",
       "2     9.5\n",
       "3+    8.2\n",
       "Name: debt, dtype: float64"
      ]
     },
     "execution_count": 28,
     "metadata": {},
     "output_type": "execute_result"
    }
   ],
   "source": [
    "share_of_debt = (children_factor / total_people)*100\n",
    "round(share_of_debt, 1)"
   ]
  },
  {
   "cell_type": "markdown",
   "id": "9a323cf9",
   "metadata": {},
   "source": [
    "#### **3.1.6** Сделаем сводную таблицу по всем полученным данными:"
   ]
  },
  {
   "cell_type": "code",
   "execution_count": 29,
   "id": "186976b9",
   "metadata": {},
   "outputs": [
    {
     "data": {
      "text/html": [
       "<div>\n",
       "<style scoped>\n",
       "    .dataframe tbody tr th:only-of-type {\n",
       "        vertical-align: middle;\n",
       "    }\n",
       "\n",
       "    .dataframe tbody tr th {\n",
       "        vertical-align: top;\n",
       "    }\n",
       "\n",
       "    .dataframe thead th {\n",
       "        text-align: right;\n",
       "    }\n",
       "</style>\n",
       "<table border=\"1\" class=\"dataframe\">\n",
       "  <thead>\n",
       "    <tr style=\"text-align: right;\">\n",
       "      <th></th>\n",
       "      <th>total_people</th>\n",
       "      <th>people_with_debt</th>\n",
       "      <th>share_of_debt</th>\n",
       "    </tr>\n",
       "    <tr>\n",
       "      <th>children</th>\n",
       "      <th></th>\n",
       "      <th></th>\n",
       "      <th></th>\n",
       "    </tr>\n",
       "  </thead>\n",
       "  <tbody>\n",
       "    <tr>\n",
       "      <th>2</th>\n",
       "      <td>2052</td>\n",
       "      <td>194</td>\n",
       "      <td>9.5</td>\n",
       "    </tr>\n",
       "    <tr>\n",
       "      <th>1</th>\n",
       "      <td>4809</td>\n",
       "      <td>444</td>\n",
       "      <td>9.2</td>\n",
       "    </tr>\n",
       "    <tr>\n",
       "      <th>3+</th>\n",
       "      <td>380</td>\n",
       "      <td>31</td>\n",
       "      <td>8.2</td>\n",
       "    </tr>\n",
       "    <tr>\n",
       "      <th>0</th>\n",
       "      <td>14107</td>\n",
       "      <td>1063</td>\n",
       "      <td>7.5</td>\n",
       "    </tr>\n",
       "  </tbody>\n",
       "</table>\n",
       "</div>"
      ],
      "text/plain": [
       "          total_people  people_with_debt  share_of_debt\n",
       "children                                               \n",
       "2                 2052               194            9.5\n",
       "1                 4809               444            9.2\n",
       "3+                 380                31            8.2\n",
       "0                14107              1063            7.5"
      ]
     },
     "execution_count": 29,
     "metadata": {},
     "output_type": "execute_result"
    }
   ],
   "source": [
    "data_debt = total_people.to_frame().merge(children_factor, on='children', how='left')\n",
    "data_debt['share_of_debt'] = round((children_factor / total_people)*100, 1)\n",
    "\n",
    "# переименуем столбцы в итоговой таблице:\n",
    "data_debt.columns = ['total_people', 'people_with_debt', 'share_of_debt']\n",
    "\n",
    "# применим сортировку по доле должников (от большей к меньшей):\n",
    "data_debt.sort_values(by='share_of_debt', ascending=False)"
   ]
  },
  {
   "cell_type": "markdown",
   "id": "82ef01d6",
   "metadata": {
    "deletable": false,
    "id": "2eb9088e"
   },
   "source": [
    "**Выводы:**  \n",
    "- Доля должников в каждой из групп составляет от 7 до 10%  \n",
    "- Самый **большой** процент людей с просрочкой в семьях, у которых есть **один** (9.2%) и **двое** детей (9.5%)\n",
    "- Самый **низкий** процент должников у людей, у которых **нет детей:** 7.5%\n",
    "- В семьях с количеством детей больше трех, должников **меньше**, чем у семей с одним или двумя детьми: всего 8.2%  \n",
    "\n",
    "Подводя итог, можно сделать вывод, что зависимость между количеством детей и возвратом кредита в срок **отсутствует.**  \n",
    "Несмотря на увеличение на 0.5% между должниками в семьях с одним ребенком и двумя детьми, тенденция не сохраняется: в категории, где детей более трех должников всего 8.2%  \n",
    "\n",
    "При этом, хочется отметить, что у людей без детей самые низкие показатели по просрочкам по сравнению с другими группами.  \n",
    "Таким образом, можно сделать вывод, что **наличие детей влияет** на факт просрочки по кредиту, а их **количество - нет.**"
   ]
  },
  {
   "cell_type": "markdown",
   "id": "5fa9c4dd",
   "metadata": {},
   "source": [
    "### 3.2 Есть ли зависимость между семейным положением и возвратом кредита в срок?"
   ]
  },
  {
   "cell_type": "markdown",
   "id": "838f5d26",
   "metadata": {},
   "source": [
    "#### **3.2.1** Посчитаем количество должников по каждому статусу семейного положения, представленного в таблице: "
   ]
  },
  {
   "cell_type": "code",
   "execution_count": 30,
   "id": "349ff977",
   "metadata": {},
   "outputs": [
    {
     "data": {
      "text/html": [
       "<div>\n",
       "<style scoped>\n",
       "    .dataframe tbody tr th:only-of-type {\n",
       "        vertical-align: middle;\n",
       "    }\n",
       "\n",
       "    .dataframe tbody tr th {\n",
       "        vertical-align: top;\n",
       "    }\n",
       "\n",
       "    .dataframe thead th {\n",
       "        text-align: right;\n",
       "    }\n",
       "</style>\n",
       "<table border=\"1\" class=\"dataframe\">\n",
       "  <thead>\n",
       "    <tr style=\"text-align: right;\">\n",
       "      <th></th>\n",
       "      <th>debt</th>\n",
       "    </tr>\n",
       "    <tr>\n",
       "      <th>family_status</th>\n",
       "      <th></th>\n",
       "    </tr>\n",
       "  </thead>\n",
       "  <tbody>\n",
       "    <tr>\n",
       "      <th>женат / замужем</th>\n",
       "      <td>927</td>\n",
       "    </tr>\n",
       "    <tr>\n",
       "      <th>гражданский брак</th>\n",
       "      <td>385</td>\n",
       "    </tr>\n",
       "    <tr>\n",
       "      <th>Не женат / не замужем</th>\n",
       "      <td>273</td>\n",
       "    </tr>\n",
       "    <tr>\n",
       "      <th>в разводе</th>\n",
       "      <td>84</td>\n",
       "    </tr>\n",
       "    <tr>\n",
       "      <th>вдовец / вдова</th>\n",
       "      <td>63</td>\n",
       "    </tr>\n",
       "  </tbody>\n",
       "</table>\n",
       "</div>"
      ],
      "text/plain": [
       "                       debt\n",
       "family_status              \n",
       "женат / замужем         927\n",
       "гражданский брак        385\n",
       "Не женат / не замужем   273\n",
       "в разводе                84\n",
       "вдовец / вдова           63"
      ]
     },
     "execution_count": 30,
     "metadata": {},
     "output_type": "execute_result"
    }
   ],
   "source": [
    "family_pivot = data.pivot_table(index=['family_status'], values='debt', aggfunc='sum')\n",
    "family_pivot.sort_values(by='debt', ascending=False)"
   ]
  },
  {
   "cell_type": "markdown",
   "id": "ce877870",
   "metadata": {
    "deletable": false,
    "id": "c389ca63"
   },
   "source": [
    "**Вывод:** Предположительно, больше всего просрочек по кредиту у людей, состоящих в браке.  \n",
    "Но эти цифры не показательные, так как мы не знаем, какую долю от общего количества людей в группе занимают люди с просрочкой.  \n",
    "\n",
    "#### **3.2.2** Посчитаем общее количество людей в каждом статусе:"
   ]
  },
  {
   "cell_type": "code",
   "execution_count": 31,
   "id": "6d48d266",
   "metadata": {
    "scrolled": true
   },
   "outputs": [
    {
     "data": {
      "text/html": [
       "<div>\n",
       "<style scoped>\n",
       "    .dataframe tbody tr th:only-of-type {\n",
       "        vertical-align: middle;\n",
       "    }\n",
       "\n",
       "    .dataframe tbody tr th {\n",
       "        vertical-align: top;\n",
       "    }\n",
       "\n",
       "    .dataframe thead th {\n",
       "        text-align: right;\n",
       "    }\n",
       "</style>\n",
       "<table border=\"1\" class=\"dataframe\">\n",
       "  <thead>\n",
       "    <tr style=\"text-align: right;\">\n",
       "      <th></th>\n",
       "      <th>debt</th>\n",
       "      <th>total_people</th>\n",
       "    </tr>\n",
       "    <tr>\n",
       "      <th>family_status</th>\n",
       "      <th></th>\n",
       "      <th></th>\n",
       "    </tr>\n",
       "  </thead>\n",
       "  <tbody>\n",
       "    <tr>\n",
       "      <th>женат / замужем</th>\n",
       "      <td>927</td>\n",
       "      <td>12266</td>\n",
       "    </tr>\n",
       "    <tr>\n",
       "      <th>гражданский брак</th>\n",
       "      <td>385</td>\n",
       "      <td>4146</td>\n",
       "    </tr>\n",
       "    <tr>\n",
       "      <th>Не женат / не замужем</th>\n",
       "      <td>273</td>\n",
       "      <td>2796</td>\n",
       "    </tr>\n",
       "    <tr>\n",
       "      <th>в разводе</th>\n",
       "      <td>84</td>\n",
       "      <td>1189</td>\n",
       "    </tr>\n",
       "    <tr>\n",
       "      <th>вдовец / вдова</th>\n",
       "      <td>63</td>\n",
       "      <td>951</td>\n",
       "    </tr>\n",
       "  </tbody>\n",
       "</table>\n",
       "</div>"
      ],
      "text/plain": [
       "                       debt  total_people\n",
       "family_status                            \n",
       "женат / замужем         927         12266\n",
       "гражданский брак        385          4146\n",
       "Не женат / не замужем   273          2796\n",
       "в разводе                84          1189\n",
       "вдовец / вдова           63           951"
      ]
     },
     "execution_count": 31,
     "metadata": {},
     "output_type": "execute_result"
    }
   ],
   "source": [
    "family_pivot['total_people'] = data.groupby('family_status')['debt'].count() \n",
    "family_pivot.sort_values(by='debt', ascending=False)"
   ]
  },
  {
   "cell_type": "markdown",
   "id": "17b5cdb6",
   "metadata": {},
   "source": [
    "**Вывод:** Группа людей, состоящих в браке, является самой многочисленной, поэтому и людей с просрочкой по кредиту в ней больше.  \n",
    "\n",
    "#### **3.2.3** Посчитаем долю должников от общего количества людей в группе для каждого статуса:"
   ]
  },
  {
   "cell_type": "code",
   "execution_count": 32,
   "id": "7ab779de",
   "metadata": {},
   "outputs": [
    {
     "data": {
      "text/html": [
       "<div>\n",
       "<style scoped>\n",
       "    .dataframe tbody tr th:only-of-type {\n",
       "        vertical-align: middle;\n",
       "    }\n",
       "\n",
       "    .dataframe tbody tr th {\n",
       "        vertical-align: top;\n",
       "    }\n",
       "\n",
       "    .dataframe thead th {\n",
       "        text-align: right;\n",
       "    }\n",
       "</style>\n",
       "<table border=\"1\" class=\"dataframe\">\n",
       "  <thead>\n",
       "    <tr style=\"text-align: right;\">\n",
       "      <th></th>\n",
       "      <th>debt</th>\n",
       "      <th>total_people</th>\n",
       "      <th>share_of_debt</th>\n",
       "    </tr>\n",
       "    <tr>\n",
       "      <th>family_status</th>\n",
       "      <th></th>\n",
       "      <th></th>\n",
       "      <th></th>\n",
       "    </tr>\n",
       "  </thead>\n",
       "  <tbody>\n",
       "    <tr>\n",
       "      <th>Не женат / не замужем</th>\n",
       "      <td>273</td>\n",
       "      <td>2796</td>\n",
       "      <td>9.8</td>\n",
       "    </tr>\n",
       "    <tr>\n",
       "      <th>гражданский брак</th>\n",
       "      <td>385</td>\n",
       "      <td>4146</td>\n",
       "      <td>9.3</td>\n",
       "    </tr>\n",
       "    <tr>\n",
       "      <th>женат / замужем</th>\n",
       "      <td>927</td>\n",
       "      <td>12266</td>\n",
       "      <td>7.6</td>\n",
       "    </tr>\n",
       "    <tr>\n",
       "      <th>в разводе</th>\n",
       "      <td>84</td>\n",
       "      <td>1189</td>\n",
       "      <td>7.1</td>\n",
       "    </tr>\n",
       "    <tr>\n",
       "      <th>вдовец / вдова</th>\n",
       "      <td>63</td>\n",
       "      <td>951</td>\n",
       "      <td>6.6</td>\n",
       "    </tr>\n",
       "  </tbody>\n",
       "</table>\n",
       "</div>"
      ],
      "text/plain": [
       "                       debt  total_people  share_of_debt\n",
       "family_status                                           \n",
       "Не женат / не замужем   273          2796            9.8\n",
       "гражданский брак        385          4146            9.3\n",
       "женат / замужем         927         12266            7.6\n",
       "в разводе                84          1189            7.1\n",
       "вдовец / вдова           63           951            6.6"
      ]
     },
     "execution_count": 32,
     "metadata": {},
     "output_type": "execute_result"
    }
   ],
   "source": [
    "family_pivot['share_of_debt'] = round((family_pivot['debt'] / family_pivot['total_people'])*100, 1)\n",
    "family_pivot.sort_values(by='share_of_debt', ascending=False)"
   ]
  },
  {
   "cell_type": "markdown",
   "id": "ac561f95",
   "metadata": {},
   "source": [
    "**Выводы:**  \n",
    "- Доля должников в каждой из групп составляет от 6 до 10%\n",
    "- Самый **большой** процент людей с просрочкой среди людей **не состоящих в браке** (9.8%) и людей живущих **гражданским** браком (9.3%)\n",
    "- У людей в браке и людей в разводе схожие показатели: ≈ 7-7,5%\n",
    "- Самые **низкие** показатели по должникам у **вдов и вдовцов:** 6.6%  \n",
    "\n",
    "Зависимость между семейным положением и возвратом кредита в срок **есть:**  \n",
    "люди, никогда не состоящие в браке и люди, живущие гражданским браком имеют в среднем на 3% **выше** показатели по просрочкам в сравнении с людьми, которые состоят в браке, разведены или овдовели."
   ]
  },
  {
   "cell_type": "markdown",
   "id": "5618ffff",
   "metadata": {},
   "source": [
    "### 3.3 Есть ли зависимость между уровнем дохода и возвратом кредита в срок?"
   ]
  },
  {
   "cell_type": "markdown",
   "id": "da538e12",
   "metadata": {},
   "source": [
    "Ранее мы разделили людей по категориям в зависимости от суммы дохода:\n",
    "- E - люди, зарабатывающие до 30000 рублей\n",
    "- D - люди, зарабатывающие от 30000 до 50000 рублей\n",
    "- С - люди, зарабатывающие от 50000 до 200000 рублей\n",
    "- B - люди, зарабатывающие от 200000 до 1 миллиона рублей\n",
    "- A - люди, зарабатывающие больше 1 миллиона рублей  \n",
    "\n",
    "#### **3.3.1** Проверим, сколько людей в каждой из категорий:"
   ]
  },
  {
   "cell_type": "code",
   "execution_count": 33,
   "id": "f1e10a64",
   "metadata": {},
   "outputs": [
    {
     "data": {
      "text/plain": [
       "C    15938\n",
       "B     5014\n",
       "D      349\n",
       "A       25\n",
       "E       22\n",
       "Name: total_income_category, dtype: int64"
      ]
     },
     "execution_count": 33,
     "metadata": {},
     "output_type": "execute_result"
    }
   ],
   "source": [
    "data['total_income_category'].value_counts()"
   ]
  },
  {
   "cell_type": "markdown",
   "id": "7203721b",
   "metadata": {},
   "source": [
    "**Вывод:** Больше всего людей в категории **C** - люди, зарабатывающие от 50000 до 200000 рублей.  \n",
    "\n",
    "#### **3.3.2** Упростим категоризацию, разделив заёмщиков на 4 группы по размеру дохода:"
   ]
  },
  {
   "cell_type": "code",
   "execution_count": 34,
   "id": "12e596b4",
   "metadata": {},
   "outputs": [
    {
     "data": {
      "text/plain": [
       "0        (195788.5, 2265604.0]\n",
       "1         (107559.5, 142587.0]\n",
       "2         (142587.0, 195788.5]\n",
       "3        (195788.5, 2265604.0]\n",
       "4         (142587.0, 195788.5]\n",
       "                 ...          \n",
       "21520    (195788.5, 2265604.0]\n",
       "21521     (142587.0, 195788.5]\n",
       "21522    (20666.999, 107559.5]\n",
       "21523    (195788.5, 2265604.0]\n",
       "21524    (20666.999, 107559.5]\n",
       "Name: total_income, Length: 21348, dtype: category\n",
       "Categories (4, interval[float64]): [(20666.999, 107559.5] < (107559.5, 142587.0] < (142587.0, 195788.5] < (195788.5, 2265604.0]]"
      ]
     },
     "execution_count": 34,
     "metadata": {},
     "output_type": "execute_result"
    }
   ],
   "source": [
    "# разделим людей на 4 равные группы с помощью метода qcut():\n",
    "pd.qcut(data['total_income'], 4)"
   ]
  },
  {
   "cell_type": "markdown",
   "id": "5b945e18",
   "metadata": {},
   "source": [
    "Итого мы получили 4 равных группы по уровню дохода:\n",
    "- менее 107 559.5 рублей\n",
    "- от 107 559.5 до 142 587 рублей\n",
    "- от 142 587 до 195 788.5 рублей \n",
    "- от 195 788.5 рублей"
   ]
  },
  {
   "cell_type": "code",
   "execution_count": 35,
   "id": "a16714c1",
   "metadata": {},
   "outputs": [
    {
     "data": {
      "text/plain": [
       "очень высокий доход    5337\n",
       "низкий доход           5337\n",
       "высокий доход          5213\n",
       "средний доход          4387\n",
       "Name: simple_category, dtype: int64"
      ]
     },
     "execution_count": 35,
     "metadata": {},
     "output_type": "execute_result"
    }
   ],
   "source": [
    "# напишем функцию, которая упростит категоризацию:\n",
    "def simple_category(income):\n",
    "        if income < 107559.5:\n",
    "            return 'низкий доход'\n",
    "        elif 107559.5 < income < 142587:\n",
    "            return 'средний доход'\n",
    "        elif 142587 < income < 195788.5:\n",
    "            return 'высокий доход'\n",
    "        elif income > 195788.5:\n",
    "            return 'очень высокий доход'\n",
    "\n",
    "data['simple_category'] = data['total_income'].apply(simple_category)\n",
    "data['simple_category'].value_counts()"
   ]
  },
  {
   "cell_type": "markdown",
   "id": "38d66895",
   "metadata": {},
   "source": [
    "#### **3.3.3** Посчитаем, сколько должников в каждой из категорий:"
   ]
  },
  {
   "cell_type": "code",
   "execution_count": 36,
   "id": "e03bde64",
   "metadata": {},
   "outputs": [
    {
     "data": {
      "text/html": [
       "<div>\n",
       "<style scoped>\n",
       "    .dataframe tbody tr th:only-of-type {\n",
       "        vertical-align: middle;\n",
       "    }\n",
       "\n",
       "    .dataframe tbody tr th {\n",
       "        vertical-align: top;\n",
       "    }\n",
       "\n",
       "    .dataframe thead th {\n",
       "        text-align: right;\n",
       "    }\n",
       "</style>\n",
       "<table border=\"1\" class=\"dataframe\">\n",
       "  <thead>\n",
       "    <tr style=\"text-align: right;\">\n",
       "      <th></th>\n",
       "      <th>debt</th>\n",
       "    </tr>\n",
       "    <tr>\n",
       "      <th>simple_category</th>\n",
       "      <th></th>\n",
       "    </tr>\n",
       "  </thead>\n",
       "  <tbody>\n",
       "    <tr>\n",
       "      <th>высокий доход</th>\n",
       "      <td>444</td>\n",
       "    </tr>\n",
       "    <tr>\n",
       "      <th>низкий доход</th>\n",
       "      <td>427</td>\n",
       "    </tr>\n",
       "    <tr>\n",
       "      <th>средний доход</th>\n",
       "      <td>382</td>\n",
       "    </tr>\n",
       "    <tr>\n",
       "      <th>очень высокий доход</th>\n",
       "      <td>381</td>\n",
       "    </tr>\n",
       "  </tbody>\n",
       "</table>\n",
       "</div>"
      ],
      "text/plain": [
       "                     debt\n",
       "simple_category          \n",
       "высокий доход         444\n",
       "низкий доход          427\n",
       "средний доход         382\n",
       "очень высокий доход   381"
      ]
     },
     "execution_count": 36,
     "metadata": {},
     "output_type": "execute_result"
    }
   ],
   "source": [
    "income_pivot = data.pivot_table(index=['simple_category'], values='debt', aggfunc='sum')\n",
    "income_pivot.sort_values(by='debt', ascending=False)"
   ]
  },
  {
   "cell_type": "markdown",
   "id": "96a7f4ae",
   "metadata": {},
   "source": [
    "**Вывод:** Предположительно, больше всего просрочек по кредиту у людей со высоким доходом.  \n",
    "Но мы не знаем, какую долю от общего количества людей в группе занимают должники.  \n",
    "\n",
    "#### **3.3.4** Посчитаем долю должников для каждой группы и объединим всю информацию в сводную таблицу:"
   ]
  },
  {
   "cell_type": "code",
   "execution_count": 37,
   "id": "74ea9c0e",
   "metadata": {},
   "outputs": [
    {
     "data": {
      "text/html": [
       "<div>\n",
       "<style scoped>\n",
       "    .dataframe tbody tr th:only-of-type {\n",
       "        vertical-align: middle;\n",
       "    }\n",
       "\n",
       "    .dataframe tbody tr th {\n",
       "        vertical-align: top;\n",
       "    }\n",
       "\n",
       "    .dataframe thead th {\n",
       "        text-align: right;\n",
       "    }\n",
       "</style>\n",
       "<table border=\"1\" class=\"dataframe\">\n",
       "  <thead>\n",
       "    <tr style=\"text-align: right;\">\n",
       "      <th></th>\n",
       "      <th>debt</th>\n",
       "      <th>total_people</th>\n",
       "      <th>share_of_debt</th>\n",
       "    </tr>\n",
       "    <tr>\n",
       "      <th>simple_category</th>\n",
       "      <th></th>\n",
       "      <th></th>\n",
       "      <th></th>\n",
       "    </tr>\n",
       "  </thead>\n",
       "  <tbody>\n",
       "    <tr>\n",
       "      <th>средний доход</th>\n",
       "      <td>382</td>\n",
       "      <td>4387</td>\n",
       "      <td>8.7</td>\n",
       "    </tr>\n",
       "    <tr>\n",
       "      <th>высокий доход</th>\n",
       "      <td>444</td>\n",
       "      <td>5213</td>\n",
       "      <td>8.5</td>\n",
       "    </tr>\n",
       "    <tr>\n",
       "      <th>низкий доход</th>\n",
       "      <td>427</td>\n",
       "      <td>5337</td>\n",
       "      <td>8.0</td>\n",
       "    </tr>\n",
       "    <tr>\n",
       "      <th>очень высокий доход</th>\n",
       "      <td>381</td>\n",
       "      <td>5337</td>\n",
       "      <td>7.1</td>\n",
       "    </tr>\n",
       "  </tbody>\n",
       "</table>\n",
       "</div>"
      ],
      "text/plain": [
       "                     debt  total_people  share_of_debt\n",
       "simple_category                                       \n",
       "средний доход         382          4387            8.7\n",
       "высокий доход         444          5213            8.5\n",
       "низкий доход          427          5337            8.0\n",
       "очень высокий доход   381          5337            7.1"
      ]
     },
     "execution_count": 37,
     "metadata": {},
     "output_type": "execute_result"
    }
   ],
   "source": [
    "income_pivot['total_people'] = data.groupby('simple_category')['debt'].count() \n",
    "income_pivot['share_of_debt'] = round(((income_pivot['debt'] / income_pivot['total_people']) * 100),1)\n",
    "income_pivot.sort_values(by='share_of_debt', ascending=False)"
   ]
  },
  {
   "cell_type": "markdown",
   "id": "761fa4a6",
   "metadata": {},
   "source": [
    "**Выводы:**\n",
    "- Доля должников в каждой из групп составляет от 7 до 9%\n",
    "- Лидером среди **должников** является группа людей со **средним** доходом: 8.7%\n",
    "- Самые **низкие** показатели по должникам у людей с **очень высоким** доходом: 7.1%  \n",
    "\n",
    "Предположение о том, что больше всего просрочек по кредиту у людей с высоким доходом, не подтвердилось.  \n",
    "\n",
    "Несмотря на это, зависимость между уровнем дохода и возвратом кредита в срок **отсутствует**:  \n",
    "люди с **низким** доходом имеют на *0.7%* **меньше** просрочек по кредитам по сравнению людьми со средним доходом, и на *0.5%* меньше по сравнению с людьми с высоким доходом."
   ]
  },
  {
   "cell_type": "markdown",
   "id": "0c2fad66",
   "metadata": {},
   "source": [
    "### 3.4 Как разные цели кредита влияют на его возврат в срок?"
   ]
  },
  {
   "cell_type": "markdown",
   "id": "6763fc79",
   "metadata": {},
   "source": [
    "Ранее мы разделили цели кредита на 4 категории:\n",
    "- операции с недвижимостью\n",
    "- операции с автомобилем\n",
    "- получение образования\n",
    "- проведение свадьбы  \n",
    "\n",
    "#### **3.4.1** Проверим, сколько должников в каждой из категорий:"
   ]
  },
  {
   "cell_type": "code",
   "execution_count": 38,
   "id": "48619876",
   "metadata": {},
   "outputs": [
    {
     "data": {
      "text/html": [
       "<div>\n",
       "<style scoped>\n",
       "    .dataframe tbody tr th:only-of-type {\n",
       "        vertical-align: middle;\n",
       "    }\n",
       "\n",
       "    .dataframe tbody tr th {\n",
       "        vertical-align: top;\n",
       "    }\n",
       "\n",
       "    .dataframe thead th {\n",
       "        text-align: right;\n",
       "    }\n",
       "</style>\n",
       "<table border=\"1\" class=\"dataframe\">\n",
       "  <thead>\n",
       "    <tr style=\"text-align: right;\">\n",
       "      <th></th>\n",
       "      <th>debt</th>\n",
       "    </tr>\n",
       "    <tr>\n",
       "      <th>purpose_category</th>\n",
       "      <th></th>\n",
       "    </tr>\n",
       "  </thead>\n",
       "  <tbody>\n",
       "    <tr>\n",
       "      <th>операции с недвижимостью</th>\n",
       "      <td>780</td>\n",
       "    </tr>\n",
       "    <tr>\n",
       "      <th>операции с автомобилем</th>\n",
       "      <td>400</td>\n",
       "    </tr>\n",
       "    <tr>\n",
       "      <th>получение образования</th>\n",
       "      <td>369</td>\n",
       "    </tr>\n",
       "    <tr>\n",
       "      <th>проведение свадьбы</th>\n",
       "      <td>183</td>\n",
       "    </tr>\n",
       "  </tbody>\n",
       "</table>\n",
       "</div>"
      ],
      "text/plain": [
       "                          debt\n",
       "purpose_category              \n",
       "операции с недвижимостью   780\n",
       "операции с автомобилем     400\n",
       "получение образования      369\n",
       "проведение свадьбы         183"
      ]
     },
     "execution_count": 38,
     "metadata": {},
     "output_type": "execute_result"
    }
   ],
   "source": [
    "purpose_pivot = data.pivot_table(index=['purpose_category'], values='debt', aggfunc='sum')\n",
    "purpose_pivot.sort_values(by='debt', ascending=False)"
   ]
  },
  {
   "cell_type": "markdown",
   "id": "37c2cf14",
   "metadata": {},
   "source": [
    "**Вывод:** Предположительно, больше всего просрочек у людей, взявших кредит для операций с недвижимостью.  \n",
    "Но эти цифры не показательные, так как мы не знаем, какую долю от общего количества людей в группе занимают люди с просрочкой.  \n",
    "\n",
    "#### **3.4.2** Посчитаем общее количество людей в каждой категории:"
   ]
  },
  {
   "cell_type": "code",
   "execution_count": 39,
   "id": "7921d15b",
   "metadata": {},
   "outputs": [
    {
     "data": {
      "text/html": [
       "<div>\n",
       "<style scoped>\n",
       "    .dataframe tbody tr th:only-of-type {\n",
       "        vertical-align: middle;\n",
       "    }\n",
       "\n",
       "    .dataframe tbody tr th {\n",
       "        vertical-align: top;\n",
       "    }\n",
       "\n",
       "    .dataframe thead th {\n",
       "        text-align: right;\n",
       "    }\n",
       "</style>\n",
       "<table border=\"1\" class=\"dataframe\">\n",
       "  <thead>\n",
       "    <tr style=\"text-align: right;\">\n",
       "      <th></th>\n",
       "      <th>debt</th>\n",
       "      <th>total_people</th>\n",
       "    </tr>\n",
       "    <tr>\n",
       "      <th>purpose_category</th>\n",
       "      <th></th>\n",
       "      <th></th>\n",
       "    </tr>\n",
       "  </thead>\n",
       "  <tbody>\n",
       "    <tr>\n",
       "      <th>операции с автомобилем</th>\n",
       "      <td>400</td>\n",
       "      <td>4281</td>\n",
       "    </tr>\n",
       "    <tr>\n",
       "      <th>операции с недвижимостью</th>\n",
       "      <td>780</td>\n",
       "      <td>10754</td>\n",
       "    </tr>\n",
       "    <tr>\n",
       "      <th>получение образования</th>\n",
       "      <td>369</td>\n",
       "      <td>3989</td>\n",
       "    </tr>\n",
       "    <tr>\n",
       "      <th>проведение свадьбы</th>\n",
       "      <td>183</td>\n",
       "      <td>2324</td>\n",
       "    </tr>\n",
       "  </tbody>\n",
       "</table>\n",
       "</div>"
      ],
      "text/plain": [
       "                          debt  total_people\n",
       "purpose_category                            \n",
       "операции с автомобилем     400          4281\n",
       "операции с недвижимостью   780         10754\n",
       "получение образования      369          3989\n",
       "проведение свадьбы         183          2324"
      ]
     },
     "execution_count": 39,
     "metadata": {},
     "output_type": "execute_result"
    }
   ],
   "source": [
    "purpose_pivot['total_people'] = data.groupby('purpose_category')['debt'].count() \n",
    "purpose_pivot"
   ]
  },
  {
   "cell_type": "markdown",
   "id": "f1487750",
   "metadata": {},
   "source": [
    "#### **3.4.3** Посчитаем долю должников для каждой группы:"
   ]
  },
  {
   "cell_type": "code",
   "execution_count": 40,
   "id": "5ce6fe29",
   "metadata": {},
   "outputs": [
    {
     "data": {
      "text/html": [
       "<div>\n",
       "<style scoped>\n",
       "    .dataframe tbody tr th:only-of-type {\n",
       "        vertical-align: middle;\n",
       "    }\n",
       "\n",
       "    .dataframe tbody tr th {\n",
       "        vertical-align: top;\n",
       "    }\n",
       "\n",
       "    .dataframe thead th {\n",
       "        text-align: right;\n",
       "    }\n",
       "</style>\n",
       "<table border=\"1\" class=\"dataframe\">\n",
       "  <thead>\n",
       "    <tr style=\"text-align: right;\">\n",
       "      <th></th>\n",
       "      <th>debt</th>\n",
       "      <th>total_people</th>\n",
       "      <th>share_of_debt</th>\n",
       "    </tr>\n",
       "    <tr>\n",
       "      <th>purpose_category</th>\n",
       "      <th></th>\n",
       "      <th></th>\n",
       "      <th></th>\n",
       "    </tr>\n",
       "  </thead>\n",
       "  <tbody>\n",
       "    <tr>\n",
       "      <th>операции с автомобилем</th>\n",
       "      <td>400</td>\n",
       "      <td>4281</td>\n",
       "      <td>9.3</td>\n",
       "    </tr>\n",
       "    <tr>\n",
       "      <th>получение образования</th>\n",
       "      <td>369</td>\n",
       "      <td>3989</td>\n",
       "      <td>9.3</td>\n",
       "    </tr>\n",
       "    <tr>\n",
       "      <th>проведение свадьбы</th>\n",
       "      <td>183</td>\n",
       "      <td>2324</td>\n",
       "      <td>7.9</td>\n",
       "    </tr>\n",
       "    <tr>\n",
       "      <th>операции с недвижимостью</th>\n",
       "      <td>780</td>\n",
       "      <td>10754</td>\n",
       "      <td>7.3</td>\n",
       "    </tr>\n",
       "  </tbody>\n",
       "</table>\n",
       "</div>"
      ],
      "text/plain": [
       "                          debt  total_people  share_of_debt\n",
       "purpose_category                                           \n",
       "операции с автомобилем     400          4281            9.3\n",
       "получение образования      369          3989            9.3\n",
       "проведение свадьбы         183          2324            7.9\n",
       "операции с недвижимостью   780         10754            7.3"
      ]
     },
     "execution_count": 40,
     "metadata": {},
     "output_type": "execute_result"
    }
   ],
   "source": [
    "purpose_pivot['share_of_debt'] = round(((purpose_pivot['debt'] / purpose_pivot['total_people']) * 100),1)\n",
    "purpose_pivot.sort_values(by='share_of_debt', ascending=False)"
   ]
  },
  {
   "cell_type": "markdown",
   "id": "7dfdbfcd",
   "metadata": {},
   "source": [
    "**Выводы:**\n",
    "- Доля должников в каждой из групп составляет от 7 до 9%\n",
    "- Самый **большой** процент людей с просрочкой среди людей, взявших кредиты на **автомобиль** и на **образование:** 9.3%\n",
    "- Самые **низкие** показатели по должникам у людей, взявших кредит для операций с **недвижимостью:** 7.3%  \n",
    "\n",
    "Предположение о том, что больше всего просрочек по кредиту у людей, взявших кредит для операций с недвижимостью, не подтвердилось.  \n",
    "Наоборот, у данной категории самые низкие показатели по должникам.\n",
    "\n",
    "Люди, взявшие кредит на проведение свадьбы, находятся посередине: их показатели составляют 7.9%."
   ]
  },
  {
   "cell_type": "markdown",
   "id": "4ee3b135",
   "metadata": {},
   "source": [
    "## Общий вывод"
   ]
  },
  {
   "cell_type": "markdown",
   "id": "b04340df",
   "metadata": {},
   "source": [
    "Исследование проходило в три основных этапа:    \n",
    "\n",
    "**1. Обзор данных:**  \n",
    "- Получена общая информация о датафрейме\n",
    "- Сформировано первое представление об исходных данных  \n",
    "\n",
    "**2. Предобработка данных:**  \n",
    "- Устранены аномальные значения\n",
    "- Заполнены пропуски в данных\n",
    "- Устранены явные и неявные дубликаты\n",
    "- Изменены типы данных в столбцах, где это необходимо  \n",
    "- Присвоены категории заёмщикам в зависимости от их ежемесячного дохода  \n",
    "- Выделены 4 основные группы в зависимости от целей кредита\n",
    "\n",
    "**3. Исследовательский анализ данных:**\n",
    "- Изучено влияние семейного положения, уровня дохода и количества детей клиента на факт погашения кредита в срок  \n",
    "\n",
    "\n",
    "\n",
    "Целью проекта было исследование надежности заемщиков, а также ответы на следующие вопросы:  \n",
    "—  Есть ли зависимость между количеством детей и возвратом кредита в срок?  \n",
    "—  Есть ли зависимость между семейным положением и возвратом кредита в срок?  \n",
    "—  Есть ли зависимость между уровнем дохода и возвратом кредита в срок?  \n",
    "—  Как разные цели кредита влияют на его возврат в срок?   \n",
    " \n",
    "Изучив статистику о платёжеспособности клиентов, были получены следующие **результаты:**  \n",
    "\n",
    "- Количество детей **не влияет** на возврат кредита в срок: в семьях, где детей более трех процент должников на 1.3% меньше, чем в семьях с двумя детьми и на 1% меньше, чем в семьях с одним ребенком \n",
    "\n",
    "  \n",
    "- Наличие детей **влияет** на факт просрочки по кредиту: у людей без детей самые низкие показатели по просрочкам по сравнению с семьями с детьми (на 1.7%, 2% и 0.7% меньше, чем у семей с 1, 2, 3 детьми соответственно)  \n",
    "\n",
    "\n",
    "- Семейное положение **влияет** на возврат кредита в срок: люди, никогда не состоящие в браке и люди, живущие гражданским браком имеют в среднем на 3% выше показатели по просрочкам в сравнении с людьми, которые состоят в браке, разведены или овдовели  \n",
    "\n",
    "\n",
    "- Уровнень дохода **не влияет** на возврат кредита в срок: люди с низким доходом имеют на *0.7%* меньше просрочек по кредитам, чем люди со средним доходом, и на *0.5%* меньше, чем люди с высоким доходом\n",
    "\n",
    "\n",
    "- Самыми **надежными** заемщиками являются люди, взявшие кредиты для операций с недвижимостью: у них самый низкий процент просрочек:  \n",
    "— на 2% ниже, чем у людей, взявших кредиты на автомобиль и на образование  \n",
    "— на 0.6% ниже, чем у людей, взявших кредиты проведение свадьбы\n",
    "\n",
    "\n",
    "- Самыми **ненадежными** заемщиками являются люди, взявшие кредиты на автомобиль и на образование: они чаще других имеют просрочки по кредитам:  \n",
    "— на 2% выше, чем у людей, взявших кредиты на автомобиль и на образование  \n",
    "— на 1.4% выше, чем у людей, взявших кредиты проведение свадьбы"
   ]
  }
 ],
 "metadata": {
  "kernelspec": {
   "display_name": "Python 3 (ipykernel)",
   "language": "python",
   "name": "python3"
  },
  "language_info": {
   "codemirror_mode": {
    "name": "ipython",
    "version": 3
   },
   "file_extension": ".py",
   "mimetype": "text/x-python",
   "name": "python",
   "nbconvert_exporter": "python",
   "pygments_lexer": "ipython3",
   "version": "3.9.16"
  }
 },
 "nbformat": 4,
 "nbformat_minor": 5
}
