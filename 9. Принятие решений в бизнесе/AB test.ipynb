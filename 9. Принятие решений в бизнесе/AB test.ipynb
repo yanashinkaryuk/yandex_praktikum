{
 "cells": [
  {
   "cell_type": "markdown",
   "id": "f08deede",
   "metadata": {},
   "source": [
    "# Анализ и тестирование гипотез для интернет-магазина\n",
    "\n",
    "**Описание проекта:**  \n",
    "\n",
    "Вы — аналитик крупного интернет-магазина. Вместе с отделом маркетинга вы подготовили список гипотез для увеличения выручки.   \n",
    "Приоритизируйте гипотезы, запустите A/B-тест и проанализируйте результаты.   \n",
    "\n",
    "**Описание данных:**  \n",
    "Данные хранятся в трёх датасетах:  \n",
    "- *hypothesis.csv* - содержит информацию о гипотезах  \n",
    "- *orders.csv* - содержит информацию о заказах  \n",
    "- *visitors.csv* - содержит информацию о посещениях сайта  \n",
    "\n",
    "**Цели исследования:**  \n",
    "- Приоритизировать гипотезы   \n",
    "- Проанализировать результаты A/B-теста \n",
    "- Принять решение по результатам A/B-теста о дальнейших действиях\n",
    "\n",
    "**Ход исследования:**  \n",
    "\n",
    "Проект будет состоять из пяти этапов:  \n",
    "1. Обзор данных  \n",
    "2. Предобработка данных  \n",
    "3. Пририотизация гипотез  \n",
    "4. Подготовка результатов A/B-теста к анализу \n",
    "5. Анализ A/B-теста   "
   ]
  },
  {
   "cell_type": "markdown",
   "id": "a13553c7",
   "metadata": {},
   "source": [
    "## Обзор данных"
   ]
  },
  {
   "cell_type": "markdown",
   "id": "3be7e2cc",
   "metadata": {},
   "source": [
    "### Сохраним данные о гипотезах, заказах и посещениях в переменные:"
   ]
  },
  {
   "cell_type": "code",
   "execution_count": 5,
   "id": "774ea5e3",
   "metadata": {},
   "outputs": [],
   "source": [
    "# импорт библиотек:\n",
    "import pandas as pd\n",
    "import scipy.stats as stats\n",
    "import numpy as np\n",
    "import seaborn as sns\n",
    "from matplotlib import pyplot as plt"
   ]
  },
  {
   "cell_type": "code",
   "execution_count": 6,
   "id": "e74f4084",
   "metadata": {},
   "outputs": [],
   "source": [
    "# прочитаем csv-файлы и сохраним данные в переменные:\n",
    "hypothesis = pd.read_csv('/datasets/hypothesis.csv') # гипотезы\n",
    "orders = pd.read_csv('/datasets/orders.csv') # заказы\n",
    "visitors =  pd.read_csv('/datasets/visitors.csv')  # посещения"
   ]
  },
  {
   "cell_type": "markdown",
   "id": "79f719ea",
   "metadata": {},
   "source": [
    "### Выведем первые 5 строк каждого из датафреймов:"
   ]
  },
  {
   "cell_type": "code",
   "execution_count": 8,
   "id": "e6d10530",
   "metadata": {},
   "outputs": [
    {
     "data": {
      "text/html": [
       "<div>\n",
       "<style scoped>\n",
       "    .dataframe tbody tr th:only-of-type {\n",
       "        vertical-align: middle;\n",
       "    }\n",
       "\n",
       "    .dataframe tbody tr th {\n",
       "        vertical-align: top;\n",
       "    }\n",
       "\n",
       "    .dataframe thead th {\n",
       "        text-align: right;\n",
       "    }\n",
       "</style>\n",
       "<table border=\"1\" class=\"dataframe\">\n",
       "  <thead>\n",
       "    <tr style=\"text-align: right;\">\n",
       "      <th></th>\n",
       "      <th>Hypothesis</th>\n",
       "      <th>Reach</th>\n",
       "      <th>Impact</th>\n",
       "      <th>Confidence</th>\n",
       "      <th>Efforts</th>\n",
       "    </tr>\n",
       "  </thead>\n",
       "  <tbody>\n",
       "    <tr>\n",
       "      <th>0</th>\n",
       "      <td>Добавить два новых канала привлечения трафика, что позволит привлекать на 30% больше пользователей</td>\n",
       "      <td>3</td>\n",
       "      <td>10</td>\n",
       "      <td>8</td>\n",
       "      <td>6</td>\n",
       "    </tr>\n",
       "    <tr>\n",
       "      <th>1</th>\n",
       "      <td>Запустить собственную службу доставки, что сократит срок доставки заказов</td>\n",
       "      <td>2</td>\n",
       "      <td>5</td>\n",
       "      <td>4</td>\n",
       "      <td>10</td>\n",
       "    </tr>\n",
       "    <tr>\n",
       "      <th>2</th>\n",
       "      <td>Добавить блоки рекомендаций товаров на сайт интернет магазина, чтобы повысить конверсию и средний чек заказа</td>\n",
       "      <td>8</td>\n",
       "      <td>3</td>\n",
       "      <td>7</td>\n",
       "      <td>3</td>\n",
       "    </tr>\n",
       "    <tr>\n",
       "      <th>3</th>\n",
       "      <td>Изменить структура категорий, что увеличит конверсию, т.к. пользователи быстрее найдут нужный товар</td>\n",
       "      <td>8</td>\n",
       "      <td>3</td>\n",
       "      <td>3</td>\n",
       "      <td>8</td>\n",
       "    </tr>\n",
       "    <tr>\n",
       "      <th>4</th>\n",
       "      <td>Изменить цвет фона главной страницы, чтобы увеличить вовлеченность пользователей</td>\n",
       "      <td>3</td>\n",
       "      <td>1</td>\n",
       "      <td>1</td>\n",
       "      <td>1</td>\n",
       "    </tr>\n",
       "  </tbody>\n",
       "</table>\n",
       "</div>"
      ],
      "text/plain": [
       "                                                                                                     Hypothesis  \\\n",
       "0            Добавить два новых канала привлечения трафика, что позволит привлекать на 30% больше пользователей   \n",
       "1                                     Запустить собственную службу доставки, что сократит срок доставки заказов   \n",
       "2  Добавить блоки рекомендаций товаров на сайт интернет магазина, чтобы повысить конверсию и средний чек заказа   \n",
       "3           Изменить структура категорий, что увеличит конверсию, т.к. пользователи быстрее найдут нужный товар   \n",
       "4                              Изменить цвет фона главной страницы, чтобы увеличить вовлеченность пользователей   \n",
       "\n",
       "   Reach  Impact  Confidence  Efforts  \n",
       "0      3      10           8        6  \n",
       "1      2       5           4       10  \n",
       "2      8       3           7        3  \n",
       "3      8       3           3        8  \n",
       "4      3       1           1        1  "
      ]
     },
     "execution_count": 8,
     "metadata": {},
     "output_type": "execute_result"
    }
   ],
   "source": [
    "# датафрейм hypothesis:\n",
    "hypothesis.head()"
   ]
  },
  {
   "cell_type": "code",
   "execution_count": null,
   "id": "73730c63",
   "metadata": {
    "scrolled": false
   },
   "outputs": [],
   "source": [
    "# датафрейм orders:\n",
    "orders.head()"
   ]
  },
  {
   "cell_type": "code",
   "execution_count": 10,
   "id": "f1e13050",
   "metadata": {},
   "outputs": [
    {
     "data": {
      "text/html": [
       "<div>\n",
       "<style scoped>\n",
       "    .dataframe tbody tr th:only-of-type {\n",
       "        vertical-align: middle;\n",
       "    }\n",
       "\n",
       "    .dataframe tbody tr th {\n",
       "        vertical-align: top;\n",
       "    }\n",
       "\n",
       "    .dataframe thead th {\n",
       "        text-align: right;\n",
       "    }\n",
       "</style>\n",
       "<table border=\"1\" class=\"dataframe\">\n",
       "  <thead>\n",
       "    <tr style=\"text-align: right;\">\n",
       "      <th></th>\n",
       "      <th>date</th>\n",
       "      <th>group</th>\n",
       "      <th>visitors</th>\n",
       "    </tr>\n",
       "  </thead>\n",
       "  <tbody>\n",
       "    <tr>\n",
       "      <th>0</th>\n",
       "      <td>2019-08-01</td>\n",
       "      <td>A</td>\n",
       "      <td>719</td>\n",
       "    </tr>\n",
       "    <tr>\n",
       "      <th>1</th>\n",
       "      <td>2019-08-02</td>\n",
       "      <td>A</td>\n",
       "      <td>619</td>\n",
       "    </tr>\n",
       "    <tr>\n",
       "      <th>2</th>\n",
       "      <td>2019-08-03</td>\n",
       "      <td>A</td>\n",
       "      <td>507</td>\n",
       "    </tr>\n",
       "    <tr>\n",
       "      <th>3</th>\n",
       "      <td>2019-08-04</td>\n",
       "      <td>A</td>\n",
       "      <td>717</td>\n",
       "    </tr>\n",
       "    <tr>\n",
       "      <th>4</th>\n",
       "      <td>2019-08-05</td>\n",
       "      <td>A</td>\n",
       "      <td>756</td>\n",
       "    </tr>\n",
       "  </tbody>\n",
       "</table>\n",
       "</div>"
      ],
      "text/plain": [
       "         date group  visitors\n",
       "0  2019-08-01     A       719\n",
       "1  2019-08-02     A       619\n",
       "2  2019-08-03     A       507\n",
       "3  2019-08-04     A       717\n",
       "4  2019-08-05     A       756"
      ]
     },
     "execution_count": 10,
     "metadata": {},
     "output_type": "execute_result"
    }
   ],
   "source": [
    "# датафрейм visitors:\n",
    "visitors.head()"
   ]
  },
  {
   "cell_type": "markdown",
   "id": "5d86f378",
   "metadata": {},
   "source": [
    "### Выведем основную информацию о датафреймах с помощью метода info():"
   ]
  },
  {
   "cell_type": "code",
   "execution_count": 11,
   "id": "cb5be05c",
   "metadata": {
    "scrolled": true
   },
   "outputs": [
    {
     "name": "stdout",
     "output_type": "stream",
     "text": [
      "<class 'pandas.core.frame.DataFrame'>\n",
      "RangeIndex: 9 entries, 0 to 8\n",
      "Data columns (total 5 columns):\n",
      " #   Column      Non-Null Count  Dtype \n",
      "---  ------      --------------  ----- \n",
      " 0   Hypothesis  9 non-null      object\n",
      " 1   Reach       9 non-null      int64 \n",
      " 2   Impact      9 non-null      int64 \n",
      " 3   Confidence  9 non-null      int64 \n",
      " 4   Efforts     9 non-null      int64 \n",
      "dtypes: int64(4), object(1)\n",
      "memory usage: 488.0+ bytes\n"
     ]
    }
   ],
   "source": [
    "# датафрейм hypothesis:\n",
    "hypothesis.info()"
   ]
  },
  {
   "cell_type": "code",
   "execution_count": 12,
   "id": "266c2186",
   "metadata": {},
   "outputs": [
    {
     "name": "stdout",
     "output_type": "stream",
     "text": [
      "<class 'pandas.core.frame.DataFrame'>\n",
      "RangeIndex: 1197 entries, 0 to 1196\n",
      "Data columns (total 5 columns):\n",
      " #   Column         Non-Null Count  Dtype \n",
      "---  ------         --------------  ----- \n",
      " 0   transactionId  1197 non-null   int64 \n",
      " 1   visitorId      1197 non-null   int64 \n",
      " 2   date           1197 non-null   object\n",
      " 3   revenue        1197 non-null   int64 \n",
      " 4   group          1197 non-null   object\n",
      "dtypes: int64(3), object(2)\n",
      "memory usage: 46.9+ KB\n"
     ]
    }
   ],
   "source": [
    "# датафрейм orders:\n",
    "orders.info()"
   ]
  },
  {
   "cell_type": "code",
   "execution_count": 13,
   "id": "756fc84d",
   "metadata": {
    "scrolled": true
   },
   "outputs": [
    {
     "name": "stdout",
     "output_type": "stream",
     "text": [
      "<class 'pandas.core.frame.DataFrame'>\n",
      "RangeIndex: 62 entries, 0 to 61\n",
      "Data columns (total 3 columns):\n",
      " #   Column    Non-Null Count  Dtype \n",
      "---  ------    --------------  ----- \n",
      " 0   date      62 non-null     object\n",
      " 1   group     62 non-null     object\n",
      " 2   visitors  62 non-null     int64 \n",
      "dtypes: int64(1), object(2)\n",
      "memory usage: 1.6+ KB\n"
     ]
    }
   ],
   "source": [
    "# датафрейм visitors:\n",
    "visitors.info()"
   ]
  },
  {
   "cell_type": "markdown",
   "id": "d49ed5c9",
   "metadata": {},
   "source": [
    "Исходные данные содержат следующую информацию:  \n",
    "\n",
    "**hypothesis.csv:**   \n",
    "- Hypothesis — краткое описание гипотезы;\n",
    "- Reach — охват пользователей по 10-балльной шкале;\n",
    "- Impact — влияние на пользователей по 10-балльной шкале;\n",
    "- Confidence — уверенность в гипотезе по 10-балльной шкале;\n",
    "- Efforts — затраты ресурсов на проверку гипотезы по 10-балльной шкале. Чем больше значение Efforts, тем дороже проверка гипотезы   \n",
    "\n",
    "**orders.csv:**  \n",
    "- transactionId — идентификатор заказа;\n",
    "- visitorId — идентификатор пользователя, совершившего заказ;\n",
    "- date — дата, когда был совершён заказ;\n",
    "- revenue — выручка заказа;\n",
    "- group — группа A/B-теста, в которую попал заказ  \n",
    "  \n",
    "**visitors.csv:**  \n",
    "- date — дата;\n",
    "- group — группа A/B-теста;\n",
    "- visitors — количество пользователей в указанную дату в указанной группе A/B-теста  \n",
    "\n",
    "На первом этапе выявлены следующие проблемы в исходных данных:  \n",
    "- нарушения в стиле заголовков в датафреймах *hypothesis* и *orders*\n",
    "- некорректные типы данных в столбцах с датами  \n",
    "\n",
    "Устраним пошагово эти проблемы, чтобы подготовить данные к дальнейшему исследованию."
   ]
  },
  {
   "cell_type": "markdown",
   "id": "59971980",
   "metadata": {},
   "source": [
    "## Предобработка данных"
   ]
  },
  {
   "cell_type": "markdown",
   "id": "9476171c",
   "metadata": {},
   "source": [
    "### Работа с заголовками\n",
    "#### Приведём названия столбцов в датафрейме *hypothesis* к нижнему регистру:"
   ]
  },
  {
   "cell_type": "code",
   "execution_count": 14,
   "id": "6461f183",
   "metadata": {
    "scrolled": true
   },
   "outputs": [
    {
     "data": {
      "text/plain": [
       "Index(['hypothesis', 'reach', 'impact', 'confidence', 'efforts'], dtype='object')"
      ]
     },
     "execution_count": 14,
     "metadata": {},
     "output_type": "execute_result"
    }
   ],
   "source": [
    "# датафрейм hypothesis:\n",
    "hypothesis.columns = hypothesis.columns.str.lower()\n",
    "\n",
    "hypothesis.columns"
   ]
  },
  {
   "cell_type": "markdown",
   "id": "ba039205",
   "metadata": {},
   "source": [
    "#### Приведём названия столбцов в датафрейме *orders* к \"змеиному стилю\":"
   ]
  },
  {
   "cell_type": "code",
   "execution_count": 15,
   "id": "9c34c138",
   "metadata": {},
   "outputs": [
    {
     "data": {
      "text/plain": [
       "Index(['transaction_id', 'visitor_id', 'date', 'revenue', 'group'], dtype='object')"
      ]
     },
     "execution_count": 15,
     "metadata": {},
     "output_type": "execute_result"
    }
   ],
   "source": [
    "orders = orders.rename(columns={\n",
    "                                'transactionId':'transaction_id', \n",
    "                                'visitorId': 'visitor_id',\n",
    "                               })\n",
    "orders.columns"
   ]
  },
  {
   "cell_type": "markdown",
   "id": "bf869cb0",
   "metadata": {},
   "source": [
    "### Работа с типами данных\n",
    "####  Изменим типы данных в столбцах с датами заказов и посещений:"
   ]
  },
  {
   "cell_type": "code",
   "execution_count": 16,
   "id": "a055cdca",
   "metadata": {},
   "outputs": [],
   "source": [
    "# преобразование дат в формат datetime:\n",
    "orders['date'] = pd.to_datetime(orders['date'])\n",
    "visitors['date'] = pd.to_datetime(visitors['date'])"
   ]
  },
  {
   "cell_type": "markdown",
   "id": "74df65ae",
   "metadata": {},
   "source": [
    "### Работа с пропусками  \n",
    "\n",
    "#### Проверим, есть ли пропущенные значения в датафреймах:"
   ]
  },
  {
   "cell_type": "code",
   "execution_count": 17,
   "id": "7ed289b2",
   "metadata": {
    "scrolled": true
   },
   "outputs": [
    {
     "data": {
      "text/plain": [
       "hypothesis    0\n",
       "reach         0\n",
       "impact        0\n",
       "confidence    0\n",
       "efforts       0\n",
       "dtype: int64"
      ]
     },
     "execution_count": 17,
     "metadata": {},
     "output_type": "execute_result"
    }
   ],
   "source": [
    "# датафрейм hypothesis:\n",
    "hypothesis.isna().sum() "
   ]
  },
  {
   "cell_type": "code",
   "execution_count": 18,
   "id": "a17529d4",
   "metadata": {},
   "outputs": [
    {
     "data": {
      "text/plain": [
       "transaction_id    0\n",
       "visitor_id        0\n",
       "date              0\n",
       "revenue           0\n",
       "group             0\n",
       "dtype: int64"
      ]
     },
     "execution_count": 18,
     "metadata": {},
     "output_type": "execute_result"
    }
   ],
   "source": [
    "# датафрейм orders:\n",
    "orders.isna().sum()"
   ]
  },
  {
   "cell_type": "code",
   "execution_count": 19,
   "id": "d77bf9fd",
   "metadata": {
    "scrolled": true
   },
   "outputs": [
    {
     "data": {
      "text/plain": [
       "date        0\n",
       "group       0\n",
       "visitors    0\n",
       "dtype: int64"
      ]
     },
     "execution_count": 19,
     "metadata": {},
     "output_type": "execute_result"
    }
   ],
   "source": [
    "# датафрейм visitors:\n",
    "visitors.isna().sum()"
   ]
  },
  {
   "cell_type": "markdown",
   "id": "d8e81433",
   "metadata": {},
   "source": [
    "Пропусков в исходных данных не обнаружено.  "
   ]
  },
  {
   "cell_type": "markdown",
   "id": "abb689f7",
   "metadata": {},
   "source": [
    "### Работа с дубликатами\n",
    "####  Проверим датафреймы на наличие явных дубликатов:"
   ]
  },
  {
   "cell_type": "code",
   "execution_count": 20,
   "id": "ebd534b9",
   "metadata": {
    "scrolled": true
   },
   "outputs": [
    {
     "data": {
      "text/plain": [
       "0"
      ]
     },
     "execution_count": 20,
     "metadata": {},
     "output_type": "execute_result"
    }
   ],
   "source": [
    "# датафрейм visits:\n",
    "hypothesis.duplicated().sum() "
   ]
  },
  {
   "cell_type": "code",
   "execution_count": 21,
   "id": "182a0897",
   "metadata": {},
   "outputs": [
    {
     "data": {
      "text/plain": [
       "0"
      ]
     },
     "execution_count": 21,
     "metadata": {},
     "output_type": "execute_result"
    }
   ],
   "source": [
    "# датафрейм orders:\n",
    "orders.duplicated().sum() "
   ]
  },
  {
   "cell_type": "code",
   "execution_count": 22,
   "id": "72c56408",
   "metadata": {
    "scrolled": true
   },
   "outputs": [
    {
     "data": {
      "text/plain": [
       "0"
      ]
     },
     "execution_count": 22,
     "metadata": {},
     "output_type": "execute_result"
    }
   ],
   "source": [
    "# датафрейм visitors:\n",
    "visitors.duplicated().sum() "
   ]
  },
  {
   "cell_type": "markdown",
   "id": "ae404630",
   "metadata": {},
   "source": [
    "Явных дубликатов также не обнаружено."
   ]
  },
  {
   "cell_type": "markdown",
   "id": "bfa2f067",
   "metadata": {},
   "source": [
    "### Работа с качеством данных\n",
    "#### Определим, сколько групп участвует в A/B-тесте:"
   ]
  },
  {
   "cell_type": "code",
   "execution_count": 23,
   "id": "99a02476",
   "metadata": {
    "scrolled": false
   },
   "outputs": [
    {
     "name": "stdout",
     "output_type": "stream",
     "text": [
      "Количество групп в A/B-тесте:  2\n"
     ]
    }
   ],
   "source": [
    "print('Количество групп в A/B-тесте: ', \n",
    "      orders['group'].nunique())"
   ]
  },
  {
   "cell_type": "markdown",
   "id": "dd7a927e",
   "metadata": {},
   "source": [
    "#### Посчитаем количество пользователей в каждой группе:"
   ]
  },
  {
   "cell_type": "code",
   "execution_count": 24,
   "id": "fb8bbc4e",
   "metadata": {},
   "outputs": [
    {
     "name": "stdout",
     "output_type": "stream",
     "text": [
      "Количество пользователей в группе А: 503\n"
     ]
    }
   ],
   "source": [
    "# группа А\n",
    "size_A = orders[orders['group'] == 'A']['visitor_id'].nunique()\n",
    "print('Количество пользователей в группе А:', size_A)"
   ]
  },
  {
   "cell_type": "code",
   "execution_count": 25,
   "id": "84a83945",
   "metadata": {
    "scrolled": true
   },
   "outputs": [
    {
     "name": "stdout",
     "output_type": "stream",
     "text": [
      "Количество пользователей в группе B: 586\n"
     ]
    }
   ],
   "source": [
    "# группа B\n",
    "size_B = orders[orders['group'] == 'B']['visitor_id'].nunique()\n",
    "print('Количество пользователей в группе B:', size_B) "
   ]
  },
  {
   "cell_type": "markdown",
   "id": "7d8572e8",
   "metadata": {},
   "source": [
    "#### Определим минимальную и максимальную даты исследования:"
   ]
  },
  {
   "cell_type": "code",
   "execution_count": 26,
   "id": "cff70a67",
   "metadata": {},
   "outputs": [
    {
     "name": "stdout",
     "output_type": "stream",
     "text": [
      "Минимальная дата исследования: 2019-08-01\n"
     ]
    }
   ],
   "source": [
    "print('Минимальная дата исследования:', \n",
    "      visitors['date'].dt.date.min())"
   ]
  },
  {
   "cell_type": "code",
   "execution_count": 27,
   "id": "f8738bd4",
   "metadata": {},
   "outputs": [
    {
     "name": "stdout",
     "output_type": "stream",
     "text": [
      "Максимальная дата исследования: 2019-08-31\n"
     ]
    }
   ],
   "source": [
    "print('Максимальная дата исследования:', \n",
    "      visitors['date'].dt.date.max())"
   ]
  },
  {
   "cell_type": "code",
   "execution_count": 28,
   "id": "ed9cb145",
   "metadata": {},
   "outputs": [
    {
     "name": "stdout",
     "output_type": "stream",
     "text": [
      "Длительность теста: 30 days, 0:00:00\n"
     ]
    }
   ],
   "source": [
    "print('Длительность теста:', \n",
    "      visitors['date'].dt.date.max() - visitors['date'].dt.date.min()) "
   ]
  },
  {
   "cell_type": "markdown",
   "id": "236203c2",
   "metadata": {},
   "source": [
    "A/B-тест проводился в течение всего августа 2019 года. Исследуемый период тестирования составляет 30 дней. "
   ]
  },
  {
   "cell_type": "markdown",
   "id": "e9f5d60f",
   "metadata": {},
   "source": [
    "#### Проверим выборки  пользователей на пересечение  \n",
    "Чтобы понять, не попадают ли какие-то пользователи в обе группы, применим метод *intersection():*"
   ]
  },
  {
   "cell_type": "code",
   "execution_count": 29,
   "id": "b379c2f8",
   "metadata": {},
   "outputs": [
    {
     "name": "stdout",
     "output_type": "stream",
     "text": [
      "Количество пересечений id пользователей в группах: 58\n"
     ]
    }
   ],
   "source": [
    "# сохраним совпадающих пользователей в переменную orders_new\n",
    "orders_new = orders.groupby('visitor_id').agg({'group': 'nunique'}).query('group > 1').reset_index()\n",
    "print('Количество пересечений id пользователей в группах:', \n",
    "       len(orders_new))"
   ]
  },
  {
   "cell_type": "markdown",
   "id": "46685295",
   "metadata": {},
   "source": [
    "#### Посчитаем, какую долю от общего количества пользователей в каждой из групп занимают пользователи, присутствующие в обеих группах"
   ]
  },
  {
   "cell_type": "code",
   "execution_count": 30,
   "id": "b007d8a5",
   "metadata": {},
   "outputs": [
    {
     "name": "stdout",
     "output_type": "stream",
     "text": [
      "Доля пересекающихся пользователей по отношению к размеру группы  A: 11.5%\n"
     ]
    }
   ],
   "source": [
    "print('Доля пересекающихся пользователей по отношению к размеру группы  A: {:.1%}'\n",
    "      .format(len(orders_new) / size_A))"
   ]
  },
  {
   "cell_type": "code",
   "execution_count": 31,
   "id": "611aa796",
   "metadata": {},
   "outputs": [
    {
     "name": "stdout",
     "output_type": "stream",
     "text": [
      "Доля пересекающихся пользователей по отношению к размеру группы  B: 9.9%\n"
     ]
    }
   ],
   "source": [
    "print('Доля пересекающихся пользователей по отношению к размеру группы  B: {:.1%}'\n",
    "      .format(len(orders_new) / size_B))"
   ]
  },
  {
   "cell_type": "markdown",
   "id": "ed33cfe2",
   "metadata": {},
   "source": [
    "58 пользователей присутствуют в обеих группах. Доля пересечений для каждой из групп составляет ≈ 10 - 12%.  \n",
    "Пересечение групп может повлиять на результаты анализа. В реальной практике тест скорее всего пришлось бы проводить заново. Удаление данных о пользователях, попавших в обе группы, с одной стороны целесообразно, так как один и тот же пользователь не может состоять и в тестовой, и в контрольной группах.  \n",
    "\n",
    "С другой стороны, корректно исключить таких пользователей из датафрейма *visitors* не получится, так как данные в этом датасете агрегированы и пользователей невозможно идентифицировать. Удалять сведения о них только из таблицы *orders* нельзя - данные не будут коррелировать между собой. Поэтому оставим сведения о пользователях без изменений. "
   ]
  },
  {
   "cell_type": "markdown",
   "id": "0c36269e",
   "metadata": {},
   "source": [
    "Предобработка данных завершена, переходим к основному исследованию."
   ]
  },
  {
   "cell_type": "markdown",
   "id": "0fae0523",
   "metadata": {},
   "source": [
    "## Приоритизация гипотез"
   ]
  },
  {
   "cell_type": "markdown",
   "id": "9819c472",
   "metadata": {},
   "source": [
    "В файле *hypothesis.csv* хранятся 9 гипотез по увеличению выручки интернет-магазина с указанными параметрами Reach, Impact, Confidence, Effort. Рассчитаем фреймворки **ICE** и **RICE** для приоритизации гипотез и отсортируем их по убыванию приоритета по следующим формулам:"
   ]
  },
  {
   "cell_type": "markdown",
   "id": "de4976bc",
   "metadata": {},
   "source": [
    "$$ICE = \\frac{Impact * Confidence}{Efforts}$$  \n",
    "\n",
    "$$RICE = \\frac{Rearch * Impact * Confidence}{Efforts}$$"
   ]
  },
  {
   "cell_type": "code",
   "execution_count": 32,
   "id": "7bf0556e",
   "metadata": {
    "scrolled": true
   },
   "outputs": [
    {
     "data": {
      "text/html": [
       "<style  type=\"text/css\" >\n",
       "#T_1a4b2_row0_col0,#T_1a4b2_row1_col0,#T_1a4b2_row2_col0,#T_1a4b2_row3_col0,#T_1a4b2_row4_col0,#T_1a4b2_row5_col0,#T_1a4b2_row6_col0,#T_1a4b2_row7_col0,#T_1a4b2_row8_col0{\n",
       "            text-align:  left;\n",
       "        }#T_1a4b2_row0_col1{\n",
       "            background-color:  #006837;\n",
       "            color:  #f1f1f1;\n",
       "            text-align:  left;\n",
       "        }#T_1a4b2_row1_col1{\n",
       "            background-color:  #5db961;\n",
       "            color:  #000000;\n",
       "            text-align:  left;\n",
       "        }#T_1a4b2_row2_col1{\n",
       "            background-color:  #b5df74;\n",
       "            color:  #000000;\n",
       "            text-align:  left;\n",
       "        }#T_1a4b2_row3_col1{\n",
       "            background-color:  #fff2aa;\n",
       "            color:  #000000;\n",
       "            text-align:  left;\n",
       "        }#T_1a4b2_row4_col1{\n",
       "            background-color:  #fede89;\n",
       "            color:  #000000;\n",
       "            text-align:  left;\n",
       "        }#T_1a4b2_row5_col1{\n",
       "            background-color:  #c41e27;\n",
       "            color:  #f1f1f1;\n",
       "            text-align:  left;\n",
       "        }#T_1a4b2_row6_col1{\n",
       "            background-color:  #af0926;\n",
       "            color:  #f1f1f1;\n",
       "            text-align:  left;\n",
       "        }#T_1a4b2_row7_col1{\n",
       "            background-color:  #a90426;\n",
       "            color:  #f1f1f1;\n",
       "            text-align:  left;\n",
       "        }#T_1a4b2_row8_col1{\n",
       "            background-color:  #a50026;\n",
       "            color:  #f1f1f1;\n",
       "            text-align:  left;\n",
       "        }</style><table id=\"T_1a4b2_\" ><thead>    <tr>        <th class=\"blank level0\" ></th>        <th class=\"col_heading level0 col0\" >hypothesis</th>        <th class=\"col_heading level0 col1\" >ICE</th>    </tr></thead><tbody>\n",
       "                <tr>\n",
       "                        <th id=\"T_1a4b2_level0_row0\" class=\"row_heading level0 row0\" >8</th>\n",
       "                        <td id=\"T_1a4b2_row0_col0\" class=\"data row0 col0\" >Запустить акцию, дающую скидку на товар в день рождения</td>\n",
       "                        <td id=\"T_1a4b2_row0_col1\" class=\"data row0 col1\" >16.200000</td>\n",
       "            </tr>\n",
       "            <tr>\n",
       "                        <th id=\"T_1a4b2_level0_row1\" class=\"row_heading level0 row1\" >0</th>\n",
       "                        <td id=\"T_1a4b2_row1_col0\" class=\"data row1 col0\" >Добавить два новых канала привлечения трафика, что позволит привлекать на 30% больше пользователей</td>\n",
       "                        <td id=\"T_1a4b2_row1_col1\" class=\"data row1 col1\" >13.333333</td>\n",
       "            </tr>\n",
       "            <tr>\n",
       "                        <th id=\"T_1a4b2_level0_row2\" class=\"row_heading level0 row2\" >7</th>\n",
       "                        <td id=\"T_1a4b2_row2_col0\" class=\"data row2 col0\" >Добавить форму подписки на все основные страницы, чтобы собрать базу клиентов для email-рассылок</td>\n",
       "                        <td id=\"T_1a4b2_row2_col1\" class=\"data row2 col1\" >11.200000</td>\n",
       "            </tr>\n",
       "            <tr>\n",
       "                        <th id=\"T_1a4b2_level0_row3\" class=\"row_heading level0 row3\" >6</th>\n",
       "                        <td id=\"T_1a4b2_row3_col0\" class=\"data row3 col0\" >Показать на главной странице баннеры с актуальными акциями и распродажами, чтобы увеличить конверсию</td>\n",
       "                        <td id=\"T_1a4b2_row3_col1\" class=\"data row3 col1\" >8.000000</td>\n",
       "            </tr>\n",
       "            <tr>\n",
       "                        <th id=\"T_1a4b2_level0_row4\" class=\"row_heading level0 row4\" >2</th>\n",
       "                        <td id=\"T_1a4b2_row4_col0\" class=\"data row4 col0\" >Добавить блоки рекомендаций товаров на сайт интернет магазина, чтобы повысить конверсию и средний чек заказа</td>\n",
       "                        <td id=\"T_1a4b2_row4_col1\" class=\"data row4 col1\" >7.000000</td>\n",
       "            </tr>\n",
       "            <tr>\n",
       "                        <th id=\"T_1a4b2_level0_row5\" class=\"row_heading level0 row5\" >1</th>\n",
       "                        <td id=\"T_1a4b2_row5_col0\" class=\"data row5 col0\" >Запустить собственную службу доставки, что сократит срок доставки заказов</td>\n",
       "                        <td id=\"T_1a4b2_row5_col1\" class=\"data row5 col1\" >2.000000</td>\n",
       "            </tr>\n",
       "            <tr>\n",
       "                        <th id=\"T_1a4b2_level0_row6\" class=\"row_heading level0 row6\" >5</th>\n",
       "                        <td id=\"T_1a4b2_row6_col0\" class=\"data row6 col0\" >Добавить страницу отзывов клиентов о магазине, что позволит увеличить количество заказов</td>\n",
       "                        <td id=\"T_1a4b2_row6_col1\" class=\"data row6 col1\" >1.333333</td>\n",
       "            </tr>\n",
       "            <tr>\n",
       "                        <th id=\"T_1a4b2_level0_row7\" class=\"row_heading level0 row7\" >3</th>\n",
       "                        <td id=\"T_1a4b2_row7_col0\" class=\"data row7 col0\" >Изменить структура категорий, что увеличит конверсию, т.к. пользователи быстрее найдут нужный товар</td>\n",
       "                        <td id=\"T_1a4b2_row7_col1\" class=\"data row7 col1\" >1.125000</td>\n",
       "            </tr>\n",
       "            <tr>\n",
       "                        <th id=\"T_1a4b2_level0_row8\" class=\"row_heading level0 row8\" >4</th>\n",
       "                        <td id=\"T_1a4b2_row8_col0\" class=\"data row8 col0\" >Изменить цвет фона главной страницы, чтобы увеличить вовлеченность пользователей</td>\n",
       "                        <td id=\"T_1a4b2_row8_col1\" class=\"data row8 col1\" >1.000000</td>\n",
       "            </tr>\n",
       "    </tbody></table>"
      ],
      "text/plain": [
       "<pandas.io.formats.style.Styler at 0x22b88241e50>"
      ]
     },
     "execution_count": 32,
     "metadata": {},
     "output_type": "execute_result"
    }
   ],
   "source": [
    "# настроим параметры отображения:\n",
    "pd.set_option(\"max_colwidth\", 1000)\n",
    "\n",
    "# фреймворк ICE\n",
    "hypothesis['ICE'] = (hypothesis['impact'] * hypothesis['confidence']) / hypothesis['efforts']\n",
    "\n",
    "hypothesis[['hypothesis', 'ICE']].sort_values(\n",
    "    by='ICE', ascending=False).style.background_gradient(cmap='RdYlGn').set_properties(**{'text-align': 'left'})"
   ]
  },
  {
   "cell_type": "markdown",
   "id": "d1d4796d",
   "metadata": {},
   "source": [
    "Последняя гипотеза - самая перпективная. Затем идут гипотезы 1, 8 и 7."
   ]
  },
  {
   "cell_type": "code",
   "execution_count": 33,
   "id": "2e0cbea3",
   "metadata": {
    "scrolled": false
   },
   "outputs": [
    {
     "data": {
      "text/html": [
       "<style  type=\"text/css\" >\n",
       "#T_21000_row0_col0,#T_21000_row1_col0,#T_21000_row2_col0,#T_21000_row3_col0,#T_21000_row4_col0,#T_21000_row5_col0,#T_21000_row6_col0,#T_21000_row7_col0,#T_21000_row8_col0{\n",
       "            text-align:  left;\n",
       "        }#T_21000_row0_col1{\n",
       "            background-color:  #006837;\n",
       "            color:  #f1f1f1;\n",
       "            text-align:  left;\n",
       "        }#T_21000_row1_col1{\n",
       "            background-color:  #fffbb8;\n",
       "            color:  #000000;\n",
       "            text-align:  left;\n",
       "        }#T_21000_row2_col1,#T_21000_row3_col1{\n",
       "            background-color:  #fdc171;\n",
       "            color:  #000000;\n",
       "            text-align:  left;\n",
       "        }#T_21000_row4_col1{\n",
       "            background-color:  #dd3d2d;\n",
       "            color:  #f1f1f1;\n",
       "            text-align:  left;\n",
       "        }#T_21000_row5_col1{\n",
       "            background-color:  #c01a27;\n",
       "            color:  #f1f1f1;\n",
       "            text-align:  left;\n",
       "        }#T_21000_row6_col1,#T_21000_row7_col1{\n",
       "            background-color:  #a90426;\n",
       "            color:  #f1f1f1;\n",
       "            text-align:  left;\n",
       "        }#T_21000_row8_col1{\n",
       "            background-color:  #a50026;\n",
       "            color:  #f1f1f1;\n",
       "            text-align:  left;\n",
       "        }</style><table id=\"T_21000_\" ><thead>    <tr>        <th class=\"blank level0\" ></th>        <th class=\"col_heading level0 col0\" >hypothesis</th>        <th class=\"col_heading level0 col1\" >RICE</th>    </tr></thead><tbody>\n",
       "                <tr>\n",
       "                        <th id=\"T_21000_level0_row0\" class=\"row_heading level0 row0\" >7</th>\n",
       "                        <td id=\"T_21000_row0_col0\" class=\"data row0 col0\" >Добавить форму подписки на все основные страницы, чтобы собрать базу клиентов для email-рассылок</td>\n",
       "                        <td id=\"T_21000_row0_col1\" class=\"data row0 col1\" >112.000000</td>\n",
       "            </tr>\n",
       "            <tr>\n",
       "                        <th id=\"T_21000_level0_row1\" class=\"row_heading level0 row1\" >2</th>\n",
       "                        <td id=\"T_21000_row1_col0\" class=\"data row1 col0\" >Добавить блоки рекомендаций товаров на сайт интернет магазина, чтобы повысить конверсию и средний чек заказа</td>\n",
       "                        <td id=\"T_21000_row1_col1\" class=\"data row1 col1\" >56.000000</td>\n",
       "            </tr>\n",
       "            <tr>\n",
       "                        <th id=\"T_21000_level0_row2\" class=\"row_heading level0 row2\" >0</th>\n",
       "                        <td id=\"T_21000_row2_col0\" class=\"data row2 col0\" >Добавить два новых канала привлечения трафика, что позволит привлекать на 30% больше пользователей</td>\n",
       "                        <td id=\"T_21000_row2_col1\" class=\"data row2 col1\" >40.000000</td>\n",
       "            </tr>\n",
       "            <tr>\n",
       "                        <th id=\"T_21000_level0_row3\" class=\"row_heading level0 row3\" >6</th>\n",
       "                        <td id=\"T_21000_row3_col0\" class=\"data row3 col0\" >Показать на главной странице баннеры с актуальными акциями и распродажами, чтобы увеличить конверсию</td>\n",
       "                        <td id=\"T_21000_row3_col1\" class=\"data row3 col1\" >40.000000</td>\n",
       "            </tr>\n",
       "            <tr>\n",
       "                        <th id=\"T_21000_level0_row4\" class=\"row_heading level0 row4\" >8</th>\n",
       "                        <td id=\"T_21000_row4_col0\" class=\"data row4 col0\" >Запустить акцию, дающую скидку на товар в день рождения</td>\n",
       "                        <td id=\"T_21000_row4_col1\" class=\"data row4 col1\" >16.200000</td>\n",
       "            </tr>\n",
       "            <tr>\n",
       "                        <th id=\"T_21000_level0_row5\" class=\"row_heading level0 row5\" >3</th>\n",
       "                        <td id=\"T_21000_row5_col0\" class=\"data row5 col0\" >Изменить структура категорий, что увеличит конверсию, т.к. пользователи быстрее найдут нужный товар</td>\n",
       "                        <td id=\"T_21000_row5_col1\" class=\"data row5 col1\" >9.000000</td>\n",
       "            </tr>\n",
       "            <tr>\n",
       "                        <th id=\"T_21000_level0_row6\" class=\"row_heading level0 row6\" >1</th>\n",
       "                        <td id=\"T_21000_row6_col0\" class=\"data row6 col0\" >Запустить собственную службу доставки, что сократит срок доставки заказов</td>\n",
       "                        <td id=\"T_21000_row6_col1\" class=\"data row6 col1\" >4.000000</td>\n",
       "            </tr>\n",
       "            <tr>\n",
       "                        <th id=\"T_21000_level0_row7\" class=\"row_heading level0 row7\" >5</th>\n",
       "                        <td id=\"T_21000_row7_col0\" class=\"data row7 col0\" >Добавить страницу отзывов клиентов о магазине, что позволит увеличить количество заказов</td>\n",
       "                        <td id=\"T_21000_row7_col1\" class=\"data row7 col1\" >4.000000</td>\n",
       "            </tr>\n",
       "            <tr>\n",
       "                        <th id=\"T_21000_level0_row8\" class=\"row_heading level0 row8\" >4</th>\n",
       "                        <td id=\"T_21000_row8_col0\" class=\"data row8 col0\" >Изменить цвет фона главной страницы, чтобы увеличить вовлеченность пользователей</td>\n",
       "                        <td id=\"T_21000_row8_col1\" class=\"data row8 col1\" >3.000000</td>\n",
       "            </tr>\n",
       "    </tbody></table>"
      ],
      "text/plain": [
       "<pandas.io.formats.style.Styler at 0x22b8822e430>"
      ]
     },
     "execution_count": 33,
     "metadata": {},
     "output_type": "execute_result"
    }
   ],
   "source": [
    "# настроим параметры отображения:\n",
    "pd.set_option(\"max_colwidth\", 1000)\n",
    "\n",
    "# фреймворк RICE\n",
    "hypothesis['RICE'] = (hypothesis['reach'] * hypothesis['impact'] * hypothesis['confidence']) / hypothesis['efforts']\n",
    "\n",
    "hypothesis[['hypothesis', 'RICE']].sort_values(\n",
    "    by='RICE', ascending=False).style.background_gradient(cmap='RdYlGn').set_properties(**{'text-align': 'left'})"
   ]
  },
  {
   "cell_type": "markdown",
   "id": "705a6898",
   "metadata": {},
   "source": [
    "\n",
    "При применении **RICE** вместо ICE приоритизация гипотез изменилась - теперь наиболее перпективные гипотезы: 8, 3, 1, 7.  \n",
    "Метод **ICE** не учитывает параметр *reach* - скольких пользователей затронет изменение, которое хотелось бы внести.  \n",
    "\n",
    "На первом месте теперь гипотеза №8, так как её параметр *reach* равен 10, в то время как у других гипотез он меньше.  "
   ]
  },
  {
   "cell_type": "markdown",
   "id": "af60b612",
   "metadata": {},
   "source": [
    "## Подготовка результатов A/B-теста к анализу"
   ]
  },
  {
   "cell_type": "markdown",
   "id": "5b9008cf",
   "metadata": {},
   "source": [
    "Результаты A/B-теста описаны в датафреймах *orders* и *visitors*.  \n",
    "Подготовим данные к анализу:"
   ]
  },
  {
   "cell_type": "markdown",
   "id": "f012eaa3",
   "metadata": {},
   "source": [
    "### Посчитаем количество посещений в день для каждой группы:"
   ]
  },
  {
   "cell_type": "code",
   "execution_count": 35,
   "id": "798ca971",
   "metadata": {
    "scrolled": true
   },
   "outputs": [
    {
     "data": {
      "text/html": [
       "<div>\n",
       "<style scoped>\n",
       "    .dataframe tbody tr th:only-of-type {\n",
       "        vertical-align: middle;\n",
       "    }\n",
       "\n",
       "    .dataframe tbody tr th {\n",
       "        vertical-align: top;\n",
       "    }\n",
       "\n",
       "    .dataframe thead th {\n",
       "        text-align: right;\n",
       "    }\n",
       "</style>\n",
       "<table border=\"1\" class=\"dataframe\">\n",
       "  <thead>\n",
       "    <tr style=\"text-align: right;\">\n",
       "      <th></th>\n",
       "      <th>date</th>\n",
       "      <th>visitorsPerDateA</th>\n",
       "    </tr>\n",
       "  </thead>\n",
       "  <tbody>\n",
       "    <tr>\n",
       "      <th>0</th>\n",
       "      <td>2019-08-01</td>\n",
       "      <td>719</td>\n",
       "    </tr>\n",
       "    <tr>\n",
       "      <th>1</th>\n",
       "      <td>2019-08-02</td>\n",
       "      <td>619</td>\n",
       "    </tr>\n",
       "    <tr>\n",
       "      <th>2</th>\n",
       "      <td>2019-08-03</td>\n",
       "      <td>507</td>\n",
       "    </tr>\n",
       "    <tr>\n",
       "      <th>3</th>\n",
       "      <td>2019-08-04</td>\n",
       "      <td>717</td>\n",
       "    </tr>\n",
       "    <tr>\n",
       "      <th>4</th>\n",
       "      <td>2019-08-05</td>\n",
       "      <td>756</td>\n",
       "    </tr>\n",
       "  </tbody>\n",
       "</table>\n",
       "</div>"
      ],
      "text/plain": [
       "        date  visitorsPerDateA\n",
       "0 2019-08-01               719\n",
       "1 2019-08-02               619\n",
       "2 2019-08-03               507\n",
       "3 2019-08-04               717\n",
       "4 2019-08-05               756"
      ]
     },
     "execution_count": 35,
     "metadata": {},
     "output_type": "execute_result"
    }
   ],
   "source": [
    "# группа А\n",
    "visitorsADaily = visitors[visitors['group'] == 'A'][['date', 'visitors']]\n",
    "visitorsADaily.columns = ['date', 'visitorsPerDateA']\n",
    "\n",
    "visitorsADaily.head()"
   ]
  },
  {
   "cell_type": "code",
   "execution_count": 36,
   "id": "887bb5bd",
   "metadata": {},
   "outputs": [
    {
     "data": {
      "text/html": [
       "<div>\n",
       "<style scoped>\n",
       "    .dataframe tbody tr th:only-of-type {\n",
       "        vertical-align: middle;\n",
       "    }\n",
       "\n",
       "    .dataframe tbody tr th {\n",
       "        vertical-align: top;\n",
       "    }\n",
       "\n",
       "    .dataframe thead th {\n",
       "        text-align: right;\n",
       "    }\n",
       "</style>\n",
       "<table border=\"1\" class=\"dataframe\">\n",
       "  <thead>\n",
       "    <tr style=\"text-align: right;\">\n",
       "      <th></th>\n",
       "      <th>date</th>\n",
       "      <th>visitorsPerDateB</th>\n",
       "    </tr>\n",
       "  </thead>\n",
       "  <tbody>\n",
       "    <tr>\n",
       "      <th>31</th>\n",
       "      <td>2019-08-01</td>\n",
       "      <td>713</td>\n",
       "    </tr>\n",
       "    <tr>\n",
       "      <th>32</th>\n",
       "      <td>2019-08-02</td>\n",
       "      <td>581</td>\n",
       "    </tr>\n",
       "    <tr>\n",
       "      <th>33</th>\n",
       "      <td>2019-08-03</td>\n",
       "      <td>509</td>\n",
       "    </tr>\n",
       "    <tr>\n",
       "      <th>34</th>\n",
       "      <td>2019-08-04</td>\n",
       "      <td>770</td>\n",
       "    </tr>\n",
       "    <tr>\n",
       "      <th>35</th>\n",
       "      <td>2019-08-05</td>\n",
       "      <td>707</td>\n",
       "    </tr>\n",
       "  </tbody>\n",
       "</table>\n",
       "</div>"
      ],
      "text/plain": [
       "         date  visitorsPerDateB\n",
       "31 2019-08-01               713\n",
       "32 2019-08-02               581\n",
       "33 2019-08-03               509\n",
       "34 2019-08-04               770\n",
       "35 2019-08-05               707"
      ]
     },
     "execution_count": 36,
     "metadata": {},
     "output_type": "execute_result"
    }
   ],
   "source": [
    "# группа В\n",
    "visitorsBDaily = visitors[visitors['group'] == 'B'][['date', 'visitors']]\n",
    "visitorsBDaily.columns = ['date', 'visitorsPerDateB']\n",
    "\n",
    "visitorsBDaily.head()"
   ]
  },
  {
   "cell_type": "markdown",
   "id": "4ff28bcc",
   "metadata": {},
   "source": [
    "### Посчитаем количество посещений в день c накоплением для каждой группы:"
   ]
  },
  {
   "cell_type": "code",
   "execution_count": 37,
   "id": "70707f08",
   "metadata": {},
   "outputs": [
    {
     "data": {
      "text/html": [
       "<div>\n",
       "<style scoped>\n",
       "    .dataframe tbody tr th:only-of-type {\n",
       "        vertical-align: middle;\n",
       "    }\n",
       "\n",
       "    .dataframe tbody tr th {\n",
       "        vertical-align: top;\n",
       "    }\n",
       "\n",
       "    .dataframe thead th {\n",
       "        text-align: right;\n",
       "    }\n",
       "</style>\n",
       "<table border=\"1\" class=\"dataframe\">\n",
       "  <thead>\n",
       "    <tr style=\"text-align: right;\">\n",
       "      <th></th>\n",
       "      <th>date</th>\n",
       "      <th>visitorsCummulativeA</th>\n",
       "    </tr>\n",
       "  </thead>\n",
       "  <tbody>\n",
       "    <tr>\n",
       "      <th>0</th>\n",
       "      <td>2019-08-01</td>\n",
       "      <td>719</td>\n",
       "    </tr>\n",
       "    <tr>\n",
       "      <th>1</th>\n",
       "      <td>2019-08-02</td>\n",
       "      <td>1338</td>\n",
       "    </tr>\n",
       "    <tr>\n",
       "      <th>2</th>\n",
       "      <td>2019-08-03</td>\n",
       "      <td>1845</td>\n",
       "    </tr>\n",
       "    <tr>\n",
       "      <th>3</th>\n",
       "      <td>2019-08-04</td>\n",
       "      <td>2562</td>\n",
       "    </tr>\n",
       "    <tr>\n",
       "      <th>4</th>\n",
       "      <td>2019-08-05</td>\n",
       "      <td>3318</td>\n",
       "    </tr>\n",
       "  </tbody>\n",
       "</table>\n",
       "</div>"
      ],
      "text/plain": [
       "        date  visitorsCummulativeA\n",
       "0 2019-08-01                   719\n",
       "1 2019-08-02                  1338\n",
       "2 2019-08-03                  1845\n",
       "3 2019-08-04                  2562\n",
       "4 2019-08-05                  3318"
      ]
     },
     "execution_count": 37,
     "metadata": {},
     "output_type": "execute_result"
    }
   ],
   "source": [
    "# группа А\n",
    "visitorsACummulative = visitorsADaily.apply(\n",
    "    lambda x: visitorsADaily[visitorsADaily['date'] <= x['date']].agg(\n",
    "        {'date': 'max', 'visitorsPerDateA': 'sum'}\n",
    "    ),\n",
    "    axis=1,\n",
    ")\n",
    "visitorsACummulative.columns = ['date', 'visitorsCummulativeA']\n",
    "\n",
    "visitorsACummulative.head()"
   ]
  },
  {
   "cell_type": "code",
   "execution_count": 38,
   "id": "4d077a68",
   "metadata": {},
   "outputs": [
    {
     "data": {
      "text/html": [
       "<div>\n",
       "<style scoped>\n",
       "    .dataframe tbody tr th:only-of-type {\n",
       "        vertical-align: middle;\n",
       "    }\n",
       "\n",
       "    .dataframe tbody tr th {\n",
       "        vertical-align: top;\n",
       "    }\n",
       "\n",
       "    .dataframe thead th {\n",
       "        text-align: right;\n",
       "    }\n",
       "</style>\n",
       "<table border=\"1\" class=\"dataframe\">\n",
       "  <thead>\n",
       "    <tr style=\"text-align: right;\">\n",
       "      <th></th>\n",
       "      <th>date</th>\n",
       "      <th>visitorsCummulativeB</th>\n",
       "    </tr>\n",
       "  </thead>\n",
       "  <tbody>\n",
       "    <tr>\n",
       "      <th>31</th>\n",
       "      <td>2019-08-01</td>\n",
       "      <td>713</td>\n",
       "    </tr>\n",
       "    <tr>\n",
       "      <th>32</th>\n",
       "      <td>2019-08-02</td>\n",
       "      <td>1294</td>\n",
       "    </tr>\n",
       "    <tr>\n",
       "      <th>33</th>\n",
       "      <td>2019-08-03</td>\n",
       "      <td>1803</td>\n",
       "    </tr>\n",
       "    <tr>\n",
       "      <th>34</th>\n",
       "      <td>2019-08-04</td>\n",
       "      <td>2573</td>\n",
       "    </tr>\n",
       "    <tr>\n",
       "      <th>35</th>\n",
       "      <td>2019-08-05</td>\n",
       "      <td>3280</td>\n",
       "    </tr>\n",
       "  </tbody>\n",
       "</table>\n",
       "</div>"
      ],
      "text/plain": [
       "         date  visitorsCummulativeB\n",
       "31 2019-08-01                   713\n",
       "32 2019-08-02                  1294\n",
       "33 2019-08-03                  1803\n",
       "34 2019-08-04                  2573\n",
       "35 2019-08-05                  3280"
      ]
     },
     "execution_count": 38,
     "metadata": {},
     "output_type": "execute_result"
    }
   ],
   "source": [
    "# группа B\n",
    "visitorsBCummulative = visitorsBDaily.apply(\n",
    "    lambda x: visitorsBDaily[visitorsBDaily['date'] <= x['date']].agg(\n",
    "        {'date': 'max', 'visitorsPerDateB': 'sum'}\n",
    "    ),\n",
    "    axis=1,\n",
    ")\n",
    "visitorsBCummulative.columns = ['date', 'visitorsCummulativeB']\n",
    "\n",
    "visitorsBCummulative.head()"
   ]
  },
  {
   "cell_type": "markdown",
   "id": "9f4bbd7c",
   "metadata": {},
   "source": [
    "### Посчитаем количество заказов в день и ежедневную выручку для каждой группы:"
   ]
  },
  {
   "cell_type": "code",
   "execution_count": 39,
   "id": "83a256c0",
   "metadata": {},
   "outputs": [
    {
     "data": {
      "text/html": [
       "<div>\n",
       "<style scoped>\n",
       "    .dataframe tbody tr th:only-of-type {\n",
       "        vertical-align: middle;\n",
       "    }\n",
       "\n",
       "    .dataframe tbody tr th {\n",
       "        vertical-align: top;\n",
       "    }\n",
       "\n",
       "    .dataframe thead th {\n",
       "        text-align: right;\n",
       "    }\n",
       "</style>\n",
       "<table border=\"1\" class=\"dataframe\">\n",
       "  <thead>\n",
       "    <tr style=\"text-align: right;\">\n",
       "      <th></th>\n",
       "      <th>date</th>\n",
       "      <th>ordersPerDateA</th>\n",
       "      <th>revenuePerDateA</th>\n",
       "    </tr>\n",
       "  </thead>\n",
       "  <tbody>\n",
       "    <tr>\n",
       "      <th>0</th>\n",
       "      <td>2019-08-01</td>\n",
       "      <td>24</td>\n",
       "      <td>148579</td>\n",
       "    </tr>\n",
       "    <tr>\n",
       "      <th>1</th>\n",
       "      <td>2019-08-02</td>\n",
       "      <td>20</td>\n",
       "      <td>93822</td>\n",
       "    </tr>\n",
       "    <tr>\n",
       "      <th>2</th>\n",
       "      <td>2019-08-03</td>\n",
       "      <td>24</td>\n",
       "      <td>112473</td>\n",
       "    </tr>\n",
       "    <tr>\n",
       "      <th>3</th>\n",
       "      <td>2019-08-04</td>\n",
       "      <td>16</td>\n",
       "      <td>70825</td>\n",
       "    </tr>\n",
       "    <tr>\n",
       "      <th>4</th>\n",
       "      <td>2019-08-05</td>\n",
       "      <td>25</td>\n",
       "      <td>124218</td>\n",
       "    </tr>\n",
       "  </tbody>\n",
       "</table>\n",
       "</div>"
      ],
      "text/plain": [
       "        date  ordersPerDateA  revenuePerDateA\n",
       "0 2019-08-01              24           148579\n",
       "1 2019-08-02              20            93822\n",
       "2 2019-08-03              24           112473\n",
       "3 2019-08-04              16            70825\n",
       "4 2019-08-05              25           124218"
      ]
     },
     "execution_count": 39,
     "metadata": {},
     "output_type": "execute_result"
    }
   ],
   "source": [
    "# группа А\n",
    "ordersADaily = (\n",
    "    orders[orders['group'] == 'A'][['date', 'transaction_id', 'visitor_id', 'revenue']]\n",
    "    .groupby('date', as_index=False)\n",
    "    .agg({'transaction_id': pd.Series.nunique, 'revenue': 'sum'})\n",
    ")\n",
    "ordersADaily.columns = ['date', 'ordersPerDateA', 'revenuePerDateA']\n",
    "\n",
    "ordersADaily.head()"
   ]
  },
  {
   "cell_type": "code",
   "execution_count": 40,
   "id": "50ae0286",
   "metadata": {},
   "outputs": [
    {
     "data": {
      "text/html": [
       "<div>\n",
       "<style scoped>\n",
       "    .dataframe tbody tr th:only-of-type {\n",
       "        vertical-align: middle;\n",
       "    }\n",
       "\n",
       "    .dataframe tbody tr th {\n",
       "        vertical-align: top;\n",
       "    }\n",
       "\n",
       "    .dataframe thead th {\n",
       "        text-align: right;\n",
       "    }\n",
       "</style>\n",
       "<table border=\"1\" class=\"dataframe\">\n",
       "  <thead>\n",
       "    <tr style=\"text-align: right;\">\n",
       "      <th></th>\n",
       "      <th>date</th>\n",
       "      <th>ordersPerDateB</th>\n",
       "      <th>revenuePerDateB</th>\n",
       "    </tr>\n",
       "  </thead>\n",
       "  <tbody>\n",
       "    <tr>\n",
       "      <th>0</th>\n",
       "      <td>2019-08-01</td>\n",
       "      <td>21</td>\n",
       "      <td>101217</td>\n",
       "    </tr>\n",
       "    <tr>\n",
       "      <th>1</th>\n",
       "      <td>2019-08-02</td>\n",
       "      <td>24</td>\n",
       "      <td>165531</td>\n",
       "    </tr>\n",
       "    <tr>\n",
       "      <th>2</th>\n",
       "      <td>2019-08-03</td>\n",
       "      <td>16</td>\n",
       "      <td>114248</td>\n",
       "    </tr>\n",
       "    <tr>\n",
       "      <th>3</th>\n",
       "      <td>2019-08-04</td>\n",
       "      <td>17</td>\n",
       "      <td>108571</td>\n",
       "    </tr>\n",
       "    <tr>\n",
       "      <th>4</th>\n",
       "      <td>2019-08-05</td>\n",
       "      <td>23</td>\n",
       "      <td>92428</td>\n",
       "    </tr>\n",
       "  </tbody>\n",
       "</table>\n",
       "</div>"
      ],
      "text/plain": [
       "        date  ordersPerDateB  revenuePerDateB\n",
       "0 2019-08-01              21           101217\n",
       "1 2019-08-02              24           165531\n",
       "2 2019-08-03              16           114248\n",
       "3 2019-08-04              17           108571\n",
       "4 2019-08-05              23            92428"
      ]
     },
     "execution_count": 40,
     "metadata": {},
     "output_type": "execute_result"
    }
   ],
   "source": [
    "# группа B\n",
    "ordersBDaily = (\n",
    "    orders[orders['group'] == 'B'][['date', 'transaction_id', 'visitor_id', 'revenue']]\n",
    "    .groupby('date', as_index=False)\n",
    "    .agg({'transaction_id': pd.Series.nunique, 'revenue': 'sum'})\n",
    ")\n",
    "ordersBDaily.columns = ['date', 'ordersPerDateB', 'revenuePerDateB']\n",
    "\n",
    "ordersBDaily.head()"
   ]
  },
  {
   "cell_type": "markdown",
   "id": "bc463dc0",
   "metadata": {},
   "source": [
    "### Посчитаем количество заказов и ежедневную выручку с накоплением для каждой группы:"
   ]
  },
  {
   "cell_type": "code",
   "execution_count": 41,
   "id": "0b419052",
   "metadata": {},
   "outputs": [
    {
     "data": {
      "text/html": [
       "<div>\n",
       "<style scoped>\n",
       "    .dataframe tbody tr th:only-of-type {\n",
       "        vertical-align: middle;\n",
       "    }\n",
       "\n",
       "    .dataframe tbody tr th {\n",
       "        vertical-align: top;\n",
       "    }\n",
       "\n",
       "    .dataframe thead th {\n",
       "        text-align: right;\n",
       "    }\n",
       "</style>\n",
       "<table border=\"1\" class=\"dataframe\">\n",
       "  <thead>\n",
       "    <tr style=\"text-align: right;\">\n",
       "      <th></th>\n",
       "      <th>date</th>\n",
       "      <th>ordersCummulativeA</th>\n",
       "      <th>revenueCummulativeA</th>\n",
       "    </tr>\n",
       "  </thead>\n",
       "  <tbody>\n",
       "    <tr>\n",
       "      <th>0</th>\n",
       "      <td>2019-08-01</td>\n",
       "      <td>24</td>\n",
       "      <td>148579</td>\n",
       "    </tr>\n",
       "    <tr>\n",
       "      <th>1</th>\n",
       "      <td>2019-08-02</td>\n",
       "      <td>44</td>\n",
       "      <td>242401</td>\n",
       "    </tr>\n",
       "    <tr>\n",
       "      <th>2</th>\n",
       "      <td>2019-08-03</td>\n",
       "      <td>68</td>\n",
       "      <td>354874</td>\n",
       "    </tr>\n",
       "    <tr>\n",
       "      <th>3</th>\n",
       "      <td>2019-08-04</td>\n",
       "      <td>84</td>\n",
       "      <td>425699</td>\n",
       "    </tr>\n",
       "    <tr>\n",
       "      <th>4</th>\n",
       "      <td>2019-08-05</td>\n",
       "      <td>109</td>\n",
       "      <td>549917</td>\n",
       "    </tr>\n",
       "  </tbody>\n",
       "</table>\n",
       "</div>"
      ],
      "text/plain": [
       "        date  ordersCummulativeA  revenueCummulativeA\n",
       "0 2019-08-01                  24               148579\n",
       "1 2019-08-02                  44               242401\n",
       "2 2019-08-03                  68               354874\n",
       "3 2019-08-04                  84               425699\n",
       "4 2019-08-05                 109               549917"
      ]
     },
     "execution_count": 41,
     "metadata": {},
     "output_type": "execute_result"
    }
   ],
   "source": [
    "# группа A\n",
    "ordersACummulative = ordersADaily.apply(\n",
    "    lambda x: ordersADaily[ordersADaily['date'] <= x['date']].agg(\n",
    "        {'date': 'max', 'ordersPerDateA': 'sum', 'revenuePerDateA': 'sum'}\n",
    "    ),\n",
    "    axis=1,\n",
    ").sort_values(by=['date'])\n",
    "ordersACummulative.columns = [\n",
    "    'date',\n",
    "    'ordersCummulativeA',\n",
    "    'revenueCummulativeA',\n",
    "]\n",
    "\n",
    "ordersACummulative.head()"
   ]
  },
  {
   "cell_type": "code",
   "execution_count": 42,
   "id": "7c078f76",
   "metadata": {},
   "outputs": [
    {
     "data": {
      "text/html": [
       "<div>\n",
       "<style scoped>\n",
       "    .dataframe tbody tr th:only-of-type {\n",
       "        vertical-align: middle;\n",
       "    }\n",
       "\n",
       "    .dataframe tbody tr th {\n",
       "        vertical-align: top;\n",
       "    }\n",
       "\n",
       "    .dataframe thead th {\n",
       "        text-align: right;\n",
       "    }\n",
       "</style>\n",
       "<table border=\"1\" class=\"dataframe\">\n",
       "  <thead>\n",
       "    <tr style=\"text-align: right;\">\n",
       "      <th></th>\n",
       "      <th>date</th>\n",
       "      <th>ordersCummulativeB</th>\n",
       "      <th>revenueCummulativeB</th>\n",
       "    </tr>\n",
       "  </thead>\n",
       "  <tbody>\n",
       "    <tr>\n",
       "      <th>0</th>\n",
       "      <td>2019-08-01</td>\n",
       "      <td>21</td>\n",
       "      <td>101217</td>\n",
       "    </tr>\n",
       "    <tr>\n",
       "      <th>1</th>\n",
       "      <td>2019-08-02</td>\n",
       "      <td>45</td>\n",
       "      <td>266748</td>\n",
       "    </tr>\n",
       "    <tr>\n",
       "      <th>2</th>\n",
       "      <td>2019-08-03</td>\n",
       "      <td>61</td>\n",
       "      <td>380996</td>\n",
       "    </tr>\n",
       "    <tr>\n",
       "      <th>3</th>\n",
       "      <td>2019-08-04</td>\n",
       "      <td>78</td>\n",
       "      <td>489567</td>\n",
       "    </tr>\n",
       "    <tr>\n",
       "      <th>4</th>\n",
       "      <td>2019-08-05</td>\n",
       "      <td>101</td>\n",
       "      <td>581995</td>\n",
       "    </tr>\n",
       "  </tbody>\n",
       "</table>\n",
       "</div>"
      ],
      "text/plain": [
       "        date  ordersCummulativeB  revenueCummulativeB\n",
       "0 2019-08-01                  21               101217\n",
       "1 2019-08-02                  45               266748\n",
       "2 2019-08-03                  61               380996\n",
       "3 2019-08-04                  78               489567\n",
       "4 2019-08-05                 101               581995"
      ]
     },
     "execution_count": 42,
     "metadata": {},
     "output_type": "execute_result"
    }
   ],
   "source": [
    "# группа B\n",
    "ordersBCummulative = ordersBDaily.apply(\n",
    "    lambda x: ordersBDaily[ordersBDaily['date'] <= x['date']].agg(\n",
    "        {'date': 'max', 'ordersPerDateB': 'sum', 'revenuePerDateB': 'sum'}\n",
    "    ),\n",
    "    axis=1,\n",
    ").sort_values(by=['date'])\n",
    "ordersBCummulative.columns = [\n",
    "    'date',\n",
    "    'ordersCummulativeB',\n",
    "    'revenueCummulativeB',\n",
    "]\n",
    "\n",
    "ordersBCummulative.head()"
   ]
  },
  {
   "cell_type": "markdown",
   "id": "abb79bbb",
   "metadata": {},
   "source": [
    "### Объединим расчёты для каждой из групп в один датафрейм *data*:"
   ]
  },
  {
   "cell_type": "code",
   "execution_count": 43,
   "id": "ae1ca350",
   "metadata": {},
   "outputs": [
    {
     "data": {
      "text/html": [
       "<div>\n",
       "<style scoped>\n",
       "    .dataframe tbody tr th:only-of-type {\n",
       "        vertical-align: middle;\n",
       "    }\n",
       "\n",
       "    .dataframe tbody tr th {\n",
       "        vertical-align: top;\n",
       "    }\n",
       "\n",
       "    .dataframe thead th {\n",
       "        text-align: right;\n",
       "    }\n",
       "</style>\n",
       "<table border=\"1\" class=\"dataframe\">\n",
       "  <thead>\n",
       "    <tr style=\"text-align: right;\">\n",
       "      <th></th>\n",
       "      <th>date</th>\n",
       "      <th>ordersPerDateA</th>\n",
       "      <th>revenuePerDateA</th>\n",
       "      <th>ordersPerDateB</th>\n",
       "      <th>revenuePerDateB</th>\n",
       "      <th>ordersCummulativeA</th>\n",
       "      <th>revenueCummulativeA</th>\n",
       "      <th>ordersCummulativeB</th>\n",
       "      <th>revenueCummulativeB</th>\n",
       "      <th>visitorsPerDateA</th>\n",
       "      <th>visitorsPerDateB</th>\n",
       "      <th>visitorsCummulativeA</th>\n",
       "      <th>visitorsCummulativeB</th>\n",
       "    </tr>\n",
       "  </thead>\n",
       "  <tbody>\n",
       "    <tr>\n",
       "      <th>0</th>\n",
       "      <td>2019-08-01</td>\n",
       "      <td>24</td>\n",
       "      <td>148579</td>\n",
       "      <td>21</td>\n",
       "      <td>101217</td>\n",
       "      <td>24</td>\n",
       "      <td>148579</td>\n",
       "      <td>21</td>\n",
       "      <td>101217</td>\n",
       "      <td>719</td>\n",
       "      <td>713</td>\n",
       "      <td>719</td>\n",
       "      <td>713</td>\n",
       "    </tr>\n",
       "    <tr>\n",
       "      <th>1</th>\n",
       "      <td>2019-08-02</td>\n",
       "      <td>20</td>\n",
       "      <td>93822</td>\n",
       "      <td>24</td>\n",
       "      <td>165531</td>\n",
       "      <td>44</td>\n",
       "      <td>242401</td>\n",
       "      <td>45</td>\n",
       "      <td>266748</td>\n",
       "      <td>619</td>\n",
       "      <td>581</td>\n",
       "      <td>1338</td>\n",
       "      <td>1294</td>\n",
       "    </tr>\n",
       "    <tr>\n",
       "      <th>2</th>\n",
       "      <td>2019-08-03</td>\n",
       "      <td>24</td>\n",
       "      <td>112473</td>\n",
       "      <td>16</td>\n",
       "      <td>114248</td>\n",
       "      <td>68</td>\n",
       "      <td>354874</td>\n",
       "      <td>61</td>\n",
       "      <td>380996</td>\n",
       "      <td>507</td>\n",
       "      <td>509</td>\n",
       "      <td>1845</td>\n",
       "      <td>1803</td>\n",
       "    </tr>\n",
       "    <tr>\n",
       "      <th>3</th>\n",
       "      <td>2019-08-04</td>\n",
       "      <td>16</td>\n",
       "      <td>70825</td>\n",
       "      <td>17</td>\n",
       "      <td>108571</td>\n",
       "      <td>84</td>\n",
       "      <td>425699</td>\n",
       "      <td>78</td>\n",
       "      <td>489567</td>\n",
       "      <td>717</td>\n",
       "      <td>770</td>\n",
       "      <td>2562</td>\n",
       "      <td>2573</td>\n",
       "    </tr>\n",
       "    <tr>\n",
       "      <th>4</th>\n",
       "      <td>2019-08-05</td>\n",
       "      <td>25</td>\n",
       "      <td>124218</td>\n",
       "      <td>23</td>\n",
       "      <td>92428</td>\n",
       "      <td>109</td>\n",
       "      <td>549917</td>\n",
       "      <td>101</td>\n",
       "      <td>581995</td>\n",
       "      <td>756</td>\n",
       "      <td>707</td>\n",
       "      <td>3318</td>\n",
       "      <td>3280</td>\n",
       "    </tr>\n",
       "  </tbody>\n",
       "</table>\n",
       "</div>"
      ],
      "text/plain": [
       "        date  ordersPerDateA  revenuePerDateA  ordersPerDateB  \\\n",
       "0 2019-08-01              24           148579              21   \n",
       "1 2019-08-02              20            93822              24   \n",
       "2 2019-08-03              24           112473              16   \n",
       "3 2019-08-04              16            70825              17   \n",
       "4 2019-08-05              25           124218              23   \n",
       "\n",
       "   revenuePerDateB  ordersCummulativeA  revenueCummulativeA  \\\n",
       "0           101217                  24               148579   \n",
       "1           165531                  44               242401   \n",
       "2           114248                  68               354874   \n",
       "3           108571                  84               425699   \n",
       "4            92428                 109               549917   \n",
       "\n",
       "   ordersCummulativeB  revenueCummulativeB  visitorsPerDateA  \\\n",
       "0                  21               101217               719   \n",
       "1                  45               266748               619   \n",
       "2                  61               380996               507   \n",
       "3                  78               489567               717   \n",
       "4                 101               581995               756   \n",
       "\n",
       "   visitorsPerDateB  visitorsCummulativeA  visitorsCummulativeB  \n",
       "0               713                   719                   713  \n",
       "1               581                  1338                  1294  \n",
       "2               509                  1845                  1803  \n",
       "3               770                  2562                  2573  \n",
       "4               707                  3318                  3280  "
      ]
     },
     "execution_count": 43,
     "metadata": {},
     "output_type": "execute_result"
    }
   ],
   "source": [
    "data = (\n",
    "    ordersADaily.merge(\n",
    "        ordersBDaily, left_on='date', right_on='date', how='left'\n",
    "    )\n",
    "    .merge(ordersACummulative, left_on='date', right_on='date', how='left')\n",
    "    .merge(ordersBCummulative, left_on='date', right_on='date', how='left')\n",
    "    .merge(visitorsADaily, left_on='date', right_on='date', how='left')\n",
    "    .merge(visitorsBDaily, left_on='date', right_on='date', how='left')\n",
    "    .merge(visitorsACummulative, left_on='date', right_on='date', how='left')\n",
    "    .merge(visitorsBCummulative, left_on='date', right_on='date', how='left')\n",
    ")\n",
    "\n",
    "data.head()"
   ]
  },
  {
   "cell_type": "markdown",
   "id": "9faf302a",
   "metadata": {},
   "source": [
    "Объединенный датафрейм *data* теперь содержит:  \n",
    "- *date* — дату теста;\n",
    "- *ordersPerDateA* — количество заказов в выбранную дату в группе A;\n",
    "- *revenuePerDateA* — суммарная выручка в выбранную дату в группе A;\n",
    "- *ordersPerDateB* — количество заказов в выбранную дату в группе B;\n",
    "- *revenuePerDateB* — суммарная выручка в выбранную дату в группе B;\n",
    "- *ordersCummulativeA* — суммарное число заказов до выбранной даты включительно в группе A;\n",
    "- *revenueCummulativeA* — суммарная выручка до выбранной даты включительно в группе A;\n",
    "- *ordersCummulativeB* — суммарное количество заказов до выбранной даты включительно в группе B;\n",
    "- *revenueCummulativeB* — суммарная выручка до выбранной даты включительно в группе B;\n",
    "- *visitorsPerDateA* — количество пользователей в выбранную дату в группе A;\n",
    "- *visitorsPerDateB* — количество пользователей в выбранную дату в группе B;\n",
    "- *visitorsCummulativeA* — количество пользователей до выбранной даты включительно в группе A;\n",
    "- *visitorsCummulativeB* — количество пользователей до выбранной даты включительно в группе B."
   ]
  },
  {
   "cell_type": "markdown",
   "id": "6c19bd4b",
   "metadata": {},
   "source": [
    "## Анализ A/B-теста"
   ]
  },
  {
   "cell_type": "markdown",
   "id": "c78c8417",
   "metadata": {},
   "source": [
    "### Построим график кумулятивной выручки по группам:"
   ]
  },
  {
   "cell_type": "code",
   "execution_count": 44,
   "id": "27dc1fcd",
   "metadata": {},
   "outputs": [
    {
     "data": {
      "image/png": "[encoded data removed]",
      "text/plain": [
       "<Figure size 640x480 with 1 Axes>"
      ]
     },
     "metadata": {},
     "output_type": "display_data"
    }
   ],
   "source": [
    "# Строим график выручки группы А\n",
    "plt.plot(data['date'], data['revenueCummulativeA'], label='A')\n",
    "\n",
    "# Строим график выручки группы B\n",
    "plt.plot(data['date'], data['revenueCummulativeB'], label='B')\n",
    "\n",
    "plt.legend()\n",
    "plt.title('График кумулятивной выручки по группам')\n",
    "plt.xticks(rotation=90)\n",
    "plt.tight_layout()"
   ]
  },
  {
   "cell_type": "markdown",
   "id": "682d68a5",
   "metadata": {},
   "source": [
    "Выручка в двух группах стабильно увеличивается в течение всего теста.  \n",
    "Группа В имеет более высокую выручку по сравнению с группой А. Также группе В в нескольких точках график резко растёт. Это может сигнализировать о всплесках числа заказов, либо о появлении очень дорогих заказов в выборке."
   ]
  },
  {
   "cell_type": "markdown",
   "id": "1e0e5481",
   "metadata": {},
   "source": [
    "### Построим графики среднего чека по группам — разделим кумулятивную выручку на кумулятивное число заказов:"
   ]
  },
  {
   "cell_type": "code",
   "execution_count": 45,
   "id": "9eb76b6c",
   "metadata": {},
   "outputs": [
    {
     "data": {
      "image/png": "[encoded data removed]",
      "text/plain": [
       "<Figure size 640x480 with 1 Axes>"
      ]
     },
     "metadata": {},
     "output_type": "display_data"
    }
   ],
   "source": [
    "plt.plot(data['date'], data['revenueCummulativeA']/data['ordersCummulativeA'], label='A')\n",
    "plt.plot(data['date'], data['revenueCummulativeB']/data['ordersCummulativeB'], label='B')\n",
    "\n",
    "plt.legend()\n",
    "plt.title('Графики среднего чека по группам')\n",
    "plt.xticks(rotation=90)\n",
    "plt.tight_layout()"
   ]
  },
  {
   "cell_type": "markdown",
   "id": "ed9e73af",
   "metadata": {},
   "source": [
    "Средний чек в группе А становится равномерным с середины теста. В группе В график выглядит очень неравномерно: наблюдается большой резкий скачок в середине теста, а затем плавное падение. Возможно, в группу B в середине теста попали крупные заказы (резкий всплеск на графике). Тогда ей нужно больше данных, чтобы прийти к реальному среднему чеку и установиться на его уровне. "
   ]
  },
  {
   "cell_type": "markdown",
   "id": "136d4203",
   "metadata": {},
   "source": [
    "### Построим график относительного изменения кумулятивного среднего чека группы B к группе A:"
   ]
  },
  {
   "cell_type": "code",
   "execution_count": 46,
   "id": "5753491a",
   "metadata": {},
   "outputs": [
    {
     "data": {
      "image/png": "[encoded data removed]",
      "text/plain": [
       "<Figure size 640x480 with 1 Axes>"
      ]
     },
     "metadata": {},
     "output_type": "display_data"
    }
   ],
   "source": [
    "# cтроим отношение средних чеков\n",
    "plt.plot(data['date'], (data['revenueCummulativeB']/data['ordersCummulativeB'])/(data['revenueCummulativeA']/data['ordersCummulativeA'])-1)\n",
    "\n",
    "# добавляем ось X\n",
    "plt.axhline(y=0, color='black', linestyle='--')\n",
    "\n",
    "plt.title('Относительное изменение среднего чека группы B к группе A')\n",
    "plt.xticks(rotation=90)\n",
    "plt.tight_layout()"
   ]
  },
  {
   "cell_type": "markdown",
   "id": "35d7b85f",
   "metadata": {},
   "source": [
    "В нескольких точках график различия между сегментами резко «скачет». Можно сделать вывод, что в данных явно присутствуют крупные заказы и выбросы. Найдём их позже."
   ]
  },
  {
   "cell_type": "markdown",
   "id": "4a92b51a",
   "metadata": {},
   "source": [
    "### Построим график кумулятивного среднего количества заказов на посетителя по группам:"
   ]
  },
  {
   "cell_type": "code",
   "execution_count": 47,
   "id": "16363f6a",
   "metadata": {},
   "outputs": [
    {
     "data": {
      "image/png": "[encoded data removed]",
      "text/plain": [
       "<Figure size 640x480 with 1 Axes>"
      ]
     },
     "metadata": {},
     "output_type": "display_data"
    }
   ],
   "source": [
    "data['conversionA'] = data['ordersCummulativeA'] / data['visitorsCummulativeA']\n",
    "data['conversionB'] = data['ordersCummulativeB'] / data['visitorsCummulativeB']\n",
    "\n",
    "# Строим график среднего количества заказов для группы А\n",
    "plt.plot(data['date'], data['conversionA'], label='A')\n",
    "\n",
    "# Строим график среднего количества заказов для группы А\n",
    "plt.plot(data['date'], data['conversionB'], label='B')\n",
    "\n",
    "plt.title('Кумулятивное среднее количество заказов на посетителя по группам')\n",
    "plt.legend()\n",
    "plt.xticks(rotation=90)\n",
    "plt.tight_layout()"
   ]
  },
  {
   "cell_type": "markdown",
   "id": "87d86c43",
   "metadata": {},
   "source": [
    "В начале теста мы видим резкий скачок по среднему количеству заказов в каждой из групп.  \n",
    "После в группе B налюдается резкий рост показателя и скачкообразное колебание около средних значений, а в группе А резкое падение и нахождение около минимальных значений. "
   ]
  },
  {
   "cell_type": "markdown",
   "id": "1d7334ff",
   "metadata": {},
   "source": [
    "### Построим график относительного изменения кумулятивного среднего количества заказов на посетителя группы B к группе A:"
   ]
  },
  {
   "cell_type": "code",
   "execution_count": 48,
   "id": "5e345476",
   "metadata": {},
   "outputs": [
    {
     "data": {
      "image/png": "[encoded data removed]",
      "text/plain": [
       "<Figure size 640x480 with 1 Axes>"
      ]
     },
     "metadata": {},
     "output_type": "display_data"
    }
   ],
   "source": [
    "plt.plot(data['date'], data['conversionB']/data['conversionA']-1)\n",
    "\n",
    "plt.title('Относительное изменение среднего количества заказов на посетителя группы B к группе A')\n",
    "plt.axhline(y=0, color='black', linestyle='--')\n",
    "plt.axhline(y=-0.1, color='grey', linestyle='--')\n",
    "plt.xticks(rotation=90)\n",
    "plt.tight_layout()"
   ]
  },
  {
   "cell_type": "markdown",
   "id": "47bc43ab",
   "metadata": {},
   "source": [
    "В начале теста группа B резко вырвалась вперёд, затем также резко упала почти до минимальных значений. После снова наблюдался резкий значительный рост по среднему количеству заказов и стабильное лидерство по отношению в группе А.  \n",
    "\n",
    "Однако, сейчас делать какие-либо выводы по тесту нельзя, так как стоит проанализировать аномалии. Возможно, они изменят картину."
   ]
  },
  {
   "cell_type": "markdown",
   "id": "324ae44b",
   "metadata": {},
   "source": [
    "### Построим точечный график количества заказов по пользователям:"
   ]
  },
  {
   "cell_type": "code",
   "execution_count": 49,
   "id": "cf7de867",
   "metadata": {
    "scrolled": true
   },
   "outputs": [
    {
     "data": {
      "text/html": [
       "<div>\n",
       "<style scoped>\n",
       "    .dataframe tbody tr th:only-of-type {\n",
       "        vertical-align: middle;\n",
       "    }\n",
       "\n",
       "    .dataframe tbody tr th {\n",
       "        vertical-align: top;\n",
       "    }\n",
       "\n",
       "    .dataframe thead th {\n",
       "        text-align: right;\n",
       "    }\n",
       "</style>\n",
       "<table border=\"1\" class=\"dataframe\">\n",
       "  <thead>\n",
       "    <tr style=\"text-align: right;\">\n",
       "      <th></th>\n",
       "      <th>user_id</th>\n",
       "      <th>orders</th>\n",
       "    </tr>\n",
       "  </thead>\n",
       "  <tbody>\n",
       "    <tr>\n",
       "      <th>1023</th>\n",
       "      <td>4256040402</td>\n",
       "      <td>11</td>\n",
       "    </tr>\n",
       "    <tr>\n",
       "      <th>591</th>\n",
       "      <td>2458001652</td>\n",
       "      <td>11</td>\n",
       "    </tr>\n",
       "    <tr>\n",
       "      <th>569</th>\n",
       "      <td>2378935119</td>\n",
       "      <td>9</td>\n",
       "    </tr>\n",
       "    <tr>\n",
       "      <th>487</th>\n",
       "      <td>2038680547</td>\n",
       "      <td>8</td>\n",
       "    </tr>\n",
       "    <tr>\n",
       "      <th>44</th>\n",
       "      <td>199603092</td>\n",
       "      <td>5</td>\n",
       "    </tr>\n",
       "    <tr>\n",
       "      <th>744</th>\n",
       "      <td>3062433592</td>\n",
       "      <td>5</td>\n",
       "    </tr>\n",
       "    <tr>\n",
       "      <th>55</th>\n",
       "      <td>237748145</td>\n",
       "      <td>5</td>\n",
       "    </tr>\n",
       "    <tr>\n",
       "      <th>917</th>\n",
       "      <td>3803269165</td>\n",
       "      <td>5</td>\n",
       "    </tr>\n",
       "    <tr>\n",
       "      <th>299</th>\n",
       "      <td>1230306981</td>\n",
       "      <td>5</td>\n",
       "    </tr>\n",
       "    <tr>\n",
       "      <th>897</th>\n",
       "      <td>3717692402</td>\n",
       "      <td>5</td>\n",
       "    </tr>\n",
       "  </tbody>\n",
       "</table>\n",
       "</div>"
      ],
      "text/plain": [
       "         user_id  orders\n",
       "1023  4256040402      11\n",
       "591   2458001652      11\n",
       "569   2378935119       9\n",
       "487   2038680547       8\n",
       "44     199603092       5\n",
       "744   3062433592       5\n",
       "55     237748145       5\n",
       "917   3803269165       5\n",
       "299   1230306981       5\n",
       "897   3717692402       5"
      ]
     },
     "execution_count": 49,
     "metadata": {},
     "output_type": "execute_result"
    }
   ],
   "source": [
    "# считаем количество заказов по пользователям:\n",
    "orders_by_users = (\n",
    "    orders.groupby('visitor_id', as_index=False)\n",
    "    .agg({'transaction_id': 'nunique'})\n",
    "                )\n",
    "\n",
    "orders_by_users.columns = ['user_id', 'orders']\n",
    "orders_by_users.sort_values(by='orders', ascending=False).head(10)"
   ]
  },
  {
   "cell_type": "code",
   "execution_count": 50,
   "id": "c25f70b6",
   "metadata": {},
   "outputs": [
    {
     "data": {
      "image/png": "[encoded data removed]",
      "text/plain": [
       "<Figure size 640x480 with 1 Axes>"
      ]
     },
     "metadata": {},
     "output_type": "display_data"
    }
   ],
   "source": [
    "# Строим точечный график числа заказов на одного пользователя:\n",
    "x_values = pd.Series(range(0,len(orders_by_users)))\n",
    "plt.scatter(x_values, orders_by_users['orders'])\n",
    "plt.title('Количество заказов по пользователям')\n",
    "plt.tight_layout()"
   ]
  },
  {
   "cell_type": "markdown",
   "id": "68ef20f3",
   "metadata": {},
   "source": [
    "Есть пользователи, которые совершали 5, 8, 9 и 11 заказов. Это значительно больше, чем заказывает обычный пользователь за месяц. \n",
    "Большинство покупателей заказывали только один раз. Однако доля пользователей с 2-4 заказами тоже значительна."
   ]
  },
  {
   "cell_type": "markdown",
   "id": "fcd1413a",
   "metadata": {},
   "source": [
    "### Посчитаем выборочные перцентили количества заказов на одного пользователя (95-й и 99-й):"
   ]
  },
  {
   "cell_type": "code",
   "execution_count": 51,
   "id": "1f0d507a",
   "metadata": {},
   "outputs": [
    {
     "data": {
      "text/plain": [
       "array([2., 4.])"
      ]
     },
     "execution_count": 51,
     "metadata": {},
     "output_type": "execute_result"
    }
   ],
   "source": [
    "np.percentile(orders_by_users['orders'], [95, 99])"
   ]
  },
  {
   "cell_type": "markdown",
   "id": "d9b13f71",
   "metadata": {},
   "source": [
    "Не более 5% пользователей оформляли более двух заказов. И всего 1% пользователей заказывали более четырёх раз.   \n",
    "Разумно будет выбрать **2 заказа** на одного пользователя за верхнюю границу числа заказов, и отсеять аномальных пользователей по ней."
   ]
  },
  {
   "cell_type": "markdown",
   "id": "9b7e9536",
   "metadata": {},
   "source": [
    "### Построим точечный график стоимостей заказов:"
   ]
  },
  {
   "cell_type": "code",
   "execution_count": 52,
   "id": "d86623d6",
   "metadata": {},
   "outputs": [
    {
     "data": {
      "image/png": "[encoded data removed]",
      "text/plain": [
       "<Figure size 640x480 with 1 Axes>"
      ]
     },
     "metadata": {},
     "output_type": "display_data"
    }
   ],
   "source": [
    "x_values = pd.Series(range(0,len(orders['revenue'])))\n",
    "plt.scatter(x_values, orders['revenue'])\n",
    "plt.title('Распределение стоимости заказов')\n",
    "plt.tight_layout()"
   ]
  },
  {
   "cell_type": "markdown",
   "id": "b5979585",
   "metadata": {},
   "source": [
    "По графику видно, что стоимость заказов по большей части однородная, дорогих заказов всего несколько."
   ]
  },
  {
   "cell_type": "markdown",
   "id": "085e6f65",
   "metadata": {},
   "source": [
    "### Посчитаем выборочные перцентили стоимости заказов (95-й и 99-й):"
   ]
  },
  {
   "cell_type": "code",
   "execution_count": 53,
   "id": "e4b99616",
   "metadata": {},
   "outputs": [
    {
     "data": {
      "text/plain": [
       "array([28000. , 58233.2])"
      ]
     },
     "execution_count": 53,
     "metadata": {},
     "output_type": "execute_result"
    }
   ],
   "source": [
    "np.percentile(orders['revenue'], [95, 99])"
   ]
  },
  {
   "cell_type": "markdown",
   "id": "dfd17bf0",
   "metadata": {},
   "source": [
    "Не более 5% заказов дороже 28 000 рублей и не более 1% дороже 58 233.2 рублей.  \n",
    "Выберем стоимость **28 000** рублей за верхнюю границу стоимости заказов, и отсеим аномальных пользователей по ней."
   ]
  },
  {
   "cell_type": "markdown",
   "id": "43b350f2",
   "metadata": {},
   "source": [
    "### Посчитаем статистическую значимость различий в среднем количестве заказов на посетителя между группами по «сырым» данным (с аномалиями)\n",
    "\n",
    "Сформулируем гипотезы:  \n",
    "**Нулевая:** различий в среднем количестве заказов между группами нет.  \n",
    "**Альтернативная:** различия в среднем количестве заказов между группами есть."
   ]
  },
  {
   "cell_type": "markdown",
   "id": "733f1872",
   "metadata": {},
   "source": [
    "#### Создадим переменные *orders_by_usersA* и *orders_by_usersB*  \n",
    "В них для пользователей, которые заказывали хотя бы 1 раз, укажем число совершённых заказов:"
   ]
  },
  {
   "cell_type": "code",
   "execution_count": 54,
   "id": "da808f3d",
   "metadata": {},
   "outputs": [
    {
     "data": {
      "text/html": [
       "<div>\n",
       "<style scoped>\n",
       "    .dataframe tbody tr th:only-of-type {\n",
       "        vertical-align: middle;\n",
       "    }\n",
       "\n",
       "    .dataframe tbody tr th {\n",
       "        vertical-align: top;\n",
       "    }\n",
       "\n",
       "    .dataframe thead th {\n",
       "        text-align: right;\n",
       "    }\n",
       "</style>\n",
       "<table border=\"1\" class=\"dataframe\">\n",
       "  <thead>\n",
       "    <tr style=\"text-align: right;\">\n",
       "      <th></th>\n",
       "      <th>user_id</th>\n",
       "      <th>orders</th>\n",
       "    </tr>\n",
       "  </thead>\n",
       "  <tbody>\n",
       "    <tr>\n",
       "      <th>0</th>\n",
       "      <td>8300375</td>\n",
       "      <td>1</td>\n",
       "    </tr>\n",
       "    <tr>\n",
       "      <th>1</th>\n",
       "      <td>11685486</td>\n",
       "      <td>1</td>\n",
       "    </tr>\n",
       "    <tr>\n",
       "      <th>2</th>\n",
       "      <td>54447517</td>\n",
       "      <td>1</td>\n",
       "    </tr>\n",
       "    <tr>\n",
       "      <th>3</th>\n",
       "      <td>66685450</td>\n",
       "      <td>1</td>\n",
       "    </tr>\n",
       "    <tr>\n",
       "      <th>4</th>\n",
       "      <td>78758296</td>\n",
       "      <td>1</td>\n",
       "    </tr>\n",
       "  </tbody>\n",
       "</table>\n",
       "</div>"
      ],
      "text/plain": [
       "    user_id  orders\n",
       "0   8300375       1\n",
       "1  11685486       1\n",
       "2  54447517       1\n",
       "3  66685450       1\n",
       "4  78758296       1"
      ]
     },
     "execution_count": 54,
     "metadata": {},
     "output_type": "execute_result"
    }
   ],
   "source": [
    "# количество заказов по пользователям, группа А\n",
    "orders_by_usersA = (\n",
    "    orders[orders['group'] == 'A']\n",
    "    .groupby('visitor_id', as_index=False)\n",
    "    .agg({'transaction_id': pd.Series.nunique})\n",
    ")\n",
    "orders_by_usersA.columns = ['user_id', 'orders']\n",
    "orders_by_usersA.head()"
   ]
  },
  {
   "cell_type": "code",
   "execution_count": 55,
   "id": "efc7409b",
   "metadata": {},
   "outputs": [
    {
     "data": {
      "text/html": [
       "<div>\n",
       "<style scoped>\n",
       "    .dataframe tbody tr th:only-of-type {\n",
       "        vertical-align: middle;\n",
       "    }\n",
       "\n",
       "    .dataframe tbody tr th {\n",
       "        vertical-align: top;\n",
       "    }\n",
       "\n",
       "    .dataframe thead th {\n",
       "        text-align: right;\n",
       "    }\n",
       "</style>\n",
       "<table border=\"1\" class=\"dataframe\">\n",
       "  <thead>\n",
       "    <tr style=\"text-align: right;\">\n",
       "      <th></th>\n",
       "      <th>user_id</th>\n",
       "      <th>orders</th>\n",
       "    </tr>\n",
       "  </thead>\n",
       "  <tbody>\n",
       "    <tr>\n",
       "      <th>0</th>\n",
       "      <td>8300375</td>\n",
       "      <td>1</td>\n",
       "    </tr>\n",
       "    <tr>\n",
       "      <th>1</th>\n",
       "      <td>11685486</td>\n",
       "      <td>1</td>\n",
       "    </tr>\n",
       "    <tr>\n",
       "      <th>2</th>\n",
       "      <td>54447517</td>\n",
       "      <td>1</td>\n",
       "    </tr>\n",
       "    <tr>\n",
       "      <th>3</th>\n",
       "      <td>66685450</td>\n",
       "      <td>1</td>\n",
       "    </tr>\n",
       "    <tr>\n",
       "      <th>4</th>\n",
       "      <td>78758296</td>\n",
       "      <td>1</td>\n",
       "    </tr>\n",
       "  </tbody>\n",
       "</table>\n",
       "</div>"
      ],
      "text/plain": [
       "    user_id  orders\n",
       "0   8300375       1\n",
       "1  11685486       1\n",
       "2  54447517       1\n",
       "3  66685450       1\n",
       "4  78758296       1"
      ]
     },
     "execution_count": 55,
     "metadata": {},
     "output_type": "execute_result"
    }
   ],
   "source": [
    "# количество заказов по пользователям, группа В\n",
    "orders_by_usersB = (\n",
    "    orders[orders['group'] == 'B']\n",
    "    .groupby('visitor_id', as_index=False)\n",
    "    .agg({'transaction_id': pd.Series.nunique})\n",
    ")\n",
    "orders_by_usersB.columns = ['user_id', 'orders']\n",
    "orders_by_usersA.head()"
   ]
  },
  {
   "cell_type": "markdown",
   "id": "9dec605f",
   "metadata": {},
   "source": [
    "### Проверим тестируемые данные на нормальность распределения  \n",
    "Проверку проведем для данных о заказах и выручке, используя метод *stats.shapiro()*.  \n",
    "\n",
    "Сформулируем гипотезы для проверки распределения в данных о заказах:  \n",
    "**Нулевая:** данные о заказах имеют нормальное распределение.  \n",
    "**Альтернативная:** данные о заказах распределены не нормально.  "
   ]
  },
  {
   "cell_type": "code",
   "execution_count": 56,
   "id": "b38b27a6",
   "metadata": {},
   "outputs": [
    {
     "name": "stdout",
     "output_type": "stream",
     "text": [
      "p-значение:  1.7246588514241297e-35\n",
      "Отвергаем нулевую гипотезу: распределение не нормально\n"
     ]
    }
   ],
   "source": [
    "alpha = 0.05  # критический уровень статистической значимости\n",
    "\n",
    "# проверка распределения в группе А\n",
    "results = stats.shapiro(orders_by_usersA)\n",
    "\n",
    "print('p-значение: ', results[1]) # второе значение в массиве результатов (с индексом 1) - p-value\n",
    "\n",
    "if results[1] < alpha:\n",
    "    print('Отвергаем нулевую гипотезу: распределение не нормально')\n",
    "else:\n",
    "    print('Не получилось отвергнуть нулевую гипотезу, всё нормально')"
   ]
  },
  {
   "cell_type": "code",
   "execution_count": 57,
   "id": "43c381e4",
   "metadata": {
    "scrolled": true
   },
   "outputs": [
    {
     "name": "stdout",
     "output_type": "stream",
     "text": [
      "p-значение:  4.3515266703461565e-38\n",
      "Отвергаем нулевую гипотезу: распределение не нормально\n"
     ]
    }
   ],
   "source": [
    "# проверка распределения в группе В\n",
    "results = stats.shapiro(orders_by_usersB)\n",
    "\n",
    "print('p-значение: ', results[1])\n",
    "\n",
    "if results[1] < alpha:\n",
    "    print('Отвергаем нулевую гипотезу: распределение не нормально')\n",
    "else:\n",
    "    print('Не получилось отвергнуть нулевую гипотезу, всё нормально')"
   ]
  },
  {
   "cell_type": "markdown",
   "id": "4c71e2be",
   "metadata": {},
   "source": [
    "Сформулируем гипотезы для проверки распределения в данных о выручке:    \n",
    "**Нулевая:** данные о выручке имеют нормальное распределение.  \n",
    "**Альтернативная:** данные о выручке распределены не нормально."
   ]
  },
  {
   "cell_type": "code",
   "execution_count": 58,
   "id": "7f4acf33",
   "metadata": {},
   "outputs": [
    {
     "name": "stdout",
     "output_type": "stream",
     "text": [
      "p-значение:  1.739703399801917e-34\n",
      "Отвергаем нулевую гипотезу: распределение не нормально\n"
     ]
    }
   ],
   "source": [
    "# проверка на нормальность распределения для данных о выручке, группа А\n",
    "results = stats.shapiro(orders[orders['group']=='A']['revenue'])\n",
    "\n",
    "print('p-значение: ', results[1])\n",
    "if results[1] < alpha:\n",
    "    print('Отвергаем нулевую гипотезу: распределение не нормально')\n",
    "else:\n",
    "    print('Не получилось отвергнуть нулевую гипотезу, всё нормально')"
   ]
  },
  {
   "cell_type": "code",
   "execution_count": 59,
   "id": "8d1548ad",
   "metadata": {},
   "outputs": [
    {
     "name": "stdout",
     "output_type": "stream",
     "text": [
      "p-значение:  0.0\n",
      "Отвергаем нулевую гипотезу: распределение не нормально\n"
     ]
    }
   ],
   "source": [
    "# проверка на нормальность распределения для данных о выручке, группа B\n",
    "results = stats.shapiro(orders[orders['group']=='B']['revenue'])\n",
    "\n",
    "print('p-значение: ', results[1])\n",
    "\n",
    "if results[1] < alpha:\n",
    "    print('Отвергаем нулевую гипотезу: распределение не нормально')\n",
    "else:\n",
    "    print('Не получилось отвергнуть нулевую гипотезу, всё нормально')"
   ]
  },
  {
   "cell_type": "markdown",
   "id": "2ca328d1",
   "metadata": {},
   "source": [
    "По результатам четырех тестов распределение не является нормальным ни в одной из тестируемых групп.  \n",
    "Это означает, что в данных есть большие (по сравнению с нормальным распределением) выбросы. В таком случае, для дальнейшего расчёта статистической значимости прибегнем к непараметрическому тесту Уилкоксона-Манна-Уитни."
   ]
  },
  {
   "cell_type": "markdown",
   "id": "5ab78c46",
   "metadata": {},
   "source": [
    "#### Объявим переменные *sampleA* и *sampleB*  \n",
    "Переменные будут состоять из двух частей:\n",
    "- Список с количеством заказов для каждого из пользователей  \n",
    "- Нули для пользователей, которые ничего не заказывали. Их количество равно разнице между суммой посетителей и количеством записей о заказах. Это нужно, чтобы подготовить выборки к проверке критерием Манна-Уитни.  "
   ]
  },
  {
   "cell_type": "code",
   "execution_count": 60,
   "id": "6ac0bf7f",
   "metadata": {},
   "outputs": [
    {
     "data": {
      "text/plain": [
       "0    18233\n",
       "1      473\n",
       "2       17\n",
       "3        7\n",
       "4        3\n",
       "5        2\n",
       "7        1\n",
       "Name: orders, dtype: int64"
      ]
     },
     "execution_count": 60,
     "metadata": {},
     "output_type": "execute_result"
    }
   ],
   "source": [
    "# количество заказов, группа А\n",
    "sampleA = pd.concat(\n",
    "    [orders_by_usersA['orders'],\n",
    "     pd.Series(0, index=np.arange(\n",
    "         data['visitorsPerDateA'].sum() - len(orders_by_usersA['orders'])), name='orders')],axis=0)\n",
    "\n",
    "sampleA.value_counts()"
   ]
  },
  {
   "cell_type": "code",
   "execution_count": 61,
   "id": "9f8d8f77",
   "metadata": {},
   "outputs": [
    {
     "data": {
      "text/plain": [
       "0    18330\n",
       "1      552\n",
       "2       23\n",
       "3        5\n",
       "4        4\n",
       "5        1\n",
       "6        1\n",
       "Name: orders, dtype: int64"
      ]
     },
     "execution_count": 61,
     "metadata": {},
     "output_type": "execute_result"
    }
   ],
   "source": [
    "# количество заказов, группа В\n",
    "sampleB = pd.concat(\n",
    "    [orders_by_usersB['orders'],\n",
    "     pd.Series(0, index=np.arange(\n",
    "         data['visitorsPerDateB'].sum() - len(orders_by_usersB['orders'])), name='orders')],axis=0)\n",
    "\n",
    "sampleB.value_counts()"
   ]
  },
  {
   "cell_type": "markdown",
   "id": "c32f7dbe",
   "metadata": {},
   "source": [
    "#### Посчитаем p-value и выведем относительный прирост среднего числа заказов группы B\n",
    "Для этого среднее число заказов группы B разделим на среднее число заказов группы A - 1.  \n",
    "Округлим значение до трёх знаков после запятой:"
   ]
  },
  {
   "cell_type": "code",
   "execution_count": 62,
   "id": "f00baad0",
   "metadata": {},
   "outputs": [
    {
     "name": "stdout",
     "output_type": "stream",
     "text": [
      "P-value: 0.017\n",
      "Относительный прирост среднего числа заказов группы B: 0.138\n"
     ]
    }
   ],
   "source": [
    "print('P-value: '\n",
    "      \"{0:.3f}\".format(stats.mannwhitneyu(sampleA, sampleB, alternative='two-sided')[1]))\n",
    "\n",
    "print('Относительный прирост среднего числа заказов группы B: '\n",
    "      \"{0:.3f}\".format(sampleB.mean() / sampleA.mean() - 1))\n"
   ]
  },
  {
   "cell_type": "markdown",
   "id": "a33214ea",
   "metadata": {},
   "source": [
    "По «сырым» данным различия в среднем числе заказов групп A и B есть.   \n",
    "Первое число — p-value = 0.017 меньше 0.05. Значит, нулевую гипотезу о том, что статистически значимых различий в среднем числе заказов между группами нет, отвергаем. Относительный прирост группы B равен 13.8%.  "
   ]
  },
  {
   "cell_type": "markdown",
   "id": "62d0dd21",
   "metadata": {},
   "source": [
    "### Проверим статистическую значимость различий в среднем чеке  по «сырым» данным (с аномалиями)  \n",
    "\n",
    "Сформулируем гипотезы:  \n",
    "**Нулевая:** различий в среднем чеке между группами нет.   \n",
    "**Альтернативная:** различия в среднем чеке между группами есть.  \n",
    "\n",
    "\n",
    "Чтобы рассчитать статистическую значимость различий в среднем чеке, передадим критерию *mannwhitneyu()* данные о выручке с заказов.  \n",
    "Также найдём относительные различия в среднем чеке между группами: "
   ]
  },
  {
   "cell_type": "code",
   "execution_count": 63,
   "id": "2e33e7d5",
   "metadata": {
    "scrolled": true
   },
   "outputs": [
    {
     "name": "stdout",
     "output_type": "stream",
     "text": [
      "P-value: 0.729\n",
      "Относительные различия в среднем чеке между группами: 0.259\n"
     ]
    }
   ],
   "source": [
    "print('P-value: ''{0:.3f}'.format(\n",
    "       stats.mannwhitneyu(orders[orders['group']=='A']['revenue'], \n",
    "                          orders[orders['group']=='B']['revenue'], \n",
    "                          alternative='two-sided')[1]))\n",
    "\n",
    "print('Относительные различия в среднем чеке между группами: ''{0:.3f}'.format(\n",
    "       orders[orders['group']=='B']['revenue'].mean()\n",
    "       /orders[orders['group']=='A']['revenue'].mean()-1))"
   ]
  },
  {
   "cell_type": "markdown",
   "id": "6f5bf230",
   "metadata": {},
   "source": [
    "P-value значительно больше 0.05. Несмотря на большой показатель различия между группами (25.9%), причин отвергать нулевую гипотезу и считать, что в среднем чеке есть различия, нет."
   ]
  },
  {
   "cell_type": "markdown",
   "id": "d797cbbf",
   "metadata": {},
   "source": [
    "### Изучим аномальные значения\n",
    "Сделаем срезы пользователей с числом заказов больше 2  и сохраним в переменную *users_with_many_orders* и пользователей, совершивших заказы дороже 28 000 — *users_with_expensive_orders*. Объединим их в таблице *abnormal_users:*"
   ]
  },
  {
   "cell_type": "code",
   "execution_count": 64,
   "id": "0f79c0db",
   "metadata": {},
   "outputs": [
    {
     "data": {
      "text/plain": [
       "568     113298937\n",
       "1099    148427295\n",
       "461     154576532\n",
       "928     204675465\n",
       "684     358944393\n",
       "dtype: int64"
      ]
     },
     "execution_count": 64,
     "metadata": {},
     "output_type": "execute_result"
    }
   ],
   "source": [
    "users_with_many_orders = pd.concat(\n",
    "    [\n",
    "        orders_by_usersA[orders_by_usersA['orders'] > 4]['user_id'],\n",
    "        orders_by_usersB[orders_by_usersB['orders'] > 4]['user_id'],\n",
    "    ],\n",
    "    axis=0,\n",
    ")\n",
    "users_with_expensive_orders = orders[orders['revenue'] > 20000]['visitor_id']\n",
    "abnormal_users = (\n",
    "    pd.concat([users_with_many_orders, users_with_expensive_orders], axis=0)\n",
    "    .drop_duplicates()\n",
    "    .sort_values()\n",
    ")\n",
    "\n",
    "abnormal_users.head(5)"
   ]
  },
  {
   "cell_type": "markdown",
   "id": "c8b60a9e",
   "metadata": {},
   "source": [
    "Узнаем, сколько всего аномальных пользователей атрибутом *shape*:"
   ]
  },
  {
   "cell_type": "code",
   "execution_count": 65,
   "id": "89ee1df8",
   "metadata": {
    "scrolled": true
   },
   "outputs": [
    {
     "name": "stdout",
     "output_type": "stream",
     "text": [
      "Количество аномальных пользователей: 86\n"
     ]
    }
   ],
   "source": [
    "print('Количество аномальных пользователей: {}'\n",
    "      .format(abnormal_users.shape[0]))"
   ]
  },
  {
   "cell_type": "markdown",
   "id": "e6bee6af",
   "metadata": {},
   "source": [
    "Всего выявлено 86 аномальных пользователей. \n",
    "Узнаем, как их действия повлияли на результаты теста. "
   ]
  },
  {
   "cell_type": "markdown",
   "id": "49bf94c4",
   "metadata": {},
   "source": [
    "### Очистим данные от аномальных значений   \n",
    "Подготовим выборки количества заказов по пользователям:"
   ]
  },
  {
   "cell_type": "code",
   "execution_count": 66,
   "id": "d6cd6a34",
   "metadata": {},
   "outputs": [],
   "source": [
    "# очищенные данные, группа А\n",
    "sampleA_filtered = pd.concat(\n",
    "    [\n",
    "        orders_by_usersA[\n",
    "            np.logical_not(orders_by_usersA['user_id'].isin(abnormal_users))\n",
    "        ]['orders'],\n",
    "        pd.Series(\n",
    "            0,\n",
    "            index=np.arange(\n",
    "                data['visitorsPerDateA'].sum() - len(orders_by_usersA['orders'])\n",
    "            ),\n",
    "            name='orders',\n",
    "        ),\n",
    "    ],\n",
    "    axis=0,\n",
    ")"
   ]
  },
  {
   "cell_type": "code",
   "execution_count": 67,
   "id": "11c50a4a",
   "metadata": {},
   "outputs": [],
   "source": [
    "# очищенные данные, группа В\n",
    "sampleB_filtered = pd.concat(\n",
    "    [\n",
    "        orders_by_usersB[\n",
    "            np.logical_not(orders_by_usersB['user_id'].isin(abnormal_users))\n",
    "        ]['orders'],\n",
    "        pd.Series(\n",
    "            0,\n",
    "            index=np.arange(\n",
    "                data['visitorsPerDateB'].sum() - len(orders_by_usersB['orders'])\n",
    "            ),\n",
    "            name='orders',\n",
    "        ),\n",
    "    ],\n",
    "    axis=0,\n",
    ")"
   ]
  },
  {
   "cell_type": "markdown",
   "id": "8a5ca16a",
   "metadata": {},
   "source": [
    "Применим статистический критерий Манна-Уитни к полученным выборкам."
   ]
  },
  {
   "cell_type": "markdown",
   "id": "6265d08b",
   "metadata": {},
   "source": [
    "### Посчитаем статистическую значимость различий в среднем количестве заказов на посетителя между группами по «очищенным» данным  \n",
    "\n",
    "Сформулируем гипотезы:  \n",
    "**Нулевая:** различий в среднем количестве заказов между группами нет.  \n",
    "**Альтернативная:** различия в среднем количестве заказов между группами есть."
   ]
  },
  {
   "cell_type": "code",
   "execution_count": 68,
   "id": "f55b2ca4",
   "metadata": {},
   "outputs": [
    {
     "name": "stdout",
     "output_type": "stream",
     "text": [
      "P-value: 0.023\n",
      "Относительный прирост среднего числа заказов группы B: 0.149\n"
     ]
    }
   ],
   "source": [
    "print('P-value: '\n",
    "      '{0:.3f}'.format(stats.mannwhitneyu(sampleA_filtered, \n",
    "                                          sampleB_filtered,\n",
    "                                          alternative='two-sided')[1]))\n",
    "\n",
    "print('Относительный прирост среднего числа заказов группы B: '\n",
    "      '{0:.3f}'.format(sampleB_filtered.mean()/sampleA_filtered.mean()-1))"
   ]
  },
  {
   "cell_type": "markdown",
   "id": "8abc467c",
   "metadata": {},
   "source": [
    "P-value незначительно увеличился (+0.006), как и разница между группами - с 13.8% до 14.9%.   \n",
    "Гипотеза о том, что статистически значимых различий в среднем числе заказов между группами нет, снова отвергнута.  \n",
    "Проверим, произошло ли что-нибудь с результатами по среднему чеку."
   ]
  },
  {
   "cell_type": "markdown",
   "id": "e6ec76df",
   "metadata": {},
   "source": [
    "### Посчитаем статистическую значимость различий в среднем чеке заказа между группами по «очищенным» данным  \n",
    "Сформулируем гипотезы:  \n",
    "**Нулевая:** различий в среднем чеке между группами нет.   \n",
    "**Альтернативная:** различия в среднем чеке между группами есть.  "
   ]
  },
  {
   "cell_type": "code",
   "execution_count": 69,
   "id": "897b939d",
   "metadata": {},
   "outputs": [
    {
     "name": "stdout",
     "output_type": "stream",
     "text": [
      "P-value: 0.866\n",
      "Относительные различия в среднем чеке между группами: -0.002\n"
     ]
    }
   ],
   "source": [
    "print('P-value: ''{0:.3f}'.format(\n",
    "       stats.mannwhitneyu(\n",
    "           orders[\n",
    "                np.logical_and(\n",
    "                    orders['group'] == 'A',\n",
    "                    np.logical_not(orders['visitor_id'].isin(abnormal_users)),\n",
    "                )\n",
    "                ]['revenue'],\n",
    "           orders[\n",
    "                np.logical_and(\n",
    "                    orders['group'] == 'B',\n",
    "                    np.logical_not(orders['visitor_id'].isin(abnormal_users)),\n",
    "                )\n",
    "                ]['revenue'],\n",
    "           alternative='two-sided'\n",
    "       )[1]\n",
    "    )\n",
    ")\n",
    "\n",
    "print('Относительные различия в среднем чеке между группами: '\"{0:.3f}\".format(\n",
    "       orders[\n",
    "            np.logical_and(\n",
    "                orders['group'] == 'B',\n",
    "                np.logical_not(orders['visitor_id'].isin(abnormal_users)),\n",
    "            )\n",
    "        ]['revenue'].mean()\n",
    "        / orders[\n",
    "            np.logical_and(\n",
    "                orders['group'] == 'A',\n",
    "                np.logical_not(orders['visitor_id'].isin(abnormal_users)),\n",
    "            )\n",
    "        ]['revenue'].mean()\n",
    "        - 1\n",
    "    )\n",
    ")"
   ]
  },
  {
   "cell_type": "markdown",
   "id": "87b58a2d",
   "metadata": {},
   "source": [
    "P-value увеличился на 0.137, относительные различия в среднем чеке между группами значительно сократились: с 25.9% до 0.2%.   \n",
    "Нулевая гипотеза об отсутствии различий в среднем чеке между группами, снова не отвергута.  "
   ]
  },
  {
   "cell_type": "markdown",
   "id": "8936585a",
   "metadata": {},
   "source": [
    "**Выводы по тесту:**  \n",
    "- Есть статистически значимое различие по среднему количеству заказов между группами как по «сырым», так и по данным после фильтрации аномалий  \n",
    "- Нет статистически значимого различия по среднему чеку между группами ни по «сырым», ни по данным после фильтрации аномалий  \n",
    "- График различия среднего количества заказов между группами сообщает, что результаты группы B стабильно лучше группы A    \n",
    "- График различия среднего чека говорит о том, что результаты группы B начиная с середины теста стабильно лучше группы А и сейчас разница составляет 15%  \n",
    "\n",
    "Исходя из обнаруженных фактов, тест следует остановить и зафиксировать победу группы В. Продолжать смысла нет, потому как вероятность, что при имеющихся данных сегмент B в чем-то хуже сегмента A — практически нулевая."
   ]
  },
  {
   "cell_type": "code",
   "execution_count": null,
   "id": "8e74f97a",
   "metadata": {},
   "outputs": [],
   "source": []
  }
 ],
 "metadata": {
  "ExecuteTimeLog": [
   {
    "duration": 1837,
    "start_time": "2023-06-01T06:57:21.987Z"
   },
   {
    "duration": 11,
    "start_time": "2023-06-01T06:57:23.826Z"
   },
   {
    "duration": 24,
    "start_time": "2023-06-01T06:57:23.839Z"
   },
   {
    "duration": 21,
    "start_time": "2023-06-01T06:57:23.865Z"
   },
   {
    "duration": 18,
    "start_time": "2023-06-01T06:57:23.887Z"
   },
   {
    "duration": 19,
    "start_time": "2023-06-01T06:57:23.907Z"
   },
   {
    "duration": 13,
    "start_time": "2023-06-01T06:57:23.928Z"
   },
   {
    "duration": 21,
    "start_time": "2023-06-01T06:57:23.943Z"
   },
   {
    "duration": 5,
    "start_time": "2023-06-01T06:57:23.966Z"
   },
   {
    "duration": 6,
    "start_time": "2023-06-01T06:57:23.975Z"
   },
   {
    "duration": 12,
    "start_time": "2023-06-01T06:57:23.983Z"
   },
   {
    "duration": 12,
    "start_time": "2023-06-01T06:57:23.996Z"
   },
   {
    "duration": 17,
    "start_time": "2023-06-01T06:57:24.010Z"
   },
   {
    "duration": 18,
    "start_time": "2023-06-01T06:57:24.029Z"
   },
   {
    "duration": 28,
    "start_time": "2023-06-01T06:57:24.049Z"
   },
   {
    "duration": 17,
    "start_time": "2023-06-01T06:57:24.081Z"
   },
   {
    "duration": 29,
    "start_time": "2023-06-01T06:57:24.100Z"
   },
   {
    "duration": 26,
    "start_time": "2023-06-01T06:57:24.131Z"
   },
   {
    "duration": 36,
    "start_time": "2023-06-01T06:57:24.158Z"
   },
   {
    "duration": 20,
    "start_time": "2023-06-01T06:57:24.196Z"
   },
   {
    "duration": 73,
    "start_time": "2023-06-01T06:57:24.218Z"
   },
   {
    "duration": 68,
    "start_time": "2023-06-01T06:57:24.292Z"
   },
   {
    "duration": 29,
    "start_time": "2023-06-01T06:57:24.363Z"
   },
   {
    "duration": 25,
    "start_time": "2023-06-01T06:57:24.394Z"
   },
   {
    "duration": 87,
    "start_time": "2023-06-01T06:57:24.424Z"
   },
   {
    "duration": 70,
    "start_time": "2023-06-01T06:57:24.513Z"
   },
   {
    "duration": 32,
    "start_time": "2023-06-01T06:57:24.585Z"
   },
   {
    "duration": 461,
    "start_time": "2023-06-01T06:57:24.621Z"
   },
   {
    "duration": 342,
    "start_time": "2023-06-01T06:57:25.084Z"
   },
   {
    "duration": 431,
    "start_time": "2023-06-01T06:57:25.428Z"
   },
   {
    "duration": 353,
    "start_time": "2023-06-01T06:57:25.861Z"
   },
   {
    "duration": 438,
    "start_time": "2023-06-01T06:57:26.216Z"
   },
   {
    "duration": 23,
    "start_time": "2023-06-01T06:57:26.656Z"
   },
   {
    "duration": 227,
    "start_time": "2023-06-01T06:57:26.680Z"
   },
   {
    "duration": 6,
    "start_time": "2023-06-01T06:57:26.909Z"
   },
   {
    "duration": 290,
    "start_time": "2023-06-01T06:57:26.917Z"
   },
   {
    "duration": 6,
    "start_time": "2023-06-01T06:57:27.209Z"
   },
   {
    "duration": 100,
    "start_time": "2023-06-01T06:57:27.217Z"
   },
   {
    "duration": 93,
    "start_time": "2023-06-01T06:57:27.319Z"
   },
   {
    "duration": 9,
    "start_time": "2023-06-01T06:57:27.414Z"
   },
   {
    "duration": 8,
    "start_time": "2023-06-01T06:57:27.424Z"
   },
   {
    "duration": 33,
    "start_time": "2023-06-01T06:57:27.459Z"
   },
   {
    "duration": 11,
    "start_time": "2023-06-01T06:57:27.494Z"
   },
   {
    "duration": 122,
    "start_time": "2023-06-01T06:57:27.506Z"
   },
   {
    "duration": 0,
    "start_time": "2023-06-01T06:57:27.630Z"
   },
   {
    "duration": 0,
    "start_time": "2023-06-01T06:57:27.632Z"
   },
   {
    "duration": 0,
    "start_time": "2023-06-01T06:57:27.633Z"
   },
   {
    "duration": 0,
    "start_time": "2023-06-01T06:57:27.635Z"
   },
   {
    "duration": 1,
    "start_time": "2023-06-01T06:57:27.636Z"
   },
   {
    "duration": 10,
    "start_time": "2023-06-01T07:35:18.255Z"
   },
   {
    "duration": 12,
    "start_time": "2023-06-01T07:35:21.767Z"
   },
   {
    "duration": 11,
    "start_time": "2023-06-01T07:35:26.162Z"
   },
   {
    "duration": 9,
    "start_time": "2023-06-01T07:35:45.000Z"
   },
   {
    "duration": 13,
    "start_time": "2023-06-01T07:35:47.557Z"
   },
   {
    "duration": 1349,
    "start_time": "2023-06-01T18:20:19.937Z"
   },
   {
    "duration": 189,
    "start_time": "2023-06-01T18:20:21.288Z"
   },
   {
    "duration": 11,
    "start_time": "2023-06-01T18:20:21.479Z"
   },
   {
    "duration": 7,
    "start_time": "2023-06-01T18:20:21.492Z"
   },
   {
    "duration": 10,
    "start_time": "2023-06-01T18:20:21.500Z"
   },
   {
    "duration": 17,
    "start_time": "2023-06-01T18:20:21.512Z"
   },
   {
    "duration": 14,
    "start_time": "2023-06-01T18:20:21.534Z"
   },
   {
    "duration": 11,
    "start_time": "2023-06-01T18:20:21.549Z"
   },
   {
    "duration": 4,
    "start_time": "2023-06-01T18:20:21.562Z"
   },
   {
    "duration": 4,
    "start_time": "2023-06-01T18:20:21.569Z"
   },
   {
    "duration": 8,
    "start_time": "2023-06-01T18:20:21.575Z"
   },
   {
    "duration": 9,
    "start_time": "2023-06-01T18:20:21.584Z"
   },
   {
    "duration": 7,
    "start_time": "2023-06-01T18:20:21.594Z"
   },
   {
    "duration": 7,
    "start_time": "2023-06-01T18:20:21.602Z"
   },
   {
    "duration": 6,
    "start_time": "2023-06-01T18:20:21.625Z"
   },
   {
    "duration": 17,
    "start_time": "2023-06-01T18:20:21.633Z"
   },
   {
    "duration": 9,
    "start_time": "2023-06-01T18:20:21.651Z"
   },
   {
    "duration": 6,
    "start_time": "2023-06-01T18:20:21.661Z"
   },
   {
    "duration": 6,
    "start_time": "2023-06-01T18:20:21.668Z"
   },
   {
    "duration": 5,
    "start_time": "2023-06-01T18:20:21.676Z"
   },
   {
    "duration": 7,
    "start_time": "2023-06-01T18:20:21.683Z"
   },
   {
    "duration": 6,
    "start_time": "2023-06-01T18:20:21.692Z"
   },
   {
    "duration": 44,
    "start_time": "2023-06-01T18:20:21.700Z"
   },
   {
    "duration": 12,
    "start_time": "2023-06-01T18:20:21.746Z"
   },
   {
    "duration": 2,
    "start_time": "2023-06-01T18:20:21.761Z"
   },
   {
    "duration": 5,
    "start_time": "2023-06-01T18:20:21.765Z"
   },
   {
    "duration": 69,
    "start_time": "2023-06-01T18:20:21.771Z"
   },
   {
    "duration": 14,
    "start_time": "2023-06-01T18:20:21.845Z"
   },
   {
    "duration": 10,
    "start_time": "2023-06-01T18:20:21.861Z"
   },
   {
    "duration": 12,
    "start_time": "2023-06-01T18:20:21.873Z"
   },
   {
    "duration": 79,
    "start_time": "2023-06-01T18:20:21.886Z"
   },
   {
    "duration": 46,
    "start_time": "2023-06-01T18:20:21.967Z"
   },
   {
    "duration": 30,
    "start_time": "2023-06-01T18:20:22.014Z"
   },
   {
    "duration": 23,
    "start_time": "2023-06-01T18:20:22.046Z"
   },
   {
    "duration": 78,
    "start_time": "2023-06-01T18:20:22.070Z"
   },
   {
    "duration": 54,
    "start_time": "2023-06-01T18:20:22.149Z"
   },
   {
    "duration": 39,
    "start_time": "2023-06-01T18:20:22.205Z"
   },
   {
    "duration": 407,
    "start_time": "2023-06-01T18:20:22.245Z"
   },
   {
    "duration": 300,
    "start_time": "2023-06-01T18:20:22.653Z"
   },
   {
    "duration": 415,
    "start_time": "2023-06-01T18:20:22.955Z"
   },
   {
    "duration": 331,
    "start_time": "2023-06-01T18:20:23.372Z"
   },
   {
    "duration": 423,
    "start_time": "2023-06-01T18:20:23.705Z"
   },
   {
    "duration": 17,
    "start_time": "2023-06-01T18:20:24.129Z"
   },
   {
    "duration": 210,
    "start_time": "2023-06-01T18:20:24.147Z"
   },
   {
    "duration": 5,
    "start_time": "2023-06-01T18:20:24.359Z"
   },
   {
    "duration": 294,
    "start_time": "2023-06-01T18:20:24.365Z"
   },
   {
    "duration": 5,
    "start_time": "2023-06-01T18:20:24.661Z"
   },
   {
    "duration": 80,
    "start_time": "2023-06-01T18:20:24.668Z"
   },
   {
    "duration": 91,
    "start_time": "2023-06-01T18:20:24.750Z"
   },
   {
    "duration": 109,
    "start_time": "2023-06-01T18:20:24.843Z"
   },
   {
    "duration": 0,
    "start_time": "2023-06-01T18:20:24.953Z"
   },
   {
    "duration": 0,
    "start_time": "2023-06-01T18:20:24.954Z"
   },
   {
    "duration": 0,
    "start_time": "2023-06-01T18:20:24.955Z"
   },
   {
    "duration": 0,
    "start_time": "2023-06-01T18:20:24.956Z"
   },
   {
    "duration": 0,
    "start_time": "2023-06-01T18:20:24.958Z"
   },
   {
    "duration": 0,
    "start_time": "2023-06-01T18:20:24.959Z"
   },
   {
    "duration": 0,
    "start_time": "2023-06-01T18:20:24.961Z"
   },
   {
    "duration": 0,
    "start_time": "2023-06-01T18:20:24.962Z"
   },
   {
    "duration": 0,
    "start_time": "2023-06-01T18:20:24.964Z"
   },
   {
    "duration": 0,
    "start_time": "2023-06-01T18:20:24.965Z"
   },
   {
    "duration": 0,
    "start_time": "2023-06-01T18:20:24.967Z"
   },
   {
    "duration": 0,
    "start_time": "2023-06-01T18:20:25.076Z"
   },
   {
    "duration": 0,
    "start_time": "2023-06-01T18:20:25.077Z"
   },
   {
    "duration": 6,
    "start_time": "2023-06-01T18:21:15.543Z"
   },
   {
    "duration": 5,
    "start_time": "2023-06-01T18:21:21.185Z"
   },
   {
    "duration": 7,
    "start_time": "2023-06-01T18:21:31.648Z"
   },
   {
    "duration": 7,
    "start_time": "2023-06-01T18:21:32.572Z"
   },
   {
    "duration": 7,
    "start_time": "2023-06-01T18:21:39.742Z"
   },
   {
    "duration": 28,
    "start_time": "2023-06-01T18:21:39.751Z"
   },
   {
    "duration": 16,
    "start_time": "2023-06-01T18:21:39.781Z"
   },
   {
    "duration": 43,
    "start_time": "2023-06-01T18:21:39.799Z"
   },
   {
    "duration": 21,
    "start_time": "2023-06-01T18:21:39.844Z"
   },
   {
    "duration": 19,
    "start_time": "2023-06-01T18:21:39.867Z"
   },
   {
    "duration": 22,
    "start_time": "2023-06-01T18:21:39.888Z"
   },
   {
    "duration": 28,
    "start_time": "2023-06-01T18:21:39.912Z"
   },
   {
    "duration": 26,
    "start_time": "2023-06-01T18:21:39.942Z"
   },
   {
    "duration": 47,
    "start_time": "2023-06-01T18:21:39.970Z"
   },
   {
    "duration": 42,
    "start_time": "2023-06-01T18:21:40.018Z"
   },
   {
    "duration": 1224,
    "start_time": "2023-06-02T08:14:34.113Z"
   },
   {
    "duration": 107,
    "start_time": "2023-06-02T08:14:35.340Z"
   },
   {
    "duration": 10,
    "start_time": "2023-06-02T08:14:35.448Z"
   },
   {
    "duration": 11,
    "start_time": "2023-06-02T08:14:35.460Z"
   },
   {
    "duration": 49,
    "start_time": "2023-06-02T08:14:35.472Z"
   },
   {
    "duration": 28,
    "start_time": "2023-06-02T08:14:35.523Z"
   },
   {
    "duration": 18,
    "start_time": "2023-06-02T08:14:35.552Z"
   },
   {
    "duration": 11,
    "start_time": "2023-06-02T08:14:35.572Z"
   },
   {
    "duration": 39,
    "start_time": "2023-06-02T08:14:35.597Z"
   },
   {
    "duration": 12,
    "start_time": "2023-06-02T08:14:35.638Z"
   },
   {
    "duration": 17,
    "start_time": "2023-06-02T08:14:35.652Z"
   },
   {
    "duration": 12,
    "start_time": "2023-06-02T08:14:35.671Z"
   },
   {
    "duration": 44,
    "start_time": "2023-06-02T08:14:35.684Z"
   },
   {
    "duration": 17,
    "start_time": "2023-06-02T08:14:35.730Z"
   },
   {
    "duration": 19,
    "start_time": "2023-06-02T08:14:35.748Z"
   },
   {
    "duration": 7,
    "start_time": "2023-06-02T08:14:35.768Z"
   },
   {
    "duration": 43,
    "start_time": "2023-06-02T08:14:35.777Z"
   },
   {
    "duration": 8,
    "start_time": "2023-06-02T08:14:35.822Z"
   },
   {
    "duration": 10,
    "start_time": "2023-06-02T08:14:35.832Z"
   },
   {
    "duration": 8,
    "start_time": "2023-06-02T08:14:35.843Z"
   },
   {
    "duration": 6,
    "start_time": "2023-06-02T08:14:35.853Z"
   },
   {
    "duration": 10,
    "start_time": "2023-06-02T08:14:35.860Z"
   },
   {
    "duration": 6,
    "start_time": "2023-06-02T08:14:35.872Z"
   },
   {
    "duration": 24,
    "start_time": "2023-06-02T08:14:35.879Z"
   },
   {
    "duration": 36,
    "start_time": "2023-06-02T08:14:35.905Z"
   },
   {
    "duration": 13,
    "start_time": "2023-06-02T08:14:35.943Z"
   },
   {
    "duration": 100,
    "start_time": "2023-06-02T08:14:35.958Z"
   },
   {
    "duration": 15,
    "start_time": "2023-06-02T08:14:36.060Z"
   },
   {
    "duration": 95,
    "start_time": "2023-06-02T08:14:36.077Z"
   },
   {
    "duration": 43,
    "start_time": "2023-06-02T08:14:36.174Z"
   },
   {
    "duration": 108,
    "start_time": "2023-06-02T08:14:36.222Z"
   },
   {
    "duration": 76,
    "start_time": "2023-06-02T08:14:36.331Z"
   },
   {
    "duration": 50,
    "start_time": "2023-06-02T08:14:36.409Z"
   },
   {
    "duration": 68,
    "start_time": "2023-06-02T08:14:36.461Z"
   },
   {
    "duration": 176,
    "start_time": "2023-06-02T08:14:36.531Z"
   },
   {
    "duration": 65,
    "start_time": "2023-06-02T08:14:36.709Z"
   },
   {
    "duration": 68,
    "start_time": "2023-06-02T08:14:36.775Z"
   },
   {
    "duration": 359,
    "start_time": "2023-06-02T08:14:36.844Z"
   },
   {
    "duration": 252,
    "start_time": "2023-06-02T08:14:37.205Z"
   },
   {
    "duration": 354,
    "start_time": "2023-06-02T08:14:37.488Z"
   },
   {
    "duration": 300,
    "start_time": "2023-06-02T08:14:37.846Z"
   },
   {
    "duration": 384,
    "start_time": "2023-06-02T08:14:38.148Z"
   },
   {
    "duration": 12,
    "start_time": "2023-06-02T08:14:38.534Z"
   },
   {
    "duration": 173,
    "start_time": "2023-06-02T08:14:38.548Z"
   },
   {
    "duration": 70,
    "start_time": "2023-06-02T08:14:38.724Z"
   },
   {
    "duration": 326,
    "start_time": "2023-06-02T08:14:38.796Z"
   },
   {
    "duration": 6,
    "start_time": "2023-06-02T08:14:39.124Z"
   },
   {
    "duration": 109,
    "start_time": "2023-06-02T08:14:39.131Z"
   },
   {
    "duration": 90,
    "start_time": "2023-06-02T08:14:39.242Z"
   },
   {
    "duration": 5,
    "start_time": "2023-06-02T08:14:39.333Z"
   },
   {
    "duration": 28,
    "start_time": "2023-06-02T08:14:39.339Z"
   },
   {
    "duration": 57,
    "start_time": "2023-06-02T08:14:39.369Z"
   },
   {
    "duration": 15,
    "start_time": "2023-06-02T08:14:39.428Z"
   },
   {
    "duration": 34,
    "start_time": "2023-06-02T08:14:39.444Z"
   },
   {
    "duration": 114,
    "start_time": "2023-06-02T08:14:39.480Z"
   },
   {
    "duration": 28,
    "start_time": "2023-06-02T08:14:39.604Z"
   },
   {
    "duration": 12,
    "start_time": "2023-06-02T08:14:39.633Z"
   },
   {
    "duration": 22,
    "start_time": "2023-06-02T08:14:39.647Z"
   },
   {
    "duration": 58,
    "start_time": "2023-06-02T08:14:39.671Z"
   },
   {
    "duration": 24,
    "start_time": "2023-06-02T08:14:39.730Z"
   },
   {
    "duration": 20,
    "start_time": "2023-06-02T08:14:39.755Z"
   },
   {
    "duration": 62,
    "start_time": "2023-06-02T08:14:39.777Z"
   },
   {
    "duration": 13,
    "start_time": "2023-06-02T08:14:39.841Z"
   },
   {
    "duration": 2197,
    "start_time": "2023-06-02T09:31:55.142Z"
   },
   {
    "duration": 9,
    "start_time": "2023-06-02T09:32:15.867Z"
   },
   {
    "duration": 1487,
    "start_time": "2023-06-13T18:40:59.689Z"
   },
   {
    "duration": 273,
    "start_time": "2023-06-13T18:41:01.179Z"
   },
   {
    "duration": 23,
    "start_time": "2023-06-13T18:41:01.454Z"
   },
   {
    "duration": 54,
    "start_time": "2023-06-13T18:41:01.480Z"
   },
   {
    "duration": 54,
    "start_time": "2023-06-13T18:41:01.536Z"
   },
   {
    "duration": 46,
    "start_time": "2023-06-13T18:41:01.592Z"
   },
   {
    "duration": 36,
    "start_time": "2023-06-13T18:41:01.640Z"
   },
   {
    "duration": 40,
    "start_time": "2023-06-13T18:41:01.678Z"
   },
   {
    "duration": 72,
    "start_time": "2023-06-13T18:41:01.720Z"
   },
   {
    "duration": 109,
    "start_time": "2023-06-13T18:41:01.795Z"
   },
   {
    "duration": 149,
    "start_time": "2023-06-13T18:41:01.907Z"
   },
   {
    "duration": 101,
    "start_time": "2023-06-13T18:41:02.058Z"
   },
   {
    "duration": 63,
    "start_time": "2023-06-13T18:41:02.161Z"
   },
   {
    "duration": 19,
    "start_time": "2023-06-13T18:41:02.226Z"
   },
   {
    "duration": 27,
    "start_time": "2023-06-13T18:41:02.248Z"
   },
   {
    "duration": 11,
    "start_time": "2023-06-13T18:41:02.277Z"
   },
   {
    "duration": 19,
    "start_time": "2023-06-13T18:41:02.290Z"
   },
   {
    "duration": 21,
    "start_time": "2023-06-13T18:41:02.310Z"
   },
   {
    "duration": 53,
    "start_time": "2023-06-13T18:41:02.332Z"
   },
   {
    "duration": 56,
    "start_time": "2023-06-13T18:41:02.387Z"
   },
   {
    "duration": 41,
    "start_time": "2023-06-13T18:41:02.444Z"
   },
   {
    "duration": 20,
    "start_time": "2023-06-13T18:41:02.487Z"
   },
   {
    "duration": 27,
    "start_time": "2023-06-13T18:41:02.509Z"
   },
   {
    "duration": 34,
    "start_time": "2023-06-13T18:41:02.538Z"
   },
   {
    "duration": 8,
    "start_time": "2023-06-13T18:41:02.575Z"
   },
   {
    "duration": 23,
    "start_time": "2023-06-13T18:41:02.585Z"
   },
   {
    "duration": 62,
    "start_time": "2023-06-13T18:41:02.610Z"
   },
   {
    "duration": 18,
    "start_time": "2023-06-13T18:41:02.676Z"
   },
   {
    "duration": 19,
    "start_time": "2023-06-13T18:41:02.696Z"
   },
   {
    "duration": 1458,
    "start_time": "2023-06-13T18:41:02.717Z"
   },
   {
    "duration": 0,
    "start_time": "2023-06-13T18:41:04.177Z"
   },
   {
    "duration": 0,
    "start_time": "2023-06-13T18:41:04.178Z"
   },
   {
    "duration": 0,
    "start_time": "2023-06-13T18:41:04.180Z"
   },
   {
    "duration": 0,
    "start_time": "2023-06-13T18:41:04.181Z"
   },
   {
    "duration": 0,
    "start_time": "2023-06-13T18:41:04.182Z"
   },
   {
    "duration": 0,
    "start_time": "2023-06-13T18:41:04.183Z"
   },
   {
    "duration": 0,
    "start_time": "2023-06-13T18:41:04.186Z"
   },
   {
    "duration": 0,
    "start_time": "2023-06-13T18:41:04.187Z"
   },
   {
    "duration": 0,
    "start_time": "2023-06-13T18:41:04.188Z"
   },
   {
    "duration": 0,
    "start_time": "2023-06-13T18:41:04.189Z"
   },
   {
    "duration": 0,
    "start_time": "2023-06-13T18:41:04.190Z"
   },
   {
    "duration": 0,
    "start_time": "2023-06-13T18:41:04.192Z"
   },
   {
    "duration": 0,
    "start_time": "2023-06-13T18:41:04.192Z"
   },
   {
    "duration": 0,
    "start_time": "2023-06-13T18:41:04.194Z"
   },
   {
    "duration": 0,
    "start_time": "2023-06-13T18:41:04.196Z"
   },
   {
    "duration": 0,
    "start_time": "2023-06-13T18:41:04.197Z"
   },
   {
    "duration": 0,
    "start_time": "2023-06-13T18:41:04.198Z"
   },
   {
    "duration": 0,
    "start_time": "2023-06-13T18:41:04.199Z"
   },
   {
    "duration": 0,
    "start_time": "2023-06-13T18:41:04.200Z"
   },
   {
    "duration": 0,
    "start_time": "2023-06-13T18:41:04.202Z"
   },
   {
    "duration": 0,
    "start_time": "2023-06-13T18:41:04.203Z"
   },
   {
    "duration": 0,
    "start_time": "2023-06-13T18:41:04.204Z"
   },
   {
    "duration": 0,
    "start_time": "2023-06-13T18:41:04.205Z"
   },
   {
    "duration": 0,
    "start_time": "2023-06-13T18:41:04.206Z"
   },
   {
    "duration": 0,
    "start_time": "2023-06-13T18:41:04.207Z"
   },
   {
    "duration": 0,
    "start_time": "2023-06-13T18:41:04.208Z"
   },
   {
    "duration": 0,
    "start_time": "2023-06-13T18:41:04.209Z"
   },
   {
    "duration": 0,
    "start_time": "2023-06-13T18:41:04.210Z"
   },
   {
    "duration": 0,
    "start_time": "2023-06-13T18:41:04.212Z"
   },
   {
    "duration": 0,
    "start_time": "2023-06-13T18:41:04.213Z"
   },
   {
    "duration": 0,
    "start_time": "2023-06-13T18:41:04.215Z"
   },
   {
    "duration": 0,
    "start_time": "2023-06-13T18:41:04.215Z"
   },
   {
    "duration": 0,
    "start_time": "2023-06-13T18:41:04.259Z"
   },
   {
    "duration": 0,
    "start_time": "2023-06-13T18:41:04.261Z"
   },
   {
    "duration": 0,
    "start_time": "2023-06-13T18:41:04.262Z"
   },
   {
    "duration": 19,
    "start_time": "2023-06-13T18:44:31.160Z"
   },
   {
    "duration": 19,
    "start_time": "2023-06-13T18:44:33.287Z"
   },
   {
    "duration": 1220,
    "start_time": "2023-06-13T18:44:50.532Z"
   },
   {
    "duration": 76,
    "start_time": "2023-06-13T18:44:51.756Z"
   },
   {
    "duration": 12,
    "start_time": "2023-06-13T18:44:51.834Z"
   },
   {
    "duration": 12,
    "start_time": "2023-06-13T18:44:51.848Z"
   },
   {
    "duration": 37,
    "start_time": "2023-06-13T18:44:51.863Z"
   },
   {
    "duration": 14,
    "start_time": "2023-06-13T18:44:51.902Z"
   },
   {
    "duration": 12,
    "start_time": "2023-06-13T18:44:51.918Z"
   },
   {
    "duration": 12,
    "start_time": "2023-06-13T18:44:51.932Z"
   },
   {
    "duration": 9,
    "start_time": "2023-06-13T18:44:51.946Z"
   },
   {
    "duration": 10,
    "start_time": "2023-06-13T18:44:51.957Z"
   },
   {
    "duration": 25,
    "start_time": "2023-06-13T18:44:51.969Z"
   },
   {
    "duration": 7,
    "start_time": "2023-06-13T18:44:51.996Z"
   },
   {
    "duration": 8,
    "start_time": "2023-06-13T18:44:52.005Z"
   },
   {
    "duration": 7,
    "start_time": "2023-06-13T18:44:52.017Z"
   },
   {
    "duration": 16,
    "start_time": "2023-06-13T18:44:52.026Z"
   },
   {
    "duration": 33,
    "start_time": "2023-06-13T18:44:52.043Z"
   },
   {
    "duration": 22,
    "start_time": "2023-06-13T18:44:52.077Z"
   },
   {
    "duration": 17,
    "start_time": "2023-06-13T18:44:52.101Z"
   },
   {
    "duration": 8,
    "start_time": "2023-06-13T18:44:52.120Z"
   },
   {
    "duration": 10,
    "start_time": "2023-06-13T18:44:52.130Z"
   },
   {
    "duration": 9,
    "start_time": "2023-06-13T18:44:52.142Z"
   },
   {
    "duration": 14,
    "start_time": "2023-06-13T18:44:52.153Z"
   },
   {
    "duration": 20,
    "start_time": "2023-06-13T18:44:52.169Z"
   },
   {
    "duration": 18,
    "start_time": "2023-06-13T18:44:52.191Z"
   },
   {
    "duration": 5,
    "start_time": "2023-06-13T18:44:52.210Z"
   },
   {
    "duration": 44,
    "start_time": "2023-06-13T18:44:52.216Z"
   },
   {
    "duration": 59,
    "start_time": "2023-06-13T18:44:52.262Z"
   },
   {
    "duration": 16,
    "start_time": "2023-06-13T18:44:52.323Z"
   },
   {
    "duration": 12,
    "start_time": "2023-06-13T18:44:52.357Z"
   },
   {
    "duration": 1195,
    "start_time": "2023-06-13T18:44:52.371Z"
   },
   {
    "duration": 0,
    "start_time": "2023-06-13T18:44:53.568Z"
   },
   {
    "duration": 0,
    "start_time": "2023-06-13T18:44:53.570Z"
   },
   {
    "duration": 0,
    "start_time": "2023-06-13T18:44:53.571Z"
   },
   {
    "duration": 0,
    "start_time": "2023-06-13T18:44:53.572Z"
   },
   {
    "duration": 0,
    "start_time": "2023-06-13T18:44:53.573Z"
   },
   {
    "duration": 0,
    "start_time": "2023-06-13T18:44:53.574Z"
   },
   {
    "duration": 0,
    "start_time": "2023-06-13T18:44:53.575Z"
   },
   {
    "duration": 0,
    "start_time": "2023-06-13T18:44:53.576Z"
   },
   {
    "duration": 0,
    "start_time": "2023-06-13T18:44:53.577Z"
   },
   {
    "duration": 0,
    "start_time": "2023-06-13T18:44:53.578Z"
   },
   {
    "duration": 0,
    "start_time": "2023-06-13T18:44:53.579Z"
   },
   {
    "duration": 0,
    "start_time": "2023-06-13T18:44:53.580Z"
   },
   {
    "duration": 0,
    "start_time": "2023-06-13T18:44:53.581Z"
   },
   {
    "duration": 0,
    "start_time": "2023-06-13T18:44:53.583Z"
   },
   {
    "duration": 0,
    "start_time": "2023-06-13T18:44:53.584Z"
   },
   {
    "duration": 0,
    "start_time": "2023-06-13T18:44:53.585Z"
   },
   {
    "duration": 0,
    "start_time": "2023-06-13T18:44:53.586Z"
   },
   {
    "duration": 0,
    "start_time": "2023-06-13T18:44:53.587Z"
   },
   {
    "duration": 0,
    "start_time": "2023-06-13T18:44:53.588Z"
   },
   {
    "duration": 0,
    "start_time": "2023-06-13T18:44:53.589Z"
   },
   {
    "duration": 0,
    "start_time": "2023-06-13T18:44:53.591Z"
   },
   {
    "duration": 0,
    "start_time": "2023-06-13T18:44:53.593Z"
   },
   {
    "duration": 0,
    "start_time": "2023-06-13T18:44:53.594Z"
   },
   {
    "duration": 0,
    "start_time": "2023-06-13T18:44:53.595Z"
   },
   {
    "duration": 0,
    "start_time": "2023-06-13T18:44:53.597Z"
   },
   {
    "duration": 0,
    "start_time": "2023-06-13T18:44:53.598Z"
   },
   {
    "duration": 0,
    "start_time": "2023-06-13T18:44:53.600Z"
   },
   {
    "duration": 0,
    "start_time": "2023-06-13T18:44:53.601Z"
   },
   {
    "duration": 0,
    "start_time": "2023-06-13T18:44:53.602Z"
   },
   {
    "duration": 0,
    "start_time": "2023-06-13T18:44:53.604Z"
   },
   {
    "duration": 0,
    "start_time": "2023-06-13T18:44:53.656Z"
   },
   {
    "duration": 0,
    "start_time": "2023-06-13T18:44:53.658Z"
   },
   {
    "duration": 0,
    "start_time": "2023-06-13T18:44:53.659Z"
   },
   {
    "duration": 0,
    "start_time": "2023-06-13T18:44:53.661Z"
   },
   {
    "duration": 0,
    "start_time": "2023-06-13T18:44:53.662Z"
   }
  ],
  "kernelspec": {
   "display_name": "Python 3 (ipykernel)",
   "language": "python",
   "name": "python3"
  },
  "language_info": {
   "codemirror_mode": {
    "name": "ipython",
    "version": 3
   },
   "file_extension": ".py",
   "mimetype": "text/x-python",
   "name": "python",
   "nbconvert_exporter": "python",
   "pygments_lexer": "ipython3",
   "version": "3.9.16"
  },
  "toc": {
   "base_numbering": 1,
   "nav_menu": {},
   "number_sections": true,
   "sideBar": true,
   "skip_h1_title": true,
   "title_cell": "Table of Contents",
   "title_sidebar": "Contents",
   "toc_cell": false,
   "toc_position": {},
   "toc_section_display": true,
   "toc_window_display": false
  }
 },
 "nbformat": 4,
 "nbformat_minor": 5
}
