{
 "cells": [
  {
   "cell_type": "markdown",
   "id": "f08deede",
   "metadata": {},
   "source": [
    "# Анализ воронки продаж в мобильном приложении по продаже продуктов питания  \n",
    "\n",
    "**Описание проекта:**  \n",
    "\n",
    "Вы работаете в стартапе, который продаёт продукты питания. Нужно разобраться, как ведут себя пользователи вашего мобильного приложения. Изучите воронку продаж. Узнайте, как пользователи доходят до покупки. Сколько пользователей доходит до покупки, а сколько — «застревает» на предыдущих шагах? На каких именно?  \n",
    "\n",
    "После этого исследуйте результаты A/A/B-эксперимента. Дизайнеры захотели поменять шрифты во всём приложении, а менеджеры испугались, что пользователям будет непривычно. Договорились принять решение по результатам A/A/B-теста. Пользователей разбили на 3 группы: 2 контрольные со старыми шрифтами и одну экспериментальную — с новыми. Выясните, какой шрифт лучше.  \n",
    "\n",
    "**Описание данных:**  \n",
    "Данные хранятся в файле *datasets/logs_exp.csv*.  \n",
    "Каждая запись в логе — это действие пользователя или событие. \n",
    "\n",
    "**Цели исследования:**  \n",
    "- Разобраться, как ведут себя пользователи мобильного приложения  \n",
    "- Изучить воронку продаж  \n",
    "- Узнать, как пользователи доходят до покупки  \n",
    "- Выяснить, сколько пользователей доходит до покупки, а сколько остаётся на предыдущих шагах  \n",
    "- Выяснить, на каких именно шагах остаются пользователи, не дошедшие до покупки  \n",
    "- Исследовать результаты A/A/B-эксперимента  \n",
    "- Выяснить, какой шрифт в приложении предпочитают пользователи\n",
    "\n",
    "**Ход исследования:**  \n",
    "\n",
    "Проект будет состоять из пяти частей:  \n",
    "1. Обзор данных   \n",
    "2. Предобработка данных  \n",
    "3. Исследование воронки событий  \n",
    "4. Исследование результатов эксперимента  \n",
    "5. Выводы и рекомендации"
   ]
  },
  {
   "cell_type": "markdown",
   "id": "a13553c7",
   "metadata": {},
   "source": [
    "## Обзор данных"
   ]
  },
  {
   "cell_type": "markdown",
   "id": "3be7e2cc",
   "metadata": {},
   "source": [
    "### Сохраним данные о логах пользователей в переменную *data*:"
   ]
  },
  {
   "cell_type": "code",
   "execution_count": 1,
   "id": "f89c666c",
   "metadata": {},
   "outputs": [],
   "source": [
    "# импорт библиотек:\n",
    "import pandas as pd\n",
    "import datetime as dt\n",
    "import scipy.stats as st\n",
    "import numpy as np\n",
    "import math as mth\n",
    "import seaborn as sns\n",
    "from matplotlib import pyplot as plt\n",
    "from plotly import graph_objects as go"
   ]
  },
  {
   "cell_type": "code",
   "execution_count": 2,
   "id": "f8aabdb2",
   "metadata": {},
   "outputs": [],
   "source": [
    "# прочитаем csv-файл с логами пользователей и сохраним данные в переменную:\n",
    "try:\n",
    "    data = pd.read_csv('/datasets/logs_exp.csv',  sep='\\t') \n",
    "    \n",
    "except:\n",
    "    data = pd.read_csv('./logs_exp.csv',  sep='\\t')"
   ]
  },
  {
   "cell_type": "markdown",
   "id": "79f719ea",
   "metadata": {},
   "source": [
    "### Выведем первые 5 строк датафрейма:"
   ]
  },
  {
   "cell_type": "code",
   "execution_count": 3,
   "id": "db60bc9e",
   "metadata": {},
   "outputs": [
    {
     "data": {
      "text/html": [
       "<div>\n",
       "<style scoped>\n",
       "    .dataframe tbody tr th:only-of-type {\n",
       "        vertical-align: middle;\n",
       "    }\n",
       "\n",
       "    .dataframe tbody tr th {\n",
       "        vertical-align: top;\n",
       "    }\n",
       "\n",
       "    .dataframe thead th {\n",
       "        text-align: right;\n",
       "    }\n",
       "</style>\n",
       "<table border=\"1\" class=\"dataframe\">\n",
       "  <thead>\n",
       "    <tr style=\"text-align: right;\">\n",
       "      <th></th>\n",
       "      <th>EventName</th>\n",
       "      <th>DeviceIDHash</th>\n",
       "      <th>EventTimestamp</th>\n",
       "      <th>ExpId</th>\n",
       "    </tr>\n",
       "  </thead>\n",
       "  <tbody>\n",
       "    <tr>\n",
       "      <th>0</th>\n",
       "      <td>MainScreenAppear</td>\n",
       "      <td>4575588528974610257</td>\n",
       "      <td>1564029816</td>\n",
       "      <td>246</td>\n",
       "    </tr>\n",
       "    <tr>\n",
       "      <th>1</th>\n",
       "      <td>MainScreenAppear</td>\n",
       "      <td>7416695313311560658</td>\n",
       "      <td>1564053102</td>\n",
       "      <td>246</td>\n",
       "    </tr>\n",
       "    <tr>\n",
       "      <th>2</th>\n",
       "      <td>PaymentScreenSuccessful</td>\n",
       "      <td>3518123091307005509</td>\n",
       "      <td>1564054127</td>\n",
       "      <td>248</td>\n",
       "    </tr>\n",
       "    <tr>\n",
       "      <th>3</th>\n",
       "      <td>CartScreenAppear</td>\n",
       "      <td>3518123091307005509</td>\n",
       "      <td>1564054127</td>\n",
       "      <td>248</td>\n",
       "    </tr>\n",
       "    <tr>\n",
       "      <th>4</th>\n",
       "      <td>PaymentScreenSuccessful</td>\n",
       "      <td>6217807653094995999</td>\n",
       "      <td>1564055322</td>\n",
       "      <td>248</td>\n",
       "    </tr>\n",
       "  </tbody>\n",
       "</table>\n",
       "</div>"
      ],
      "text/plain": [
       "                 EventName         DeviceIDHash  EventTimestamp  ExpId\n",
       "0         MainScreenAppear  4575588528974610257      1564029816    246\n",
       "1         MainScreenAppear  7416695313311560658      1564053102    246\n",
       "2  PaymentScreenSuccessful  3518123091307005509      1564054127    248\n",
       "3         CartScreenAppear  3518123091307005509      1564054127    248\n",
       "4  PaymentScreenSuccessful  6217807653094995999      1564055322    248"
      ]
     },
     "execution_count": 3,
     "metadata": {},
     "output_type": "execute_result"
    }
   ],
   "source": [
    "data.head()"
   ]
  },
  {
   "cell_type": "markdown",
   "id": "5d86f378",
   "metadata": {},
   "source": [
    "### Выведем основную информацию о датафреймах с помощью метода info():"
   ]
  },
  {
   "cell_type": "code",
   "execution_count": 4,
   "id": "ad068c8f",
   "metadata": {},
   "outputs": [
    {
     "name": "stdout",
     "output_type": "stream",
     "text": [
      "<class 'pandas.core.frame.DataFrame'>\n",
      "RangeIndex: 244126 entries, 0 to 244125\n",
      "Data columns (total 4 columns):\n",
      " #   Column          Non-Null Count   Dtype \n",
      "---  ------          --------------   ----- \n",
      " 0   EventName       244126 non-null  object\n",
      " 1   DeviceIDHash    244126 non-null  int64 \n",
      " 2   EventTimestamp  244126 non-null  int64 \n",
      " 3   ExpId           244126 non-null  int64 \n",
      "dtypes: int64(3), object(1)\n",
      "memory usage: 7.5+ MB\n"
     ]
    }
   ],
   "source": [
    "data.info()"
   ]
  },
  {
   "cell_type": "markdown",
   "id": "5e088792",
   "metadata": {},
   "source": [
    "Исходные данные содержат следующую информацию:  \n",
    "\n",
    "- *EventName* — название события;  \n",
    "- *DeviceIDHash* — уникальный идентификатор пользователя;  \n",
    "- *EventTimestamp* — время события;  \n",
    "- *ExpId* — номер эксперимента: 246 и 247 — контрольные группы, а 248 — экспериментальная.  \n",
    "\n",
    "На первом этапе выявлены следующие проблемы в исходных данных:  \n",
    "- нарушения в стиле заголовков  \n",
    "- UTC-тип представления данных в столбце со временем события.  \n",
    "\n",
    "Устраним пошагово эти проблемы, чтобы подготовить данные к дальнейшему исследованию."
   ]
  },
  {
   "cell_type": "markdown",
   "id": "59971980",
   "metadata": {},
   "source": [
    "## Предобработка данных"
   ]
  },
  {
   "cell_type": "markdown",
   "id": "9476171c",
   "metadata": {},
   "source": [
    "### Работа с заголовками\n",
    "#### Переименуем названия столбцов на более удобные и устраним нарушения в стиле заголовков:"
   ]
  },
  {
   "cell_type": "code",
   "execution_count": 5,
   "id": "ce9cf9b1",
   "metadata": {},
   "outputs": [
    {
     "data": {
      "text/plain": [
       "Index(['event_name', 'user_id', 'event_time', 'exp_id'], dtype='object')"
      ]
     },
     "execution_count": 5,
     "metadata": {},
     "output_type": "execute_result"
    }
   ],
   "source": [
    "data = data.rename(columns={\n",
    "                            'EventName':'event_name', \n",
    "                            'DeviceIDHash': 'user_id',\n",
    "                            'EventTimestamp': 'event_time',\n",
    "                            'ExpId': 'exp_id'\n",
    "                            })\n",
    "data.columns"
   ]
  },
  {
   "cell_type": "markdown",
   "id": "bf869cb0",
   "metadata": {},
   "source": [
    "### Работа с типами данных\n",
    "####  Изменим тип данных в столбце со временем события:"
   ]
  },
  {
   "cell_type": "code",
   "execution_count": 6,
   "id": "e0916ab1",
   "metadata": {
    "scrolled": false
   },
   "outputs": [
    {
     "data": {
      "text/plain": [
       "event_name            object\n",
       "user_id                int64\n",
       "event_time    datetime64[ns]\n",
       "exp_id                 int64\n",
       "dtype: object"
      ]
     },
     "execution_count": 6,
     "metadata": {},
     "output_type": "execute_result"
    }
   ],
   "source": [
    "# преобразование времени события в формат datetime:\n",
    "data['event_time'] = pd.to_datetime(data['event_time'], unit='s')\n",
    "\n",
    "data.dtypes"
   ]
  },
  {
   "cell_type": "markdown",
   "id": "bcbe5a30",
   "metadata": {},
   "source": [
    "####  Выделим отдельный столбец с датой события:"
   ]
  },
  {
   "cell_type": "code",
   "execution_count": 7,
   "id": "155c6342",
   "metadata": {},
   "outputs": [],
   "source": [
    "data['event_dt'] = data['event_time'].dt.date "
   ]
  },
  {
   "cell_type": "code",
   "execution_count": 8,
   "id": "be0a421c",
   "metadata": {
    "scrolled": true
   },
   "outputs": [
    {
     "data": {
      "text/html": [
       "<div>\n",
       "<style scoped>\n",
       "    .dataframe tbody tr th:only-of-type {\n",
       "        vertical-align: middle;\n",
       "    }\n",
       "\n",
       "    .dataframe tbody tr th {\n",
       "        vertical-align: top;\n",
       "    }\n",
       "\n",
       "    .dataframe thead th {\n",
       "        text-align: right;\n",
       "    }\n",
       "</style>\n",
       "<table border=\"1\" class=\"dataframe\">\n",
       "  <thead>\n",
       "    <tr style=\"text-align: right;\">\n",
       "      <th></th>\n",
       "      <th>event_name</th>\n",
       "      <th>user_id</th>\n",
       "      <th>event_time</th>\n",
       "      <th>exp_id</th>\n",
       "      <th>event_dt</th>\n",
       "    </tr>\n",
       "  </thead>\n",
       "  <tbody>\n",
       "    <tr>\n",
       "      <th>0</th>\n",
       "      <td>MainScreenAppear</td>\n",
       "      <td>4575588528974610257</td>\n",
       "      <td>2019-07-25 04:43:36</td>\n",
       "      <td>246</td>\n",
       "      <td>2019-07-25</td>\n",
       "    </tr>\n",
       "    <tr>\n",
       "      <th>1</th>\n",
       "      <td>MainScreenAppear</td>\n",
       "      <td>7416695313311560658</td>\n",
       "      <td>2019-07-25 11:11:42</td>\n",
       "      <td>246</td>\n",
       "      <td>2019-07-25</td>\n",
       "    </tr>\n",
       "    <tr>\n",
       "      <th>2</th>\n",
       "      <td>PaymentScreenSuccessful</td>\n",
       "      <td>3518123091307005509</td>\n",
       "      <td>2019-07-25 11:28:47</td>\n",
       "      <td>248</td>\n",
       "      <td>2019-07-25</td>\n",
       "    </tr>\n",
       "    <tr>\n",
       "      <th>3</th>\n",
       "      <td>CartScreenAppear</td>\n",
       "      <td>3518123091307005509</td>\n",
       "      <td>2019-07-25 11:28:47</td>\n",
       "      <td>248</td>\n",
       "      <td>2019-07-25</td>\n",
       "    </tr>\n",
       "    <tr>\n",
       "      <th>4</th>\n",
       "      <td>PaymentScreenSuccessful</td>\n",
       "      <td>6217807653094995999</td>\n",
       "      <td>2019-07-25 11:48:42</td>\n",
       "      <td>248</td>\n",
       "      <td>2019-07-25</td>\n",
       "    </tr>\n",
       "  </tbody>\n",
       "</table>\n",
       "</div>"
      ],
      "text/plain": [
       "                event_name              user_id          event_time  exp_id  \\\n",
       "0         MainScreenAppear  4575588528974610257 2019-07-25 04:43:36     246   \n",
       "1         MainScreenAppear  7416695313311560658 2019-07-25 11:11:42     246   \n",
       "2  PaymentScreenSuccessful  3518123091307005509 2019-07-25 11:28:47     248   \n",
       "3         CartScreenAppear  3518123091307005509 2019-07-25 11:28:47     248   \n",
       "4  PaymentScreenSuccessful  6217807653094995999 2019-07-25 11:48:42     248   \n",
       "\n",
       "     event_dt  \n",
       "0  2019-07-25  \n",
       "1  2019-07-25  \n",
       "2  2019-07-25  \n",
       "3  2019-07-25  \n",
       "4  2019-07-25  "
      ]
     },
     "execution_count": 8,
     "metadata": {},
     "output_type": "execute_result"
    }
   ],
   "source": [
    "data.head()"
   ]
  },
  {
   "cell_type": "markdown",
   "id": "74df65ae",
   "metadata": {},
   "source": [
    "### Работа с пропусками  \n",
    "\n",
    "#### Проверим, есть ли пропущенные значения в датафрейме:"
   ]
  },
  {
   "cell_type": "code",
   "execution_count": 9,
   "id": "7284a0b5",
   "metadata": {
    "scrolled": true
   },
   "outputs": [
    {
     "data": {
      "text/plain": [
       "event_name    0\n",
       "user_id       0\n",
       "event_time    0\n",
       "exp_id        0\n",
       "event_dt      0\n",
       "dtype: int64"
      ]
     },
     "execution_count": 9,
     "metadata": {},
     "output_type": "execute_result"
    }
   ],
   "source": [
    "data.isna().sum() "
   ]
  },
  {
   "cell_type": "markdown",
   "id": "a3434e73",
   "metadata": {},
   "source": [
    "Пропусков в исходных данных не обнаружено."
   ]
  },
  {
   "cell_type": "markdown",
   "id": "935e2b71",
   "metadata": {},
   "source": [
    "### Работа с дубликатами\n",
    "####  Проверим данные на наличие явных дубликатов:"
   ]
  },
  {
   "cell_type": "code",
   "execution_count": 10,
   "id": "f7d3a1da",
   "metadata": {},
   "outputs": [
    {
     "name": "stdout",
     "output_type": "stream",
     "text": [
      "Количество явных дубликатов: 413\n"
     ]
    }
   ],
   "source": [
    "print('Количество явных дубликатов:', data.duplicated().sum())"
   ]
  },
  {
   "cell_type": "markdown",
   "id": "5d7a00d5",
   "metadata": {},
   "source": [
    "####  Удалим явные дубликаты из датасета:"
   ]
  },
  {
   "cell_type": "code",
   "execution_count": 11,
   "id": "7574e865",
   "metadata": {},
   "outputs": [],
   "source": [
    "data = data.drop_duplicates().reset_index(drop=True)"
   ]
  },
  {
   "cell_type": "markdown",
   "id": "abb689f7",
   "metadata": {},
   "source": [
    "### Работа с качеством данных\n",
    "####  Посчитаем, сколько колько всего событий и уникальных пользователей представлено в логах:"
   ]
  },
  {
   "cell_type": "code",
   "execution_count": 12,
   "id": "312e98f9",
   "metadata": {},
   "outputs": [
    {
     "name": "stdout",
     "output_type": "stream",
     "text": [
      "Количество событий:  243713\n",
      "Всего уникальных пользователй в логе:  7551\n"
     ]
    }
   ],
   "source": [
    "# Подсчет количества событий в первичных данных:\n",
    "events_total = len(data)\n",
    "print('Количество событий: ', events_total)\n",
    "\n",
    "# Подсчет количества уникальных пользователей в первичных данных:\n",
    "users_total = data['user_id'].nunique()\n",
    "print('Всего уникальных пользователй в логе: ', users_total)"
   ]
  },
  {
   "cell_type": "markdown",
   "id": "8b8658e9",
   "metadata": {},
   "source": [
    "####  Выясним, сколько в среднем событий приходится на пользователя:"
   ]
  },
  {
   "cell_type": "code",
   "execution_count": 13,
   "id": "a0686afd",
   "metadata": {
    "scrolled": false
   },
   "outputs": [
    {
     "name": "stdout",
     "output_type": "stream",
     "text": [
      "Среднее количество событий на пользователя: 32\n"
     ]
    }
   ],
   "source": [
    "print('Среднее количество событий на пользователя: {:.0f}'.format(len(data)/data['user_id'].nunique()))"
   ]
  },
  {
   "cell_type": "markdown",
   "id": "cc4b7cb2",
   "metadata": {},
   "source": [
    "Проверим, данными за какой период мы располагаем.   \n",
    "Найдем максимальную и минимальную дату исследования, а также визуализируем распределение данных во времени."
   ]
  },
  {
   "cell_type": "markdown",
   "id": "7d8572e8",
   "metadata": {},
   "source": [
    "#### Определим минимальную и максимальную даты исследования:"
   ]
  },
  {
   "cell_type": "code",
   "execution_count": 14,
   "id": "cff70a67",
   "metadata": {
    "scrolled": true
   },
   "outputs": [
    {
     "name": "stdout",
     "output_type": "stream",
     "text": [
      "Минимальная дата исследования: 2019-07-25\n",
      "Максимальная дата исследования: 2019-08-07\n",
      "Период исследования: 13 days, 0:00:00\n"
     ]
    }
   ],
   "source": [
    "print('Минимальная дата исследования:', \n",
    "      data['event_dt'].min())\n",
    "\n",
    "print('Максимальная дата исследования:', \n",
    "      data['event_dt'].max())\n",
    "\n",
    "print('Период исследования:', \n",
    "      data['event_dt'].max() - data['event_dt'].min()) "
   ]
  },
  {
   "cell_type": "markdown",
   "id": "236203c2",
   "metadata": {},
   "source": [
    "Логи пользователей представлены за 13 дней.  \n",
    "####  Проверим распределение данных за исследуемый период: "
   ]
  },
  {
   "cell_type": "code",
   "execution_count": 15,
   "id": "f0275f49",
   "metadata": {},
   "outputs": [
    {
     "data": {
      "image/png": "[encoded data removed]",
      "text/plain": [
       "<Figure size 640x480 with 1 Axes>"
      ]
     },
     "metadata": {},
     "output_type": "display_data"
    }
   ],
   "source": [
    "sns.histplot(data['event_time'], bins = 50).set(\n",
    "                                    title='Распределение событий в зависимости от времени',\n",
    "                                    xlabel='',                                   \n",
    "                                    ylabel='')\n",
    "plt.xticks(rotation=90)\n",
    "plt.tight_layout()"
   ]
  },
  {
   "cell_type": "markdown",
   "id": "975990e7",
   "metadata": {},
   "source": [
    "Как мы видим, данные распределены неравномерно.  \n",
    "В логи новых дней по некоторым пользователям могут «доезжать» события из прошлого — это может «перекашивать данные».   \n",
    "\n",
    "Судя по гистограмме, полные данные представлены начиная с 1 августа 2019 года.  \n",
    "\n",
    "Определим исследуемый период в следующем промежутке: **2019-08-01 — 2019-08-07** и отбросим более старые данные:"
   ]
  },
  {
   "cell_type": "code",
   "execution_count": 16,
   "id": "a28f7886",
   "metadata": {},
   "outputs": [],
   "source": [
    "# сохраним новую минимальную дату исследования:\n",
    "min_date = '2019-08-01'\n",
    "min_date = dt.datetime.strptime(min_date, '%Y-%m-%d')\n",
    "\n",
    "# исключим более старые данные:\n",
    "data = data[data['event_time'] > min_date]"
   ]
  },
  {
   "cell_type": "markdown",
   "id": "1e6b186d",
   "metadata": {},
   "source": [
    "#### Проверим, сколько событий и пользователей потеряно после того, как отбросили старые данные:"
   ]
  },
  {
   "cell_type": "code",
   "execution_count": 17,
   "id": "34780321",
   "metadata": {
    "scrolled": true
   },
   "outputs": [
    {
     "name": "stdout",
     "output_type": "stream",
     "text": [
      "Количество событий после удаления данных:  240887\n",
      "Количество уникальных пользователей после удаления данных:  7534\n",
      "Доля потерянных событий: 1.2%\n",
      "Доля потерянных пользователей: 0.2%\n"
     ]
    }
   ],
   "source": [
    "# Подсчет количества событий после удаления старых данных:\n",
    "print('Количество событий после удаления данных: ', len(data))\n",
    "\n",
    "# Подсчет количества уникальных пользователей после удаления старых данных:\n",
    "print('Количество уникальных пользователей после удаления данных: ', data['user_id'].nunique())\n",
    "\n",
    "print('Доля потерянных событий: {:.1%}'.format(events_total / len(data) -1))\n",
    "print('Доля потерянных пользователей: {:.1%}'.format(users_total / data['user_id'].nunique()-1))"
   ]
  },
  {
   "cell_type": "markdown",
   "id": "9214936d",
   "metadata": {},
   "source": [
    "Количество уникальных пользователей уменьшилось на 17 человек.  \n",
    "Доля потерянных событий около 1%, доля потерянных пользователей составляет всего 0.2%. Таким образом, можно сделать вывод о том, что влияние потери пользователей на дальнейший анализ будет минимально, либо совсем отсутствовать. "
   ]
  },
  {
   "cell_type": "markdown",
   "id": "3035aadd",
   "metadata": {},
   "source": [
    "#### Определим, сколько групп участвовало в A/A/B-тесте:"
   ]
  },
  {
   "cell_type": "code",
   "execution_count": 18,
   "id": "14a8b685",
   "metadata": {
    "scrolled": true
   },
   "outputs": [
    {
     "name": "stdout",
     "output_type": "stream",
     "text": [
      "Количество групп в A/A/B-тесте:  3\n"
     ]
    }
   ],
   "source": [
    "print('Количество групп в A/A/B-тесте: ', \n",
    "      data['exp_id'].nunique())"
   ]
  },
  {
   "cell_type": "markdown",
   "id": "07306108",
   "metadata": {},
   "source": [
    "#### Посчитаем количество пользователей в каждой группе:"
   ]
  },
  {
   "cell_type": "code",
   "execution_count": 19,
   "id": "54a3db38",
   "metadata": {
    "scrolled": true
   },
   "outputs": [
    {
     "data": {
      "text/html": [
       "<div>\n",
       "<style scoped>\n",
       "    .dataframe tbody tr th:only-of-type {\n",
       "        vertical-align: middle;\n",
       "    }\n",
       "\n",
       "    .dataframe tbody tr th {\n",
       "        vertical-align: top;\n",
       "    }\n",
       "\n",
       "    .dataframe thead th {\n",
       "        text-align: right;\n",
       "    }\n",
       "</style>\n",
       "<table border=\"1\" class=\"dataframe\">\n",
       "  <thead>\n",
       "    <tr style=\"text-align: right;\">\n",
       "      <th></th>\n",
       "      <th>group</th>\n",
       "      <th>users_amount</th>\n",
       "    </tr>\n",
       "  </thead>\n",
       "  <tbody>\n",
       "    <tr>\n",
       "      <th>0</th>\n",
       "      <td>246</td>\n",
       "      <td>2484</td>\n",
       "    </tr>\n",
       "    <tr>\n",
       "      <th>1</th>\n",
       "      <td>247</td>\n",
       "      <td>2513</td>\n",
       "    </tr>\n",
       "    <tr>\n",
       "      <th>2</th>\n",
       "      <td>248</td>\n",
       "      <td>2537</td>\n",
       "    </tr>\n",
       "  </tbody>\n",
       "</table>\n",
       "</div>"
      ],
      "text/plain": [
       "   group  users_amount\n",
       "0    246          2484\n",
       "1    247          2513\n",
       "2    248          2537"
      ]
     },
     "execution_count": 19,
     "metadata": {},
     "output_type": "execute_result"
    }
   ],
   "source": [
    "group_amount = data.groupby('exp_id')[['user_id']].nunique().reset_index()\n",
    "group_amount.columns = ['group', 'users_amount']\n",
    "group_amount"
   ]
  },
  {
   "cell_type": "markdown",
   "id": "e90dee83",
   "metadata": {},
   "source": [
    "В логах присутсвуют пользователи из всех трёх экспирементальных групп. Количество уникальных пользователей распределено равномерно.   \n",
    "Проверка качества данных завершена, переходим к основной части исследования. "
   ]
  },
  {
   "cell_type": "markdown",
   "id": "c275fa55",
   "metadata": {},
   "source": [
    "## Исследование воронки событий"
   ]
  },
  {
   "cell_type": "markdown",
   "id": "6d64ddb8",
   "metadata": {},
   "source": [
    "### Посмотрим, какие события есть в логах и как часто они встречаются:"
   ]
  },
  {
   "cell_type": "code",
   "execution_count": 20,
   "id": "0f189947",
   "metadata": {
    "scrolled": true
   },
   "outputs": [
    {
     "data": {
      "text/plain": [
       "MainScreenAppear           117328\n",
       "OffersScreenAppear          46333\n",
       "CartScreenAppear            42303\n",
       "PaymentScreenSuccessful     33918\n",
       "Tutorial                     1005\n",
       "Name: event_name, dtype: int64"
      ]
     },
     "execution_count": 20,
     "metadata": {},
     "output_type": "execute_result"
    }
   ],
   "source": [
    "data['event_name'].value_counts()"
   ]
  },
  {
   "cell_type": "markdown",
   "id": "5438e39b",
   "metadata": {},
   "source": [
    "Всего в логах встречаются 5 типов событий:  \n",
    "- MainScreenAppear – появление главной страницы    \n",
    "- OffersScreenAppear – появление страницы с товаром  \n",
    "- CartScreenAppear – пользователь добавил товар в корзину  \n",
    "- PaymentScreenSuccessful – появление страницы с успешной оплатой  \n",
    "- Tutorial – прохождение обучения по использованию приложения  \n",
    "\n",
    "Чаще всего пользователи просматривают главную страницу, второе по частоте событие это просмотр страниц с товарами.  Затем идет  добавление товара в корзину, и меньше всего пользователей проходят обучение по использованию приложения."
   ]
  },
  {
   "cell_type": "markdown",
   "id": "414c3ec1",
   "metadata": {},
   "source": [
    "### Посчитаем, сколько пользователей совершали каждое из этих событий  \n",
    "\n",
    "События отсортируем по числу пользователей. Также определим долю пользователей, которые хоть раз совершали событие:"
   ]
  },
  {
   "cell_type": "code",
   "execution_count": 21,
   "id": "8dcb0aa0",
   "metadata": {},
   "outputs": [
    {
     "data": {
      "text/html": [
       "<style  type=\"text/css\" >\n",
       "#T_3478f_row0_col2{\n",
       "            background-color:  #006837;\n",
       "            color:  #f1f1f1;\n",
       "        }#T_3478f_row1_col2{\n",
       "            background-color:  #e3f399;\n",
       "            color:  #000000;\n",
       "        }#T_3478f_row2_col2{\n",
       "            background-color:  #feec9f;\n",
       "            color:  #000000;\n",
       "        }#T_3478f_row3_col2{\n",
       "            background-color:  #fee491;\n",
       "            color:  #000000;\n",
       "        }#T_3478f_row4_col2{\n",
       "            background-color:  #a50026;\n",
       "            color:  #f1f1f1;\n",
       "        }</style><table id=\"T_3478f_\" ><thead>    <tr>        <th class=\"blank level0\" ></th>        <th class=\"col_heading level0 col0\" >event_name</th>        <th class=\"col_heading level0 col1\" >users_amount</th>        <th class=\"col_heading level0 col2\" >share_of_users</th>    </tr></thead><tbody>\n",
       "                <tr>\n",
       "                        <th id=\"T_3478f_level0_row0\" class=\"row_heading level0 row0\" >0</th>\n",
       "                        <td id=\"T_3478f_row0_col0\" class=\"data row0 col0\" >MainScreenAppear</td>\n",
       "                        <td id=\"T_3478f_row0_col1\" class=\"data row0 col1\" >7419</td>\n",
       "                        <td id=\"T_3478f_row0_col2\" class=\"data row0 col2\" >98.500000</td>\n",
       "            </tr>\n",
       "            <tr>\n",
       "                        <th id=\"T_3478f_level0_row1\" class=\"row_heading level0 row1\" >1</th>\n",
       "                        <td id=\"T_3478f_row1_col0\" class=\"data row1 col0\" >OffersScreenAppear</td>\n",
       "                        <td id=\"T_3478f_row1_col1\" class=\"data row1 col1\" >4593</td>\n",
       "                        <td id=\"T_3478f_row1_col2\" class=\"data row1 col2\" >61.000000</td>\n",
       "            </tr>\n",
       "            <tr>\n",
       "                        <th id=\"T_3478f_level0_row2\" class=\"row_heading level0 row2\" >2</th>\n",
       "                        <td id=\"T_3478f_row2_col0\" class=\"data row2 col0\" >CartScreenAppear</td>\n",
       "                        <td id=\"T_3478f_row2_col1\" class=\"data row2 col1\" >3734</td>\n",
       "                        <td id=\"T_3478f_row2_col2\" class=\"data row2 col2\" >49.600000</td>\n",
       "            </tr>\n",
       "            <tr>\n",
       "                        <th id=\"T_3478f_level0_row3\" class=\"row_heading level0 row3\" >3</th>\n",
       "                        <td id=\"T_3478f_row3_col0\" class=\"data row3 col0\" >PaymentScreenSuccessful</td>\n",
       "                        <td id=\"T_3478f_row3_col1\" class=\"data row3 col1\" >3539</td>\n",
       "                        <td id=\"T_3478f_row3_col2\" class=\"data row3 col2\" >47.000000</td>\n",
       "            </tr>\n",
       "            <tr>\n",
       "                        <th id=\"T_3478f_level0_row4\" class=\"row_heading level0 row4\" >4</th>\n",
       "                        <td id=\"T_3478f_row4_col0\" class=\"data row4 col0\" >Tutorial</td>\n",
       "                        <td id=\"T_3478f_row4_col1\" class=\"data row4 col1\" >840</td>\n",
       "                        <td id=\"T_3478f_row4_col2\" class=\"data row4 col2\" >11.100000</td>\n",
       "            </tr>\n",
       "    </tbody></table>"
      ],
      "text/plain": [
       "<pandas.io.formats.style.Styler at 0x149834fd0>"
      ]
     },
     "execution_count": 21,
     "metadata": {},
     "output_type": "execute_result"
    }
   ],
   "source": [
    "#количество пользователей для каждого события и отсортируем по числу пользователей:\n",
    "users_amount = data.groupby('event_name').agg(\n",
    "           {'user_id': 'nunique'}).sort_values(\n",
    "                                                by='user_id', \n",
    "                                                ascending=False).reset_index()\n",
    "users_amount.columns = ['event_name', 'users_amount']\n",
    "\n",
    "users_amount['share_of_users'] = round(users_amount['users_amount'] / data['user_id'].nunique() * 100, 1)\n",
    "users_amount.style.background_gradient(cmap='RdYlGn', subset='share_of_users')"
   ]
  },
  {
   "cell_type": "markdown",
   "id": "b40d87dc",
   "metadata": {},
   "source": [
    "1.5% пользователей не открывали главную страницу. Около 40% не заходили на страницу товаров. Примерно половина пользователей не добавляла товары в корзину и чуть меньше половины не дошли до оплаты. 88.8% пользователей, посетивших сайт, не открывали страницу Tutorial.   \n",
    "\n",
    "Событие Tutorial явно связано с заходом на страницу с обучением. Количество таких событий говорит о том, что оно скорее не является обязательным шагом воронки продаж. Предлагаю исключить его из дальнейших расчётов:"
   ]
  },
  {
   "cell_type": "code",
   "execution_count": 22,
   "id": "418ce5d4",
   "metadata": {},
   "outputs": [],
   "source": [
    "data = data[data['event_name'] != 'Tutorial']\n",
    "users_amount = users_amount[users_amount['event_name'] != 'Tutorial']"
   ]
  },
  {
   "cell_type": "markdown",
   "id": "33c4f5cc",
   "metadata": {},
   "source": [
    "Таким образом, путь клиента до совершения покупки выглядит следующим образом:  \n",
    "1.\tЗайти на главную страницу магазина  \n",
    "2.\tПерейти на страницу товара  \n",
    "3.\tДобавить товар в корзину  \n",
    "4.\tПерейти на страницу оформления заказа  \n",
    "5.\tОплатить заказ  "
   ]
  },
  {
   "cell_type": "markdown",
   "id": "70d0cfc5",
   "metadata": {},
   "source": [
    "### Визуализируем воронку событий:"
   ]
  },
  {
   "cell_type": "code",
   "execution_count": 33,
   "id": "d6e945ac",
   "metadata": {},
   "outputs": [
    {
     "data": {
      "application/vnd.plotly.v1+json": {
       "config": {
        "plotlyServerURL": "https://plot.ly"
       },
       "data": [
        {
         "opacity": 0.6,
         "textinfo": "value+percent previous",
         "textposition": "inside",
         "type": "funnel",
         "x": [
          7419,
          4593,
          3734,
          3539
         ],
         "y": [
          "MainScreenAppear",
          "OffersScreenAppear",
          "CartScreenAppear",
          "PaymentScreenSuccessful"
         ]
        }
       ],
       "layout": {
        "template": {
         "data": {
          "bar": [
           {
            "error_x": {
             "color": "#2a3f5f"
            },
            "error_y": {
             "color": "#2a3f5f"
            },
            "marker": {
             "line": {
              "color": "#E5ECF6",
              "width": 0.5
             },
             "pattern": {
              "fillmode": "overlay",
              "size": 10,
              "solidity": 0.2
             }
            },
            "type": "bar"
           }
          ],
          "barpolar": [
           {
            "marker": {
             "line": {
              "color": "#E5ECF6",
              "width": 0.5
             },
             "pattern": {
              "fillmode": "overlay",
              "size": 10,
              "solidity": 0.2
             }
            },
            "type": "barpolar"
           }
          ],
          "carpet": [
           {
            "aaxis": {
             "endlinecolor": "#2a3f5f",
             "gridcolor": "white",
             "linecolor": "white",
             "minorgridcolor": "white",
             "startlinecolor": "#2a3f5f"
            },
            "baxis": {
             "endlinecolor": "#2a3f5f",
             "gridcolor": "white",
             "linecolor": "white",
             "minorgridcolor": "white",
             "startlinecolor": "#2a3f5f"
            },
            "type": "carpet"
           }
          ],
          "choropleth": [
           {
            "colorbar": {
             "outlinewidth": 0,
             "ticks": ""
            },
            "type": "choropleth"
           }
          ],
          "contour": [
           {
            "colorbar": {
             "outlinewidth": 0,
             "ticks": ""
            },
            "colorscale": [
             [
              0,
              "#0d0887"
             ],
             [
              0.1111111111111111,
              "#46039f"
             ],
             [
              0.2222222222222222,
              "#7201a8"
             ],
             [
              0.3333333333333333,
              "#9c179e"
             ],
             [
              0.4444444444444444,
              "#bd3786"
             ],
             [
              0.5555555555555556,
              "#d8576b"
             ],
             [
              0.6666666666666666,
              "#ed7953"
             ],
             [
              0.7777777777777778,
              "#fb9f3a"
             ],
             [
              0.8888888888888888,
              "#fdca26"
             ],
             [
              1,
              "#f0f921"
             ]
            ],
            "type": "contour"
           }
          ],
          "contourcarpet": [
           {
            "colorbar": {
             "outlinewidth": 0,
             "ticks": ""
            },
            "type": "contourcarpet"
           }
          ],
          "heatmap": [
           {
            "colorbar": {
             "outlinewidth": 0,
             "ticks": ""
            },
            "colorscale": [
             [
              0,
              "#0d0887"
             ],
             [
              0.1111111111111111,
              "#46039f"
             ],
             [
              0.2222222222222222,
              "#7201a8"
             ],
             [
              0.3333333333333333,
              "#9c179e"
             ],
             [
              0.4444444444444444,
              "#bd3786"
             ],
             [
              0.5555555555555556,
              "#d8576b"
             ],
             [
              0.6666666666666666,
              "#ed7953"
             ],
             [
              0.7777777777777778,
              "#fb9f3a"
             ],
             [
              0.8888888888888888,
              "#fdca26"
             ],
             [
              1,
              "#f0f921"
             ]
            ],
            "type": "heatmap"
           }
          ],
          "heatmapgl": [
           {
            "colorbar": {
             "outlinewidth": 0,
             "ticks": ""
            },
            "colorscale": [
             [
              0,
              "#0d0887"
             ],
             [
              0.1111111111111111,
              "#46039f"
             ],
             [
              0.2222222222222222,
              "#7201a8"
             ],
             [
              0.3333333333333333,
              "#9c179e"
             ],
             [
              0.4444444444444444,
              "#bd3786"
             ],
             [
              0.5555555555555556,
              "#d8576b"
             ],
             [
              0.6666666666666666,
              "#ed7953"
             ],
             [
              0.7777777777777778,
              "#fb9f3a"
             ],
             [
              0.8888888888888888,
              "#fdca26"
             ],
             [
              1,
              "#f0f921"
             ]
            ],
            "type": "heatmapgl"
           }
          ],
          "histogram": [
           {
            "marker": {
             "pattern": {
              "fillmode": "overlay",
              "size": 10,
              "solidity": 0.2
             }
            },
            "type": "histogram"
           }
          ],
          "histogram2d": [
           {
            "colorbar": {
             "outlinewidth": 0,
             "ticks": ""
            },
            "colorscale": [
             [
              0,
              "#0d0887"
             ],
             [
              0.1111111111111111,
              "#46039f"
             ],
             [
              0.2222222222222222,
              "#7201a8"
             ],
             [
              0.3333333333333333,
              "#9c179e"
             ],
             [
              0.4444444444444444,
              "#bd3786"
             ],
             [
              0.5555555555555556,
              "#d8576b"
             ],
             [
              0.6666666666666666,
              "#ed7953"
             ],
             [
              0.7777777777777778,
              "#fb9f3a"
             ],
             [
              0.8888888888888888,
              "#fdca26"
             ],
             [
              1,
              "#f0f921"
             ]
            ],
            "type": "histogram2d"
           }
          ],
          "histogram2dcontour": [
           {
            "colorbar": {
             "outlinewidth": 0,
             "ticks": ""
            },
            "colorscale": [
             [
              0,
              "#0d0887"
             ],
             [
              0.1111111111111111,
              "#46039f"
             ],
             [
              0.2222222222222222,
              "#7201a8"
             ],
             [
              0.3333333333333333,
              "#9c179e"
             ],
             [
              0.4444444444444444,
              "#bd3786"
             ],
             [
              0.5555555555555556,
              "#d8576b"
             ],
             [
              0.6666666666666666,
              "#ed7953"
             ],
             [
              0.7777777777777778,
              "#fb9f3a"
             ],
             [
              0.8888888888888888,
              "#fdca26"
             ],
             [
              1,
              "#f0f921"
             ]
            ],
            "type": "histogram2dcontour"
           }
          ],
          "mesh3d": [
           {
            "colorbar": {
             "outlinewidth": 0,
             "ticks": ""
            },
            "type": "mesh3d"
           }
          ],
          "parcoords": [
           {
            "line": {
             "colorbar": {
              "outlinewidth": 0,
              "ticks": ""
             }
            },
            "type": "parcoords"
           }
          ],
          "pie": [
           {
            "automargin": true,
            "type": "pie"
           }
          ],
          "scatter": [
           {
            "marker": {
             "colorbar": {
              "outlinewidth": 0,
              "ticks": ""
             }
            },
            "type": "scatter"
           }
          ],
          "scatter3d": [
           {
            "line": {
             "colorbar": {
              "outlinewidth": 0,
              "ticks": ""
             }
            },
            "marker": {
             "colorbar": {
              "outlinewidth": 0,
              "ticks": ""
             }
            },
            "type": "scatter3d"
           }
          ],
          "scattercarpet": [
           {
            "marker": {
             "colorbar": {
              "outlinewidth": 0,
              "ticks": ""
             }
            },
            "type": "scattercarpet"
           }
          ],
          "scattergeo": [
           {
            "marker": {
             "colorbar": {
              "outlinewidth": 0,
              "ticks": ""
             }
            },
            "type": "scattergeo"
           }
          ],
          "scattergl": [
           {
            "marker": {
             "colorbar": {
              "outlinewidth": 0,
              "ticks": ""
             }
            },
            "type": "scattergl"
           }
          ],
          "scattermapbox": [
           {
            "marker": {
             "colorbar": {
              "outlinewidth": 0,
              "ticks": ""
             }
            },
            "type": "scattermapbox"
           }
          ],
          "scatterpolar": [
           {
            "marker": {
             "colorbar": {
              "outlinewidth": 0,
              "ticks": ""
             }
            },
            "type": "scatterpolar"
           }
          ],
          "scatterpolargl": [
           {
            "marker": {
             "colorbar": {
              "outlinewidth": 0,
              "ticks": ""
             }
            },
            "type": "scatterpolargl"
           }
          ],
          "scatterternary": [
           {
            "marker": {
             "colorbar": {
              "outlinewidth": 0,
              "ticks": ""
             }
            },
            "type": "scatterternary"
           }
          ],
          "surface": [
           {
            "colorbar": {
             "outlinewidth": 0,
             "ticks": ""
            },
            "colorscale": [
             [
              0,
              "#0d0887"
             ],
             [
              0.1111111111111111,
              "#46039f"
             ],
             [
              0.2222222222222222,
              "#7201a8"
             ],
             [
              0.3333333333333333,
              "#9c179e"
             ],
             [
              0.4444444444444444,
              "#bd3786"
             ],
             [
              0.5555555555555556,
              "#d8576b"
             ],
             [
              0.6666666666666666,
              "#ed7953"
             ],
             [
              0.7777777777777778,
              "#fb9f3a"
             ],
             [
              0.8888888888888888,
              "#fdca26"
             ],
             [
              1,
              "#f0f921"
             ]
            ],
            "type": "surface"
           }
          ],
          "table": [
           {
            "cells": {
             "fill": {
              "color": "#EBF0F8"
             },
             "line": {
              "color": "white"
             }
            },
            "header": {
             "fill": {
              "color": "#C8D4E3"
             },
             "line": {
              "color": "white"
             }
            },
            "type": "table"
           }
          ]
         },
         "layout": {
          "annotationdefaults": {
           "arrowcolor": "#2a3f5f",
           "arrowhead": 0,
           "arrowwidth": 1
          },
          "autotypenumbers": "strict",
          "coloraxis": {
           "colorbar": {
            "outlinewidth": 0,
            "ticks": ""
           }
          },
          "colorscale": {
           "diverging": [
            [
             0,
             "#8e0152"
            ],
            [
             0.1,
             "#c51b7d"
            ],
            [
             0.2,
             "#de77ae"
            ],
            [
             0.3,
             "#f1b6da"
            ],
            [
             0.4,
             "#fde0ef"
            ],
            [
             0.5,
             "#f7f7f7"
            ],
            [
             0.6,
             "#e6f5d0"
            ],
            [
             0.7,
             "#b8e186"
            ],
            [
             0.8,
             "#7fbc41"
            ],
            [
             0.9,
             "#4d9221"
            ],
            [
             1,
             "#276419"
            ]
           ],
           "sequential": [
            [
             0,
             "#0d0887"
            ],
            [
             0.1111111111111111,
             "#46039f"
            ],
            [
             0.2222222222222222,
             "#7201a8"
            ],
            [
             0.3333333333333333,
             "#9c179e"
            ],
            [
             0.4444444444444444,
             "#bd3786"
            ],
            [
             0.5555555555555556,
             "#d8576b"
            ],
            [
             0.6666666666666666,
             "#ed7953"
            ],
            [
             0.7777777777777778,
             "#fb9f3a"
            ],
            [
             0.8888888888888888,
             "#fdca26"
            ],
            [
             1,
             "#f0f921"
            ]
           ],
           "sequentialminus": [
            [
             0,
             "#0d0887"
            ],
            [
             0.1111111111111111,
             "#46039f"
            ],
            [
             0.2222222222222222,
             "#7201a8"
            ],
            [
             0.3333333333333333,
             "#9c179e"
            ],
            [
             0.4444444444444444,
             "#bd3786"
            ],
            [
             0.5555555555555556,
             "#d8576b"
            ],
            [
             0.6666666666666666,
             "#ed7953"
            ],
            [
             0.7777777777777778,
             "#fb9f3a"
            ],
            [
             0.8888888888888888,
             "#fdca26"
            ],
            [
             1,
             "#f0f921"
            ]
           ]
          },
          "colorway": [
           "#636efa",
           "#EF553B",
           "#00cc96",
           "#ab63fa",
           "#FFA15A",
           "#19d3f3",
           "#FF6692",
           "#B6E880",
           "#FF97FF",
           "#FECB52"
          ],
          "font": {
           "color": "#2a3f5f"
          },
          "geo": {
           "bgcolor": "white",
           "lakecolor": "white",
           "landcolor": "#E5ECF6",
           "showlakes": true,
           "showland": true,
           "subunitcolor": "white"
          },
          "hoverlabel": {
           "align": "left"
          },
          "hovermode": "closest",
          "mapbox": {
           "style": "light"
          },
          "paper_bgcolor": "white",
          "plot_bgcolor": "#E5ECF6",
          "polar": {
           "angularaxis": {
            "gridcolor": "white",
            "linecolor": "white",
            "ticks": ""
           },
           "bgcolor": "#E5ECF6",
           "radialaxis": {
            "gridcolor": "white",
            "linecolor": "white",
            "ticks": ""
           }
          },
          "scene": {
           "xaxis": {
            "backgroundcolor": "#E5ECF6",
            "gridcolor": "white",
            "gridwidth": 2,
            "linecolor": "white",
            "showbackground": true,
            "ticks": "",
            "zerolinecolor": "white"
           },
           "yaxis": {
            "backgroundcolor": "#E5ECF6",
            "gridcolor": "white",
            "gridwidth": 2,
            "linecolor": "white",
            "showbackground": true,
            "ticks": "",
            "zerolinecolor": "white"
           },
           "zaxis": {
            "backgroundcolor": "#E5ECF6",
            "gridcolor": "white",
            "gridwidth": 2,
            "linecolor": "white",
            "showbackground": true,
            "ticks": "",
            "zerolinecolor": "white"
           }
          },
          "shapedefaults": {
           "line": {
            "color": "#2a3f5f"
           }
          },
          "ternary": {
           "aaxis": {
            "gridcolor": "white",
            "linecolor": "white",
            "ticks": ""
           },
           "baxis": {
            "gridcolor": "white",
            "linecolor": "white",
            "ticks": ""
           },
           "bgcolor": "#E5ECF6",
           "caxis": {
            "gridcolor": "white",
            "linecolor": "white",
            "ticks": ""
           }
          },
          "title": {
           "x": 0.05
          },
          "xaxis": {
           "automargin": true,
           "gridcolor": "white",
           "linecolor": "white",
           "ticks": "",
           "title": {
            "standoff": 15
           },
           "zerolinecolor": "white",
           "zerolinewidth": 2
          },
          "yaxis": {
           "automargin": true,
           "gridcolor": "white",
           "linecolor": "white",
           "ticks": "",
           "title": {
            "standoff": 15
           },
           "zerolinecolor": "white",
           "zerolinewidth": 2
          }
         }
        },
        "title": {
         "text": "Воронка событий"
        }
       }
      },
      "text/html": [
       "<div>                            <div id=\"9e090d85-8aca-40e8-beae-566ad0b6907f\" class=\"plotly-graph-div\" style=\"height:525px; width:100%;\"></div>            <script type=\"text/javascript\">                require([\"plotly\"], function(Plotly) {                    window.PLOTLYENV=window.PLOTLYENV || {};                                    if (document.getElementById(\"9e090d85-8aca-40e8-beae-566ad0b6907f\")) {                    Plotly.newPlot(                        \"9e090d85-8aca-40e8-beae-566ad0b6907f\",                        [{\"opacity\":0.6,\"textinfo\":\"value+percent previous\",\"textposition\":\"inside\",\"x\":[7419,4593,3734,3539],\"y\":[\"MainScreenAppear\",\"OffersScreenAppear\",\"CartScreenAppear\",\"PaymentScreenSuccessful\"],\"type\":\"funnel\"}],                        {\"template\":{\"data\":{\"bar\":[{\"error_x\":{\"color\":\"#2a3f5f\"},\"error_y\":{\"color\":\"#2a3f5f\"},\"marker\":{\"line\":{\"color\":\"#E5ECF6\",\"width\":0.5},\"pattern\":{\"fillmode\":\"overlay\",\"size\":10,\"solidity\":0.2}},\"type\":\"bar\"}],\"barpolar\":[{\"marker\":{\"line\":{\"color\":\"#E5ECF6\",\"width\":0.5},\"pattern\":{\"fillmode\":\"overlay\",\"size\":10,\"solidity\":0.2}},\"type\":\"barpolar\"}],\"carpet\":[{\"aaxis\":{\"endlinecolor\":\"#2a3f5f\",\"gridcolor\":\"white\",\"linecolor\":\"white\",\"minorgridcolor\":\"white\",\"startlinecolor\":\"#2a3f5f\"},\"baxis\":{\"endlinecolor\":\"#2a3f5f\",\"gridcolor\":\"white\",\"linecolor\":\"white\",\"minorgridcolor\":\"white\",\"startlinecolor\":\"#2a3f5f\"},\"type\":\"carpet\"}],\"choropleth\":[{\"colorbar\":{\"outlinewidth\":0,\"ticks\":\"\"},\"type\":\"choropleth\"}],\"contour\":[{\"colorbar\":{\"outlinewidth\":0,\"ticks\":\"\"},\"colorscale\":[[0.0,\"#0d0887\"],[0.1111111111111111,\"#46039f\"],[0.2222222222222222,\"#7201a8\"],[0.3333333333333333,\"#9c179e\"],[0.4444444444444444,\"#bd3786\"],[0.5555555555555556,\"#d8576b\"],[0.6666666666666666,\"#ed7953\"],[0.7777777777777778,\"#fb9f3a\"],[0.8888888888888888,\"#fdca26\"],[1.0,\"#f0f921\"]],\"type\":\"contour\"}],\"contourcarpet\":[{\"colorbar\":{\"outlinewidth\":0,\"ticks\":\"\"},\"type\":\"contourcarpet\"}],\"heatmap\":[{\"colorbar\":{\"outlinewidth\":0,\"ticks\":\"\"},\"colorscale\":[[0.0,\"#0d0887\"],[0.1111111111111111,\"#46039f\"],[0.2222222222222222,\"#7201a8\"],[0.3333333333333333,\"#9c179e\"],[0.4444444444444444,\"#bd3786\"],[0.5555555555555556,\"#d8576b\"],[0.6666666666666666,\"#ed7953\"],[0.7777777777777778,\"#fb9f3a\"],[0.8888888888888888,\"#fdca26\"],[1.0,\"#f0f921\"]],\"type\":\"heatmap\"}],\"heatmapgl\":[{\"colorbar\":{\"outlinewidth\":0,\"ticks\":\"\"},\"colorscale\":[[0.0,\"#0d0887\"],[0.1111111111111111,\"#46039f\"],[0.2222222222222222,\"#7201a8\"],[0.3333333333333333,\"#9c179e\"],[0.4444444444444444,\"#bd3786\"],[0.5555555555555556,\"#d8576b\"],[0.6666666666666666,\"#ed7953\"],[0.7777777777777778,\"#fb9f3a\"],[0.8888888888888888,\"#fdca26\"],[1.0,\"#f0f921\"]],\"type\":\"heatmapgl\"}],\"histogram\":[{\"marker\":{\"pattern\":{\"fillmode\":\"overlay\",\"size\":10,\"solidity\":0.2}},\"type\":\"histogram\"}],\"histogram2d\":[{\"colorbar\":{\"outlinewidth\":0,\"ticks\":\"\"},\"colorscale\":[[0.0,\"#0d0887\"],[0.1111111111111111,\"#46039f\"],[0.2222222222222222,\"#7201a8\"],[0.3333333333333333,\"#9c179e\"],[0.4444444444444444,\"#bd3786\"],[0.5555555555555556,\"#d8576b\"],[0.6666666666666666,\"#ed7953\"],[0.7777777777777778,\"#fb9f3a\"],[0.8888888888888888,\"#fdca26\"],[1.0,\"#f0f921\"]],\"type\":\"histogram2d\"}],\"histogram2dcontour\":[{\"colorbar\":{\"outlinewidth\":0,\"ticks\":\"\"},\"colorscale\":[[0.0,\"#0d0887\"],[0.1111111111111111,\"#46039f\"],[0.2222222222222222,\"#7201a8\"],[0.3333333333333333,\"#9c179e\"],[0.4444444444444444,\"#bd3786\"],[0.5555555555555556,\"#d8576b\"],[0.6666666666666666,\"#ed7953\"],[0.7777777777777778,\"#fb9f3a\"],[0.8888888888888888,\"#fdca26\"],[1.0,\"#f0f921\"]],\"type\":\"histogram2dcontour\"}],\"mesh3d\":[{\"colorbar\":{\"outlinewidth\":0,\"ticks\":\"\"},\"type\":\"mesh3d\"}],\"parcoords\":[{\"line\":{\"colorbar\":{\"outlinewidth\":0,\"ticks\":\"\"}},\"type\":\"parcoords\"}],\"pie\":[{\"automargin\":true,\"type\":\"pie\"}],\"scatter\":[{\"marker\":{\"colorbar\":{\"outlinewidth\":0,\"ticks\":\"\"}},\"type\":\"scatter\"}],\"scatter3d\":[{\"line\":{\"colorbar\":{\"outlinewidth\":0,\"ticks\":\"\"}},\"marker\":{\"colorbar\":{\"outlinewidth\":0,\"ticks\":\"\"}},\"type\":\"scatter3d\"}],\"scattercarpet\":[{\"marker\":{\"colorbar\":{\"outlinewidth\":0,\"ticks\":\"\"}},\"type\":\"scattercarpet\"}],\"scattergeo\":[{\"marker\":{\"colorbar\":{\"outlinewidth\":0,\"ticks\":\"\"}},\"type\":\"scattergeo\"}],\"scattergl\":[{\"marker\":{\"colorbar\":{\"outlinewidth\":0,\"ticks\":\"\"}},\"type\":\"scattergl\"}],\"scattermapbox\":[{\"marker\":{\"colorbar\":{\"outlinewidth\":0,\"ticks\":\"\"}},\"type\":\"scattermapbox\"}],\"scatterpolar\":[{\"marker\":{\"colorbar\":{\"outlinewidth\":0,\"ticks\":\"\"}},\"type\":\"scatterpolar\"}],\"scatterpolargl\":[{\"marker\":{\"colorbar\":{\"outlinewidth\":0,\"ticks\":\"\"}},\"type\":\"scatterpolargl\"}],\"scatterternary\":[{\"marker\":{\"colorbar\":{\"outlinewidth\":0,\"ticks\":\"\"}},\"type\":\"scatterternary\"}],\"surface\":[{\"colorbar\":{\"outlinewidth\":0,\"ticks\":\"\"},\"colorscale\":[[0.0,\"#0d0887\"],[0.1111111111111111,\"#46039f\"],[0.2222222222222222,\"#7201a8\"],[0.3333333333333333,\"#9c179e\"],[0.4444444444444444,\"#bd3786\"],[0.5555555555555556,\"#d8576b\"],[0.6666666666666666,\"#ed7953\"],[0.7777777777777778,\"#fb9f3a\"],[0.8888888888888888,\"#fdca26\"],[1.0,\"#f0f921\"]],\"type\":\"surface\"}],\"table\":[{\"cells\":{\"fill\":{\"color\":\"#EBF0F8\"},\"line\":{\"color\":\"white\"}},\"header\":{\"fill\":{\"color\":\"#C8D4E3\"},\"line\":{\"color\":\"white\"}},\"type\":\"table\"}]},\"layout\":{\"annotationdefaults\":{\"arrowcolor\":\"#2a3f5f\",\"arrowhead\":0,\"arrowwidth\":1},\"autotypenumbers\":\"strict\",\"coloraxis\":{\"colorbar\":{\"outlinewidth\":0,\"ticks\":\"\"}},\"colorscale\":{\"diverging\":[[0,\"#8e0152\"],[0.1,\"#c51b7d\"],[0.2,\"#de77ae\"],[0.3,\"#f1b6da\"],[0.4,\"#fde0ef\"],[0.5,\"#f7f7f7\"],[0.6,\"#e6f5d0\"],[0.7,\"#b8e186\"],[0.8,\"#7fbc41\"],[0.9,\"#4d9221\"],[1,\"#276419\"]],\"sequential\":[[0.0,\"#0d0887\"],[0.1111111111111111,\"#46039f\"],[0.2222222222222222,\"#7201a8\"],[0.3333333333333333,\"#9c179e\"],[0.4444444444444444,\"#bd3786\"],[0.5555555555555556,\"#d8576b\"],[0.6666666666666666,\"#ed7953\"],[0.7777777777777778,\"#fb9f3a\"],[0.8888888888888888,\"#fdca26\"],[1.0,\"#f0f921\"]],\"sequentialminus\":[[0.0,\"#0d0887\"],[0.1111111111111111,\"#46039f\"],[0.2222222222222222,\"#7201a8\"],[0.3333333333333333,\"#9c179e\"],[0.4444444444444444,\"#bd3786\"],[0.5555555555555556,\"#d8576b\"],[0.6666666666666666,\"#ed7953\"],[0.7777777777777778,\"#fb9f3a\"],[0.8888888888888888,\"#fdca26\"],[1.0,\"#f0f921\"]]},\"colorway\":[\"#636efa\",\"#EF553B\",\"#00cc96\",\"#ab63fa\",\"#FFA15A\",\"#19d3f3\",\"#FF6692\",\"#B6E880\",\"#FF97FF\",\"#FECB52\"],\"font\":{\"color\":\"#2a3f5f\"},\"geo\":{\"bgcolor\":\"white\",\"lakecolor\":\"white\",\"landcolor\":\"#E5ECF6\",\"showlakes\":true,\"showland\":true,\"subunitcolor\":\"white\"},\"hoverlabel\":{\"align\":\"left\"},\"hovermode\":\"closest\",\"mapbox\":{\"style\":\"light\"},\"paper_bgcolor\":\"white\",\"plot_bgcolor\":\"#E5ECF6\",\"polar\":{\"angularaxis\":{\"gridcolor\":\"white\",\"linecolor\":\"white\",\"ticks\":\"\"},\"bgcolor\":\"#E5ECF6\",\"radialaxis\":{\"gridcolor\":\"white\",\"linecolor\":\"white\",\"ticks\":\"\"}},\"scene\":{\"xaxis\":{\"backgroundcolor\":\"#E5ECF6\",\"gridcolor\":\"white\",\"gridwidth\":2,\"linecolor\":\"white\",\"showbackground\":true,\"ticks\":\"\",\"zerolinecolor\":\"white\"},\"yaxis\":{\"backgroundcolor\":\"#E5ECF6\",\"gridcolor\":\"white\",\"gridwidth\":2,\"linecolor\":\"white\",\"showbackground\":true,\"ticks\":\"\",\"zerolinecolor\":\"white\"},\"zaxis\":{\"backgroundcolor\":\"#E5ECF6\",\"gridcolor\":\"white\",\"gridwidth\":2,\"linecolor\":\"white\",\"showbackground\":true,\"ticks\":\"\",\"zerolinecolor\":\"white\"}},\"shapedefaults\":{\"line\":{\"color\":\"#2a3f5f\"}},\"ternary\":{\"aaxis\":{\"gridcolor\":\"white\",\"linecolor\":\"white\",\"ticks\":\"\"},\"baxis\":{\"gridcolor\":\"white\",\"linecolor\":\"white\",\"ticks\":\"\"},\"bgcolor\":\"#E5ECF6\",\"caxis\":{\"gridcolor\":\"white\",\"linecolor\":\"white\",\"ticks\":\"\"}},\"title\":{\"x\":0.05},\"xaxis\":{\"automargin\":true,\"gridcolor\":\"white\",\"linecolor\":\"white\",\"ticks\":\"\",\"title\":{\"standoff\":15},\"zerolinecolor\":\"white\",\"zerolinewidth\":2},\"yaxis\":{\"automargin\":true,\"gridcolor\":\"white\",\"linecolor\":\"white\",\"ticks\":\"\",\"title\":{\"standoff\":15},\"zerolinecolor\":\"white\",\"zerolinewidth\":2}}},\"title\":{\"text\":\"\\u0412\\u043e\\u0440\\u043e\\u043d\\u043a\\u0430 \\u0441\\u043e\\u0431\\u044b\\u0442\\u0438\\u0439\"}},                        {\"responsive\": true}                    ).then(function(){\n",
       "                            \n",
       "var gd = document.getElementById('9e090d85-8aca-40e8-beae-566ad0b6907f');\n",
       "var x = new MutationObserver(function (mutations, observer) {{\n",
       "        var display = window.getComputedStyle(gd).display;\n",
       "        if (!display || display === 'none') {{\n",
       "            console.log([gd, 'removed!']);\n",
       "            Plotly.purge(gd);\n",
       "            observer.disconnect();\n",
       "        }}\n",
       "}});\n",
       "\n",
       "// Listen for the removal of the full notebook cells\n",
       "var notebookContainer = gd.closest('#notebook-container');\n",
       "if (notebookContainer) {{\n",
       "    x.observe(notebookContainer, {childList: true});\n",
       "}}\n",
       "\n",
       "// Listen for the clearing of the current output cell\n",
       "var outputEl = gd.closest('.output');\n",
       "if (outputEl) {{\n",
       "    x.observe(outputEl, {childList: true});\n",
       "}}\n",
       "\n",
       "                        })                };                });            </script>        </div>"
      ]
     },
     "metadata": {},
     "output_type": "display_data"
    }
   ],
   "source": [
    "fig = go.Figure(go.Funnel(y = users_amount['event_name'],\n",
    "                          x = users_amount['users_amount'],\n",
    "                          opacity = 0.6,\n",
    "                          textposition = 'inside',\n",
    "                          textinfo = 'value + percent previous'))\n",
    "fig.update_layout(title_text='Воронка событий')\n",
    "fig.show()"
   ]
  },
  {
   "cell_type": "markdown",
   "id": "988bfe3d",
   "metadata": {},
   "source": [
    "### Посчитаем, какая доля пользователей проходит на следующий шаг воронки событий:"
   ]
  },
  {
   "cell_type": "code",
   "execution_count": 24,
   "id": "58235e86",
   "metadata": {
    "scrolled": false
   },
   "outputs": [
    {
     "data": {
      "text/html": [
       "<style  type=\"text/css\" >\n",
       "#T_25073_row0_col3{\n",
       "            background-color:  #006837;\n",
       "            color:  #f1f1f1;\n",
       "        }#T_25073_row1_col3{\n",
       "            background-color:  #a50026;\n",
       "            color:  #f1f1f1;\n",
       "        }#T_25073_row2_col3{\n",
       "            background-color:  #f4fab0;\n",
       "            color:  #000000;\n",
       "        }#T_25073_row3_col3{\n",
       "            background-color:  #1b9950;\n",
       "            color:  #000000;\n",
       "        }</style><table id=\"T_25073_\" ><thead>    <tr>        <th class=\"blank level0\" ></th>        <th class=\"col_heading level0 col0\" >event_name</th>        <th class=\"col_heading level0 col1\" >users_amount</th>        <th class=\"col_heading level0 col2\" >share_of_users</th>        <th class=\"col_heading level0 col3\" >conversion_by_step</th>    </tr></thead><tbody>\n",
       "                <tr>\n",
       "                        <th id=\"T_25073_level0_row0\" class=\"row_heading level0 row0\" >0</th>\n",
       "                        <td id=\"T_25073_row0_col0\" class=\"data row0 col0\" >MainScreenAppear</td>\n",
       "                        <td id=\"T_25073_row0_col1\" class=\"data row0 col1\" >7419</td>\n",
       "                        <td id=\"T_25073_row0_col2\" class=\"data row0 col2\" >98.500000</td>\n",
       "                        <td id=\"T_25073_row0_col3\" class=\"data row0 col3\" >98.525896</td>\n",
       "            </tr>\n",
       "            <tr>\n",
       "                        <th id=\"T_25073_level0_row1\" class=\"row_heading level0 row1\" >1</th>\n",
       "                        <td id=\"T_25073_row1_col0\" class=\"data row1 col0\" >OffersScreenAppear</td>\n",
       "                        <td id=\"T_25073_row1_col1\" class=\"data row1 col1\" >4593</td>\n",
       "                        <td id=\"T_25073_row1_col2\" class=\"data row1 col2\" >61.000000</td>\n",
       "                        <td id=\"T_25073_row1_col3\" class=\"data row1 col3\" >61.908613</td>\n",
       "            </tr>\n",
       "            <tr>\n",
       "                        <th id=\"T_25073_level0_row2\" class=\"row_heading level0 row2\" >2</th>\n",
       "                        <td id=\"T_25073_row2_col0\" class=\"data row2 col0\" >CartScreenAppear</td>\n",
       "                        <td id=\"T_25073_row2_col1\" class=\"data row2 col1\" >3734</td>\n",
       "                        <td id=\"T_25073_row2_col2\" class=\"data row2 col2\" >49.600000</td>\n",
       "                        <td id=\"T_25073_row2_col3\" class=\"data row2 col3\" >81.297627</td>\n",
       "            </tr>\n",
       "            <tr>\n",
       "                        <th id=\"T_25073_level0_row3\" class=\"row_heading level0 row3\" >3</th>\n",
       "                        <td id=\"T_25073_row3_col0\" class=\"data row3 col0\" >PaymentScreenSuccessful</td>\n",
       "                        <td id=\"T_25073_row3_col1\" class=\"data row3 col1\" >3539</td>\n",
       "                        <td id=\"T_25073_row3_col2\" class=\"data row3 col2\" >47.000000</td>\n",
       "                        <td id=\"T_25073_row3_col3\" class=\"data row3 col3\" >94.777718</td>\n",
       "            </tr>\n",
       "    </tbody></table>"
      ],
      "text/plain": [
       "<pandas.io.formats.style.Styler at 0x149ae6970>"
      ]
     },
     "execution_count": 24,
     "metadata": {},
     "output_type": "execute_result"
    }
   ],
   "source": [
    "import warnings\n",
    "warnings.simplefilter('ignore')\n",
    "\n",
    "# считаем конверсию для первого шага\n",
    "first_step_conversion = users_amount[:1]['users_amount'].values / data['user_id'].nunique() * 100\n",
    "\n",
    "# считаем конверсию для 2, 3, 4 шагов\n",
    "users_amount['conversion_by_step'] = [*first_step_conversion] + ((users_amount[1:]['users_amount'].values \n",
    "                                / users_amount[: len(users_amount) - 1]['users_amount'].values)*100).tolist()\n",
    "\n",
    "users_amount.style.background_gradient(cmap='RdYlGn', subset='conversion_by_step')"
   ]
  },
  {
   "cell_type": "markdown",
   "id": "c7f8fb0f",
   "metadata": {},
   "source": [
    "Главную страницу увидели почти все пользователи, зашедшие в приложение.  \n",
    "Больше всего пользователей теряется на втором шаге воронки: 38% пользователей не доходят с главной страницы до просмотра товаров на сайте.   \n",
    "До оплаты доходит лишь 47% от изначального количества пользователей. "
   ]
  },
  {
   "cell_type": "code",
   "execution_count": 25,
   "id": "775e4e24",
   "metadata": {},
   "outputs": [
    {
     "data": {
      "text/html": [
       "<div>\n",
       "<style scoped>\n",
       "    .dataframe tbody tr th:only-of-type {\n",
       "        vertical-align: middle;\n",
       "    }\n",
       "\n",
       "    .dataframe tbody tr th {\n",
       "        vertical-align: top;\n",
       "    }\n",
       "\n",
       "    .dataframe thead th {\n",
       "        text-align: right;\n",
       "    }\n",
       "</style>\n",
       "<table border=\"1\" class=\"dataframe\">\n",
       "  <thead>\n",
       "    <tr style=\"text-align: right;\">\n",
       "      <th></th>\n",
       "      <th>event_name</th>\n",
       "      <th>exp_id</th>\n",
       "      <th>total_users</th>\n",
       "    </tr>\n",
       "  </thead>\n",
       "  <tbody>\n",
       "    <tr>\n",
       "      <th>5</th>\n",
       "      <td>MainScreenAppear</td>\n",
       "      <td>248</td>\n",
       "      <td>2493</td>\n",
       "    </tr>\n",
       "    <tr>\n",
       "      <th>8</th>\n",
       "      <td>OffersScreenAppear</td>\n",
       "      <td>248</td>\n",
       "      <td>1531</td>\n",
       "    </tr>\n",
       "    <tr>\n",
       "      <th>2</th>\n",
       "      <td>CartScreenAppear</td>\n",
       "      <td>248</td>\n",
       "      <td>1230</td>\n",
       "    </tr>\n",
       "    <tr>\n",
       "      <th>11</th>\n",
       "      <td>PaymentScreenSuccessful</td>\n",
       "      <td>248</td>\n",
       "      <td>1181</td>\n",
       "    </tr>\n",
       "    <tr>\n",
       "      <th>4</th>\n",
       "      <td>MainScreenAppear</td>\n",
       "      <td>247</td>\n",
       "      <td>2476</td>\n",
       "    </tr>\n",
       "    <tr>\n",
       "      <th>7</th>\n",
       "      <td>OffersScreenAppear</td>\n",
       "      <td>247</td>\n",
       "      <td>1520</td>\n",
       "    </tr>\n",
       "    <tr>\n",
       "      <th>1</th>\n",
       "      <td>CartScreenAppear</td>\n",
       "      <td>247</td>\n",
       "      <td>1238</td>\n",
       "    </tr>\n",
       "    <tr>\n",
       "      <th>10</th>\n",
       "      <td>PaymentScreenSuccessful</td>\n",
       "      <td>247</td>\n",
       "      <td>1158</td>\n",
       "    </tr>\n",
       "    <tr>\n",
       "      <th>3</th>\n",
       "      <td>MainScreenAppear</td>\n",
       "      <td>246</td>\n",
       "      <td>2450</td>\n",
       "    </tr>\n",
       "    <tr>\n",
       "      <th>6</th>\n",
       "      <td>OffersScreenAppear</td>\n",
       "      <td>246</td>\n",
       "      <td>1542</td>\n",
       "    </tr>\n",
       "    <tr>\n",
       "      <th>0</th>\n",
       "      <td>CartScreenAppear</td>\n",
       "      <td>246</td>\n",
       "      <td>1266</td>\n",
       "    </tr>\n",
       "    <tr>\n",
       "      <th>9</th>\n",
       "      <td>PaymentScreenSuccessful</td>\n",
       "      <td>246</td>\n",
       "      <td>1200</td>\n",
       "    </tr>\n",
       "  </tbody>\n",
       "</table>\n",
       "</div>"
      ],
      "text/plain": [
       "                 event_name  exp_id  total_users\n",
       "5          MainScreenAppear     248         2493\n",
       "8        OffersScreenAppear     248         1531\n",
       "2          CartScreenAppear     248         1230\n",
       "11  PaymentScreenSuccessful     248         1181\n",
       "4          MainScreenAppear     247         2476\n",
       "7        OffersScreenAppear     247         1520\n",
       "1          CartScreenAppear     247         1238\n",
       "10  PaymentScreenSuccessful     247         1158\n",
       "3          MainScreenAppear     246         2450\n",
       "6        OffersScreenAppear     246         1542\n",
       "0          CartScreenAppear     246         1266\n",
       "9   PaymentScreenSuccessful     246         1200"
      ]
     },
     "execution_count": 25,
     "metadata": {},
     "output_type": "execute_result"
    }
   ],
   "source": [
    "# детализируем воронку событий по группам:\n",
    "funnel_group = (data.\n",
    "          groupby(['event_name', 'exp_id']).\n",
    "          agg({'user_id': 'nunique'}).\n",
    "          reset_index().\n",
    "          rename(columns={'user_id' : 'total_users'}).\n",
    "          sort_values(by=['exp_id','total_users'], ascending=False))\n",
    "\n",
    "funnel_group = funnel_group[funnel_group['event_name'] != 'Tutorial']\n",
    "funnel_group"
   ]
  },
  {
   "cell_type": "markdown",
   "id": "ced61934",
   "metadata": {},
   "source": [
    "## Исследование результатов эксперимента"
   ]
  },
  {
   "cell_type": "markdown",
   "id": "9414cc3a",
   "metadata": {},
   "source": [
    "Ранее мы выяснили, что в каждой экспериментальной группе ≈ 2500 уникальных пользователей.  \n",
    "Построим распределение количества пользователей по группам:"
   ]
  },
  {
   "cell_type": "code",
   "execution_count": 26,
   "id": "6243dc52",
   "metadata": {
    "scrolled": false
   },
   "outputs": [
    {
     "data": {
      "image/png": "[encoded data removed]",
      "text/plain": [
       "<Figure size 600x400 with 1 Axes>"
      ]
     },
     "metadata": {},
     "output_type": "display_data"
    }
   ],
   "source": [
    "plt.figure(figsize=(6,4))\n",
    "sns.barplot(data=group_amount, x='group', y='users_amount').set(\n",
    "        title= f'Количество пользователей в группах',\n",
    "        xlabel='Номер группы',\n",
    "        ylabel='Количество пользователей'\n",
    ")\n",
    "plt.tight_layout()"
   ]
  },
  {
   "cell_type": "markdown",
   "id": "3001c119",
   "metadata": {},
   "source": [
    "Во всех трех группах примерно одинаковое количество пользователей и их число является удовлетсворительным для проведения тестирования.  \n",
    "\n",
    "В A/B-тестировании чаще всего проверяют гипотезу о равенстве пропорций в сравниваемых генеральных совокупностях.  \n",
    "У нас имеется 2 контрольные группы для А/А-эксперимента, чтобы проверить корректность всех механизмов и расчётов.  \n",
    "\n",
    "### Проверим, находят ли статистические критерии разницу между выборками 246 и 247 для каждого из событий воронки:  \n",
    "\n",
    "Для проверки воспользуемся Z-критерием (статистический тест, позволяющий определить, различаются ли два средних значения генеральной совокупности, когда дисперсии известны и размер выборки велик).   \n",
    "\n",
    "Также при тестировании применим поправку Бонферрони. Поправка применяется для того, чтобы застраховать себя от ложного результата, когда проводим множественное сравнение. \n",
    "Всего у нас 4 вида событий, 4 A/A теста и 12 А/В, следовательно *bonferroni_alpha* = *alpha* / 16 (заданный уровень статистической значимости *alpha* делим на суммарное количество тестов).\n",
    "\n",
    "Сформулируем гипотезы:  \n",
    "**Н0:** Конверсия пользователей в группах 246 и 247 равна    \n",
    "**Н1:** Конверсия пользователей в группах 246 и 247 не равна    "
   ]
  },
  {
   "cell_type": "code",
   "execution_count": 27,
   "id": "7cc3affc",
   "metadata": {},
   "outputs": [],
   "source": [
    "# напишем функцию для удобства дальнейшего тестирования:\n",
    "def z_test(df1, df2, event, alpha, n):\n",
    "    \n",
    "    # критический уровень статистической значимости c поправкой Бонферрони\n",
    "    bonferroni_alpha = alpha / n\n",
    " \n",
    "    # число пользователей в группе 1 и группе 2:\n",
    "    n_users = np.array([df1['user_id'].nunique(), \n",
    "                        df2['user_id'].nunique()])\n",
    "\n",
    "    # число пользователей, совершивших событие в группе 1 и группе 2\n",
    "    success = np.array([df1[df1['event_name'] == event]['user_id'].nunique(), \n",
    "                        df2[df2['event_name'] == event]['user_id'].nunique()])\n",
    "\n",
    "    # пропорции успехов в группах:\n",
    "    p1 = success[0]/n_users[0]\n",
    "    p2 = success[1]/n_users[1]\n",
    "    \n",
    "    # пропорция успехов в комбинированном датасете:\n",
    "    p_combined = (success[0] + success[1]) / (n_users[0] + n_users[1])\n",
    "\n",
    "    # разница пропорций в датасетах\n",
    "    difference = p1 - p2 \n",
    "\n",
    "    # считаем статистику в ст.отклонениях стандартного нормального распределения\n",
    "    z_value = difference /  np.sqrt(p_combined * (1 - p_combined) * (1/n_users[0] + 1/n_users[1]))\n",
    "\n",
    "    # задаем стандартное нормальное распределение (среднее 0, ст.отклонение 1)\n",
    "    distr = st.norm(0, 1)  \n",
    "\n",
    "    p_value = (1 - distr.cdf(abs(z_value))) * 2   #тест двусторонний, удваиваем результат\n",
    "    \n",
    "    print('Событие:', event)\n",
    "    print('p-значение: ', p_value)\n",
    "\n",
    "    if p_value < bonferroni_alpha:\n",
    "        print('Отвергаем нулевую гипотезу: между долями есть разница')\n",
    "    else:\n",
    "        print(\n",
    "        'Не получилось отвергнуть нулевую гипотезу, нет оснований считать доли разными')"
   ]
  },
  {
   "cell_type": "code",
   "execution_count": 28,
   "id": "b3ff033f",
   "metadata": {},
   "outputs": [
    {
     "name": "stdout",
     "output_type": "stream",
     "text": [
      "Событие: MainScreenAppear\n",
      "p-значение:  0.7526703436483038\n",
      "Не получилось отвергнуть нулевую гипотезу, нет оснований считать доли разными\n",
      "\n",
      "Событие: OffersScreenAppear\n",
      "p-значение:  0.24786096925282264\n",
      "Не получилось отвергнуть нулевую гипотезу, нет оснований считать доли разными\n",
      "\n",
      "Событие: CartScreenAppear\n",
      "p-значение:  0.22867643757335676\n",
      "Не получилось отвергнуть нулевую гипотезу, нет оснований считать доли разными\n",
      "\n",
      "Событие: PaymentScreenSuccessful\n",
      "p-значение:  0.11446627829276612\n",
      "Не получилось отвергнуть нулевую гипотезу, нет оснований считать доли разными\n",
      "\n"
     ]
    }
   ],
   "source": [
    "# проверим, есть ли статистически значимая разница между контрольными группами 246 и 247:\n",
    "for event in funnel_group['event_name'].unique():\n",
    "    z_test(data[data['exp_id'] == 246], data[data['exp_id'] == 247], event,.05, 16)\n",
    "    print()"
   ]
  },
  {
   "cell_type": "markdown",
   "id": "3a4e1e27",
   "metadata": {},
   "source": [
    "Главная цель А/А-теста — показать, можно ли доверять результатам эксперимента, который будет запущен в тех же условиях, но уже с разными вариантами шрифта. Если в ходе А/А-теста победителя выявить не удалось, можно запускать А/B-тест.\n",
    "\n",
    "4 z-теста для контрольных групп 246 и 247 не выявили статистически значимой разницы между между ними.  \n",
    "Таким образом, можно сделать вывод, что разделение на группы было проведено корректно и можно приступать к A/B-тестированию."
   ]
  },
  {
   "cell_type": "markdown",
   "id": "c84931b1",
   "metadata": {},
   "source": [
    "### Проверим, есть ли статистически значимая разница между группами 246 и 248:"
   ]
  },
  {
   "cell_type": "markdown",
   "id": "bcb285d5",
   "metadata": {},
   "source": [
    "Сформулируем гипотезы для всех дальнейших попарных сравнений:  \n",
    "**Н0:** Конверсии пользователей в сравниваемых группах равны   \n",
    "**Н1:** Конверсии пользователей в сравниваемых группах не равны    "
   ]
  },
  {
   "cell_type": "code",
   "execution_count": 29,
   "id": "0fd1595c",
   "metadata": {},
   "outputs": [
    {
     "name": "stdout",
     "output_type": "stream",
     "text": [
      "Событие: MainScreenAppear\n",
      "p-значение:  0.3387114076159288\n",
      "Не получилось отвергнуть нулевую гипотезу, нет оснований считать доли разными\n",
      "\n",
      "Событие: OffersScreenAppear\n",
      "p-значение:  0.21442476639710506\n",
      "Не получилось отвергнуть нулевую гипотезу, нет оснований считать доли разными\n",
      "\n",
      "Событие: CartScreenAppear\n",
      "p-значение:  0.08067367598823139\n",
      "Не получилось отвергнуть нулевую гипотезу, нет оснований считать доли разными\n",
      "\n",
      "Событие: PaymentScreenSuccessful\n",
      "p-значение:  0.21693033984516674\n",
      "Не получилось отвергнуть нулевую гипотезу, нет оснований считать доли разными\n",
      "\n"
     ]
    }
   ],
   "source": [
    "# разница конверсии между группами 246 и 248:\n",
    "for event in funnel_group['event_name'].unique():\n",
    "    z_test(data[data['exp_id'] == 246], data[data['exp_id'] == 248], event, .05, 16)\n",
    "    print()"
   ]
  },
  {
   "cell_type": "markdown",
   "id": "f7288df1",
   "metadata": {},
   "source": [
    "### Проверим, есть ли статистически значимая разница между группами 247 и 248:"
   ]
  },
  {
   "cell_type": "code",
   "execution_count": 30,
   "id": "60183ab2",
   "metadata": {
    "scrolled": true
   },
   "outputs": [
    {
     "name": "stdout",
     "output_type": "stream",
     "text": [
      "Событие: MainScreenAppear\n",
      "p-значение:  0.5194964354051703\n",
      "Не получилось отвергнуть нулевую гипотезу, нет оснований считать доли разными\n",
      "\n",
      "Событие: OffersScreenAppear\n",
      "p-значение:  0.9333751305879443\n",
      "Не получилось отвергнуть нулевую гипотезу, нет оснований считать доли разными\n",
      "\n",
      "Событие: CartScreenAppear\n",
      "p-значение:  0.5878284605111943\n",
      "Не получилось отвергнуть нулевую гипотезу, нет оснований считать доли разными\n",
      "\n",
      "Событие: PaymentScreenSuccessful\n",
      "p-значение:  0.7275718682261119\n",
      "Не получилось отвергнуть нулевую гипотезу, нет оснований считать доли разными\n",
      "\n"
     ]
    }
   ],
   "source": [
    "# разница конверсии между группами 247 и 248:\n",
    "for event in funnel_group['event_name'].unique():\n",
    "    z_test(data[data['exp_id'] == 247], data[data['exp_id'] == 248], event,.05, 16)\n",
    "    print()"
   ]
  },
  {
   "cell_type": "markdown",
   "id": "4d0273f5",
   "metadata": {},
   "source": [
    "### Проверим, есть ли статистически значимая разница между объединённой контрольной и экпериментальной 248 группами:"
   ]
  },
  {
   "cell_type": "code",
   "execution_count": 31,
   "id": "bee85f7a",
   "metadata": {
    "scrolled": true
   },
   "outputs": [
    {
     "name": "stdout",
     "output_type": "stream",
     "text": [
      "Событие: MainScreenAppear\n",
      "p-значение:  0.3486684291093256\n",
      "Не получилось отвергнуть нулевую гипотезу, нет оснований считать доли разными\n",
      "\n",
      "Событие: OffersScreenAppear\n",
      "p-значение:  0.44582745409482394\n",
      "Не получилось отвергнуть нулевую гипотезу, нет оснований считать доли разными\n",
      "\n",
      "Событие: CartScreenAppear\n",
      "p-значение:  0.18683558686831558\n",
      "Не получилось отвергнуть нулевую гипотезу, нет оснований считать доли разными\n",
      "\n",
      "Событие: PaymentScreenSuccessful\n",
      "p-значение:  0.6107918742187335\n",
      "Не получилось отвергнуть нулевую гипотезу, нет оснований считать доли разными\n",
      "\n"
     ]
    }
   ],
   "source": [
    "# разница конверсии между объединённой контрольной и экпериментальной 248 группами:\n",
    "for event in funnel_group['event_name'].unique():\n",
    "    z_test(data[data['exp_id'] != 248], data[data['exp_id'] == 248], event,.05, 16)\n",
    "    print()"
   ]
  },
  {
   "cell_type": "markdown",
   "id": "108aa878",
   "metadata": {},
   "source": [
    "A/A/B тестирование всех групп в разрезе каждого из событий, включая объединенные контрольные группы 246 и 247, не выявило статистически значимых различий между группами. Это означает, что изменение шрифтов в приложении никак не повлияло на конверсию пользователей."
   ]
  },
  {
   "cell_type": "markdown",
   "id": "3ce899ac",
   "metadata": {},
   "source": [
    "## Рекомендации и выводы  \n",
    "\n",
    "Результаты тестирования показали, что новый шрифт никак не повлиял на поведение пользователей - конверсия осталась на прежнем уровне.  \n",
    "\n",
    "Общий анализ данных показал, что самым популярным событияем является просмотр главной страницы сайта ('MainScreenAppear').  \n",
    "    Больше всего теряется пользователей после перехода с главной страницы на страницу товара - и далее в корзину. Из корзины до полной оплаты \"потерялось\" менее 3% пользователей. От первого события до оплаты доходит всего 47% пользователей. Это напрямую связано с большим провалом на первом шаге: при переходе с главной страницы (событие *MainScreenAppear*) к странице с товарами (событие *OffersScreenAppear*). Вероятно, нужно лучше прорабатывать механику удержания, чтобы пользователи охотнее переходили к просмотру товаров.\n",
    "\n",
    "Наименьшее число пользователей доходит до раздела *Tutorial*. Возможно, ссылка на раздел находится в неудобном или незаметном месте. Пользователи либо не знают куда заходить, либо не понимают ценность обучения - нужно обратить внимание на данный раздел."
   ]
  }
 ],
 "metadata": {
  "ExecuteTimeLog": [
   {
    "duration": 2061,
    "start_time": "2023-06-15T19:49:58.151Z"
   },
   {
    "duration": 269,
    "start_time": "2023-06-15T19:50:00.217Z"
   },
   {
    "duration": 22,
    "start_time": "2023-06-15T19:50:00.491Z"
   },
   {
    "duration": 78,
    "start_time": "2023-06-15T19:50:00.519Z"
   },
   {
    "duration": 25,
    "start_time": "2023-06-15T19:50:00.600Z"
   },
   {
    "duration": 76,
    "start_time": "2023-06-15T19:50:00.628Z"
   },
   {
    "duration": 155,
    "start_time": "2023-06-15T19:50:00.709Z"
   },
   {
    "duration": 34,
    "start_time": "2023-06-15T19:50:00.872Z"
   },
   {
    "duration": 100,
    "start_time": "2023-06-15T19:50:00.910Z"
   },
   {
    "duration": 240,
    "start_time": "2023-06-15T19:50:01.015Z"
   },
   {
    "duration": 207,
    "start_time": "2023-06-15T19:50:01.261Z"
   },
   {
    "duration": 89,
    "start_time": "2023-06-15T19:50:01.483Z"
   },
   {
    "duration": 23,
    "start_time": "2023-06-15T19:50:01.582Z"
   },
   {
    "duration": 159,
    "start_time": "2023-06-15T19:50:01.618Z"
   },
   {
    "duration": 63,
    "start_time": "2023-06-15T19:50:01.791Z"
   },
   {
    "duration": 64,
    "start_time": "2023-06-15T19:50:01.861Z"
   },
   {
    "duration": 122,
    "start_time": "2023-06-15T19:50:01.939Z"
   },
   {
    "duration": 1954,
    "start_time": "2023-06-15T19:50:02.066Z"
   },
   {
    "duration": 59,
    "start_time": "2023-06-15T19:50:04.035Z"
   },
   {
    "duration": 272,
    "start_time": "2023-06-15T19:50:04.111Z"
   },
   {
    "duration": 44,
    "start_time": "2023-06-15T19:50:04.385Z"
   },
   {
    "duration": 31,
    "start_time": "2023-06-15T19:50:04.435Z"
   },
   {
    "duration": 17,
    "start_time": "2023-06-15T19:50:04.471Z"
   },
   {
    "duration": 74,
    "start_time": "2023-06-15T19:50:04.499Z"
   },
   {
    "duration": 61,
    "start_time": "2023-06-15T19:50:04.578Z"
   },
   {
    "duration": 176,
    "start_time": "2023-06-15T19:50:04.646Z"
   },
   {
    "duration": 47,
    "start_time": "2023-06-15T19:50:04.827Z"
   },
   {
    "duration": 870,
    "start_time": "2023-06-15T19:50:04.880Z"
   },
   {
    "duration": 130,
    "start_time": "2023-06-15T19:50:05.754Z"
   },
   {
    "duration": 297,
    "start_time": "2023-06-15T19:50:05.891Z"
   },
   {
    "duration": 274,
    "start_time": "2023-06-15T19:50:06.190Z"
   },
   {
    "duration": 7,
    "start_time": "2023-06-15T19:50:06.466Z"
   },
   {
    "duration": 237,
    "start_time": "2023-06-15T19:50:06.475Z"
   },
   {
    "duration": 245,
    "start_time": "2023-06-15T19:50:06.714Z"
   },
   {
    "duration": 175,
    "start_time": "2023-06-15T19:50:06.961Z"
   },
   {
    "duration": 238,
    "start_time": "2023-06-15T19:50:07.141Z"
   },
   {
    "duration": 1422,
    "start_time": "2023-06-16T08:35:56.991Z"
   },
   {
    "duration": 1051,
    "start_time": "2023-06-16T08:35:58.416Z"
   },
   {
    "duration": 13,
    "start_time": "2023-06-16T08:35:59.468Z"
   },
   {
    "duration": 24,
    "start_time": "2023-06-16T08:35:59.483Z"
   },
   {
    "duration": 9,
    "start_time": "2023-06-16T08:35:59.509Z"
   },
   {
    "duration": 18,
    "start_time": "2023-06-16T08:35:59.519Z"
   },
   {
    "duration": 106,
    "start_time": "2023-06-16T08:35:59.539Z"
   },
   {
    "duration": 17,
    "start_time": "2023-06-16T08:35:59.648Z"
   },
   {
    "duration": 47,
    "start_time": "2023-06-16T08:35:59.668Z"
   },
   {
    "duration": 124,
    "start_time": "2023-06-16T08:35:59.717Z"
   },
   {
    "duration": 125,
    "start_time": "2023-06-16T08:35:59.843Z"
   },
   {
    "duration": 9,
    "start_time": "2023-06-16T08:35:59.970Z"
   },
   {
    "duration": 18,
    "start_time": "2023-06-16T08:35:59.981Z"
   },
   {
    "duration": 87,
    "start_time": "2023-06-16T08:36:00.003Z"
   },
   {
    "duration": 1394,
    "start_time": "2023-06-16T08:36:00.092Z"
   },
   {
    "duration": 16,
    "start_time": "2023-06-16T08:36:01.488Z"
   },
   {
    "duration": 42,
    "start_time": "2023-06-16T08:36:01.513Z"
   },
   {
    "duration": 28,
    "start_time": "2023-06-16T08:36:01.557Z"
   },
   {
    "duration": 92,
    "start_time": "2023-06-16T08:36:01.587Z"
   },
   {
    "duration": 22,
    "start_time": "2023-06-16T08:36:01.681Z"
   },
   {
    "duration": 140,
    "start_time": "2023-06-16T08:36:01.704Z"
   },
   {
    "duration": 24,
    "start_time": "2023-06-16T08:36:01.846Z"
   },
   {
    "duration": 314,
    "start_time": "2023-06-16T08:36:01.872Z"
   },
   {
    "duration": 21,
    "start_time": "2023-06-16T08:36:02.188Z"
   },
   {
    "duration": 121,
    "start_time": "2023-06-16T08:36:02.213Z"
   },
   {
    "duration": 295,
    "start_time": "2023-06-16T08:36:02.339Z"
   },
   {
    "duration": 7,
    "start_time": "2023-06-16T08:36:02.636Z"
   },
   {
    "duration": 149,
    "start_time": "2023-06-16T08:36:02.645Z"
   },
   {
    "duration": 139,
    "start_time": "2023-06-16T08:36:02.796Z"
   },
   {
    "duration": 144,
    "start_time": "2023-06-16T08:36:02.936Z"
   },
   {
    "duration": 202,
    "start_time": "2023-06-16T08:36:03.082Z"
   }
  ],
  "kernelspec": {
   "display_name": "Python 3 (ipykernel)",
   "language": "python",
   "name": "python3"
  },
  "language_info": {
   "codemirror_mode": {
    "name": "ipython",
    "version": 3
   },
   "file_extension": ".py",
   "mimetype": "text/x-python",
   "name": "python",
   "nbconvert_exporter": "python",
   "pygments_lexer": "ipython3",
   "version": "3.9.16"
  },
  "toc": {
   "base_numbering": 1,
   "nav_menu": {},
   "number_sections": true,
   "sideBar": true,
   "skip_h1_title": true,
   "title_cell": "Table of Contents",
   "title_sidebar": "Contents",
   "toc_cell": false,
   "toc_position": {},
   "toc_section_display": true,
   "toc_window_display": false
  }
 },
 "nbformat": 4,
 "nbformat_minor": 5
}
